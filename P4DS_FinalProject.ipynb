{
 "cells": [
  {
   "cell_type": "markdown",
   "id": "7e96dd60",
   "metadata": {},
   "source": [
    "# Lập trình cho khoa học dữ liệu: Đồ án cuối kỳ\n",
    "\n",
    "**Danh sách thành viên:**\n",
    "\n",
    "---\n",
    "Họ và tên: La Ngọc Hồng Phúc\n",
    "\n",
    "MSSV: 19127511\n",
    "\n",
    "---\n",
    "Họ và tên: Chung Thế Thọ\n",
    "\n",
    "MSSV: 19127562"
   ]
  },
  {
   "cell_type": "markdown",
   "id": "6832b23e",
   "metadata": {
    "toc": true
   },
   "source": [
    "<h1>Table of Contents<span class=\"tocSkip\"></span></h1>\n",
    "<div class=\"toc\"><ul class=\"toc-item\"><li><span><a href=\"#Lập-trình-cho-khoa-học-dữ-liệu:-Đồ-án-cuối-kỳ\" data-toc-modified-id=\"Lập-trình-cho-khoa-học-dữ-liệu:-Đồ-án-cuối-kỳ-1\">Lập trình cho khoa học dữ liệu: Đồ án cuối kỳ</a></span><ul class=\"toc-item\"><li><span><a href=\"#Môi-trường-code\" data-toc-modified-id=\"Môi-trường-code-1.1\">Môi trường code</a></span></li><li><span><a href=\"#Import-các-thư-viện-cần-thiết\" data-toc-modified-id=\"Import-các-thư-viện-cần-thiết-1.2\">Import các thư viện cần thiết</a></span></li><li><span><a href=\"#Thu-thập-dữ-liệu\" data-toc-modified-id=\"Thu-thập-dữ-liệu-1.3\">Thu thập dữ liệu</a></span></li><li><span><a href=\"#Khám-phá-dữ-liệu\" data-toc-modified-id=\"Khám-phá-dữ-liệu-1.4\">Khám phá dữ liệu</a></span><ul class=\"toc-item\"><li><span><a href=\"#Đọc-dữ-liệu-từ-file-csv-vào-dataframe\" data-toc-modified-id=\"Đọc-dữ-liệu-từ-file-csv-vào-dataframe-1.4.1\">Đọc dữ liệu từ file csv vào dataframe</a></span><ul class=\"toc-item\"><li><span><a href=\"#Tập-dữ-liệu-anime\" data-toc-modified-id=\"Tập-dữ-liệu-anime-1.4.1.1\">Tập dữ liệu anime</a></span></li><li><span><a href=\"#Tập-dữ-liệu-review\" data-toc-modified-id=\"Tập-dữ-liệu-review-1.4.1.2\">Tập dữ liệu review</a></span></li></ul></li><li><span><a href=\"#Số-dòng,-số-cột-của-tập-dữ-liệu\" data-toc-modified-id=\"Số-dòng,-số-cột-của-tập-dữ-liệu-1.4.2\">Số dòng, số cột của tập dữ liệu</a></span><ul class=\"toc-item\"><li><span><a href=\"#Tập-dữ-liệu-anime\" data-toc-modified-id=\"Tập-dữ-liệu-anime-1.4.2.1\">Tập dữ liệu anime</a></span></li><li><span><a href=\"#Tập-dữ-liệu-review\" data-toc-modified-id=\"Tập-dữ-liệu-review-1.4.2.2\">Tập dữ liệu review</a></span></li><li><span><a href=\"#Nhận-xét:\" data-toc-modified-id=\"Nhận-xét:-1.4.2.3\">Nhận xét:</a></span></li></ul></li><li><span><a href=\"#Mỗi-dòng-có-ý-nghĩa-gì?-Có-vấn-đề-các-dòng-có-ý-nghĩa-khác-nhau-không?\" data-toc-modified-id=\"Mỗi-dòng-có-ý-nghĩa-gì?-Có-vấn-đề-các-dòng-có-ý-nghĩa-khác-nhau-không?-1.4.3\">Mỗi dòng có ý nghĩa gì? Có vấn đề các dòng có ý nghĩa khác nhau không?</a></span></li><li><span><a href=\"#Dữ-liệu-có-các-dòng-bị-lặp-không?\" data-toc-modified-id=\"Dữ-liệu-có-các-dòng-bị-lặp-không?-1.4.4\">Dữ liệu có các dòng bị lặp không?</a></span></li><li><span><a href=\"#Mỗi-cột-có-ý-nghĩa-gì?\" data-toc-modified-id=\"Mỗi-cột-có-ý-nghĩa-gì?-1.4.5\">Mỗi cột có ý nghĩa gì?</a></span></li><li><span><a href=\"#Loại-các-cột-không-dùng-đến\" data-toc-modified-id=\"Loại-các-cột-không-dùng-đến-1.4.6\">Loại các cột không dùng đến</a></span></li><li><span><a href=\"#Kiểu-dữ-liệu-của-từng-cột\" data-toc-modified-id=\"Kiểu-dữ-liệu-của-từng-cột-1.4.7\">Kiểu dữ liệu của từng cột</a></span><ul class=\"toc-item\"><li><span><a href=\"#Tập-dữ-liệu-anime\" data-toc-modified-id=\"Tập-dữ-liệu-anime-1.4.7.1\">Tập dữ liệu anime</a></span></li><li><span><a href=\"#Tập-dữ-liệu-review\" data-toc-modified-id=\"Tập-dữ-liệu-review-1.4.7.2\">Tập dữ liệu review</a></span></li></ul></li><li><span><a href=\"#Phân-tích-rõ-hơn-các-cột-có-kiểu-dữ-liệu-object\" data-toc-modified-id=\"Phân-tích-rõ-hơn-các-cột-có-kiểu-dữ-liệu-object-1.4.8\">Phân tích rõ hơn các cột có kiểu dữ liệu object</a></span><ul class=\"toc-item\"><li><span><a href=\"#Tập-dữ-liệu-anime\" data-toc-modified-id=\"Tập-dữ-liệu-anime-1.4.8.1\">Tập dữ liệu anime</a></span></li><li><span><a href=\"#Tập-dữ-liệu-review\" data-toc-modified-id=\"Tập-dữ-liệu-review-1.4.8.2\">Tập dữ liệu review</a></span></li></ul></li></ul></li><li><span><a href=\"#Tiền-xử-lý\" data-toc-modified-id=\"Tiền-xử-lý-1.5\">Tiền xử lý</a></span><ul class=\"toc-item\"><li><span><a href=\"#Chuyển-dtype-của-cột-&quot;ABC&quot;,-&quot;XYZ&quot;-sang-...\" data-toc-modified-id=\"Chuyển-dtype-của-cột-&quot;ABC&quot;,-&quot;XYZ&quot;-sang-...-1.5.1\">Chuyển dtype của cột \"ABC\", \"XYZ\" sang ...</a></span></li></ul></li><li><span><a href=\"#Khám-phá-dữ-liệu-(tiếp-tục)\" data-toc-modified-id=\"Khám-phá-dữ-liệu-(tiếp-tục)-1.6\">Khám phá dữ liệu (tiếp tục)</a></span><ul class=\"toc-item\"><li><span><a href=\"#Phân-bố-các-cột-dữ-liệu-dạng-numeric\" data-toc-modified-id=\"Phân-bố-các-cột-dữ-liệu-dạng-numeric-1.6.1\">Phân bố các cột dữ liệu dạng numeric</a></span><ul class=\"toc-item\"><li><span><a href=\"#Tập-dữ-liệu-anime\" data-toc-modified-id=\"Tập-dữ-liệu-anime-1.6.1.1\">Tập dữ liệu anime</a></span></li><li><span><a href=\"#Tập-dữ-liệu-review\" data-toc-modified-id=\"Tập-dữ-liệu-review-1.6.1.2\">Tập dữ liệu review</a></span></li></ul></li><li><span><a href=\"#Phân-bố-các-cột-dữ-liệu-dạng-categorical\" data-toc-modified-id=\"Phân-bố-các-cột-dữ-liệu-dạng-categorical-1.6.2\">Phân bố các cột dữ liệu dạng categorical</a></span><ul class=\"toc-item\"><li><span><a href=\"#Tập-dữ-liệu-anime\" data-toc-modified-id=\"Tập-dữ-liệu-anime-1.6.2.1\">Tập dữ liệu anime</a></span></li><li><span><a href=\"#Tập-dữ-liệu-review\" data-toc-modified-id=\"Tập-dữ-liệu-review-1.6.2.2\">Tập dữ liệu review</a></span></li></ul></li><li><span><a href=\"#Khám-phá-thêm-(nếu-có)\" data-toc-modified-id=\"Khám-phá-thêm-(nếu-có)-1.6.3\">Khám phá thêm (nếu có)</a></span></li></ul></li><li><span><a href=\"#Đưa-ra-các-câu-hỏi-cần-trả-lời\" data-toc-modified-id=\"Đưa-ra-các-câu-hỏi-cần-trả-lời-1.7\">Đưa ra các câu hỏi cần trả lời</a></span></li></ul></li></ul></div>"
   ]
  },
  {
   "cell_type": "markdown",
   "id": "5e79806d",
   "metadata": {},
   "source": [
    "## Môi trường code"
   ]
  },
  {
   "cell_type": "code",
   "execution_count": null,
   "id": "4ce0039b",
   "metadata": {
    "scrolled": true
   },
   "outputs": [],
   "source": [
    "import sys\n",
    "sys.executable"
   ]
  },
  {
   "cell_type": "markdown",
   "id": "d97a9cde",
   "metadata": {},
   "source": [
    "## Import các thư viện cần thiết"
   ]
  },
  {
   "cell_type": "code",
   "execution_count": null,
   "id": "f0cb61f2",
   "metadata": {},
   "outputs": [],
   "source": [
    "# Import thư viện cần dùng\n",
    "import os\n",
    "import zipfile\n",
    "import numpy as np\n",
    "import pandas as pd\n",
    "import matplotlib.pyplot as plt"
   ]
  },
  {
   "cell_type": "markdown",
   "id": "cb98b004",
   "metadata": {},
   "source": [
    "## Thu thập dữ liệu\n",
    "\n",
    "Trong đồ án này, ta sẽ sử dụng tập dữ liệu có sẵn đến từ 2 file mà người ta đã thu thập trên kaggle là `animes.csv` và `reviews.csv`. Theo như mô tả của người thu thập dữ liệu thì ta có khoảng 16000 anime và 130000 bài review về các anime này. Cách thức thu thập dữ liệu của người này là dùng API do trang myanimelist.net cung cấp, cụ thể chi tiết về chương trình crawler mà anh ta viết có thể được xem ở link này:  https://github.com/marlesson/scrapy_myanimelist\n",
    "\n",
    "Link của tập dữ liệu: [Anime Dataset with Reviews - MyAnimeList](https://www.kaggle.com/marlesson/myanimelist-dataset-animes-profiles-reviews) ([https://www.kaggle.com/marlesson/myanimelist-dataset-animes-profiles-reviews](https://www.kaggle.com/marlesson/myanimelist-dataset-animes-profiles-reviews))"
   ]
  },
  {
   "cell_type": "markdown",
   "id": "fee81e52",
   "metadata": {},
   "source": [
    "---"
   ]
  },
  {
   "cell_type": "markdown",
   "id": "84f0e610",
   "metadata": {},
   "source": [
    "## Khám phá dữ liệu"
   ]
  },
  {
   "cell_type": "markdown",
   "id": "f981487a",
   "metadata": {},
   "source": [
    "### Giải nén dữ liệu\n",
    "Sau khi tải tập dữ liệu về, chúng ta cần giải nén và tiền xử lý chúng"
   ]
  },
  {
   "cell_type": "code",
   "execution_count": null,
   "id": "ac4408cd",
   "metadata": {},
   "outputs": [],
   "source": [
    "ZIP_FILE = 'archive.zip'\n",
    "DATA_DIR = os.path.join(os.getcwd(), 'data')\n",
    "\n",
    "OVERWRITE = False\n",
    "\n",
    "def extractall():\n",
    "    with zipfile.ZipFile(ZIP_FILE, 'r') as zip_ref:\n",
    "        zip_ref.extractall(DATA_DIR)\n",
    "\n",
    "def file_sizes(pathdir):\n",
    "    isfile = lambda f: os.path.isfile(os.path.join(pathdir, f))\n",
    "    files = filter(isfile, os.listdir(pathdir))\n",
    "    return [(f, os.stat(os.path.join(pathdir, f)).st_size) for f in files]\n",
    "\n",
    "if OVERWRITE or not os.path.isdir(DATA_DIR) or not os.listdir(DATA_DIR):\n",
    "    extractall()\n",
    "\n",
    "file_sizes(DATA_DIR)"
   ]
  },
  {
   "cell_type": "markdown",
   "id": "da27e8ab",
   "metadata": {},
   "source": [
    "### Đọc dữ liệu từ file csv vào dataframe\n",
    "Sau khi giải nén thì mình thấy file `reviews.csv` tới gần 700MB, nên bây cần cần load thử xem có cái nào có thể lược bỏ để giảm bớt dung lượng"
   ]
  },
  {
   "cell_type": "markdown",
   "id": "4ff51c37",
   "metadata": {},
   "source": [
    "#### Tập dữ liệu anime"
   ]
  },
  {
   "cell_type": "code",
   "execution_count": null,
   "id": "13b70f33",
   "metadata": {},
   "outputs": [
    {
     "data": {
      "text/html": [
       "<div>\n",
       "<style scoped>\n",
       "    .dataframe tbody tr th:only-of-type {\n",
       "        vertical-align: middle;\n",
       "    }\n",
       "\n",
       "    .dataframe tbody tr th {\n",
       "        vertical-align: top;\n",
       "    }\n",
       "\n",
       "    .dataframe thead th {\n",
       "        text-align: right;\n",
       "    }\n",
       "</style>\n",
       "<table border=\"1\" class=\"dataframe\">\n",
       "  <thead>\n",
       "    <tr style=\"text-align: right;\">\n",
       "      <th></th>\n",
       "      <th>uid</th>\n",
       "      <th>title</th>\n",
       "      <th>synopsis</th>\n",
       "      <th>genre</th>\n",
       "      <th>aired</th>\n",
       "      <th>episodes</th>\n",
       "      <th>members</th>\n",
       "      <th>popularity</th>\n",
       "      <th>ranked</th>\n",
       "      <th>score</th>\n",
       "      <th>img_url</th>\n",
       "      <th>link</th>\n",
       "    </tr>\n",
       "  </thead>\n",
       "  <tbody>\n",
       "    <tr>\n",
       "      <th>0</th>\n",
       "      <td>28891</td>\n",
       "      <td>Haikyuu!! Second Season</td>\n",
       "      <td>Following their participation at the Inter-Hig...</td>\n",
       "      <td>['Comedy', 'Sports', 'Drama', 'School', 'Shoun...</td>\n",
       "      <td>Oct 4, 2015 to Mar 27, 2016</td>\n",
       "      <td>25.0</td>\n",
       "      <td>489888</td>\n",
       "      <td>141</td>\n",
       "      <td>25.0</td>\n",
       "      <td>8.82</td>\n",
       "      <td>https://cdn.myanimelist.net/images/anime/9/766...</td>\n",
       "      <td>https://myanimelist.net/anime/28891/Haikyuu_Se...</td>\n",
       "    </tr>\n",
       "    <tr>\n",
       "      <th>1</th>\n",
       "      <td>23273</td>\n",
       "      <td>Shigatsu wa Kimi no Uso</td>\n",
       "      <td>Music accompanies the path of the human metron...</td>\n",
       "      <td>['Drama', 'Music', 'Romance', 'School', 'Shoun...</td>\n",
       "      <td>Oct 10, 2014 to Mar 20, 2015</td>\n",
       "      <td>22.0</td>\n",
       "      <td>995473</td>\n",
       "      <td>28</td>\n",
       "      <td>24.0</td>\n",
       "      <td>8.83</td>\n",
       "      <td>https://cdn.myanimelist.net/images/anime/3/671...</td>\n",
       "      <td>https://myanimelist.net/anime/23273/Shigatsu_w...</td>\n",
       "    </tr>\n",
       "    <tr>\n",
       "      <th>2</th>\n",
       "      <td>34599</td>\n",
       "      <td>Made in Abyss</td>\n",
       "      <td>The Abyss—a gaping chasm stretching down into ...</td>\n",
       "      <td>['Sci-Fi', 'Adventure', 'Mystery', 'Drama', 'F...</td>\n",
       "      <td>Jul 7, 2017 to Sep 29, 2017</td>\n",
       "      <td>13.0</td>\n",
       "      <td>581663</td>\n",
       "      <td>98</td>\n",
       "      <td>23.0</td>\n",
       "      <td>8.83</td>\n",
       "      <td>https://cdn.myanimelist.net/images/anime/6/867...</td>\n",
       "      <td>https://myanimelist.net/anime/34599/Made_in_Abyss</td>\n",
       "    </tr>\n",
       "    <tr>\n",
       "      <th>3</th>\n",
       "      <td>5114</td>\n",
       "      <td>Fullmetal Alchemist: Brotherhood</td>\n",
       "      <td>\"In order for something to be obtained, someth...</td>\n",
       "      <td>['Action', 'Military', 'Adventure', 'Comedy', ...</td>\n",
       "      <td>Apr 5, 2009 to Jul 4, 2010</td>\n",
       "      <td>64.0</td>\n",
       "      <td>1615084</td>\n",
       "      <td>4</td>\n",
       "      <td>1.0</td>\n",
       "      <td>9.23</td>\n",
       "      <td>https://cdn.myanimelist.net/images/anime/1223/...</td>\n",
       "      <td>https://myanimelist.net/anime/5114/Fullmetal_A...</td>\n",
       "    </tr>\n",
       "    <tr>\n",
       "      <th>4</th>\n",
       "      <td>31758</td>\n",
       "      <td>Kizumonogatari III: Reiketsu-hen</td>\n",
       "      <td>After helping revive the legendary vampire Kis...</td>\n",
       "      <td>['Action', 'Mystery', 'Supernatural', 'Vampire']</td>\n",
       "      <td>Jan 6, 2017</td>\n",
       "      <td>1.0</td>\n",
       "      <td>214621</td>\n",
       "      <td>502</td>\n",
       "      <td>22.0</td>\n",
       "      <td>8.83</td>\n",
       "      <td>https://cdn.myanimelist.net/images/anime/3/815...</td>\n",
       "      <td>https://myanimelist.net/anime/31758/Kizumonoga...</td>\n",
       "    </tr>\n",
       "    <tr>\n",
       "      <th>...</th>\n",
       "      <td>...</td>\n",
       "      <td>...</td>\n",
       "      <td>...</td>\n",
       "      <td>...</td>\n",
       "      <td>...</td>\n",
       "      <td>...</td>\n",
       "      <td>...</td>\n",
       "      <td>...</td>\n",
       "      <td>...</td>\n",
       "      <td>...</td>\n",
       "      <td>...</td>\n",
       "      <td>...</td>\n",
       "    </tr>\n",
       "    <tr>\n",
       "      <th>19306</th>\n",
       "      <td>32979</td>\n",
       "      <td>Flip Flappers</td>\n",
       "      <td>Cocona is an average middle schooler living wi...</td>\n",
       "      <td>['Sci-Fi', 'Adventure', 'Comedy', 'Magic']</td>\n",
       "      <td>Oct 6, 2016 to Dec 29, 2016</td>\n",
       "      <td>13.0</td>\n",
       "      <td>134252</td>\n",
       "      <td>843</td>\n",
       "      <td>1070.0</td>\n",
       "      <td>7.73</td>\n",
       "      <td>https://cdn.myanimelist.net/images/anime/4/822...</td>\n",
       "      <td>https://myanimelist.net/anime/32979/Flip_Flappers</td>\n",
       "    </tr>\n",
       "    <tr>\n",
       "      <th>19307</th>\n",
       "      <td>123</td>\n",
       "      <td>Fushigi Yuugi</td>\n",
       "      <td>While visiting the National Library, junior-hi...</td>\n",
       "      <td>['Adventure', 'Fantasy', 'Magic', 'Martial Art...</td>\n",
       "      <td>Apr 6, 1995 to Mar 28, 1996</td>\n",
       "      <td>52.0</td>\n",
       "      <td>84407</td>\n",
       "      <td>1292</td>\n",
       "      <td>1071.0</td>\n",
       "      <td>7.73</td>\n",
       "      <td>https://cdn.myanimelist.net/images/anime/2/201...</td>\n",
       "      <td>https://myanimelist.net/anime/123/Fushigi_Yuugi</td>\n",
       "    </tr>\n",
       "    <tr>\n",
       "      <th>19308</th>\n",
       "      <td>1281</td>\n",
       "      <td>Gakkou no Kaidan</td>\n",
       "      <td>Years ago, all of the ghosts in a haunted scho...</td>\n",
       "      <td>['Mystery', 'Horror', 'Supernatural']</td>\n",
       "      <td>Oct 22, 2000 to Mar 25, 2001</td>\n",
       "      <td>19.0</td>\n",
       "      <td>83093</td>\n",
       "      <td>1314</td>\n",
       "      <td>1073.0</td>\n",
       "      <td>7.73</td>\n",
       "      <td>https://cdn.myanimelist.net/images/anime/9/183...</td>\n",
       "      <td>https://myanimelist.net/anime/1281/Gakkou_no_K...</td>\n",
       "    </tr>\n",
       "    <tr>\n",
       "      <th>19309</th>\n",
       "      <td>450</td>\n",
       "      <td>InuYasha Movie 2: Kagami no Naka no Mugenjo</td>\n",
       "      <td>Inuyasha and company have finally destroyed Na...</td>\n",
       "      <td>['Action', 'Adventure', 'Comedy', 'Historical'...</td>\n",
       "      <td>Dec 21, 2002</td>\n",
       "      <td>1.0</td>\n",
       "      <td>71989</td>\n",
       "      <td>1469</td>\n",
       "      <td>1077.0</td>\n",
       "      <td>7.73</td>\n",
       "      <td>https://cdn.myanimelist.net/images/anime/1162/...</td>\n",
       "      <td>https://myanimelist.net/anime/450/InuYasha_Mov...</td>\n",
       "    </tr>\n",
       "    <tr>\n",
       "      <th>19310</th>\n",
       "      <td>87</td>\n",
       "      <td>Mobile Suit Gundam: Char's Counterattack</td>\n",
       "      <td>The year is Universal Century 0093. Char Aznab...</td>\n",
       "      <td>['Military', 'Sci-Fi', 'Space', 'Drama', 'Mecha']</td>\n",
       "      <td>Mar 12, 1988</td>\n",
       "      <td>1.0</td>\n",
       "      <td>29248</td>\n",
       "      <td>2604</td>\n",
       "      <td>1081.0</td>\n",
       "      <td>7.73</td>\n",
       "      <td>https://cdn.myanimelist.net/images/anime/1523/...</td>\n",
       "      <td>https://myanimelist.net/anime/87/Mobile_Suit_G...</td>\n",
       "    </tr>\n",
       "  </tbody>\n",
       "</table>\n",
       "<p>19311 rows × 12 columns</p>\n",
       "</div>"
      ],
      "text/plain": [
       "         uid                                        title  \\\n",
       "0      28891                      Haikyuu!! Second Season   \n",
       "1      23273                      Shigatsu wa Kimi no Uso   \n",
       "2      34599                                Made in Abyss   \n",
       "3       5114             Fullmetal Alchemist: Brotherhood   \n",
       "4      31758             Kizumonogatari III: Reiketsu-hen   \n",
       "...      ...                                          ...   \n",
       "19306  32979                                Flip Flappers   \n",
       "19307    123                                Fushigi Yuugi   \n",
       "19308   1281                             Gakkou no Kaidan   \n",
       "19309    450  InuYasha Movie 2: Kagami no Naka no Mugenjo   \n",
       "19310     87     Mobile Suit Gundam: Char's Counterattack   \n",
       "\n",
       "                                                synopsis  \\\n",
       "0      Following their participation at the Inter-Hig...   \n",
       "1      Music accompanies the path of the human metron...   \n",
       "2      The Abyss—a gaping chasm stretching down into ...   \n",
       "3      \"In order for something to be obtained, someth...   \n",
       "4      After helping revive the legendary vampire Kis...   \n",
       "...                                                  ...   \n",
       "19306  Cocona is an average middle schooler living wi...   \n",
       "19307  While visiting the National Library, junior-hi...   \n",
       "19308  Years ago, all of the ghosts in a haunted scho...   \n",
       "19309  Inuyasha and company have finally destroyed Na...   \n",
       "19310  The year is Universal Century 0093. Char Aznab...   \n",
       "\n",
       "                                                   genre  \\\n",
       "0      ['Comedy', 'Sports', 'Drama', 'School', 'Shoun...   \n",
       "1      ['Drama', 'Music', 'Romance', 'School', 'Shoun...   \n",
       "2      ['Sci-Fi', 'Adventure', 'Mystery', 'Drama', 'F...   \n",
       "3      ['Action', 'Military', 'Adventure', 'Comedy', ...   \n",
       "4       ['Action', 'Mystery', 'Supernatural', 'Vampire']   \n",
       "...                                                  ...   \n",
       "19306         ['Sci-Fi', 'Adventure', 'Comedy', 'Magic']   \n",
       "19307  ['Adventure', 'Fantasy', 'Magic', 'Martial Art...   \n",
       "19308              ['Mystery', 'Horror', 'Supernatural']   \n",
       "19309  ['Action', 'Adventure', 'Comedy', 'Historical'...   \n",
       "19310  ['Military', 'Sci-Fi', 'Space', 'Drama', 'Mecha']   \n",
       "\n",
       "                              aired  episodes  members  popularity  ranked  \\\n",
       "0       Oct 4, 2015 to Mar 27, 2016      25.0   489888         141    25.0   \n",
       "1      Oct 10, 2014 to Mar 20, 2015      22.0   995473          28    24.0   \n",
       "2       Jul 7, 2017 to Sep 29, 2017      13.0   581663          98    23.0   \n",
       "3        Apr 5, 2009 to Jul 4, 2010      64.0  1615084           4     1.0   \n",
       "4                       Jan 6, 2017       1.0   214621         502    22.0   \n",
       "...                             ...       ...      ...         ...     ...   \n",
       "19306   Oct 6, 2016 to Dec 29, 2016      13.0   134252         843  1070.0   \n",
       "19307   Apr 6, 1995 to Mar 28, 1996      52.0    84407        1292  1071.0   \n",
       "19308  Oct 22, 2000 to Mar 25, 2001      19.0    83093        1314  1073.0   \n",
       "19309                  Dec 21, 2002       1.0    71989        1469  1077.0   \n",
       "19310                  Mar 12, 1988       1.0    29248        2604  1081.0   \n",
       "\n",
       "       score                                            img_url  \\\n",
       "0       8.82  https://cdn.myanimelist.net/images/anime/9/766...   \n",
       "1       8.83  https://cdn.myanimelist.net/images/anime/3/671...   \n",
       "2       8.83  https://cdn.myanimelist.net/images/anime/6/867...   \n",
       "3       9.23  https://cdn.myanimelist.net/images/anime/1223/...   \n",
       "4       8.83  https://cdn.myanimelist.net/images/anime/3/815...   \n",
       "...      ...                                                ...   \n",
       "19306   7.73  https://cdn.myanimelist.net/images/anime/4/822...   \n",
       "19307   7.73  https://cdn.myanimelist.net/images/anime/2/201...   \n",
       "19308   7.73  https://cdn.myanimelist.net/images/anime/9/183...   \n",
       "19309   7.73  https://cdn.myanimelist.net/images/anime/1162/...   \n",
       "19310   7.73  https://cdn.myanimelist.net/images/anime/1523/...   \n",
       "\n",
       "                                                    link  \n",
       "0      https://myanimelist.net/anime/28891/Haikyuu_Se...  \n",
       "1      https://myanimelist.net/anime/23273/Shigatsu_w...  \n",
       "2      https://myanimelist.net/anime/34599/Made_in_Abyss  \n",
       "3      https://myanimelist.net/anime/5114/Fullmetal_A...  \n",
       "4      https://myanimelist.net/anime/31758/Kizumonoga...  \n",
       "...                                                  ...  \n",
       "19306  https://myanimelist.net/anime/32979/Flip_Flappers  \n",
       "19307    https://myanimelist.net/anime/123/Fushigi_Yuugi  \n",
       "19308  https://myanimelist.net/anime/1281/Gakkou_no_K...  \n",
       "19309  https://myanimelist.net/anime/450/InuYasha_Mov...  \n",
       "19310  https://myanimelist.net/anime/87/Mobile_Suit_G...  \n",
       "\n",
       "[19311 rows x 12 columns]"
      ]
     },
     "execution_count": 72,
     "metadata": {},
     "output_type": "execute_result"
    }
   ],
   "source": [
    "# Đọc dữ liệu từ file animes.csv\n",
    "anime_df = pd.read_csv('animes.csv')\n",
    "anime_df"
   ]
  },
  {
   "cell_type": "markdown",
   "id": "90bf78f3",
   "metadata": {},
   "source": [
    "#### Tập dữ liệu review"
   ]
  },
  {
   "cell_type": "code",
   "execution_count": null,
   "id": "ae9d9bc7",
   "metadata": {},
   "outputs": [
    {
     "data": {
      "text/html": [
       "<div>\n",
       "<style scoped>\n",
       "    .dataframe tbody tr th:only-of-type {\n",
       "        vertical-align: middle;\n",
       "    }\n",
       "\n",
       "    .dataframe tbody tr th {\n",
       "        vertical-align: top;\n",
       "    }\n",
       "\n",
       "    .dataframe thead th {\n",
       "        text-align: right;\n",
       "    }\n",
       "</style>\n",
       "<table border=\"1\" class=\"dataframe\">\n",
       "  <thead>\n",
       "    <tr style=\"text-align: right;\">\n",
       "      <th></th>\n",
       "      <th>uid</th>\n",
       "      <th>profile</th>\n",
       "      <th>anime_uid</th>\n",
       "      <th>text</th>\n",
       "      <th>score</th>\n",
       "      <th>scores</th>\n",
       "      <th>link</th>\n",
       "    </tr>\n",
       "  </thead>\n",
       "  <tbody>\n",
       "    <tr>\n",
       "      <th>0</th>\n",
       "      <td>255938</td>\n",
       "      <td>DesolatePsyche</td>\n",
       "      <td>34096</td>\n",
       "      <td>\\n           \\n         \\n           \\n       ...</td>\n",
       "      <td>8</td>\n",
       "      <td>{'Overall': '8', 'Story': '8', 'Animation': '8...</td>\n",
       "      <td>https://myanimelist.net/reviews.php?id=255938</td>\n",
       "    </tr>\n",
       "    <tr>\n",
       "      <th>1</th>\n",
       "      <td>259117</td>\n",
       "      <td>baekbeans</td>\n",
       "      <td>34599</td>\n",
       "      <td>\\n           \\n         \\n           \\n       ...</td>\n",
       "      <td>10</td>\n",
       "      <td>{'Overall': '10', 'Story': '10', 'Animation': ...</td>\n",
       "      <td>https://myanimelist.net/reviews.php?id=259117</td>\n",
       "    </tr>\n",
       "    <tr>\n",
       "      <th>2</th>\n",
       "      <td>253664</td>\n",
       "      <td>skrn</td>\n",
       "      <td>28891</td>\n",
       "      <td>\\n           \\n         \\n           \\n       ...</td>\n",
       "      <td>7</td>\n",
       "      <td>{'Overall': '7', 'Story': '7', 'Animation': '9...</td>\n",
       "      <td>https://myanimelist.net/reviews.php?id=253664</td>\n",
       "    </tr>\n",
       "    <tr>\n",
       "      <th>3</th>\n",
       "      <td>8254</td>\n",
       "      <td>edgewalker00</td>\n",
       "      <td>2904</td>\n",
       "      <td>\\n           \\n         \\n           \\n       ...</td>\n",
       "      <td>9</td>\n",
       "      <td>{'Overall': '9', 'Story': '9', 'Animation': '9...</td>\n",
       "      <td>https://myanimelist.net/reviews.php?id=8254</td>\n",
       "    </tr>\n",
       "    <tr>\n",
       "      <th>4</th>\n",
       "      <td>291149</td>\n",
       "      <td>aManOfCulture99</td>\n",
       "      <td>4181</td>\n",
       "      <td>\\n           \\n         \\n           \\n       ...</td>\n",
       "      <td>10</td>\n",
       "      <td>{'Overall': '10', 'Story': '10', 'Animation': ...</td>\n",
       "      <td>https://myanimelist.net/reviews.php?id=291149</td>\n",
       "    </tr>\n",
       "    <tr>\n",
       "      <th>...</th>\n",
       "      <td>...</td>\n",
       "      <td>...</td>\n",
       "      <td>...</td>\n",
       "      <td>...</td>\n",
       "      <td>...</td>\n",
       "      <td>...</td>\n",
       "      <td>...</td>\n",
       "    </tr>\n",
       "    <tr>\n",
       "      <th>192107</th>\n",
       "      <td>240067</td>\n",
       "      <td>Unicorn819</td>\n",
       "      <td>1281</td>\n",
       "      <td>\\n           \\n         \\n           \\n       ...</td>\n",
       "      <td>9</td>\n",
       "      <td>{'Overall': '9', 'Story': '5', 'Animation': '1...</td>\n",
       "      <td>https://myanimelist.net/reviews.php?id=240067</td>\n",
       "    </tr>\n",
       "    <tr>\n",
       "      <th>192108</th>\n",
       "      <td>285777</td>\n",
       "      <td>ShizzoSVH</td>\n",
       "      <td>1281</td>\n",
       "      <td>\\n           \\n         \\n           \\n       ...</td>\n",
       "      <td>9</td>\n",
       "      <td>{'Overall': '9', 'Story': '7', 'Animation': '9...</td>\n",
       "      <td>https://myanimelist.net/reviews.php?id=285777</td>\n",
       "    </tr>\n",
       "    <tr>\n",
       "      <th>192109</th>\n",
       "      <td>286904</td>\n",
       "      <td>AlluMan96</td>\n",
       "      <td>1281</td>\n",
       "      <td>\\n           \\n         \\n           \\n       ...</td>\n",
       "      <td>3</td>\n",
       "      <td>{'Overall': '3', 'Story': '3', 'Animation': '1...</td>\n",
       "      <td>https://myanimelist.net/reviews.php?id=286904</td>\n",
       "    </tr>\n",
       "    <tr>\n",
       "      <th>192110</th>\n",
       "      <td>287903</td>\n",
       "      <td>AgentK300</td>\n",
       "      <td>1281</td>\n",
       "      <td>\\n           \\n         \\n           \\n       ...</td>\n",
       "      <td>10</td>\n",
       "      <td>{'Overall': '10', 'Story': '3', 'Animation': '...</td>\n",
       "      <td>https://myanimelist.net/reviews.php?id=287903</td>\n",
       "    </tr>\n",
       "    <tr>\n",
       "      <th>192111</th>\n",
       "      <td>299323</td>\n",
       "      <td>Scarlet012</td>\n",
       "      <td>1281</td>\n",
       "      <td>\\n           \\n         \\n           \\n       ...</td>\n",
       "      <td>9</td>\n",
       "      <td>{'Overall': '9', 'Story': '7', 'Animation': '8...</td>\n",
       "      <td>https://myanimelist.net/reviews.php?id=299323</td>\n",
       "    </tr>\n",
       "  </tbody>\n",
       "</table>\n",
       "<p>192112 rows × 7 columns</p>\n",
       "</div>"
      ],
      "text/plain": [
       "           uid          profile  anime_uid  \\\n",
       "0       255938   DesolatePsyche      34096   \n",
       "1       259117        baekbeans      34599   \n",
       "2       253664             skrn      28891   \n",
       "3         8254     edgewalker00       2904   \n",
       "4       291149  aManOfCulture99       4181   \n",
       "...        ...              ...        ...   \n",
       "192107  240067       Unicorn819       1281   \n",
       "192108  285777        ShizzoSVH       1281   \n",
       "192109  286904        AlluMan96       1281   \n",
       "192110  287903        AgentK300       1281   \n",
       "192111  299323       Scarlet012       1281   \n",
       "\n",
       "                                                     text  score  \\\n",
       "0       \\n           \\n         \\n           \\n       ...      8   \n",
       "1       \\n           \\n         \\n           \\n       ...     10   \n",
       "2       \\n           \\n         \\n           \\n       ...      7   \n",
       "3       \\n           \\n         \\n           \\n       ...      9   \n",
       "4       \\n           \\n         \\n           \\n       ...     10   \n",
       "...                                                   ...    ...   \n",
       "192107  \\n           \\n         \\n           \\n       ...      9   \n",
       "192108  \\n           \\n         \\n           \\n       ...      9   \n",
       "192109  \\n           \\n         \\n           \\n       ...      3   \n",
       "192110  \\n           \\n         \\n           \\n       ...     10   \n",
       "192111  \\n           \\n         \\n           \\n       ...      9   \n",
       "\n",
       "                                                   scores  \\\n",
       "0       {'Overall': '8', 'Story': '8', 'Animation': '8...   \n",
       "1       {'Overall': '10', 'Story': '10', 'Animation': ...   \n",
       "2       {'Overall': '7', 'Story': '7', 'Animation': '9...   \n",
       "3       {'Overall': '9', 'Story': '9', 'Animation': '9...   \n",
       "4       {'Overall': '10', 'Story': '10', 'Animation': ...   \n",
       "...                                                   ...   \n",
       "192107  {'Overall': '9', 'Story': '5', 'Animation': '1...   \n",
       "192108  {'Overall': '9', 'Story': '7', 'Animation': '9...   \n",
       "192109  {'Overall': '3', 'Story': '3', 'Animation': '1...   \n",
       "192110  {'Overall': '10', 'Story': '3', 'Animation': '...   \n",
       "192111  {'Overall': '9', 'Story': '7', 'Animation': '8...   \n",
       "\n",
       "                                                 link  \n",
       "0       https://myanimelist.net/reviews.php?id=255938  \n",
       "1       https://myanimelist.net/reviews.php?id=259117  \n",
       "2       https://myanimelist.net/reviews.php?id=253664  \n",
       "3         https://myanimelist.net/reviews.php?id=8254  \n",
       "4       https://myanimelist.net/reviews.php?id=291149  \n",
       "...                                               ...  \n",
       "192107  https://myanimelist.net/reviews.php?id=240067  \n",
       "192108  https://myanimelist.net/reviews.php?id=285777  \n",
       "192109  https://myanimelist.net/reviews.php?id=286904  \n",
       "192110  https://myanimelist.net/reviews.php?id=287903  \n",
       "192111  https://myanimelist.net/reviews.php?id=299323  \n",
       "\n",
       "[192112 rows x 7 columns]"
      ]
     },
     "execution_count": 73,
     "metadata": {},
     "output_type": "execute_result"
    }
   ],
   "source": [
    "# Đọc dữ liệu từ file reviews.csv\n",
    "review_df = pd.read_csv('reviews.csv')\n",
    "review_df"
   ]
  },
  {
   "cell_type": "markdown",
   "id": "b94ea348",
   "metadata": {},
   "source": [
    "### Số dòng, số cột của tập dữ liệu"
   ]
  },
  {
   "cell_type": "markdown",
   "id": "8476bb04",
   "metadata": {},
   "source": [
    "#### Tập dữ liệu anime"
   ]
  },
  {
   "cell_type": "code",
   "execution_count": null,
   "id": "212b0edc",
   "metadata": {},
   "outputs": [],
   "source": [
    "anime_num_rows, anime_num_cols = anime_df.shape\n",
    "print('Số dòng:', anime_num_rows)\n",
    "print('Số cột:', anime_num_cols)"
   ]
  },
  {
   "cell_type": "markdown",
   "id": "d8690053",
   "metadata": {},
   "source": [
    "#### Tập dữ liệu review"
   ]
  },
  {
   "cell_type": "code",
   "execution_count": null,
   "id": "aa62a6ce",
   "metadata": {},
   "outputs": [],
   "source": [
    "review_num_rows, review_num_cols = review_df.shape\n",
    "print('Số dòng:', review_num_rows)\n",
    "print('Số cột:', review_num_cols)"
   ]
  },
  {
   "cell_type": "markdown",
   "id": "bc92fed1",
   "metadata": {},
   "source": [
    "#### Nhận xét:\n",
    "\n",
    "Có vẻ số dòng từ tập dữ liệu `review_df` trả về khá khác so với mô tả (190000 so với 130000)."
   ]
  },
  {
   "cell_type": "markdown",
   "id": "f9c5dc35",
   "metadata": {},
   "source": [
    "### Mỗi dòng có ý nghĩa gì? Có vấn đề các dòng có ý nghĩa khác nhau không?\n",
    "\n",
    "- Tập dữ liệu anime: mỗi dòng trong tập này là thông tin của một anime viết bởi trang myanimelist.net\n",
    "- Tập dữ liệu review: mỗi dòng trong tập này là thông tin về review của một user dành cho một anime trên trang myanimelist.net\n",
    "\n",
    "Có vẻ như mỗi dòng trong các tập không có gì bất ổn."
   ]
  },
  {
   "cell_type": "markdown",
   "id": "cf5426a2",
   "metadata": {},
   "source": [
    "### Dữ liệu có các dòng bị lặp không?"
   ]
  },
  {
   "cell_type": "code",
   "execution_count": null,
   "id": "485ebcd3",
   "metadata": {},
   "outputs": [],
   "source": [
    "anime_has_dup_rows = anime_df.duplicated().any()\n",
    "review_has_dup_rows = review_df.duplicated().any()\n",
    "\n",
    "print('Duplicated rows:')\n",
    "print(' Anime :', anime_has_dup_rows)\n",
    "print(' Review:', review_has_dup_rows)"
   ]
  },
  {
   "cell_type": "markdown",
   "id": "8d50a925",
   "metadata": {},
   "source": [
    "### Mỗi cột có ý nghĩa gì?"
   ]
  },
  {
   "cell_type": "markdown",
   "id": "28f21e6b",
   "metadata": {},
   "source": [
    "Mô tả trên kaggle về các cột trong file `animes.csv`:\n",
    "- **uid**: ID của anime\n",
    "- **title**: tiêu đề của anime\n",
    "- **synopsis**: giới thiệu nội dung của anime\n",
    "- **genre**: thể loại của anime\n",
    "- **aired**: ngày phát hành anime và ngày kết thúc của nó (nếu có)\n",
    "- **episodes**: tổng số tập của anime\n",
    "- **members**: tổng số thành viên trong cộng đồng quan tâm anime này\n",
    "- **popularity**: độ \"nổi tiếng\" của anime, số càng thấp thì càng nổi tiếng\n",
    "- **ranked**: xếp hạng của anime, số càng thấp hạng càng cao và anime đó càng hay\n",
    "- **score**: điểm đánh giá anime trên thang điểm 10 từ trang myanimelist"
   ]
  },
  {
   "cell_type": "markdown",
   "id": "0bd7c0de",
   "metadata": {},
   "source": [
    "Mô tả trên kaggle về các cột trong file `reviews.csv`:\n",
    "- **uid**: ID của bài review\n",
    "- **profile**: tên của user thực hiện review\n",
    "- **anime_uid**: ID của anime được review\n",
    "- **text**: đoạn văn nội dung mà user đó review\n",
    "- **score**: điểm tổng quát user này đã đánh giá cho anime\n",
    "- **scores**: điểm chi tiết từng phần mà user này đã đánh giá cho anime bao gồm\n",
    "    - Overall: điểm tổng\n",
    "    - Story: cốt truyện\n",
    "    - Animation: đồ họa, nét vẽ\n",
    "    - Sound: âm thanh\n",
    "    - Character: xây dựng nhân vật\n",
    "    - Enjoyment: độ giải trí\n",
    "- **link**: đường dẫn URL đến bài review này"
   ]
  },
  {
   "cell_type": "markdown",
   "id": "932a870d",
   "metadata": {},
   "source": [
    "### Loại các cột không dùng đến\n",
    "\n",
    "Trong phạm vi môn học, ta sẽ bỏ qua các cột cần dùng đến kỹ thuật xử lý ngôn ngữ tự nhiên cũng như các cột liên quan đến URL. Việc bỏ các cột này giúp ta chạy code nhanh hơn vì các cột này rất nặng (vì chúng nhiều chữ). Như vậy đối với mỗi tập dữ liệu ta bỏ các cột như sau:\n",
    "- **anime**: synopsis, img_url, link\n",
    "- **review**: text, link"
   ]
  },
  {
   "cell_type": "code",
   "execution_count": null,
   "id": "d6c990dd",
   "metadata": {},
   "outputs": [],
   "source": [
    "# Xóa các cột không dùng đến trong mỗi tập dữ liệu\n",
    "anime_df = anime_df.drop(columns=['synopsis', 'img_url', 'link'])\n",
    "review_df = review_df.drop(columns=['text', 'link'])"
   ]
  },
  {
   "cell_type": "markdown",
   "id": "f059cdc9",
   "metadata": {},
   "source": [
    "### Kiểu dữ liệu của từng cột"
   ]
  },
  {
   "cell_type": "markdown",
   "id": "a014ca5e",
   "metadata": {},
   "source": [
    "#### Tập dữ liệu anime"
   ]
  },
  {
   "cell_type": "code",
   "execution_count": null,
   "id": "7a0fd0ce",
   "metadata": {
    "scrolled": true
   },
   "outputs": [],
   "source": [
    "# Xem kiểu dữ liệu của từng cột tập anime\n",
    "anime_df.dtypes"
   ]
  },
  {
   "cell_type": "markdown",
   "id": "fb5a5e8f",
   "metadata": {},
   "source": [
    "#### Tập dữ liệu review"
   ]
  },
  {
   "cell_type": "code",
   "execution_count": 79,
   "id": "6d8cd5aa",
   "metadata": {},
   "outputs": [
    {
     "data": {
      "text/plain": [
       "uid           int64\n",
       "profile      object\n",
       "anime_uid     int64\n",
       "score         int64\n",
       "scores       object\n",
       "dtype: object"
      ]
     },
     "execution_count": 79,
     "metadata": {},
     "output_type": "execute_result"
    }
   ],
   "source": [
    "# Xem kiểu dữ liệu của từng cột tập review\n",
    "review_df.dtypes"
   ]
  },
  {
   "cell_type": "markdown",
   "id": "51917a47",
   "metadata": {},
   "source": [
    "### Phân tích rõ hơn các cột có kiểu dữ liệu object"
   ]
  },
  {
   "cell_type": "markdown",
   "id": "1cf41dd6",
   "metadata": {},
   "source": [
    "#### Tập dữ liệu anime"
   ]
  },
  {
   "cell_type": "code",
   "execution_count": 80,
   "id": "e929856d",
   "metadata": {
    "scrolled": true
   },
   "outputs": [
    {
     "name": "stdout",
     "output_type": "stream",
     "text": [
      "title: {<class 'str'>}\n",
      "genre: {<class 'str'>}\n",
      "aired: {<class 'str'>}\n"
     ]
    }
   ],
   "source": [
    "def open_object_dtype(s):\n",
    "    return set(s.apply(type))\n",
    "    \n",
    "print('title:', open_object_dtype(anime_df['title']))\n",
    "print('genre:', open_object_dtype(anime_df['genre']))\n",
    "print('aired:', open_object_dtype(anime_df['aired']))"
   ]
  },
  {
   "cell_type": "markdown",
   "id": "576d5851",
   "metadata": {},
   "source": [
    "#### Tập dữ liệu review"
   ]
  },
  {
   "cell_type": "code",
   "execution_count": 81,
   "id": "1e9ff741",
   "metadata": {},
   "outputs": [
    {
     "name": "stdout",
     "output_type": "stream",
     "text": [
      "profile: {<class 'str'>}\n",
      "scores: {<class 'str'>}\n"
     ]
    }
   ],
   "source": [
    "print('profile:', open_object_dtype(review_df['profile']))\n",
    "print('scores:', open_object_dtype(review_df['scores']))"
   ]
  },
  {
   "cell_type": "markdown",
   "id": "b203449e",
   "metadata": {},
   "source": [
    "**Các vấn đề cần tiền xử lý:**\n",
    "- Loại bỏ các dòng bị lặp\n",
    "- Chuyển dtype cột `aired` sang `datetime`"
   ]
  },
  {
   "cell_type": "markdown",
   "id": "f2c13bc9",
   "metadata": {},
   "source": [
    "---"
   ]
  },
  {
   "cell_type": "markdown",
   "id": "1f2e7f51",
   "metadata": {},
   "source": [
    "## Tiền xử lý"
   ]
  },
  {
   "cell_type": "markdown",
   "id": "58cac884",
   "metadata": {},
   "source": [
    "### Chuyển dtype của cột \"ABC\", \"XYZ\" sang ..."
   ]
  },
  {
   "cell_type": "code",
   "execution_count": null,
   "id": "b85cbed3",
   "metadata": {},
   "outputs": [],
   "source": []
  },
  {
   "cell_type": "markdown",
   "id": "d79f8e4f",
   "metadata": {},
   "source": [
    "---"
   ]
  },
  {
   "cell_type": "markdown",
   "id": "93af1cc9",
   "metadata": {},
   "source": [
    "## Khám phá dữ liệu (tiếp tục)"
   ]
  },
  {
   "cell_type": "markdown",
   "id": "922e780b",
   "metadata": {},
   "source": [
    "### Phân bố các cột dữ liệu dạng numeric"
   ]
  },
  {
   "cell_type": "markdown",
   "id": "140717b5",
   "metadata": {},
   "source": [
    "#### Tập dữ liệu anime"
   ]
  },
  {
   "cell_type": "code",
   "execution_count": null,
   "id": "8d3a0ea0",
   "metadata": {},
   "outputs": [],
   "source": []
  },
  {
   "cell_type": "markdown",
   "id": "2cb21e2e",
   "metadata": {},
   "source": [
    "#### Tập dữ liệu review"
   ]
  },
  {
   "cell_type": "code",
   "execution_count": null,
   "id": "16e87b5d",
   "metadata": {},
   "outputs": [],
   "source": []
  },
  {
   "cell_type": "markdown",
   "id": "286636a9",
   "metadata": {},
   "source": [
    "### Phân bố các cột dữ liệu dạng categorical"
   ]
  },
  {
   "cell_type": "markdown",
   "id": "f457c5d8",
   "metadata": {},
   "source": [
    "#### Tập dữ liệu anime"
   ]
  },
  {
   "cell_type": "code",
   "execution_count": null,
   "id": "22d79f80",
   "metadata": {},
   "outputs": [],
   "source": []
  },
  {
   "cell_type": "markdown",
   "id": "a40993f4",
   "metadata": {},
   "source": [
    "#### Tập dữ liệu review"
   ]
  },
  {
   "cell_type": "code",
   "execution_count": null,
   "id": "2cdee65f",
   "metadata": {},
   "outputs": [],
   "source": []
  },
  {
   "cell_type": "markdown",
   "id": "372eecb7",
   "metadata": {},
   "source": [
    "### Khám phá thêm (nếu có)\n",
    "\n",
    "`Tự thêm phần khám phá của mình ở đây`"
   ]
  },
  {
   "cell_type": "markdown",
   "id": "9e4670a0",
   "metadata": {},
   "source": [
    "---"
   ]
  },
  {
   "cell_type": "markdown",
   "id": "899bb215",
   "metadata": {},
   "source": [
    "## Đưa ra các câu hỏi cần trả lời"
   ]
  },
  {
   "cell_type": "code",
   "execution_count": null,
   "id": "0e66b061",
   "metadata": {},
   "outputs": [],
   "source": []
  }
 ],
 "metadata": {
  "kernelspec": {
   "display_name": "Python 3 (ipykernel)",
   "language": "python",
   "name": "python3"
  },
  "language_info": {
   "codemirror_mode": {
    "name": "ipython",
    "version": 3
   },
   "file_extension": ".py",
   "mimetype": "text/x-python",
   "name": "python",
   "nbconvert_exporter": "python",
   "pygments_lexer": "ipython3",
   "version": "3.8.8"
  },
  "toc": {
   "base_numbering": 1,
   "nav_menu": {},
   "number_sections": false,
   "sideBar": true,
   "skip_h1_title": false,
   "title_cell": "Table of Contents",
   "title_sidebar": "Contents",
   "toc_cell": true,
   "toc_position": {},
   "toc_section_display": true,
   "toc_window_display": false
  }
 },
 "nbformat": 4,
 "nbformat_minor": 5
}
