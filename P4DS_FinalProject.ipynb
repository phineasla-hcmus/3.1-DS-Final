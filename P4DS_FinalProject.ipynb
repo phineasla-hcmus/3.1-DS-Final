{
 "cells": [
  {
   "cell_type": "markdown",
   "id": "7e96dd60",
   "metadata": {},
   "source": [
    "# Lập trình cho khoa học dữ liệu: Đồ án cuối kỳ\n",
    "\n",
    "**Danh sách thành viên:**\n",
    "\n",
    "---\n",
    "Họ và tên: La Ngọc Hồng Phúc\n",
    "\n",
    "MSSV: 19127511\n",
    "\n",
    "---\n",
    "Họ và tên: Chung Thế Thọ\n",
    "\n",
    "MSSV: 19127562"
   ]
  },
  {
   "cell_type": "markdown",
   "id": "6832b23e",
   "metadata": {
    "toc": true
   },
   "source": [
    "<h1>Table of Contents<span class=\"tocSkip\"></span></h1>\n",
    "<div class=\"toc\"><ul class=\"toc-item\"><li><span><a href=\"#Lập-trình-cho-khoa-học-dữ-liệu:-Đồ-án-cuối-kỳ\" data-toc-modified-id=\"Lập-trình-cho-khoa-học-dữ-liệu:-Đồ-án-cuối-kỳ-1\">Lập trình cho khoa học dữ liệu: Đồ án cuối kỳ</a></span><ul class=\"toc-item\"><li><span><a href=\"#Môi-trường-code\" data-toc-modified-id=\"Môi-trường-code-1.1\">Môi trường code</a></span></li><li><span><a href=\"#Import-các-thư-viện-cần-thiết\" data-toc-modified-id=\"Import-các-thư-viện-cần-thiết-1.2\">Import các thư viện cần thiết</a></span></li><li><span><a href=\"#Thu-thập-dữ-liệu\" data-toc-modified-id=\"Thu-thập-dữ-liệu-1.3\">Thu thập dữ liệu</a></span></li><li><span><a href=\"#Khám-phá-dữ-liệu\" data-toc-modified-id=\"Khám-phá-dữ-liệu-1.4\">Khám phá dữ liệu</a></span><ul class=\"toc-item\"><li><span><a href=\"#Giải-nén-dữ-liệu\" data-toc-modified-id=\"Giải-nén-dữ-liệu-1.4.1\">Giải nén dữ liệu</a></span></li><li><span><a href=\"#Đọc-dữ-liệu-từ-file-csv-vào-dataframe\" data-toc-modified-id=\"Đọc-dữ-liệu-từ-file-csv-vào-dataframe-1.4.2\">Đọc dữ liệu từ file csv vào dataframe</a></span><ul class=\"toc-item\"><li><span><a href=\"#Tập-dữ-liệu-anime\" data-toc-modified-id=\"Tập-dữ-liệu-anime-1.4.2.1\">Tập dữ liệu anime</a></span></li><li><span><a href=\"#Tập-dữ-liệu-review\" data-toc-modified-id=\"Tập-dữ-liệu-review-1.4.2.2\">Tập dữ liệu review</a></span></li></ul></li><li><span><a href=\"#Mỗi-cột-có-ý-nghĩa-gì?\" data-toc-modified-id=\"Mỗi-cột-có-ý-nghĩa-gì?-1.4.3\">Mỗi cột có ý nghĩa gì?</a></span></li><li><span><a href=\"#Loại-bỏ-các-cột-không-dùng-đến\" data-toc-modified-id=\"Loại-bỏ-các-cột-không-dùng-đến-1.4.4\">Loại bỏ các cột không dùng đến</a></span><ul class=\"toc-item\"><li><span><a href=\"#Tập-dữ-liệu-rating\" data-toc-modified-id=\"Tập-dữ-liệu-rating-1.4.4.1\">Tập dữ liệu rating</a></span></li></ul></li><li><span><a href=\"#Số-dòng,-số-cột-của-tập-dữ-liệu\" data-toc-modified-id=\"Số-dòng,-số-cột-của-tập-dữ-liệu-1.4.5\">Số dòng, số cột của tập dữ liệu</a></span><ul class=\"toc-item\"><li><span><a href=\"#Tập-dữ-liệu-anime\" data-toc-modified-id=\"Tập-dữ-liệu-anime-1.4.5.1\">Tập dữ liệu anime</a></span></li><li><span><a href=\"#Tập-dữ-liệu-rating\" data-toc-modified-id=\"Tập-dữ-liệu-rating-1.4.5.2\">Tập dữ liệu rating</a></span></li><li><span><a href=\"#Nhận-xét:\" data-toc-modified-id=\"Nhận-xét:-1.4.5.3\">Nhận xét:</a></span></li></ul></li><li><span><a href=\"#Mỗi-dòng-có-ý-nghĩa-gì?-Có-vấn-đề-các-dòng-có-ý-nghĩa-khác-nhau-không?\" data-toc-modified-id=\"Mỗi-dòng-có-ý-nghĩa-gì?-Có-vấn-đề-các-dòng-có-ý-nghĩa-khác-nhau-không?-1.4.6\">Mỗi dòng có ý nghĩa gì? Có vấn đề các dòng có ý nghĩa khác nhau không?</a></span></li><li><span><a href=\"#Dữ-liệu-có-các-dòng-bị-lặp-không?\" data-toc-modified-id=\"Dữ-liệu-có-các-dòng-bị-lặp-không?-1.4.7\">Dữ liệu có các dòng bị lặp không?</a></span></li><li><span><a href=\"#Kiểu-dữ-liệu-của-từng-cột\" data-toc-modified-id=\"Kiểu-dữ-liệu-của-từng-cột-1.4.8\">Kiểu dữ liệu của từng cột</a></span><ul class=\"toc-item\"><li><span><a href=\"#Tập-dữ-liệu-anime\" data-toc-modified-id=\"Tập-dữ-liệu-anime-1.4.8.1\">Tập dữ liệu anime</a></span></li><li><span><a href=\"#Tập-dữ-liệu-review\" data-toc-modified-id=\"Tập-dữ-liệu-review-1.4.8.2\">Tập dữ liệu review</a></span></li></ul></li><li><span><a href=\"#Phân-tích-rõ-hơn-các-cột-có-kiểu-dữ-liệu-object\" data-toc-modified-id=\"Phân-tích-rõ-hơn-các-cột-có-kiểu-dữ-liệu-object-1.4.9\">Phân tích rõ hơn các cột có kiểu dữ liệu object</a></span><ul class=\"toc-item\"><li><span><a href=\"#Tập-dữ-liệu-anime\" data-toc-modified-id=\"Tập-dữ-liệu-anime-1.4.9.1\">Tập dữ liệu anime</a></span></li><li><span><a href=\"#Tập-dữ-liệu-review\" data-toc-modified-id=\"Tập-dữ-liệu-review-1.4.9.2\">Tập dữ liệu review</a></span></li></ul></li></ul></li><li><span><a href=\"#Tiền-xử-lý\" data-toc-modified-id=\"Tiền-xử-lý-1.5\">Tiền xử lý</a></span><ul class=\"toc-item\"><li><span><a href=\"#Loại-bỏ-các-dòng-bị-lặp\" data-toc-modified-id=\"Loại-bỏ-các-dòng-bị-lặp-1.5.1\">Loại bỏ các dòng bị lặp</a></span></li><li><span><a href=\"#Chuyển-dtype-cột-genre-sang-list-of-string\" data-toc-modified-id=\"Chuyển-dtype-cột-genre-sang-list-of-string-1.5.2\">Chuyển dtype cột genre sang list of string</a></span></li><li><span><a href=\"#Chuyển-dtype-cột-aired-sang-dữ-liệu-thích-hợp\" data-toc-modified-id=\"Chuyển-dtype-cột-aired-sang-dữ-liệu-thích-hợp-1.5.3\">Chuyển dtype cột <code>aired</code> sang dữ liệu thích hợp</a></span></li></ul></li><li><span><a href=\"#Khám-phá-dữ-liệu-(tiếp-tục)\" data-toc-modified-id=\"Khám-phá-dữ-liệu-(tiếp-tục)-1.6\">Khám phá dữ liệu (tiếp tục)</a></span><ul class=\"toc-item\"><li><span><a href=\"#Phân-bố-các-cột-dữ-liệu-dạng-numeric\" data-toc-modified-id=\"Phân-bố-các-cột-dữ-liệu-dạng-numeric-1.6.1\">Phân bố các cột dữ liệu dạng numeric</a></span><ul class=\"toc-item\"><li><span><a href=\"#Tập-dữ-liệu-anime\" data-toc-modified-id=\"Tập-dữ-liệu-anime-1.6.1.1\">Tập dữ liệu anime</a></span></li><li><span><a href=\"#Tập-dữ-liệu-review\" data-toc-modified-id=\"Tập-dữ-liệu-review-1.6.1.2\">Tập dữ liệu review</a></span></li></ul></li><li><span><a href=\"#Phân-bố-các-cột-dữ-liệu-dạng-categorical\" data-toc-modified-id=\"Phân-bố-các-cột-dữ-liệu-dạng-categorical-1.6.2\">Phân bố các cột dữ liệu dạng categorical</a></span><ul class=\"toc-item\"><li><span><a href=\"#Tập-dữ-liệu-anime\" data-toc-modified-id=\"Tập-dữ-liệu-anime-1.6.2.1\">Tập dữ liệu anime</a></span></li><li><span><a href=\"#Tập-dữ-liệu-review\" data-toc-modified-id=\"Tập-dữ-liệu-review-1.6.2.2\">Tập dữ liệu review</a></span></li></ul></li><li><span><a href=\"#Khám-phá-thêm-(nếu-có)\" data-toc-modified-id=\"Khám-phá-thêm-(nếu-có)-1.6.3\">Khám phá thêm (nếu có)</a></span></li></ul></li><li><span><a href=\"#Đưa-ra-các-câu-hỏi-cần-trả-lời\" data-toc-modified-id=\"Đưa-ra-các-câu-hỏi-cần-trả-lời-1.7\">Đưa ra các câu hỏi cần trả lời</a></span></li></ul></li></ul></div>"
   ]
  },
  {
   "cell_type": "markdown",
   "id": "5e79806d",
   "metadata": {},
   "source": [
    "## Môi trường code"
   ]
  },
  {
   "cell_type": "code",
   "execution_count": 30,
   "id": "4ce0039b",
   "metadata": {
    "scrolled": true
   },
   "outputs": [
    {
     "data": {
      "text/plain": [
       "'/home/stazjac/anaconda3/envs/min_ds-env/bin/python'"
      ]
     },
     "execution_count": 30,
     "metadata": {},
     "output_type": "execute_result"
    }
   ],
   "source": [
    "import sys\n",
    "sys.executable"
   ]
  },
  {
   "cell_type": "markdown",
   "id": "d97a9cde",
   "metadata": {},
   "source": [
    "## Import các thư viện cần thiết"
   ]
  },
  {
   "cell_type": "code",
   "execution_count": 226,
   "id": "f0cb61f2",
   "metadata": {},
   "outputs": [],
   "source": [
    "# Import thư viện cần dùng\n",
    "import os\n",
    "import ast\n",
    "import zipfile\n",
    "import numpy as np\n",
    "import pandas as pd\n",
    "import matplotlib.pyplot as plt"
   ]
  },
  {
   "cell_type": "markdown",
   "id": "cb98b004",
   "metadata": {},
   "source": [
    "## Thu thập dữ liệu\n",
    "\n",
    "Trong đồ án này, ta sẽ sử dụng tập dữ liệu có sẵn đến từ 2 file mà người ta đã thu thập trên kaggle là `animes.csv` và `reviews.csv`. Theo như mô tả của người thu thập dữ liệu thì ta có khoảng 16000 anime và 130000 bài review về các anime này. Cách thức thu thập dữ liệu của người này là dùng API do trang myanimelist.net cung cấp, cụ thể chi tiết về chương trình crawler mà anh ta viết có thể được xem ở link này:  https://github.com/marlesson/scrapy_myanimelist\n",
    "\n",
    "Link của tập dữ liệu: [Anime Dataset with Reviews - MyAnimeList](https://www.kaggle.com/marlesson/myanimelist-dataset-animes-profiles-reviews) ([https://www.kaggle.com/marlesson/myanimelist-dataset-animes-profiles-reviews](https://www.kaggle.com/marlesson/myanimelist-dataset-animes-profiles-reviews))"
   ]
  },
  {
   "cell_type": "markdown",
   "id": "fee81e52",
   "metadata": {},
   "source": [
    "---"
   ]
  },
  {
   "cell_type": "markdown",
   "id": "84f0e610",
   "metadata": {},
   "source": [
    "## Khám phá dữ liệu"
   ]
  },
  {
   "cell_type": "markdown",
   "id": "f981487a",
   "metadata": {},
   "source": [
    "### Giải nén dữ liệu\n",
    "Sau khi tải tập dữ liệu về, chúng ta cần giải nén và tiền xử lý chúng"
   ]
  },
  {
   "cell_type": "code",
   "execution_count": 32,
   "id": "ac4408cd",
   "metadata": {},
   "outputs": [
    {
     "data": {
      "text/html": [
       "<div>\n",
       "<style scoped>\n",
       "    .dataframe tbody tr th:only-of-type {\n",
       "        vertical-align: middle;\n",
       "    }\n",
       "\n",
       "    .dataframe tbody tr th {\n",
       "        vertical-align: top;\n",
       "    }\n",
       "\n",
       "    .dataframe thead th {\n",
       "        text-align: right;\n",
       "    }\n",
       "</style>\n",
       "<table border=\"1\" class=\"dataframe\">\n",
       "  <thead>\n",
       "    <tr style=\"text-align: right;\">\n",
       "      <th></th>\n",
       "      <th>File Name</th>\n",
       "      <th>Size (MB)</th>\n",
       "    </tr>\n",
       "  </thead>\n",
       "  <tbody>\n",
       "    <tr>\n",
       "      <th>0</th>\n",
       "      <td>reviews.csv</td>\n",
       "      <td>654.141182</td>\n",
       "    </tr>\n",
       "    <tr>\n",
       "      <th>1</th>\n",
       "      <td>animes.csv</td>\n",
       "      <td>11.514027</td>\n",
       "    </tr>\n",
       "    <tr>\n",
       "      <th>2</th>\n",
       "      <td>profiles.csv</td>\n",
       "      <td>8.262743</td>\n",
       "    </tr>\n",
       "  </tbody>\n",
       "</table>\n",
       "</div>"
      ],
      "text/plain": [
       "      File Name   Size (MB)\n",
       "0   reviews.csv  654.141182\n",
       "1    animes.csv   11.514027\n",
       "2  profiles.csv    8.262743"
      ]
     },
     "execution_count": 32,
     "metadata": {},
     "output_type": "execute_result"
    }
   ],
   "source": [
    "ZIP_FILE = 'archive.zip'\n",
    "DATA_DIR = os.path.join(os.getcwd(), 'data')\n",
    "ANIME_CSV = os.path.join(DATA_DIR, 'animes.csv')\n",
    "REVIEW_CSV = os.path.join(DATA_DIR, 'reviews.csv')\n",
    "\n",
    "OVERWRITE = False\n",
    "\n",
    "def extractall():\n",
    "    with zipfile.ZipFile(ZIP_FILE, 'r') as zip_ref:\n",
    "        zip_ref.extractall(DATA_DIR)\n",
    "\n",
    "def file_sizes(pathdir):\n",
    "    join = os.path.join\n",
    "    getsize = os.path.getsize\n",
    "    isfile = lambda f: os.path.isfile(join(pathdir, f))\n",
    "    files = filter(isfile, os.listdir(pathdir))\n",
    "    fsizes = [(f, getsize(join(pathdir, f)) / 1024 ** 2) for f in files]\n",
    "    return pd.DataFrame(fsizes, columns=['File Name', 'Size (MB)'])\n",
    "\n",
    "if OVERWRITE or not os.path.isdir(DATA_DIR) or not os.listdir(DATA_DIR):\n",
    "    extractall()\n",
    "\n",
    "file_sizes(DATA_DIR)"
   ]
  },
  {
   "cell_type": "markdown",
   "id": "da27e8ab",
   "metadata": {},
   "source": [
    "### Đọc dữ liệu từ file csv vào dataframe"
   ]
  },
  {
   "cell_type": "markdown",
   "id": "4ff51c37",
   "metadata": {},
   "source": [
    "#### Tập dữ liệu anime"
   ]
  },
  {
   "cell_type": "code",
   "execution_count": 236,
   "id": "13b70f33",
   "metadata": {},
   "outputs": [
    {
     "data": {
      "text/html": [
       "<div>\n",
       "<style scoped>\n",
       "    .dataframe tbody tr th:only-of-type {\n",
       "        vertical-align: middle;\n",
       "    }\n",
       "\n",
       "    .dataframe tbody tr th {\n",
       "        vertical-align: top;\n",
       "    }\n",
       "\n",
       "    .dataframe thead th {\n",
       "        text-align: right;\n",
       "    }\n",
       "</style>\n",
       "<table border=\"1\" class=\"dataframe\">\n",
       "  <thead>\n",
       "    <tr style=\"text-align: right;\">\n",
       "      <th></th>\n",
       "      <th>uid</th>\n",
       "      <th>title</th>\n",
       "      <th>synopsis</th>\n",
       "      <th>genre</th>\n",
       "      <th>aired</th>\n",
       "      <th>episodes</th>\n",
       "      <th>members</th>\n",
       "      <th>popularity</th>\n",
       "      <th>ranked</th>\n",
       "      <th>score</th>\n",
       "      <th>img_url</th>\n",
       "      <th>link</th>\n",
       "    </tr>\n",
       "  </thead>\n",
       "  <tbody>\n",
       "    <tr>\n",
       "      <th>0</th>\n",
       "      <td>28891</td>\n",
       "      <td>Haikyuu!! Second Season</td>\n",
       "      <td>Following their participation at the Inter-Hig...</td>\n",
       "      <td>['Comedy', 'Sports', 'Drama', 'School', 'Shoun...</td>\n",
       "      <td>Oct 4, 2015 to Mar 27, 2016</td>\n",
       "      <td>25</td>\n",
       "      <td>489888</td>\n",
       "      <td>141</td>\n",
       "      <td>25</td>\n",
       "      <td>9</td>\n",
       "      <td>https://cdn.myanimelist.net/images/anime/9/766...</td>\n",
       "      <td>https://myanimelist.net/anime/28891/Haikyuu_Se...</td>\n",
       "    </tr>\n",
       "    <tr>\n",
       "      <th>1</th>\n",
       "      <td>23273</td>\n",
       "      <td>Shigatsu wa Kimi no Uso</td>\n",
       "      <td>Music accompanies the path of the human metron...</td>\n",
       "      <td>['Drama', 'Music', 'Romance', 'School', 'Shoun...</td>\n",
       "      <td>Oct 10, 2014 to Mar 20, 2015</td>\n",
       "      <td>22</td>\n",
       "      <td>995473</td>\n",
       "      <td>28</td>\n",
       "      <td>24</td>\n",
       "      <td>9</td>\n",
       "      <td>https://cdn.myanimelist.net/images/anime/3/671...</td>\n",
       "      <td>https://myanimelist.net/anime/23273/Shigatsu_w...</td>\n",
       "    </tr>\n",
       "    <tr>\n",
       "      <th>2</th>\n",
       "      <td>34599</td>\n",
       "      <td>Made in Abyss</td>\n",
       "      <td>The Abyss—a gaping chasm stretching down into ...</td>\n",
       "      <td>['Sci-Fi', 'Adventure', 'Mystery', 'Drama', 'F...</td>\n",
       "      <td>Jul 7, 2017 to Sep 29, 2017</td>\n",
       "      <td>13</td>\n",
       "      <td>581663</td>\n",
       "      <td>98</td>\n",
       "      <td>23</td>\n",
       "      <td>9</td>\n",
       "      <td>https://cdn.myanimelist.net/images/anime/6/867...</td>\n",
       "      <td>https://myanimelist.net/anime/34599/Made_in_Abyss</td>\n",
       "    </tr>\n",
       "    <tr>\n",
       "      <th>3</th>\n",
       "      <td>5114</td>\n",
       "      <td>Fullmetal Alchemist: Brotherhood</td>\n",
       "      <td>\"In order for something to be obtained, someth...</td>\n",
       "      <td>['Action', 'Military', 'Adventure', 'Comedy', ...</td>\n",
       "      <td>Apr 5, 2009 to Jul 4, 2010</td>\n",
       "      <td>64</td>\n",
       "      <td>1615084</td>\n",
       "      <td>4</td>\n",
       "      <td>1</td>\n",
       "      <td>9</td>\n",
       "      <td>https://cdn.myanimelist.net/images/anime/1223/...</td>\n",
       "      <td>https://myanimelist.net/anime/5114/Fullmetal_A...</td>\n",
       "    </tr>\n",
       "    <tr>\n",
       "      <th>4</th>\n",
       "      <td>31758</td>\n",
       "      <td>Kizumonogatari III: Reiketsu-hen</td>\n",
       "      <td>After helping revive the legendary vampire Kis...</td>\n",
       "      <td>['Action', 'Mystery', 'Supernatural', 'Vampire']</td>\n",
       "      <td>Jan 6, 2017</td>\n",
       "      <td>1</td>\n",
       "      <td>214621</td>\n",
       "      <td>502</td>\n",
       "      <td>22</td>\n",
       "      <td>9</td>\n",
       "      <td>https://cdn.myanimelist.net/images/anime/3/815...</td>\n",
       "      <td>https://myanimelist.net/anime/31758/Kizumonoga...</td>\n",
       "    </tr>\n",
       "  </tbody>\n",
       "</table>\n",
       "</div>"
      ],
      "text/plain": [
       "     uid                             title  \\\n",
       "0  28891           Haikyuu!! Second Season   \n",
       "1  23273           Shigatsu wa Kimi no Uso   \n",
       "2  34599                     Made in Abyss   \n",
       "3   5114  Fullmetal Alchemist: Brotherhood   \n",
       "4  31758  Kizumonogatari III: Reiketsu-hen   \n",
       "\n",
       "                                            synopsis  \\\n",
       "0  Following their participation at the Inter-Hig...   \n",
       "1  Music accompanies the path of the human metron...   \n",
       "2  The Abyss—a gaping chasm stretching down into ...   \n",
       "3  \"In order for something to be obtained, someth...   \n",
       "4  After helping revive the legendary vampire Kis...   \n",
       "\n",
       "                                               genre  \\\n",
       "0  ['Comedy', 'Sports', 'Drama', 'School', 'Shoun...   \n",
       "1  ['Drama', 'Music', 'Romance', 'School', 'Shoun...   \n",
       "2  ['Sci-Fi', 'Adventure', 'Mystery', 'Drama', 'F...   \n",
       "3  ['Action', 'Military', 'Adventure', 'Comedy', ...   \n",
       "4   ['Action', 'Mystery', 'Supernatural', 'Vampire']   \n",
       "\n",
       "                          aired  episodes  members  popularity  ranked  score  \\\n",
       "0   Oct 4, 2015 to Mar 27, 2016        25   489888         141      25      9   \n",
       "1  Oct 10, 2014 to Mar 20, 2015        22   995473          28      24      9   \n",
       "2   Jul 7, 2017 to Sep 29, 2017        13   581663          98      23      9   \n",
       "3    Apr 5, 2009 to Jul 4, 2010        64  1615084           4       1      9   \n",
       "4                   Jan 6, 2017         1   214621         502      22      9   \n",
       "\n",
       "                                             img_url  \\\n",
       "0  https://cdn.myanimelist.net/images/anime/9/766...   \n",
       "1  https://cdn.myanimelist.net/images/anime/3/671...   \n",
       "2  https://cdn.myanimelist.net/images/anime/6/867...   \n",
       "3  https://cdn.myanimelist.net/images/anime/1223/...   \n",
       "4  https://cdn.myanimelist.net/images/anime/3/815...   \n",
       "\n",
       "                                                link  \n",
       "0  https://myanimelist.net/anime/28891/Haikyuu_Se...  \n",
       "1  https://myanimelist.net/anime/23273/Shigatsu_w...  \n",
       "2  https://myanimelist.net/anime/34599/Made_in_Abyss  \n",
       "3  https://myanimelist.net/anime/5114/Fullmetal_A...  \n",
       "4  https://myanimelist.net/anime/31758/Kizumonoga...  "
      ]
     },
     "execution_count": 236,
     "metadata": {},
     "output_type": "execute_result"
    }
   ],
   "source": [
    "anime_df = pd.read_csv(ANIME_CSV)\n",
    "anime_df.head()"
   ]
  },
  {
   "cell_type": "markdown",
   "id": "90bf78f3",
   "metadata": {},
   "source": [
    "#### Tập dữ liệu review\n",
    "\n",
    "Giải nén xong thì mình thấy file `reviews.csv` tới gần 700MB, nên mình sẽ không load trực tiếp mà sẽ xem trước có cái nào có thể lược bỏ để giảm bớt dung lượng"
   ]
  },
  {
   "cell_type": "code",
   "execution_count": 34,
   "id": "ae9d9bc7",
   "metadata": {},
   "outputs": [
    {
     "data": {
      "text/html": [
       "<div>\n",
       "<style scoped>\n",
       "    .dataframe tbody tr th:only-of-type {\n",
       "        vertical-align: middle;\n",
       "    }\n",
       "\n",
       "    .dataframe tbody tr th {\n",
       "        vertical-align: top;\n",
       "    }\n",
       "\n",
       "    .dataframe thead th {\n",
       "        text-align: right;\n",
       "    }\n",
       "</style>\n",
       "<table border=\"1\" class=\"dataframe\">\n",
       "  <thead>\n",
       "    <tr style=\"text-align: right;\">\n",
       "      <th></th>\n",
       "      <th>uid</th>\n",
       "      <th>profile</th>\n",
       "      <th>anime_uid</th>\n",
       "      <th>text</th>\n",
       "      <th>score</th>\n",
       "      <th>scores</th>\n",
       "      <th>link</th>\n",
       "    </tr>\n",
       "  </thead>\n",
       "  <tbody>\n",
       "    <tr>\n",
       "      <th>0</th>\n",
       "      <td>255938</td>\n",
       "      <td>DesolatePsyche</td>\n",
       "      <td>34096</td>\n",
       "      <td>\\n           \\n         \\n           \\n       ...</td>\n",
       "      <td>8</td>\n",
       "      <td>{'Overall': '8', 'Story': '8', 'Animation': '8...</td>\n",
       "      <td>https://myanimelist.net/reviews.php?id=255938</td>\n",
       "    </tr>\n",
       "    <tr>\n",
       "      <th>1</th>\n",
       "      <td>259117</td>\n",
       "      <td>baekbeans</td>\n",
       "      <td>34599</td>\n",
       "      <td>\\n           \\n         \\n           \\n       ...</td>\n",
       "      <td>10</td>\n",
       "      <td>{'Overall': '10', 'Story': '10', 'Animation': ...</td>\n",
       "      <td>https://myanimelist.net/reviews.php?id=259117</td>\n",
       "    </tr>\n",
       "    <tr>\n",
       "      <th>2</th>\n",
       "      <td>253664</td>\n",
       "      <td>skrn</td>\n",
       "      <td>28891</td>\n",
       "      <td>\\n           \\n         \\n           \\n       ...</td>\n",
       "      <td>7</td>\n",
       "      <td>{'Overall': '7', 'Story': '7', 'Animation': '9...</td>\n",
       "      <td>https://myanimelist.net/reviews.php?id=253664</td>\n",
       "    </tr>\n",
       "    <tr>\n",
       "      <th>3</th>\n",
       "      <td>8254</td>\n",
       "      <td>edgewalker00</td>\n",
       "      <td>2904</td>\n",
       "      <td>\\n           \\n         \\n           \\n       ...</td>\n",
       "      <td>9</td>\n",
       "      <td>{'Overall': '9', 'Story': '9', 'Animation': '9...</td>\n",
       "      <td>https://myanimelist.net/reviews.php?id=8254</td>\n",
       "    </tr>\n",
       "    <tr>\n",
       "      <th>4</th>\n",
       "      <td>291149</td>\n",
       "      <td>aManOfCulture99</td>\n",
       "      <td>4181</td>\n",
       "      <td>\\n           \\n         \\n           \\n       ...</td>\n",
       "      <td>10</td>\n",
       "      <td>{'Overall': '10', 'Story': '10', 'Animation': ...</td>\n",
       "      <td>https://myanimelist.net/reviews.php?id=291149</td>\n",
       "    </tr>\n",
       "  </tbody>\n",
       "</table>\n",
       "</div>"
      ],
      "text/plain": [
       "      uid          profile  anime_uid  \\\n",
       "0  255938   DesolatePsyche      34096   \n",
       "1  259117        baekbeans      34599   \n",
       "2  253664             skrn      28891   \n",
       "3    8254     edgewalker00       2904   \n",
       "4  291149  aManOfCulture99       4181   \n",
       "\n",
       "                                                text  score  \\\n",
       "0  \\n           \\n         \\n           \\n       ...      8   \n",
       "1  \\n           \\n         \\n           \\n       ...     10   \n",
       "2  \\n           \\n         \\n           \\n       ...      7   \n",
       "3  \\n           \\n         \\n           \\n       ...      9   \n",
       "4  \\n           \\n         \\n           \\n       ...     10   \n",
       "\n",
       "                                              scores  \\\n",
       "0  {'Overall': '8', 'Story': '8', 'Animation': '8...   \n",
       "1  {'Overall': '10', 'Story': '10', 'Animation': ...   \n",
       "2  {'Overall': '7', 'Story': '7', 'Animation': '9...   \n",
       "3  {'Overall': '9', 'Story': '9', 'Animation': '9...   \n",
       "4  {'Overall': '10', 'Story': '10', 'Animation': ...   \n",
       "\n",
       "                                            link  \n",
       "0  https://myanimelist.net/reviews.php?id=255938  \n",
       "1  https://myanimelist.net/reviews.php?id=259117  \n",
       "2  https://myanimelist.net/reviews.php?id=253664  \n",
       "3    https://myanimelist.net/reviews.php?id=8254  \n",
       "4  https://myanimelist.net/reviews.php?id=291149  "
      ]
     },
     "execution_count": 34,
     "metadata": {},
     "output_type": "execute_result"
    }
   ],
   "source": [
    "pd.read_csv(REVIEW_CSV, nrows=5)"
   ]
  },
  {
   "cell_type": "markdown",
   "id": "8d50a925",
   "metadata": {},
   "source": [
    "### Mỗi cột có ý nghĩa gì?"
   ]
  },
  {
   "cell_type": "markdown",
   "id": "28f21e6b",
   "metadata": {},
   "source": [
    "Mô tả trên kaggle về các cột trong file `animes.csv`:\n",
    "- **uid**: ID của anime\n",
    "- **title**: tiêu đề của anime\n",
    "- **synopsis**: giới thiệu nội dung của anime\n",
    "- **genre**: thể loại của anime\n",
    "- **aired**: ngày phát hành anime và ngày kết thúc của nó (nếu có)\n",
    "- **episodes**: tổng số tập của anime\n",
    "- **members**: tổng số thành viên trong cộng đồng quan tâm anime này\n",
    "- **popularity**: độ \"nổi tiếng\" của anime, số càng thấp thì càng nổi tiếng\n",
    "- **ranked**: xếp hạng của anime, số càng thấp hạng càng cao và anime đó càng hay\n",
    "- **score**: điểm đánh giá anime trên thang điểm 10 từ trang myanimelist\n",
    "- **img_url**: link ảnh bìa của anime\n",
    "- **link**: link đến anime trên myanimelist"
   ]
  },
  {
   "cell_type": "markdown",
   "id": "0bd7c0de",
   "metadata": {},
   "source": [
    "Mô tả trên kaggle về các cột trong file `reviews.csv`:\n",
    "- **uid**: ID của bài review\n",
    "- **profile**: tên của user thực hiện review\n",
    "- **anime_uid**: ID của anime được review\n",
    "- **text**: đoạn văn nội dung mà user đó review\n",
    "- **score**: điểm tổng quát user này đã đánh giá cho anime\n",
    "- **scores**: điểm chi tiết từng phần mà user này đã đánh giá cho anime bao gồm\n",
    "    - Overall: điểm tổng\n",
    "    - Story: cốt truyện\n",
    "    - Animation: đồ họa, nét vẽ\n",
    "    - Sound: âm thanh\n",
    "    - Character: xây dựng nhân vật\n",
    "    - Enjoyment: độ giải trí\n",
    "- **link**: đường dẫn URL đến bài review này"
   ]
  },
  {
   "cell_type": "markdown",
   "id": "932a870d",
   "metadata": {},
   "source": [
    "### Loại bỏ các cột không dùng đến\n",
    "\n",
    "Trong phạm vi môn học, mình sẽ bỏ qua các cột cần dùng đến kỹ thuật xử lý ngôn ngữ tự nhiên cũng như các cột liên quan đến URL. Việc bỏ các cột này giúp ta chạy code nhanh hơn vì các cột này rất nặng. Như vậy đối với mỗi tập dữ liệu sẽ bỏ các cột sau:\n",
    "\n",
    "- **anime**: synopsis, img_url, link\n",
    "- **review**: text, link  \n",
    "\n",
    "Đối với **review** thì do file khá lớn nên mình sẽ load theo từng chunk, loại bỏ các cột không cần thiết và lưu nó vào file `ratings.csv`"
   ]
  },
  {
   "cell_type": "code",
   "execution_count": 36,
   "id": "d6c990dd",
   "metadata": {},
   "outputs": [
    {
     "name": "stdout",
     "output_type": "stream",
     "text": [
      "File name: ratings.csv\n",
      "Size (MB): 23.345977783203125\n"
     ]
    }
   ],
   "source": [
    "# Loại bỏ cột text và link trong review\n",
    "RATING_CSV = os.path.join(DATA_DIR, 'ratings.csv')\n",
    "\n",
    "def review_to_rating():\n",
    "    is_first = True\n",
    "    for chunk in pd.read_csv(REVIEW_CSV, chunksize=1000):\n",
    "        chunk.drop(columns=['text', 'link'], inplace=True)\n",
    "        chunk.to_csv(RATING_CSV, mode='a', index=False, header=is_first)\n",
    "        is_first = False\n",
    "\n",
    "if not os.path.isfile(RATING_CSV):\n",
    "    review_to_rating()\n",
    "\n",
    "print(\"File name: ratings.csv\")\n",
    "print(\"Size (MB):\", os.path.getsize(RATING_CSV) / 1024 ** 2)"
   ]
  },
  {
   "cell_type": "markdown",
   "id": "f191697e",
   "metadata": {},
   "source": [
    "#### Tập dữ liệu rating"
   ]
  },
  {
   "cell_type": "code",
   "execution_count": 37,
   "id": "46df77ee",
   "metadata": {},
   "outputs": [
    {
     "data": {
      "text/html": [
       "<div>\n",
       "<style scoped>\n",
       "    .dataframe tbody tr th:only-of-type {\n",
       "        vertical-align: middle;\n",
       "    }\n",
       "\n",
       "    .dataframe tbody tr th {\n",
       "        vertical-align: top;\n",
       "    }\n",
       "\n",
       "    .dataframe thead th {\n",
       "        text-align: right;\n",
       "    }\n",
       "</style>\n",
       "<table border=\"1\" class=\"dataframe\">\n",
       "  <thead>\n",
       "    <tr style=\"text-align: right;\">\n",
       "      <th></th>\n",
       "      <th>uid</th>\n",
       "      <th>profile</th>\n",
       "      <th>anime_uid</th>\n",
       "      <th>score</th>\n",
       "      <th>scores</th>\n",
       "    </tr>\n",
       "  </thead>\n",
       "  <tbody>\n",
       "    <tr>\n",
       "      <th>0</th>\n",
       "      <td>255938</td>\n",
       "      <td>DesolatePsyche</td>\n",
       "      <td>34096</td>\n",
       "      <td>8</td>\n",
       "      <td>{'Overall': '8', 'Story': '8', 'Animation': '8...</td>\n",
       "    </tr>\n",
       "    <tr>\n",
       "      <th>1</th>\n",
       "      <td>259117</td>\n",
       "      <td>baekbeans</td>\n",
       "      <td>34599</td>\n",
       "      <td>10</td>\n",
       "      <td>{'Overall': '10', 'Story': '10', 'Animation': ...</td>\n",
       "    </tr>\n",
       "    <tr>\n",
       "      <th>2</th>\n",
       "      <td>253664</td>\n",
       "      <td>skrn</td>\n",
       "      <td>28891</td>\n",
       "      <td>7</td>\n",
       "      <td>{'Overall': '7', 'Story': '7', 'Animation': '9...</td>\n",
       "    </tr>\n",
       "    <tr>\n",
       "      <th>3</th>\n",
       "      <td>8254</td>\n",
       "      <td>edgewalker00</td>\n",
       "      <td>2904</td>\n",
       "      <td>9</td>\n",
       "      <td>{'Overall': '9', 'Story': '9', 'Animation': '9...</td>\n",
       "    </tr>\n",
       "    <tr>\n",
       "      <th>4</th>\n",
       "      <td>291149</td>\n",
       "      <td>aManOfCulture99</td>\n",
       "      <td>4181</td>\n",
       "      <td>10</td>\n",
       "      <td>{'Overall': '10', 'Story': '10', 'Animation': ...</td>\n",
       "    </tr>\n",
       "  </tbody>\n",
       "</table>\n",
       "</div>"
      ],
      "text/plain": [
       "      uid          profile  anime_uid  score  \\\n",
       "0  255938   DesolatePsyche      34096      8   \n",
       "1  259117        baekbeans      34599     10   \n",
       "2  253664             skrn      28891      7   \n",
       "3    8254     edgewalker00       2904      9   \n",
       "4  291149  aManOfCulture99       4181     10   \n",
       "\n",
       "                                              scores  \n",
       "0  {'Overall': '8', 'Story': '8', 'Animation': '8...  \n",
       "1  {'Overall': '10', 'Story': '10', 'Animation': ...  \n",
       "2  {'Overall': '7', 'Story': '7', 'Animation': '9...  \n",
       "3  {'Overall': '9', 'Story': '9', 'Animation': '9...  \n",
       "4  {'Overall': '10', 'Story': '10', 'Animation': ...  "
      ]
     },
     "execution_count": 37,
     "metadata": {},
     "output_type": "execute_result"
    }
   ],
   "source": [
    "rating_df = pd.read_csv(RATING_CSV)\n",
    "rating_df.head()"
   ]
  },
  {
   "cell_type": "markdown",
   "id": "5bef9716",
   "metadata": {},
   "source": [
    "So với file `reviews.csv` thì file `ratings.csv` nhỏ hơn rất nhiều, có thể load vào DataFrame mà không cần chia chunk nữa"
   ]
  },
  {
   "cell_type": "code",
   "execution_count": 38,
   "id": "30fa3330",
   "metadata": {},
   "outputs": [
    {
     "data": {
      "text/html": [
       "<div>\n",
       "<style scoped>\n",
       "    .dataframe tbody tr th:only-of-type {\n",
       "        vertical-align: middle;\n",
       "    }\n",
       "\n",
       "    .dataframe tbody tr th {\n",
       "        vertical-align: top;\n",
       "    }\n",
       "\n",
       "    .dataframe thead th {\n",
       "        text-align: right;\n",
       "    }\n",
       "</style>\n",
       "<table border=\"1\" class=\"dataframe\">\n",
       "  <thead>\n",
       "    <tr style=\"text-align: right;\">\n",
       "      <th></th>\n",
       "      <th>uid</th>\n",
       "      <th>title</th>\n",
       "      <th>genre</th>\n",
       "      <th>aired</th>\n",
       "      <th>episodes</th>\n",
       "      <th>members</th>\n",
       "      <th>popularity</th>\n",
       "      <th>ranked</th>\n",
       "      <th>score</th>\n",
       "    </tr>\n",
       "  </thead>\n",
       "  <tbody>\n",
       "    <tr>\n",
       "      <th>0</th>\n",
       "      <td>28891</td>\n",
       "      <td>Haikyuu!! Second Season</td>\n",
       "      <td>['Comedy', 'Sports', 'Drama', 'School', 'Shoun...</td>\n",
       "      <td>Oct 4, 2015 to Mar 27, 2016</td>\n",
       "      <td>25.0</td>\n",
       "      <td>489888</td>\n",
       "      <td>141</td>\n",
       "      <td>25.0</td>\n",
       "      <td>8.82</td>\n",
       "    </tr>\n",
       "    <tr>\n",
       "      <th>1</th>\n",
       "      <td>23273</td>\n",
       "      <td>Shigatsu wa Kimi no Uso</td>\n",
       "      <td>['Drama', 'Music', 'Romance', 'School', 'Shoun...</td>\n",
       "      <td>Oct 10, 2014 to Mar 20, 2015</td>\n",
       "      <td>22.0</td>\n",
       "      <td>995473</td>\n",
       "      <td>28</td>\n",
       "      <td>24.0</td>\n",
       "      <td>8.83</td>\n",
       "    </tr>\n",
       "    <tr>\n",
       "      <th>2</th>\n",
       "      <td>34599</td>\n",
       "      <td>Made in Abyss</td>\n",
       "      <td>['Sci-Fi', 'Adventure', 'Mystery', 'Drama', 'F...</td>\n",
       "      <td>Jul 7, 2017 to Sep 29, 2017</td>\n",
       "      <td>13.0</td>\n",
       "      <td>581663</td>\n",
       "      <td>98</td>\n",
       "      <td>23.0</td>\n",
       "      <td>8.83</td>\n",
       "    </tr>\n",
       "    <tr>\n",
       "      <th>3</th>\n",
       "      <td>5114</td>\n",
       "      <td>Fullmetal Alchemist: Brotherhood</td>\n",
       "      <td>['Action', 'Military', 'Adventure', 'Comedy', ...</td>\n",
       "      <td>Apr 5, 2009 to Jul 4, 2010</td>\n",
       "      <td>64.0</td>\n",
       "      <td>1615084</td>\n",
       "      <td>4</td>\n",
       "      <td>1.0</td>\n",
       "      <td>9.23</td>\n",
       "    </tr>\n",
       "    <tr>\n",
       "      <th>4</th>\n",
       "      <td>31758</td>\n",
       "      <td>Kizumonogatari III: Reiketsu-hen</td>\n",
       "      <td>['Action', 'Mystery', 'Supernatural', 'Vampire']</td>\n",
       "      <td>Jan 6, 2017</td>\n",
       "      <td>1.0</td>\n",
       "      <td>214621</td>\n",
       "      <td>502</td>\n",
       "      <td>22.0</td>\n",
       "      <td>8.83</td>\n",
       "    </tr>\n",
       "  </tbody>\n",
       "</table>\n",
       "</div>"
      ],
      "text/plain": [
       "     uid                             title  \\\n",
       "0  28891           Haikyuu!! Second Season   \n",
       "1  23273           Shigatsu wa Kimi no Uso   \n",
       "2  34599                     Made in Abyss   \n",
       "3   5114  Fullmetal Alchemist: Brotherhood   \n",
       "4  31758  Kizumonogatari III: Reiketsu-hen   \n",
       "\n",
       "                                               genre  \\\n",
       "0  ['Comedy', 'Sports', 'Drama', 'School', 'Shoun...   \n",
       "1  ['Drama', 'Music', 'Romance', 'School', 'Shoun...   \n",
       "2  ['Sci-Fi', 'Adventure', 'Mystery', 'Drama', 'F...   \n",
       "3  ['Action', 'Military', 'Adventure', 'Comedy', ...   \n",
       "4   ['Action', 'Mystery', 'Supernatural', 'Vampire']   \n",
       "\n",
       "                          aired  episodes  members  popularity  ranked  score  \n",
       "0   Oct 4, 2015 to Mar 27, 2016      25.0   489888         141    25.0   8.82  \n",
       "1  Oct 10, 2014 to Mar 20, 2015      22.0   995473          28    24.0   8.83  \n",
       "2   Jul 7, 2017 to Sep 29, 2017      13.0   581663          98    23.0   8.83  \n",
       "3    Apr 5, 2009 to Jul 4, 2010      64.0  1615084           4     1.0   9.23  \n",
       "4                   Jan 6, 2017       1.0   214621         502    22.0   8.83  "
      ]
     },
     "execution_count": 38,
     "metadata": {},
     "output_type": "execute_result"
    }
   ],
   "source": [
    "# Loại bỏ cột synopsis, img_url, link trong anime\n",
    "anime_df.drop(columns=['synopsis', 'img_url', 'link'], inplace=True)\n",
    "anime_df.head()"
   ]
  },
  {
   "cell_type": "markdown",
   "id": "b94ea348",
   "metadata": {},
   "source": [
    "### Số dòng, số cột của tập dữ liệu"
   ]
  },
  {
   "cell_type": "markdown",
   "id": "8476bb04",
   "metadata": {},
   "source": [
    "#### Tập dữ liệu anime"
   ]
  },
  {
   "cell_type": "code",
   "execution_count": 39,
   "id": "212b0edc",
   "metadata": {},
   "outputs": [
    {
     "name": "stdout",
     "output_type": "stream",
     "text": [
      "Số dòng: 19311\n",
      "Số cột: 9\n"
     ]
    }
   ],
   "source": [
    "anime_num_rows, anime_num_cols = anime_df.shape\n",
    "print('Số dòng:', anime_num_rows)\n",
    "print('Số cột:', anime_num_cols)"
   ]
  },
  {
   "cell_type": "markdown",
   "id": "d8690053",
   "metadata": {},
   "source": [
    "#### Tập dữ liệu rating"
   ]
  },
  {
   "cell_type": "code",
   "execution_count": 40,
   "id": "aa62a6ce",
   "metadata": {},
   "outputs": [
    {
     "name": "stdout",
     "output_type": "stream",
     "text": [
      "Số dòng: 192112\n",
      "Số cột: 5\n"
     ]
    }
   ],
   "source": [
    "rating_num_rows, rating_num_cols = rating_df.shape\n",
    "print('Số dòng:', rating_num_rows)\n",
    "print('Số cột:', rating_num_cols)"
   ]
  },
  {
   "cell_type": "markdown",
   "id": "bc92fed1",
   "metadata": {},
   "source": [
    "#### Nhận xét:\n",
    "\n",
    "Có vẻ số dòng từ cả 2 tập dữ liệu `anime_df` và `rating_df` trả về khá khác so với mô tả:\n",
    "- `anime_df`: 19000 so với 16000\n",
    "- `rating_df`: 190000 so với 130000.  \n",
    "\n",
    "**Lưu ý**: tập dữ liệu `ratings.csv` không khác nhau về số dòng so với tập dữ liệu `reviews.csv`"
   ]
  },
  {
   "cell_type": "code",
   "execution_count": 41,
   "id": "0144f9ba",
   "metadata": {},
   "outputs": [],
   "source": [
    "# Chứng minh số dòng của rating.csv không khác so với review.csv\n",
    "import csv\n",
    "with open(REVIEW_CSV, 'r') as f:\n",
    "    csvreader = csv.reader(f)\n",
    "    next(csvreader) # Bỏ qua header\n",
    "    assert rating_num_rows == sum(1 for row in csvreader)"
   ]
  },
  {
   "cell_type": "markdown",
   "id": "f9c5dc35",
   "metadata": {},
   "source": [
    "### Mỗi dòng có ý nghĩa gì? Có vấn đề các dòng có ý nghĩa khác nhau không?\n",
    "\n",
    "- Tập dữ liệu anime: mỗi dòng trong tập này là thông tin của một anime viết bởi trang myanimelist.net\n",
    "- Tập dữ liệu review: mỗi dòng trong tập này là thông tin về review của một user dành cho một anime trên trang myanimelist.net\n",
    "\n",
    "Có vẻ như mỗi dòng trong các tập không có gì bất ổn."
   ]
  },
  {
   "cell_type": "markdown",
   "id": "cf5426a2",
   "metadata": {},
   "source": [
    "### Dữ liệu có các dòng bị lặp không?"
   ]
  },
  {
   "cell_type": "code",
   "execution_count": 42,
   "id": "485ebcd3",
   "metadata": {},
   "outputs": [
    {
     "data": {
      "text/html": [
       "<div>\n",
       "<style scoped>\n",
       "    .dataframe tbody tr th:only-of-type {\n",
       "        vertical-align: middle;\n",
       "    }\n",
       "\n",
       "    .dataframe tbody tr th {\n",
       "        vertical-align: top;\n",
       "    }\n",
       "\n",
       "    .dataframe thead th {\n",
       "        text-align: right;\n",
       "    }\n",
       "</style>\n",
       "<table border=\"1\" class=\"dataframe\">\n",
       "  <thead>\n",
       "    <tr style=\"text-align: right;\">\n",
       "      <th></th>\n",
       "      <th>Dataset</th>\n",
       "      <th>Duplicate count</th>\n",
       "    </tr>\n",
       "  </thead>\n",
       "  <tbody>\n",
       "    <tr>\n",
       "      <th>0</th>\n",
       "      <td>Anime</td>\n",
       "      <td>2943</td>\n",
       "    </tr>\n",
       "    <tr>\n",
       "      <th>1</th>\n",
       "      <td>Rating</td>\n",
       "      <td>61593</td>\n",
       "    </tr>\n",
       "  </tbody>\n",
       "</table>\n",
       "</div>"
      ],
      "text/plain": [
       "  Dataset  Duplicate count\n",
       "0   Anime             2943\n",
       "1  Rating            61593"
      ]
     },
     "execution_count": 42,
     "metadata": {},
     "output_type": "execute_result"
    }
   ],
   "source": [
    "anime_has_dup_rows = np.sum(anime_df.duplicated())\n",
    "rating_has_dup_rows = np.sum(rating_df.duplicated())\n",
    "\n",
    "pd.DataFrame({'Dataset': ['Anime', 'Rating'],\n",
    "             'Duplicate count': [anime_has_dup_rows,\n",
    "             rating_has_dup_rows]})"
   ]
  },
  {
   "cell_type": "markdown",
   "id": "f059cdc9",
   "metadata": {},
   "source": [
    "### Kiểu dữ liệu của từng cột"
   ]
  },
  {
   "cell_type": "markdown",
   "id": "a014ca5e",
   "metadata": {},
   "source": [
    "#### Tập dữ liệu anime"
   ]
  },
  {
   "cell_type": "code",
   "execution_count": 43,
   "id": "7a0fd0ce",
   "metadata": {
    "scrolled": true
   },
   "outputs": [
    {
     "data": {
      "text/plain": [
       "uid             int64\n",
       "title          object\n",
       "genre          object\n",
       "aired          object\n",
       "episodes      float64\n",
       "members         int64\n",
       "popularity      int64\n",
       "ranked        float64\n",
       "score         float64\n",
       "dtype: object"
      ]
     },
     "execution_count": 43,
     "metadata": {},
     "output_type": "execute_result"
    }
   ],
   "source": [
    "# Xem kiểu dữ liệu của từng cột tập anime\n",
    "anime_df.dtypes"
   ]
  },
  {
   "cell_type": "markdown",
   "id": "fb5a5e8f",
   "metadata": {},
   "source": [
    "#### Tập dữ liệu review"
   ]
  },
  {
   "cell_type": "code",
   "execution_count": 44,
   "id": "6d8cd5aa",
   "metadata": {},
   "outputs": [
    {
     "data": {
      "text/plain": [
       "uid           int64\n",
       "profile      object\n",
       "anime_uid     int64\n",
       "score         int64\n",
       "scores       object\n",
       "dtype: object"
      ]
     },
     "execution_count": 44,
     "metadata": {},
     "output_type": "execute_result"
    }
   ],
   "source": [
    "# Xem kiểu dữ liệu của từng cột tập review\n",
    "rating_df.dtypes"
   ]
  },
  {
   "cell_type": "markdown",
   "id": "51917a47",
   "metadata": {},
   "source": [
    "### Phân tích rõ hơn các cột có kiểu dữ liệu object"
   ]
  },
  {
   "cell_type": "markdown",
   "id": "1cf41dd6",
   "metadata": {},
   "source": [
    "#### Tập dữ liệu anime"
   ]
  },
  {
   "cell_type": "code",
   "execution_count": 45,
   "id": "e929856d",
   "metadata": {
    "scrolled": true
   },
   "outputs": [
    {
     "name": "stdout",
     "output_type": "stream",
     "text": [
      "title: {<class 'str'>}\n",
      "genre: {<class 'str'>}\n",
      "aired: {<class 'str'>}\n"
     ]
    }
   ],
   "source": [
    "def open_object_dtype(s):\n",
    "    return set(s.apply(type))\n",
    "    \n",
    "print('title:', open_object_dtype(anime_df['title']))\n",
    "print('genre:', open_object_dtype(anime_df['genre']))\n",
    "print('aired:', open_object_dtype(anime_df['aired']))"
   ]
  },
  {
   "cell_type": "markdown",
   "id": "576d5851",
   "metadata": {},
   "source": [
    "#### Tập dữ liệu review"
   ]
  },
  {
   "cell_type": "code",
   "execution_count": 46,
   "id": "1e9ff741",
   "metadata": {},
   "outputs": [
    {
     "name": "stdout",
     "output_type": "stream",
     "text": [
      "profile: {<class 'str'>}\n",
      "scores: {<class 'str'>}\n"
     ]
    }
   ],
   "source": [
    "print('profile:', open_object_dtype(review_df['profile']))\n",
    "print('scores:', open_object_dtype(review_df['scores']))"
   ]
  },
  {
   "cell_type": "markdown",
   "id": "b203449e",
   "metadata": {},
   "source": [
    "**Các vấn đề cần tiền xử lý:**\n",
    "- Loại bỏ các dòng bị lặp\n",
    "- Chuyển dtype cột `genre` sang list of string\n",
    "- Chuyển dtype cột `aired` sang loại dữ liệu thích hợp"
   ]
  },
  {
   "cell_type": "markdown",
   "id": "f2c13bc9",
   "metadata": {},
   "source": [
    "---"
   ]
  },
  {
   "cell_type": "markdown",
   "id": "1f2e7f51",
   "metadata": {},
   "source": [
    "## Tiền xử lý"
   ]
  },
  {
   "cell_type": "markdown",
   "id": "58cac884",
   "metadata": {},
   "source": [
    "### Loại bỏ các dòng bị lặp"
   ]
  },
  {
   "cell_type": "code",
   "execution_count": 237,
   "id": "17929945",
   "metadata": {},
   "outputs": [],
   "source": [
    "# Loại bỏ các dòng bị duplicate\n",
    "anime_df = anime_df.drop_duplicates()\n",
    "rating_df = rating_df.drop_duplicates()"
   ]
  },
  {
   "cell_type": "code",
   "execution_count": 238,
   "id": "b85cbed3",
   "metadata": {},
   "outputs": [
    {
     "data": {
      "text/html": [
       "<div>\n",
       "<style scoped>\n",
       "    .dataframe tbody tr th:only-of-type {\n",
       "        vertical-align: middle;\n",
       "    }\n",
       "\n",
       "    .dataframe tbody tr th {\n",
       "        vertical-align: top;\n",
       "    }\n",
       "\n",
       "    .dataframe thead th {\n",
       "        text-align: right;\n",
       "    }\n",
       "</style>\n",
       "<table border=\"1\" class=\"dataframe\">\n",
       "  <thead>\n",
       "    <tr style=\"text-align: right;\">\n",
       "      <th></th>\n",
       "      <th>Dataset</th>\n",
       "      <th>Duplicate count</th>\n",
       "    </tr>\n",
       "  </thead>\n",
       "  <tbody>\n",
       "    <tr>\n",
       "      <th>0</th>\n",
       "      <td>Anime</td>\n",
       "      <td>0</td>\n",
       "    </tr>\n",
       "    <tr>\n",
       "      <th>1</th>\n",
       "      <td>Rating</td>\n",
       "      <td>0</td>\n",
       "    </tr>\n",
       "  </tbody>\n",
       "</table>\n",
       "</div>"
      ],
      "text/plain": [
       "  Dataset  Duplicate count\n",
       "0   Anime                0\n",
       "1  Rating                0"
      ]
     },
     "execution_count": 238,
     "metadata": {},
     "output_type": "execute_result"
    }
   ],
   "source": [
    "# In lại số dòng bị lặp sau khi loại bỏ duplicate để check\n",
    "anime_has_dup_rows = np.sum(anime_df.duplicated())\n",
    "rating_has_dup_rows = np.sum(rating_df.duplicated())\n",
    "\n",
    "pd.DataFrame({'Dataset': ['Anime', 'Rating'],\n",
    "             'Duplicate count': [anime_has_dup_rows,\n",
    "             rating_has_dup_rows]})"
   ]
  },
  {
   "cell_type": "markdown",
   "id": "bbb80a85",
   "metadata": {},
   "source": [
    "### Chuyển dtype cột genre sang list of string"
   ]
  },
  {
   "cell_type": "code",
   "execution_count": 239,
   "id": "f015019b",
   "metadata": {},
   "outputs": [
    {
     "data": {
      "text/html": [
       "<div>\n",
       "<style scoped>\n",
       "    .dataframe tbody tr th:only-of-type {\n",
       "        vertical-align: middle;\n",
       "    }\n",
       "\n",
       "    .dataframe tbody tr th {\n",
       "        vertical-align: top;\n",
       "    }\n",
       "\n",
       "    .dataframe thead th {\n",
       "        text-align: right;\n",
       "    }\n",
       "</style>\n",
       "<table border=\"1\" class=\"dataframe\">\n",
       "  <thead>\n",
       "    <tr style=\"text-align: right;\">\n",
       "      <th></th>\n",
       "      <th>uid</th>\n",
       "      <th>title</th>\n",
       "      <th>synopsis</th>\n",
       "      <th>genre</th>\n",
       "      <th>aired</th>\n",
       "      <th>episodes</th>\n",
       "      <th>members</th>\n",
       "      <th>popularity</th>\n",
       "      <th>ranked</th>\n",
       "      <th>score</th>\n",
       "      <th>img_url</th>\n",
       "      <th>link</th>\n",
       "    </tr>\n",
       "  </thead>\n",
       "  <tbody>\n",
       "    <tr>\n",
       "      <th>0</th>\n",
       "      <td>28891</td>\n",
       "      <td>Haikyuu!! Second Season</td>\n",
       "      <td>Following their participation at the Inter-Hig...</td>\n",
       "      <td>[Comedy, Sports, Drama, School, Shounen]</td>\n",
       "      <td>Oct 4, 2015 to Mar 27, 2016</td>\n",
       "      <td>25</td>\n",
       "      <td>489888</td>\n",
       "      <td>141</td>\n",
       "      <td>25</td>\n",
       "      <td>9</td>\n",
       "      <td>https://cdn.myanimelist.net/images/anime/9/766...</td>\n",
       "      <td>https://myanimelist.net/anime/28891/Haikyuu_Se...</td>\n",
       "    </tr>\n",
       "    <tr>\n",
       "      <th>1</th>\n",
       "      <td>23273</td>\n",
       "      <td>Shigatsu wa Kimi no Uso</td>\n",
       "      <td>Music accompanies the path of the human metron...</td>\n",
       "      <td>[Drama, Music, Romance, School, Shounen]</td>\n",
       "      <td>Oct 10, 2014 to Mar 20, 2015</td>\n",
       "      <td>22</td>\n",
       "      <td>995473</td>\n",
       "      <td>28</td>\n",
       "      <td>24</td>\n",
       "      <td>9</td>\n",
       "      <td>https://cdn.myanimelist.net/images/anime/3/671...</td>\n",
       "      <td>https://myanimelist.net/anime/23273/Shigatsu_w...</td>\n",
       "    </tr>\n",
       "    <tr>\n",
       "      <th>2</th>\n",
       "      <td>34599</td>\n",
       "      <td>Made in Abyss</td>\n",
       "      <td>The Abyss—a gaping chasm stretching down into ...</td>\n",
       "      <td>[Sci-Fi, Adventure, Mystery, Drama, Fantasy]</td>\n",
       "      <td>Jul 7, 2017 to Sep 29, 2017</td>\n",
       "      <td>13</td>\n",
       "      <td>581663</td>\n",
       "      <td>98</td>\n",
       "      <td>23</td>\n",
       "      <td>9</td>\n",
       "      <td>https://cdn.myanimelist.net/images/anime/6/867...</td>\n",
       "      <td>https://myanimelist.net/anime/34599/Made_in_Abyss</td>\n",
       "    </tr>\n",
       "    <tr>\n",
       "      <th>3</th>\n",
       "      <td>5114</td>\n",
       "      <td>Fullmetal Alchemist: Brotherhood</td>\n",
       "      <td>\"In order for something to be obtained, someth...</td>\n",
       "      <td>[Action, Military, Adventure, Comedy, Drama, M...</td>\n",
       "      <td>Apr 5, 2009 to Jul 4, 2010</td>\n",
       "      <td>64</td>\n",
       "      <td>1615084</td>\n",
       "      <td>4</td>\n",
       "      <td>1</td>\n",
       "      <td>9</td>\n",
       "      <td>https://cdn.myanimelist.net/images/anime/1223/...</td>\n",
       "      <td>https://myanimelist.net/anime/5114/Fullmetal_A...</td>\n",
       "    </tr>\n",
       "    <tr>\n",
       "      <th>4</th>\n",
       "      <td>31758</td>\n",
       "      <td>Kizumonogatari III: Reiketsu-hen</td>\n",
       "      <td>After helping revive the legendary vampire Kis...</td>\n",
       "      <td>[Action, Mystery, Supernatural, Vampire]</td>\n",
       "      <td>Jan 6, 2017</td>\n",
       "      <td>1</td>\n",
       "      <td>214621</td>\n",
       "      <td>502</td>\n",
       "      <td>22</td>\n",
       "      <td>9</td>\n",
       "      <td>https://cdn.myanimelist.net/images/anime/3/815...</td>\n",
       "      <td>https://myanimelist.net/anime/31758/Kizumonoga...</td>\n",
       "    </tr>\n",
       "  </tbody>\n",
       "</table>\n",
       "</div>"
      ],
      "text/plain": [
       "     uid                             title  \\\n",
       "0  28891           Haikyuu!! Second Season   \n",
       "1  23273           Shigatsu wa Kimi no Uso   \n",
       "2  34599                     Made in Abyss   \n",
       "3   5114  Fullmetal Alchemist: Brotherhood   \n",
       "4  31758  Kizumonogatari III: Reiketsu-hen   \n",
       "\n",
       "                                            synopsis  \\\n",
       "0  Following their participation at the Inter-Hig...   \n",
       "1  Music accompanies the path of the human metron...   \n",
       "2  The Abyss—a gaping chasm stretching down into ...   \n",
       "3  \"In order for something to be obtained, someth...   \n",
       "4  After helping revive the legendary vampire Kis...   \n",
       "\n",
       "                                               genre  \\\n",
       "0           [Comedy, Sports, Drama, School, Shounen]   \n",
       "1           [Drama, Music, Romance, School, Shounen]   \n",
       "2       [Sci-Fi, Adventure, Mystery, Drama, Fantasy]   \n",
       "3  [Action, Military, Adventure, Comedy, Drama, M...   \n",
       "4           [Action, Mystery, Supernatural, Vampire]   \n",
       "\n",
       "                          aired  episodes  members  popularity  ranked  score  \\\n",
       "0   Oct 4, 2015 to Mar 27, 2016        25   489888         141      25      9   \n",
       "1  Oct 10, 2014 to Mar 20, 2015        22   995473          28      24      9   \n",
       "2   Jul 7, 2017 to Sep 29, 2017        13   581663          98      23      9   \n",
       "3    Apr 5, 2009 to Jul 4, 2010        64  1615084           4       1      9   \n",
       "4                   Jan 6, 2017         1   214621         502      22      9   \n",
       "\n",
       "                                             img_url  \\\n",
       "0  https://cdn.myanimelist.net/images/anime/9/766...   \n",
       "1  https://cdn.myanimelist.net/images/anime/3/671...   \n",
       "2  https://cdn.myanimelist.net/images/anime/6/867...   \n",
       "3  https://cdn.myanimelist.net/images/anime/1223/...   \n",
       "4  https://cdn.myanimelist.net/images/anime/3/815...   \n",
       "\n",
       "                                                link  \n",
       "0  https://myanimelist.net/anime/28891/Haikyuu_Se...  \n",
       "1  https://myanimelist.net/anime/23273/Shigatsu_w...  \n",
       "2  https://myanimelist.net/anime/34599/Made_in_Abyss  \n",
       "3  https://myanimelist.net/anime/5114/Fullmetal_A...  \n",
       "4  https://myanimelist.net/anime/31758/Kizumonoga...  "
      ]
     },
     "execution_count": 239,
     "metadata": {},
     "output_type": "execute_result"
    }
   ],
   "source": [
    "anime_df['genre'] = anime_df.apply({'genre':ast.literal_eval})\n",
    "anime_df.head()"
   ]
  },
  {
   "cell_type": "markdown",
   "id": "2814ccb9",
   "metadata": {},
   "source": [
    "### Chuyển dtype cột `aired` sang dữ liệu thích hợp"
   ]
  },
  {
   "cell_type": "markdown",
   "id": "87e6a758",
   "metadata": {},
   "source": [
    "**Xem format của cột này trong tập dữ liệu**"
   ]
  },
  {
   "cell_type": "code",
   "execution_count": 240,
   "id": "70eab375",
   "metadata": {},
   "outputs": [
    {
     "data": {
      "text/plain": [
       "11659    Oct 11, 1980 to Jun 13, 1982\n",
       "13953                            1990\n",
       "1891     Aug 27, 2018 to Aug 31, 2018\n",
       "11357                    May 25, 2007\n",
       "6142                     May 30, 2012\n",
       "16228                    Apr 25, 1998\n",
       "12699                            2010\n",
       "3995                     Sep 14, 2018\n",
       "2844                     Jul 18, 2001\n",
       "2057     Jan 21, 1987 to Apr 10, 1989\n",
       "Name: aired, dtype: object"
      ]
     },
     "execution_count": 240,
     "metadata": {},
     "output_type": "execute_result"
    }
   ],
   "source": [
    "anime_df['aired'].sample(10)"
   ]
  },
  {
   "cell_type": "markdown",
   "id": "01b73ce3",
   "metadata": {},
   "source": [
    "Sau khi lấy 10 mẫu ngẫu nhiên của cột này khoảng 10 lần thì có thể rút ra như sau:\n",
    "- Định dạng trong pandas cột sử dụng là `%b %d, %Y`\n",
    "- Có mẫu có cả ngày bắt đầu và kết thúc, có mẫu chỉ có ngày bắt đầu\n",
    "- Đa phần các mẫu đều đầy đủ ngày tháng năm, tuy nhiên có vài mẫu chỉ có tháng và năm, thậm chỉ chỉ có năm.\n",
    "\n",
    "Trong phạm vi đồ án, ta chỉ quan tâm đến thời điểm anime đó bắt đầu. Như vậy,đầu tiên ta sẽ trích xuất thời điểm bắt đầu trước rồi sau đó chuyển sang `datetime` theo định dạng `%b %d, %Y` thử, các giá trị thiếu ngày hoặc thiếu tháng ta sẽ tạm để NaN và đếm xem có bao nhiêu mẫu có giá trị như vậy."
   ]
  },
  {
   "cell_type": "code",
   "execution_count": 241,
   "id": "15f20c32",
   "metadata": {},
   "outputs": [
    {
     "data": {
      "text/plain": [
       "0       2015-10-04\n",
       "1       2014-10-10\n",
       "2       2017-07-07\n",
       "3       2009-04-05\n",
       "4       2017-01-06\n",
       "           ...    \n",
       "19002   2011-01-01\n",
       "19003   2018-01-12\n",
       "19004   2011-09-27\n",
       "19005   2016-07-09\n",
       "19006   2013-06-19\n",
       "Name: aired, Length: 16368, dtype: datetime64[ns]"
      ]
     },
     "execution_count": 241,
     "metadata": {},
     "output_type": "execute_result"
    }
   ],
   "source": [
    "# Dùng regular expresion trích xuất ngày bắt đầu\n",
    "start_date = anime_df['aired'].str.extract(r\"^([a-zA-Z]{3}\\s\\d{1,2},\\s\\d{4})\",\n",
    "                                          expand=False #Trả về Series\n",
    "                                          )\n",
    "\n",
    "start_date = pd.to_datetime(start_date,\n",
    "                           format='%b %d, %Y',\n",
    "                           errors='ignore' # Bỏ qua NaN\n",
    "                           )\n",
    "\n",
    "start_date"
   ]
  },
  {
   "cell_type": "code",
   "execution_count": 242,
   "id": "06deeec0",
   "metadata": {
    "scrolled": true
   },
   "outputs": [
    {
     "data": {
      "text/plain": [
       "1990"
      ]
     },
     "execution_count": 242,
     "metadata": {},
     "output_type": "execute_result"
    }
   ],
   "source": [
    "# Đếm số dòng không đầy đủ ngày hoặc tháng\n",
    "start_date.isnull().sum()"
   ]
  },
  {
   "cell_type": "markdown",
   "id": "5ff5dc84",
   "metadata": {},
   "source": [
    "Để đảm bảo nhận định việc cột `aired` có các mẫu thiếu ngày hoặc tháng, ta thử xem lại các dòng NaN trong **start_date** thì trong tập dữ liệu `anime_df`, các dòng này sẽ có dữ liệu như thế nào."
   ]
  },
  {
   "cell_type": "code",
   "execution_count": 251,
   "id": "d7328bc2",
   "metadata": {
    "scrolled": false
   },
   "outputs": [
    {
     "data": {
      "text/html": [
       "<div>\n",
       "<style scoped>\n",
       "    .dataframe tbody tr th:only-of-type {\n",
       "        vertical-align: middle;\n",
       "    }\n",
       "\n",
       "    .dataframe tbody tr th {\n",
       "        vertical-align: top;\n",
       "    }\n",
       "\n",
       "    .dataframe thead th {\n",
       "        text-align: right;\n",
       "    }\n",
       "</style>\n",
       "<table border=\"1\" class=\"dataframe\">\n",
       "  <thead>\n",
       "    <tr style=\"text-align: right;\">\n",
       "      <th></th>\n",
       "      <th>uid</th>\n",
       "      <th>title</th>\n",
       "      <th>synopsis</th>\n",
       "      <th>genre</th>\n",
       "      <th>aired</th>\n",
       "      <th>episodes</th>\n",
       "      <th>members</th>\n",
       "      <th>popularity</th>\n",
       "      <th>ranked</th>\n",
       "      <th>score</th>\n",
       "      <th>img_url</th>\n",
       "      <th>link</th>\n",
       "      <th>year_aired</th>\n",
       "    </tr>\n",
       "  </thead>\n",
       "  <tbody>\n",
       "    <tr>\n",
       "      <th>327</th>\n",
       "      <td>8740</td>\n",
       "      <td>One Piece Film: Strong World Episode 0</td>\n",
       "      <td>Set over 20 years prior to the main One Piece ...</td>\n",
       "      <td>[Action, Adventure, Comedy, Fantasy, Shounen, ...</td>\n",
       "      <td>Apr, 2010</td>\n",
       "      <td>1</td>\n",
       "      <td>54305</td>\n",
       "      <td>1793</td>\n",
       "      <td>475</td>\n",
       "      <td>8</td>\n",
       "      <td>https://cdn.myanimelist.net/images/anime/2/241...</td>\n",
       "      <td>https://myanimelist.net/anime/8740/One_Piece_F...</td>\n",
       "      <td>2010</td>\n",
       "    </tr>\n",
       "    <tr>\n",
       "      <th>406</th>\n",
       "      <td>26117</td>\n",
       "      <td>Kokoroya</td>\n",
       "      <td>An educational film about empathy in Japan. In...</td>\n",
       "      <td>[Kids, Psychological, Sci-Fi]</td>\n",
       "      <td>2014</td>\n",
       "      <td>1</td>\n",
       "      <td>366</td>\n",
       "      <td>11749</td>\n",
       "      <td>394</td>\n",
       "      <td>8</td>\n",
       "      <td>https://cdn.myanimelist.net/images/anime/2/659...</td>\n",
       "      <td>https://myanimelist.net/anime/26117/Kokoroya</td>\n",
       "      <td>2014</td>\n",
       "    </tr>\n",
       "    <tr>\n",
       "      <th>518</th>\n",
       "      <td>30298</td>\n",
       "      <td>Mahou no Princess Minky Momo: Yume wo Dakishim...</td>\n",
       "      <td>Three unaired episodes.</td>\n",
       "      <td>[Magic, Shoujo]</td>\n",
       "      <td>Not available</td>\n",
       "      <td>3</td>\n",
       "      <td>398</td>\n",
       "      <td>11591</td>\n",
       "      <td>281</td>\n",
       "      <td>8</td>\n",
       "      <td>https://cdn.myanimelist.net/images/anime/5/726...</td>\n",
       "      <td>https://myanimelist.net/anime/30298/Mahou_no_P...</td>\n",
       "      <td>NaN</td>\n",
       "    </tr>\n",
       "    <tr>\n",
       "      <th>524</th>\n",
       "      <td>35628</td>\n",
       "      <td>Honoo no Alpenrose: Ai no Symphony Ongaku-hen</td>\n",
       "      <td>A music-video style recap OVA. This release co...</td>\n",
       "      <td>[Drama, Historical, Music, Romance, Shoujo]</td>\n",
       "      <td>Not available</td>\n",
       "      <td>1</td>\n",
       "      <td>314</td>\n",
       "      <td>12128</td>\n",
       "      <td>274</td>\n",
       "      <td>8</td>\n",
       "      <td>https://cdn.myanimelist.net/images/anime/11/85...</td>\n",
       "      <td>https://myanimelist.net/anime/35628/Honoo_no_A...</td>\n",
       "      <td>NaN</td>\n",
       "    </tr>\n",
       "    <tr>\n",
       "      <th>795</th>\n",
       "      <td>6154</td>\n",
       "      <td>Saint Seiya: Meiou Hades Juuni Kyuu-hen - Yomi...</td>\n",
       "      <td>Is a summary of the Saga Hades Sanctuary from ...</td>\n",
       "      <td>[Sci-Fi, Adventure, Shounen]</td>\n",
       "      <td>2003</td>\n",
       "      <td>2</td>\n",
       "      <td>7675</td>\n",
       "      <td>4829</td>\n",
       "      <td>848</td>\n",
       "      <td>8</td>\n",
       "      <td>https://cdn.myanimelist.net/images/anime/7/135...</td>\n",
       "      <td>https://myanimelist.net/anime/6154/Saint_Seiya...</td>\n",
       "      <td>2003</td>\n",
       "    </tr>\n",
       "    <tr>\n",
       "      <th>...</th>\n",
       "      <td>...</td>\n",
       "      <td>...</td>\n",
       "      <td>...</td>\n",
       "      <td>...</td>\n",
       "      <td>...</td>\n",
       "      <td>...</td>\n",
       "      <td>...</td>\n",
       "      <td>...</td>\n",
       "      <td>...</td>\n",
       "      <td>...</td>\n",
       "      <td>...</td>\n",
       "      <td>...</td>\n",
       "      <td>...</td>\n",
       "    </tr>\n",
       "    <tr>\n",
       "      <th>18090</th>\n",
       "      <td>10334</td>\n",
       "      <td>Rurouni Kenshin Recap</td>\n",
       "      <td>This is a summary of episodes 34-56.</td>\n",
       "      <td>[Action, Adventure, Comedy, Historical, Romanc...</td>\n",
       "      <td>Jul, 1997</td>\n",
       "      <td>1</td>\n",
       "      <td>6600</td>\n",
       "      <td>5135</td>\n",
       "      <td>2381</td>\n",
       "      <td>7</td>\n",
       "      <td>https://cdn.myanimelist.net/images/anime/13/28...</td>\n",
       "      <td>https://myanimelist.net/anime/10334/Rurouni_Ke...</td>\n",
       "      <td>1997</td>\n",
       "    </tr>\n",
       "    <tr>\n",
       "      <th>18160</th>\n",
       "      <td>5947</td>\n",
       "      <td>Tengen Toppa Gurren Lagann Movie Zenyasai: Vir...</td>\n",
       "      <td>Viral tries to get some sleep, but keeps on ha...</td>\n",
       "      <td>[Comedy]</td>\n",
       "      <td>Jan, 2009</td>\n",
       "      <td>1</td>\n",
       "      <td>24078</td>\n",
       "      <td>2909</td>\n",
       "      <td>2307</td>\n",
       "      <td>7</td>\n",
       "      <td>https://cdn.myanimelist.net/images/anime/13/22...</td>\n",
       "      <td>https://myanimelist.net/anime/5947/Tengen_Topp...</td>\n",
       "      <td>2009</td>\n",
       "    </tr>\n",
       "    <tr>\n",
       "      <th>18635</th>\n",
       "      <td>2512</td>\n",
       "      <td>Detective Conan OVA 02: 16 Suspects</td>\n",
       "      <td>Conan Edogawa and the rest of the gang are inv...</td>\n",
       "      <td>[Adventure, Mystery, Comedy, Police, Shounen]</td>\n",
       "      <td>2002</td>\n",
       "      <td>1</td>\n",
       "      <td>12089</td>\n",
       "      <td>4002</td>\n",
       "      <td>2182</td>\n",
       "      <td>7</td>\n",
       "      <td>https://cdn.myanimelist.net/images/anime/10/71...</td>\n",
       "      <td>https://myanimelist.net/anime/2512/Detective_C...</td>\n",
       "      <td>2002</td>\n",
       "    </tr>\n",
       "    <tr>\n",
       "      <th>18663</th>\n",
       "      <td>2513</td>\n",
       "      <td>Detective Conan OVA 03: Conan and Heiji and th...</td>\n",
       "      <td>Conan and Ran are visiting Heiji and Kazuha in...</td>\n",
       "      <td>[Adventure, Mystery, Comedy, Police, Shounen]</td>\n",
       "      <td>2003</td>\n",
       "      <td>1</td>\n",
       "      <td>11463</td>\n",
       "      <td>4101</td>\n",
       "      <td>2695</td>\n",
       "      <td>7</td>\n",
       "      <td>https://cdn.myanimelist.net/images/anime/13/72...</td>\n",
       "      <td>https://myanimelist.net/anime/2513/Detective_C...</td>\n",
       "      <td>2003</td>\n",
       "    </tr>\n",
       "    <tr>\n",
       "      <th>18946</th>\n",
       "      <td>33335</td>\n",
       "      <td>Hajimete no Eigo: Nippon Mukashibanashi</td>\n",
       "      <td>Old Japanese folk legends released on Japanese...</td>\n",
       "      <td>[Kids, Fantasy]</td>\n",
       "      <td>Not available</td>\n",
       "      <td>18</td>\n",
       "      <td>389</td>\n",
       "      <td>11599</td>\n",
       "      <td>2960</td>\n",
       "      <td>7</td>\n",
       "      <td>https://cdn.myanimelist.net/images/anime/6/800...</td>\n",
       "      <td>https://myanimelist.net/anime/33335/Hajimete_n...</td>\n",
       "      <td>NaN</td>\n",
       "    </tr>\n",
       "  </tbody>\n",
       "</table>\n",
       "<p>1990 rows × 13 columns</p>\n",
       "</div>"
      ],
      "text/plain": [
       "         uid                                              title  \\\n",
       "327     8740             One Piece Film: Strong World Episode 0   \n",
       "406    26117                                           Kokoroya   \n",
       "518    30298  Mahou no Princess Minky Momo: Yume wo Dakishim...   \n",
       "524    35628      Honoo no Alpenrose: Ai no Symphony Ongaku-hen   \n",
       "795     6154  Saint Seiya: Meiou Hades Juuni Kyuu-hen - Yomi...   \n",
       "...      ...                                                ...   \n",
       "18090  10334                              Rurouni Kenshin Recap   \n",
       "18160   5947  Tengen Toppa Gurren Lagann Movie Zenyasai: Vir...   \n",
       "18635   2512                Detective Conan OVA 02: 16 Suspects   \n",
       "18663   2513  Detective Conan OVA 03: Conan and Heiji and th...   \n",
       "18946  33335            Hajimete no Eigo: Nippon Mukashibanashi   \n",
       "\n",
       "                                                synopsis  \\\n",
       "327    Set over 20 years prior to the main One Piece ...   \n",
       "406    An educational film about empathy in Japan. In...   \n",
       "518                              Three unaired episodes.   \n",
       "524    A music-video style recap OVA. This release co...   \n",
       "795    Is a summary of the Saga Hades Sanctuary from ...   \n",
       "...                                                  ...   \n",
       "18090               This is a summary of episodes 34-56.   \n",
       "18160  Viral tries to get some sleep, but keeps on ha...   \n",
       "18635  Conan Edogawa and the rest of the gang are inv...   \n",
       "18663  Conan and Ran are visiting Heiji and Kazuha in...   \n",
       "18946  Old Japanese folk legends released on Japanese...   \n",
       "\n",
       "                                                   genre          aired  \\\n",
       "327    [Action, Adventure, Comedy, Fantasy, Shounen, ...      Apr, 2010   \n",
       "406                        [Kids, Psychological, Sci-Fi]           2014   \n",
       "518                                      [Magic, Shoujo]  Not available   \n",
       "524          [Drama, Historical, Music, Romance, Shoujo]  Not available   \n",
       "795                         [Sci-Fi, Adventure, Shounen]           2003   \n",
       "...                                                  ...            ...   \n",
       "18090  [Action, Adventure, Comedy, Historical, Romanc...      Jul, 1997   \n",
       "18160                                           [Comedy]      Jan, 2009   \n",
       "18635      [Adventure, Mystery, Comedy, Police, Shounen]           2002   \n",
       "18663      [Adventure, Mystery, Comedy, Police, Shounen]           2003   \n",
       "18946                                    [Kids, Fantasy]  Not available   \n",
       "\n",
       "       episodes  members  popularity  ranked  score  \\\n",
       "327           1    54305        1793     475      8   \n",
       "406           1      366       11749     394      8   \n",
       "518           3      398       11591     281      8   \n",
       "524           1      314       12128     274      8   \n",
       "795           2     7675        4829     848      8   \n",
       "...         ...      ...         ...     ...    ...   \n",
       "18090         1     6600        5135    2381      7   \n",
       "18160         1    24078        2909    2307      7   \n",
       "18635         1    12089        4002    2182      7   \n",
       "18663         1    11463        4101    2695      7   \n",
       "18946        18      389       11599    2960      7   \n",
       "\n",
       "                                                 img_url  \\\n",
       "327    https://cdn.myanimelist.net/images/anime/2/241...   \n",
       "406    https://cdn.myanimelist.net/images/anime/2/659...   \n",
       "518    https://cdn.myanimelist.net/images/anime/5/726...   \n",
       "524    https://cdn.myanimelist.net/images/anime/11/85...   \n",
       "795    https://cdn.myanimelist.net/images/anime/7/135...   \n",
       "...                                                  ...   \n",
       "18090  https://cdn.myanimelist.net/images/anime/13/28...   \n",
       "18160  https://cdn.myanimelist.net/images/anime/13/22...   \n",
       "18635  https://cdn.myanimelist.net/images/anime/10/71...   \n",
       "18663  https://cdn.myanimelist.net/images/anime/13/72...   \n",
       "18946  https://cdn.myanimelist.net/images/anime/6/800...   \n",
       "\n",
       "                                                    link  year_aired  \n",
       "327    https://myanimelist.net/anime/8740/One_Piece_F...        2010  \n",
       "406         https://myanimelist.net/anime/26117/Kokoroya        2014  \n",
       "518    https://myanimelist.net/anime/30298/Mahou_no_P...         NaN  \n",
       "524    https://myanimelist.net/anime/35628/Honoo_no_A...         NaN  \n",
       "795    https://myanimelist.net/anime/6154/Saint_Seiya...        2003  \n",
       "...                                                  ...         ...  \n",
       "18090  https://myanimelist.net/anime/10334/Rurouni_Ke...        1997  \n",
       "18160  https://myanimelist.net/anime/5947/Tengen_Topp...        2009  \n",
       "18635  https://myanimelist.net/anime/2512/Detective_C...        2002  \n",
       "18663  https://myanimelist.net/anime/2513/Detective_C...        2003  \n",
       "18946  https://myanimelist.net/anime/33335/Hajimete_n...         NaN  \n",
       "\n",
       "[1990 rows x 13 columns]"
      ]
     },
     "execution_count": 251,
     "metadata": {},
     "output_type": "execute_result"
    }
   ],
   "source": [
    "anime_df[start_date.isnull()]"
   ]
  },
  {
   "cell_type": "markdown",
   "id": "7b72f53b",
   "metadata": {},
   "source": [
    "Qua kết quả trên ta còn thấy có các mẫu không xác định được ngày phát hành \"Not available\". Con số 1990 mẫu thiếu trên khoảng 16000 mẫu cũng là đáng kể. Vì vậy để giảm thiểu con số này, nhóm mình quyết định chỉ lấy năm phát hành của anime. Điều này có vẻ là chấp nhận được vì dữ liệu của ta trải dài hơn 20 năm và mỗi lần có các phân tích đến \"trending\" thì ta có thể làm trên năm thay vì theo tháng ngày. Năm phát hành của các anime sẽ thành cột mới **year_aired** trong tập dữ liệu `anime_df` phòng trường hợp sau này ta có các phân tích cần chính xác đến ngày và tháng."
   ]
  },
  {
   "cell_type": "code",
   "execution_count": 244,
   "id": "06b14b57",
   "metadata": {
    "scrolled": true
   },
   "outputs": [
    {
     "data": {
      "text/plain": [
       "0       2015\n",
       "1       2014\n",
       "2       2017\n",
       "3       2009\n",
       "4       2017\n",
       "        ... \n",
       "19002   2011\n",
       "19003   2018\n",
       "19004   2011\n",
       "19005   2016\n",
       "19006   2013\n",
       "Name: aired, Length: 16368, dtype: float64"
      ]
     },
     "execution_count": 244,
     "metadata": {},
     "output_type": "execute_result"
    }
   ],
   "source": [
    "# Dùng regular expresion trích xuất năm bắt đầu\n",
    "year_aired = anime_df['aired'].str.extract(r\"(\\d{4})\",\n",
    "                                          expand=False #Trả về Series\n",
    "                                          )\n",
    "year_aired = pd.to_numeric(year_aired)\n",
    "year_aired"
   ]
  },
  {
   "cell_type": "code",
   "execution_count": 245,
   "id": "0c8dd04d",
   "metadata": {},
   "outputs": [
    {
     "data": {
      "text/plain": [
       "295"
      ]
     },
     "execution_count": 245,
     "metadata": {},
     "output_type": "execute_result"
    }
   ],
   "source": [
    "# Đếm số dòng không có ngày phát hành\n",
    "year_aired.isnull().sum()"
   ]
  },
  {
   "cell_type": "markdown",
   "id": "b241a06d",
   "metadata": {},
   "source": [
    "Số dòng NaN giờ đây chỉ còn 295, giảm đi đáng kể! Tiếp theo ta thêm cột năm này vào `anime_df`."
   ]
  },
  {
   "cell_type": "code",
   "execution_count": 246,
   "id": "09b90765",
   "metadata": {},
   "outputs": [
    {
     "data": {
      "text/html": [
       "<div>\n",
       "<style scoped>\n",
       "    .dataframe tbody tr th:only-of-type {\n",
       "        vertical-align: middle;\n",
       "    }\n",
       "\n",
       "    .dataframe tbody tr th {\n",
       "        vertical-align: top;\n",
       "    }\n",
       "\n",
       "    .dataframe thead th {\n",
       "        text-align: right;\n",
       "    }\n",
       "</style>\n",
       "<table border=\"1\" class=\"dataframe\">\n",
       "  <thead>\n",
       "    <tr style=\"text-align: right;\">\n",
       "      <th></th>\n",
       "      <th>uid</th>\n",
       "      <th>title</th>\n",
       "      <th>synopsis</th>\n",
       "      <th>genre</th>\n",
       "      <th>aired</th>\n",
       "      <th>episodes</th>\n",
       "      <th>members</th>\n",
       "      <th>popularity</th>\n",
       "      <th>ranked</th>\n",
       "      <th>score</th>\n",
       "      <th>img_url</th>\n",
       "      <th>link</th>\n",
       "      <th>year_aired</th>\n",
       "    </tr>\n",
       "  </thead>\n",
       "  <tbody>\n",
       "    <tr>\n",
       "      <th>0</th>\n",
       "      <td>28891</td>\n",
       "      <td>Haikyuu!! Second Season</td>\n",
       "      <td>Following their participation at the Inter-Hig...</td>\n",
       "      <td>[Comedy, Sports, Drama, School, Shounen]</td>\n",
       "      <td>Oct 4, 2015 to Mar 27, 2016</td>\n",
       "      <td>25</td>\n",
       "      <td>489888</td>\n",
       "      <td>141</td>\n",
       "      <td>25</td>\n",
       "      <td>9</td>\n",
       "      <td>https://cdn.myanimelist.net/images/anime/9/766...</td>\n",
       "      <td>https://myanimelist.net/anime/28891/Haikyuu_Se...</td>\n",
       "      <td>2015</td>\n",
       "    </tr>\n",
       "    <tr>\n",
       "      <th>1</th>\n",
       "      <td>23273</td>\n",
       "      <td>Shigatsu wa Kimi no Uso</td>\n",
       "      <td>Music accompanies the path of the human metron...</td>\n",
       "      <td>[Drama, Music, Romance, School, Shounen]</td>\n",
       "      <td>Oct 10, 2014 to Mar 20, 2015</td>\n",
       "      <td>22</td>\n",
       "      <td>995473</td>\n",
       "      <td>28</td>\n",
       "      <td>24</td>\n",
       "      <td>9</td>\n",
       "      <td>https://cdn.myanimelist.net/images/anime/3/671...</td>\n",
       "      <td>https://myanimelist.net/anime/23273/Shigatsu_w...</td>\n",
       "      <td>2014</td>\n",
       "    </tr>\n",
       "    <tr>\n",
       "      <th>2</th>\n",
       "      <td>34599</td>\n",
       "      <td>Made in Abyss</td>\n",
       "      <td>The Abyss—a gaping chasm stretching down into ...</td>\n",
       "      <td>[Sci-Fi, Adventure, Mystery, Drama, Fantasy]</td>\n",
       "      <td>Jul 7, 2017 to Sep 29, 2017</td>\n",
       "      <td>13</td>\n",
       "      <td>581663</td>\n",
       "      <td>98</td>\n",
       "      <td>23</td>\n",
       "      <td>9</td>\n",
       "      <td>https://cdn.myanimelist.net/images/anime/6/867...</td>\n",
       "      <td>https://myanimelist.net/anime/34599/Made_in_Abyss</td>\n",
       "      <td>2017</td>\n",
       "    </tr>\n",
       "    <tr>\n",
       "      <th>3</th>\n",
       "      <td>5114</td>\n",
       "      <td>Fullmetal Alchemist: Brotherhood</td>\n",
       "      <td>\"In order for something to be obtained, someth...</td>\n",
       "      <td>[Action, Military, Adventure, Comedy, Drama, M...</td>\n",
       "      <td>Apr 5, 2009 to Jul 4, 2010</td>\n",
       "      <td>64</td>\n",
       "      <td>1615084</td>\n",
       "      <td>4</td>\n",
       "      <td>1</td>\n",
       "      <td>9</td>\n",
       "      <td>https://cdn.myanimelist.net/images/anime/1223/...</td>\n",
       "      <td>https://myanimelist.net/anime/5114/Fullmetal_A...</td>\n",
       "      <td>2009</td>\n",
       "    </tr>\n",
       "    <tr>\n",
       "      <th>4</th>\n",
       "      <td>31758</td>\n",
       "      <td>Kizumonogatari III: Reiketsu-hen</td>\n",
       "      <td>After helping revive the legendary vampire Kis...</td>\n",
       "      <td>[Action, Mystery, Supernatural, Vampire]</td>\n",
       "      <td>Jan 6, 2017</td>\n",
       "      <td>1</td>\n",
       "      <td>214621</td>\n",
       "      <td>502</td>\n",
       "      <td>22</td>\n",
       "      <td>9</td>\n",
       "      <td>https://cdn.myanimelist.net/images/anime/3/815...</td>\n",
       "      <td>https://myanimelist.net/anime/31758/Kizumonoga...</td>\n",
       "      <td>2017</td>\n",
       "    </tr>\n",
       "    <tr>\n",
       "      <th>...</th>\n",
       "      <td>...</td>\n",
       "      <td>...</td>\n",
       "      <td>...</td>\n",
       "      <td>...</td>\n",
       "      <td>...</td>\n",
       "      <td>...</td>\n",
       "      <td>...</td>\n",
       "      <td>...</td>\n",
       "      <td>...</td>\n",
       "      <td>...</td>\n",
       "      <td>...</td>\n",
       "      <td>...</td>\n",
       "      <td>...</td>\n",
       "    </tr>\n",
       "    <tr>\n",
       "      <th>19002</th>\n",
       "      <td>10075</td>\n",
       "      <td>Naruto x UT</td>\n",
       "      <td>All-new animation offered throughout UNIQLO cl...</td>\n",
       "      <td>[Action, Comedy, Super Power, Martial Arts, Sh...</td>\n",
       "      <td>Jan 1, 2011</td>\n",
       "      <td>1</td>\n",
       "      <td>34155</td>\n",
       "      <td>2382</td>\n",
       "      <td>1728</td>\n",
       "      <td>8</td>\n",
       "      <td>https://cdn.myanimelist.net/images/anime/3/304...</td>\n",
       "      <td>https://myanimelist.net/anime/10075/Naruto_x_UT</td>\n",
       "      <td>2011</td>\n",
       "    </tr>\n",
       "    <tr>\n",
       "      <th>19003</th>\n",
       "      <td>35828</td>\n",
       "      <td>Miira no Kaikata</td>\n",
       "      <td>High school student Sora Kashiwagi is accustom...</td>\n",
       "      <td>[Slice of Life, Comedy, Supernatural]</td>\n",
       "      <td>Jan 12, 2018 to Mar 30, 2018</td>\n",
       "      <td>12</td>\n",
       "      <td>61459</td>\n",
       "      <td>1648</td>\n",
       "      <td>1727</td>\n",
       "      <td>8</td>\n",
       "      <td>https://cdn.myanimelist.net/images/anime/1486/...</td>\n",
       "      <td>https://myanimelist.net/anime/35828/Miira_no_K...</td>\n",
       "      <td>2018</td>\n",
       "    </tr>\n",
       "    <tr>\n",
       "      <th>19004</th>\n",
       "      <td>10378</td>\n",
       "      <td>Shinryaku!? Ika Musume</td>\n",
       "      <td>After regaining her squid-like abilities, Ika ...</td>\n",
       "      <td>[Slice of Life, Comedy, Shounen]</td>\n",
       "      <td>Sep 27, 2011 to Dec 25, 2011</td>\n",
       "      <td>12</td>\n",
       "      <td>67422</td>\n",
       "      <td>1547</td>\n",
       "      <td>1548</td>\n",
       "      <td>8</td>\n",
       "      <td>https://cdn.myanimelist.net/images/anime/6/301...</td>\n",
       "      <td>https://myanimelist.net/anime/10378/Shinryaku_...</td>\n",
       "      <td>2011</td>\n",
       "    </tr>\n",
       "    <tr>\n",
       "      <th>19005</th>\n",
       "      <td>33082</td>\n",
       "      <td>Kingsglaive: Final Fantasy XV</td>\n",
       "      <td>For years, the Niflheim Empire and the kingdom...</td>\n",
       "      <td>[Action]</td>\n",
       "      <td>Jul 9, 2016</td>\n",
       "      <td>1</td>\n",
       "      <td>41077</td>\n",
       "      <td>2154</td>\n",
       "      <td>1544</td>\n",
       "      <td>8</td>\n",
       "      <td>https://cdn.myanimelist.net/images/anime/12/79...</td>\n",
       "      <td>https://myanimelist.net/anime/33082/Kingsglaiv...</td>\n",
       "      <td>2016</td>\n",
       "    </tr>\n",
       "    <tr>\n",
       "      <th>19006</th>\n",
       "      <td>16934</td>\n",
       "      <td>Chuunibyou demo Koi ga Shitai!: Kirameki no......</td>\n",
       "      <td>Although Yuuta Togashi and Rikka Takanashi hav...</td>\n",
       "      <td>[Comedy, Drama, Romance, School, Slice of Life]</td>\n",
       "      <td>Jun 19, 2013</td>\n",
       "      <td>1</td>\n",
       "      <td>128400</td>\n",
       "      <td>883</td>\n",
       "      <td>1533</td>\n",
       "      <td>8</td>\n",
       "      <td>https://cdn.myanimelist.net/images/anime/7/455...</td>\n",
       "      <td>https://myanimelist.net/anime/16934/Chuunibyou...</td>\n",
       "      <td>2013</td>\n",
       "    </tr>\n",
       "  </tbody>\n",
       "</table>\n",
       "<p>16368 rows × 13 columns</p>\n",
       "</div>"
      ],
      "text/plain": [
       "         uid                                              title  \\\n",
       "0      28891                            Haikyuu!! Second Season   \n",
       "1      23273                            Shigatsu wa Kimi no Uso   \n",
       "2      34599                                      Made in Abyss   \n",
       "3       5114                   Fullmetal Alchemist: Brotherhood   \n",
       "4      31758                   Kizumonogatari III: Reiketsu-hen   \n",
       "...      ...                                                ...   \n",
       "19002  10075                                        Naruto x UT   \n",
       "19003  35828                                   Miira no Kaikata   \n",
       "19004  10378                             Shinryaku!? Ika Musume   \n",
       "19005  33082                      Kingsglaive: Final Fantasy XV   \n",
       "19006  16934  Chuunibyou demo Koi ga Shitai!: Kirameki no......   \n",
       "\n",
       "                                                synopsis  \\\n",
       "0      Following their participation at the Inter-Hig...   \n",
       "1      Music accompanies the path of the human metron...   \n",
       "2      The Abyss—a gaping chasm stretching down into ...   \n",
       "3      \"In order for something to be obtained, someth...   \n",
       "4      After helping revive the legendary vampire Kis...   \n",
       "...                                                  ...   \n",
       "19002  All-new animation offered throughout UNIQLO cl...   \n",
       "19003  High school student Sora Kashiwagi is accustom...   \n",
       "19004  After regaining her squid-like abilities, Ika ...   \n",
       "19005  For years, the Niflheim Empire and the kingdom...   \n",
       "19006  Although Yuuta Togashi and Rikka Takanashi hav...   \n",
       "\n",
       "                                                   genre  \\\n",
       "0               [Comedy, Sports, Drama, School, Shounen]   \n",
       "1               [Drama, Music, Romance, School, Shounen]   \n",
       "2           [Sci-Fi, Adventure, Mystery, Drama, Fantasy]   \n",
       "3      [Action, Military, Adventure, Comedy, Drama, M...   \n",
       "4               [Action, Mystery, Supernatural, Vampire]   \n",
       "...                                                  ...   \n",
       "19002  [Action, Comedy, Super Power, Martial Arts, Sh...   \n",
       "19003              [Slice of Life, Comedy, Supernatural]   \n",
       "19004                   [Slice of Life, Comedy, Shounen]   \n",
       "19005                                           [Action]   \n",
       "19006    [Comedy, Drama, Romance, School, Slice of Life]   \n",
       "\n",
       "                              aired  episodes  members  popularity  ranked  \\\n",
       "0       Oct 4, 2015 to Mar 27, 2016        25   489888         141      25   \n",
       "1      Oct 10, 2014 to Mar 20, 2015        22   995473          28      24   \n",
       "2       Jul 7, 2017 to Sep 29, 2017        13   581663          98      23   \n",
       "3        Apr 5, 2009 to Jul 4, 2010        64  1615084           4       1   \n",
       "4                       Jan 6, 2017         1   214621         502      22   \n",
       "...                             ...       ...      ...         ...     ...   \n",
       "19002                   Jan 1, 2011         1    34155        2382    1728   \n",
       "19003  Jan 12, 2018 to Mar 30, 2018        12    61459        1648    1727   \n",
       "19004  Sep 27, 2011 to Dec 25, 2011        12    67422        1547    1548   \n",
       "19005                   Jul 9, 2016         1    41077        2154    1544   \n",
       "19006                  Jun 19, 2013         1   128400         883    1533   \n",
       "\n",
       "       score                                            img_url  \\\n",
       "0          9  https://cdn.myanimelist.net/images/anime/9/766...   \n",
       "1          9  https://cdn.myanimelist.net/images/anime/3/671...   \n",
       "2          9  https://cdn.myanimelist.net/images/anime/6/867...   \n",
       "3          9  https://cdn.myanimelist.net/images/anime/1223/...   \n",
       "4          9  https://cdn.myanimelist.net/images/anime/3/815...   \n",
       "...      ...                                                ...   \n",
       "19002      8  https://cdn.myanimelist.net/images/anime/3/304...   \n",
       "19003      8  https://cdn.myanimelist.net/images/anime/1486/...   \n",
       "19004      8  https://cdn.myanimelist.net/images/anime/6/301...   \n",
       "19005      8  https://cdn.myanimelist.net/images/anime/12/79...   \n",
       "19006      8  https://cdn.myanimelist.net/images/anime/7/455...   \n",
       "\n",
       "                                                    link  year_aired  \n",
       "0      https://myanimelist.net/anime/28891/Haikyuu_Se...        2015  \n",
       "1      https://myanimelist.net/anime/23273/Shigatsu_w...        2014  \n",
       "2      https://myanimelist.net/anime/34599/Made_in_Abyss        2017  \n",
       "3      https://myanimelist.net/anime/5114/Fullmetal_A...        2009  \n",
       "4      https://myanimelist.net/anime/31758/Kizumonoga...        2017  \n",
       "...                                                  ...         ...  \n",
       "19002    https://myanimelist.net/anime/10075/Naruto_x_UT        2011  \n",
       "19003  https://myanimelist.net/anime/35828/Miira_no_K...        2018  \n",
       "19004  https://myanimelist.net/anime/10378/Shinryaku_...        2011  \n",
       "19005  https://myanimelist.net/anime/33082/Kingsglaiv...        2016  \n",
       "19006  https://myanimelist.net/anime/16934/Chuunibyou...        2013  \n",
       "\n",
       "[16368 rows x 13 columns]"
      ]
     },
     "execution_count": 246,
     "metadata": {},
     "output_type": "execute_result"
    }
   ],
   "source": [
    "anime_df['year_aired'] = year_aired\n",
    "anime_df"
   ]
  },
  {
   "cell_type": "markdown",
   "id": "d79f8e4f",
   "metadata": {},
   "source": [
    "---"
   ]
  },
  {
   "cell_type": "markdown",
   "id": "93af1cc9",
   "metadata": {},
   "source": [
    "## Khám phá dữ liệu (tiếp tục)"
   ]
  },
  {
   "cell_type": "markdown",
   "id": "922e780b",
   "metadata": {},
   "source": [
    "### Phân bố các cột dữ liệu dạng numeric\n",
    "\n",
    "Ở mỗi cột ta sẽ xem xét % tỉ lệ thiếu dữ liệu (0 đến 100), giá trị nhỏ nhất và lớn nhất."
   ]
  },
  {
   "cell_type": "markdown",
   "id": "140717b5",
   "metadata": {},
   "source": [
    "#### Tập dữ liệu anime\n",
    "\n",
    "Các cột numeric: episodes, members, popularity, ranked, score"
   ]
  },
  {
   "cell_type": "code",
   "execution_count": 247,
   "id": "8d3a0ea0",
   "metadata": {},
   "outputs": [
    {
     "data": {
      "text/html": [
       "<div>\n",
       "<style scoped>\n",
       "    .dataframe tbody tr th:only-of-type {\n",
       "        vertical-align: middle;\n",
       "    }\n",
       "\n",
       "    .dataframe tbody tr th {\n",
       "        vertical-align: top;\n",
       "    }\n",
       "\n",
       "    .dataframe thead th {\n",
       "        text-align: right;\n",
       "    }\n",
       "</style>\n",
       "<table border=\"1\" class=\"dataframe\">\n",
       "  <thead>\n",
       "    <tr style=\"text-align: right;\">\n",
       "      <th></th>\n",
       "      <th>episodes</th>\n",
       "      <th>members</th>\n",
       "      <th>popularity</th>\n",
       "      <th>ranked</th>\n",
       "      <th>score</th>\n",
       "      <th>year_aired</th>\n",
       "    </tr>\n",
       "  </thead>\n",
       "  <tbody>\n",
       "    <tr>\n",
       "      <th>missing_ratio</th>\n",
       "      <td>3</td>\n",
       "      <td>0</td>\n",
       "      <td>0</td>\n",
       "      <td>11</td>\n",
       "      <td>2</td>\n",
       "      <td>2</td>\n",
       "    </tr>\n",
       "    <tr>\n",
       "      <th>min_value</th>\n",
       "      <td>1</td>\n",
       "      <td>25</td>\n",
       "      <td>1</td>\n",
       "      <td>1</td>\n",
       "      <td>1</td>\n",
       "      <td>1917</td>\n",
       "    </tr>\n",
       "    <tr>\n",
       "      <th>max_value</th>\n",
       "      <td>3057</td>\n",
       "      <td>1871043</td>\n",
       "      <td>16338</td>\n",
       "      <td>14675</td>\n",
       "      <td>9</td>\n",
       "      <td>2021</td>\n",
       "    </tr>\n",
       "  </tbody>\n",
       "</table>\n",
       "</div>"
      ],
      "text/plain": [
       "               episodes  members  popularity  ranked  score  year_aired\n",
       "missing_ratio         3        0           0      11      2           2\n",
       "min_value             1       25           1       1      1        1917\n",
       "max_value          3057  1871043       16338   14675      9        2021"
      ]
     },
     "execution_count": 247,
     "metadata": {},
     "output_type": "execute_result"
    }
   ],
   "source": [
    "pd.options.display.float_format = '{:.0f}'.format\n",
    "\n",
    "def missing_ratio(s):\n",
    "    return s.isna().mean() * 100\n",
    "\n",
    "def min_value(s):\n",
    "    return s.dropna().min()\n",
    "\n",
    "def max_value(s):\n",
    "    return s.dropna().max()\n",
    "\n",
    "anime_numeric_cols = ['episodes', 'members', 'popularity', 'ranked', 'score', 'year_aired']\n",
    "anime_nume_col_profiles_df = anime_df[anime_numeric_cols]\n",
    "\n",
    "anime_nume_col_profiles_df = anime_nume_col_profiles_df.agg([missing_ratio,\n",
    "                                                             min_value,\n",
    "                                                             max_value])\n",
    "\n",
    "anime_nume_col_profiles_df"
   ]
  },
  {
   "cell_type": "markdown",
   "id": "2cb21e2e",
   "metadata": {},
   "source": [
    "#### Tập dữ liệu review\n",
    "\n",
    "Các cột numeric: score"
   ]
  },
  {
   "cell_type": "code",
   "execution_count": 248,
   "id": "16e87b5d",
   "metadata": {},
   "outputs": [
    {
     "data": {
      "text/plain": [
       "missing_ratio    0\n",
       "min_value        7\n",
       "max_value       10\n",
       "Name: score, dtype: float64"
      ]
     },
     "execution_count": 248,
     "metadata": {},
     "output_type": "execute_result"
    }
   ],
   "source": [
    "review_nume_col_profiles_df = review_df['score']\n",
    "\n",
    "review_nume_col_profiles_df = review_nume_col_profiles_df.agg([missing_ratio,\n",
    "                                                             min_value,\n",
    "                                                             max_value])\n",
    "\n",
    "review_nume_col_profiles_df"
   ]
  },
  {
   "cell_type": "markdown",
   "id": "286636a9",
   "metadata": {},
   "source": [
    "### Phân bố các cột dữ liệu dạng categorical\n",
    "\n",
    "Ở mỗi cột ta sẽ xem xét % tỉ lệ thiếu dữ liệu (0 đến 100), số giá trị khác nhau (không xét giá trị thiếu)"
   ]
  },
  {
   "cell_type": "markdown",
   "id": "f457c5d8",
   "metadata": {},
   "source": [
    "#### Tập dữ liệu anime\n",
    "\n",
    "Các cột categorical: uid, title, genre. Ta không xét cột **aired** vì nó là cột dữ liệu thô. Hai cột đầu thì ta có thể xử lý nhanh bằng method agg với các hàm tự định nghĩa, riêng cột `genre` ta cần phải đi đếm số thể loại khác nhau vì cột này lưu dưới dạng list of string. Để đếm số thể loại khác nhau, ta có thể hợp các list này lại rồi đếm số giá trị.\n",
    "\n"
   ]
  },
  {
   "cell_type": "code",
   "execution_count": 286,
   "id": "22d79f80",
   "metadata": {
    "scrolled": true
   },
   "outputs": [
    {
     "data": {
      "text/html": [
       "<div>\n",
       "<style scoped>\n",
       "    .dataframe tbody tr th:only-of-type {\n",
       "        vertical-align: middle;\n",
       "    }\n",
       "\n",
       "    .dataframe tbody tr th {\n",
       "        vertical-align: top;\n",
       "    }\n",
       "\n",
       "    .dataframe thead th {\n",
       "        text-align: right;\n",
       "    }\n",
       "</style>\n",
       "<table border=\"1\" class=\"dataframe\">\n",
       "  <thead>\n",
       "    <tr style=\"text-align: right;\">\n",
       "      <th></th>\n",
       "      <th>uid</th>\n",
       "      <th>title</th>\n",
       "      <th>genre</th>\n",
       "    </tr>\n",
       "  </thead>\n",
       "  <tbody>\n",
       "    <tr>\n",
       "      <th>missing_ratio</th>\n",
       "      <td>0</td>\n",
       "      <td>0</td>\n",
       "      <td>0</td>\n",
       "    </tr>\n",
       "    <tr>\n",
       "      <th>num_diff_vals</th>\n",
       "      <td>16216</td>\n",
       "      <td>16214</td>\n",
       "      <td>43</td>\n",
       "    </tr>\n",
       "  </tbody>\n",
       "</table>\n",
       "</div>"
      ],
      "text/plain": [
       "                uid  title  genre\n",
       "missing_ratio     0      0      0\n",
       "num_diff_vals 16216  16214     43"
      ]
     },
     "execution_count": 286,
     "metadata": {},
     "output_type": "execute_result"
    }
   ],
   "source": [
    "anime_cate_cols = ['uid', 'title']\n",
    "anime_cate_col_profiles_df = anime_df[anime_cate_cols]\n",
    "\n",
    "def num_diff_vals(s):\n",
    "    return s.dropna().nunique()\n",
    "\n",
    "anime_cate_col_profiles_df = anime_cate_col_profiles_df.agg([missing_ratio,\n",
    "                                                             num_diff_vals])\n",
    "\n",
    "genre_profile = [missing_ratio(anime_df['genre']),\n",
    "                 anime_df['genre'].apply(pd.Series).stack().nunique()]\n",
    "\n",
    "genre_profile = pd.DataFrame(genre_profile,\n",
    "                             index=['missing_ratio', 'num_diff_vals'],\n",
    "                             columns=['genre'])\n",
    "\n",
    "anime_cate_col_profiles_df = pd.concat([anime_cate_col_profiles_df, genre_profile],\n",
    "                                       axis=1)\n",
    "\n",
    "anime_cate_col_profiles_df"
   ]
  },
  {
   "cell_type": "markdown",
   "id": "a40993f4",
   "metadata": {},
   "source": [
    "#### Tập dữ liệu review\n",
    "\n",
    "Các cột categorical: uid, profile, anime_uid"
   ]
  },
  {
   "cell_type": "code",
   "execution_count": 287,
   "id": "2cdee65f",
   "metadata": {},
   "outputs": [
    {
     "data": {
      "text/html": [
       "<div>\n",
       "<style scoped>\n",
       "    .dataframe tbody tr th:only-of-type {\n",
       "        vertical-align: middle;\n",
       "    }\n",
       "\n",
       "    .dataframe tbody tr th {\n",
       "        vertical-align: top;\n",
       "    }\n",
       "\n",
       "    .dataframe thead th {\n",
       "        text-align: right;\n",
       "    }\n",
       "</style>\n",
       "<table border=\"1\" class=\"dataframe\">\n",
       "  <thead>\n",
       "    <tr style=\"text-align: right;\">\n",
       "      <th></th>\n",
       "      <th>uid</th>\n",
       "      <th>profile</th>\n",
       "      <th>anime_uid</th>\n",
       "    </tr>\n",
       "  </thead>\n",
       "  <tbody>\n",
       "    <tr>\n",
       "      <th>missing_ratio</th>\n",
       "      <td>0</td>\n",
       "      <td>0</td>\n",
       "      <td>0</td>\n",
       "    </tr>\n",
       "    <tr>\n",
       "      <th>num_diff_vals</th>\n",
       "      <td>130519</td>\n",
       "      <td>47885</td>\n",
       "      <td>8113</td>\n",
       "    </tr>\n",
       "  </tbody>\n",
       "</table>\n",
       "</div>"
      ],
      "text/plain": [
       "                 uid  profile  anime_uid\n",
       "missing_ratio      0        0          0\n",
       "num_diff_vals 130519    47885       8113"
      ]
     },
     "execution_count": 287,
     "metadata": {},
     "output_type": "execute_result"
    }
   ],
   "source": [
    "rating_cate_cols = ['uid', 'profile', 'anime_uid']\n",
    "rating_cate_col_profiles_df = rating_df[rating_cate_cols]\n",
    "\n",
    "def num_diff_vals(s):\n",
    "    return s.dropna().nunique()\n",
    "\n",
    "rating_cate_col_profiles_df = rating_cate_col_profiles_df.agg([missing_ratio,\n",
    "                                                             num_diff_vals])\n",
    "rating_cate_col_profiles_df"
   ]
  },
  {
   "cell_type": "markdown",
   "id": "9e4670a0",
   "metadata": {},
   "source": [
    "---"
   ]
  },
  {
   "cell_type": "markdown",
   "id": "899bb215",
   "metadata": {},
   "source": [
    "## Đưa ra các câu hỏi cần trả lời"
   ]
  },
  {
   "cell_type": "code",
   "execution_count": null,
   "id": "0e66b061",
   "metadata": {},
   "outputs": [],
   "source": []
  }
 ],
 "metadata": {
  "kernelspec": {
   "display_name": "Python 3 (ipykernel)",
   "language": "python",
   "name": "python3"
  },
  "language_info": {
   "codemirror_mode": {
    "name": "ipython",
    "version": 3
   },
   "file_extension": ".py",
   "mimetype": "text/x-python",
   "name": "python",
   "nbconvert_exporter": "python",
   "pygments_lexer": "ipython3",
   "version": "3.8.8"
  },
  "toc": {
   "base_numbering": 1,
   "nav_menu": {},
   "number_sections": false,
   "sideBar": true,
   "skip_h1_title": false,
   "title_cell": "Table of Contents",
   "title_sidebar": "Contents",
   "toc_cell": true,
   "toc_position": {},
   "toc_section_display": true,
   "toc_window_display": true
  }
 },
 "nbformat": 4,
 "nbformat_minor": 5
}
