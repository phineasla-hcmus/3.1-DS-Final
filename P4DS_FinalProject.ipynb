{
 "cells": [
  {
   "cell_type": "markdown",
   "id": "7e96dd60",
   "metadata": {},
   "source": [
    "# Lập trình cho khoa học dữ liệu: Đồ án cuối kỳ"
   ]
  },
  {
   "cell_type": "markdown",
   "id": "c1f0b476",
   "metadata": {},
   "source": [
    "## Danh sách thành viên:\n",
    "\n",
    "---\n",
    "Họ và tên: La Ngọc Hồng Phúc\n",
    "\n",
    "MSSV: 19127511\n",
    "\n",
    "---\n",
    "Họ và tên: Chung Thế Thọ\n",
    "\n",
    "MSSV: 19127562\n",
    "\n",
    "## GitHub\n",
    "3.1-DS-Final ([https://github.com/phineasla-hcmus/3.1-DS-Final](https://github.com/phineasla-hcmus/3.1-DS-Final))"
   ]
  },
  {
   "cell_type": "markdown",
   "id": "6832b23e",
   "metadata": {
    "toc": true
   },
   "source": [
    "<h1>Table of Contents<span class=\"tocSkip\"></span></h1>\n",
    "<div class=\"toc\"><ul class=\"toc-item\"><li><span><a href=\"#Lập-trình-cho-khoa-học-dữ-liệu:-Đồ-án-cuối-kỳ\" data-toc-modified-id=\"Lập-trình-cho-khoa-học-dữ-liệu:-Đồ-án-cuối-kỳ-1\">Lập trình cho khoa học dữ liệu: Đồ án cuối kỳ</a></span><ul class=\"toc-item\"><li><span><a href=\"#Danh-sách-thành-viên:\" data-toc-modified-id=\"Danh-sách-thành-viên:-1.1\">Danh sách thành viên:</a></span></li><li><span><a href=\"#GitHub\" data-toc-modified-id=\"GitHub-1.2\">GitHub</a></span></li></ul></li><li><span><a href=\"#Môi-trường-code\" data-toc-modified-id=\"Môi-trường-code-2\">Môi trường code</a></span></li><li><span><a href=\"#Import-các-thư-viện-cần-thiết\" data-toc-modified-id=\"Import-các-thư-viện-cần-thiết-3\">Import các thư viện cần thiết</a></span></li><li><span><a href=\"#Thu-thập-dữ-liệu\" data-toc-modified-id=\"Thu-thập-dữ-liệu-4\">Thu thập dữ liệu</a></span></li><li><span><a href=\"#Khám-phá-dữ-liệu\" data-toc-modified-id=\"Khám-phá-dữ-liệu-5\">Khám phá dữ liệu</a></span><ul class=\"toc-item\"><li><span><a href=\"#Giải-nén-dữ-liệu\" data-toc-modified-id=\"Giải-nén-dữ-liệu-5.1\">Giải nén dữ liệu</a></span></li><li><span><a href=\"#Đọc-dữ-liệu-từ-file-csv-vào-dataframe\" data-toc-modified-id=\"Đọc-dữ-liệu-từ-file-csv-vào-dataframe-5.2\">Đọc dữ liệu từ file csv vào dataframe</a></span><ul class=\"toc-item\"><li><span><a href=\"#Tập-dữ-liệu-anime\" data-toc-modified-id=\"Tập-dữ-liệu-anime-5.2.1\">Tập dữ liệu anime</a></span></li><li><span><a href=\"#Tập-dữ-liệu-review\" data-toc-modified-id=\"Tập-dữ-liệu-review-5.2.2\">Tập dữ liệu review</a></span></li></ul></li><li><span><a href=\"#Mỗi-cột-có-ý-nghĩa-gì?\" data-toc-modified-id=\"Mỗi-cột-có-ý-nghĩa-gì?-5.3\">Mỗi cột có ý nghĩa gì?</a></span></li><li><span><a href=\"#Loại-bỏ-các-cột-không-dùng-đến\" data-toc-modified-id=\"Loại-bỏ-các-cột-không-dùng-đến-5.4\">Loại bỏ các cột không dùng đến</a></span><ul class=\"toc-item\"><li><span><a href=\"#Tập-dữ-liệu-rating\" data-toc-modified-id=\"Tập-dữ-liệu-rating-5.4.1\">Tập dữ liệu rating</a></span></li></ul></li><li><span><a href=\"#Số-dòng,-số-cột-của-tập-dữ-liệu\" data-toc-modified-id=\"Số-dòng,-số-cột-của-tập-dữ-liệu-5.5\">Số dòng, số cột của tập dữ liệu</a></span><ul class=\"toc-item\"><li><span><a href=\"#Tập-dữ-liệu-anime\" data-toc-modified-id=\"Tập-dữ-liệu-anime-5.5.1\">Tập dữ liệu anime</a></span></li><li><span><a href=\"#Tập-dữ-liệu-rating\" data-toc-modified-id=\"Tập-dữ-liệu-rating-5.5.2\">Tập dữ liệu rating</a></span></li><li><span><a href=\"#Nhận-xét\" data-toc-modified-id=\"Nhận-xét-5.5.3\">Nhận xét</a></span></li></ul></li><li><span><a href=\"#Mỗi-dòng-có-ý-nghĩa-gì?-Có-vấn-đề-các-dòng-có-ý-nghĩa-khác-nhau-không?\" data-toc-modified-id=\"Mỗi-dòng-có-ý-nghĩa-gì?-Có-vấn-đề-các-dòng-có-ý-nghĩa-khác-nhau-không?-5.6\">Mỗi dòng có ý nghĩa gì? Có vấn đề các dòng có ý nghĩa khác nhau không?</a></span></li><li><span><a href=\"#Dữ-liệu-có-các-dòng-bị-lặp-không?\" data-toc-modified-id=\"Dữ-liệu-có-các-dòng-bị-lặp-không?-5.7\">Dữ liệu có các dòng bị lặp không?</a></span><ul class=\"toc-item\"><li><span><a href=\"#Kiểu-dữ-liệu-của-từng-cột\" data-toc-modified-id=\"Kiểu-dữ-liệu-của-từng-cột-5.7.1\">Kiểu dữ liệu của từng cột</a></span><ul class=\"toc-item\"><li><span><a href=\"#Tập-dữ-liệu-anime\" data-toc-modified-id=\"Tập-dữ-liệu-anime-5.7.1.1\">Tập dữ liệu anime</a></span></li><li><span><a href=\"#Tập-dữ-liệu-review\" data-toc-modified-id=\"Tập-dữ-liệu-review-5.7.1.2\">Tập dữ liệu review</a></span></li></ul></li><li><span><a href=\"#Phân-tích-rõ-hơn-các-cột-có-kiểu-dữ-liệu-object\" data-toc-modified-id=\"Phân-tích-rõ-hơn-các-cột-có-kiểu-dữ-liệu-object-5.7.2\">Phân tích rõ hơn các cột có kiểu dữ liệu object</a></span><ul class=\"toc-item\"><li><span><a href=\"#Tập-dữ-liệu-anime\" data-toc-modified-id=\"Tập-dữ-liệu-anime-5.7.2.1\">Tập dữ liệu anime</a></span></li><li><span><a href=\"#Tập-dữ-liệu-rating\" data-toc-modified-id=\"Tập-dữ-liệu-rating-5.7.2.2\">Tập dữ liệu rating</a></span></li></ul></li></ul></li></ul></li><li><span><a href=\"#Tiền-xử-lý\" data-toc-modified-id=\"Tiền-xử-lý-6\">Tiền xử lý</a></span><ul class=\"toc-item\"><li><span><a href=\"#Loại-bỏ-các-dòng-bị-lặp\" data-toc-modified-id=\"Loại-bỏ-các-dòng-bị-lặp-6.1\">Loại bỏ các dòng bị lặp</a></span></li><li><span><a href=\"#Chuyển-đổi-dtype-của-các-cột\" data-toc-modified-id=\"Chuyển-đổi-dtype-của-các-cột-6.2\">Chuyển đổi dtype của các cột</a></span><ul class=\"toc-item\"><li><span><a href=\"#Chuyển-dtype-cột-genre-sang-list-of-string\" data-toc-modified-id=\"Chuyển-dtype-cột-genre-sang-list-of-string-6.2.1\">Chuyển dtype cột genre sang list of string</a></span></li><li><span><a href=\"#Chuyển-dtype-cột-aired-sang-dữ-liệu-thích-hợp\" data-toc-modified-id=\"Chuyển-dtype-cột-aired-sang-dữ-liệu-thích-hợp-6.2.2\">Chuyển dtype cột aired sang dữ liệu thích hợp</a></span></li></ul></li></ul></li><li><span><a href=\"#Khám-phá-dữ-liệu-(tiếp-tục)\" data-toc-modified-id=\"Khám-phá-dữ-liệu-(tiếp-tục)-7\">Khám phá dữ liệu (tiếp tục)</a></span><ul class=\"toc-item\"><li><span><a href=\"#Phân-bố-các-cột-dữ-liệu-dạng-numeric\" data-toc-modified-id=\"Phân-bố-các-cột-dữ-liệu-dạng-numeric-7.1\">Phân bố các cột dữ liệu dạng numeric</a></span><ul class=\"toc-item\"><li><span><a href=\"#Tập-dữ-liệu-anime\" data-toc-modified-id=\"Tập-dữ-liệu-anime-7.1.1\">Tập dữ liệu anime</a></span></li><li><span><a href=\"#Tập-dữ-liệu-rating\" data-toc-modified-id=\"Tập-dữ-liệu-rating-7.1.2\">Tập dữ liệu rating</a></span></li></ul></li><li><span><a href=\"#Phân-bố-các-cột-dữ-liệu-dạng-categorical\" data-toc-modified-id=\"Phân-bố-các-cột-dữ-liệu-dạng-categorical-7.2\">Phân bố các cột dữ liệu dạng categorical</a></span><ul class=\"toc-item\"><li><span><a href=\"#Tập-dữ-liệu-anime\" data-toc-modified-id=\"Tập-dữ-liệu-anime-7.2.1\">Tập dữ liệu anime</a></span><ul class=\"toc-item\"><li><span><a href=\"#Phân-bố-cột-thể-loại-(genre)\" data-toc-modified-id=\"Phân-bố-cột-thể-loại-(genre)-7.2.1.1\">Phân bố cột thể loại (genre)</a></span></li></ul></li><li><span><a href=\"#Tập-dữ-liệu-review\" data-toc-modified-id=\"Tập-dữ-liệu-review-7.2.2\">Tập dữ liệu review</a></span></li></ul></li></ul></li><li><span><a href=\"#Đưa-ra-các-câu-hỏi-cần-trả-lời\" data-toc-modified-id=\"Đưa-ra-các-câu-hỏi-cần-trả-lời-8\">Đưa ra các câu hỏi cần trả lời</a></span><ul class=\"toc-item\"><li><span><a href=\"#1.-Các-thể-loại-anime-thịnh-hành-qua-từng-năm-thay-đổi-ra-sao?\" data-toc-modified-id=\"1.-Các-thể-loại-anime-thịnh-hành-qua-từng-năm-thay-đổi-ra-sao?-8.1\">1. Các thể loại anime thịnh hành qua từng năm thay đổi ra sao?</a></span></li><li><span><a href=\"#2.-Các-cột-numeric-có-ảnh-hưởng-đến-rating-không?\" data-toc-modified-id=\"2.-Các-cột-numeric-có-ảnh-hưởng-đến-rating-không?-8.2\">2. Các cột numeric có ảnh hưởng đến rating không?</a></span></li><li><span><a href=\"#3.-Người-xem-anime-và-đánh-giá-của-họ-qua-các-năm-ra-sao?\" data-toc-modified-id=\"3.-Người-xem-anime-và-đánh-giá-của-họ-qua-các-năm-ra-sao?-8.3\">3. Người xem anime và đánh giá của họ qua các năm ra sao?</a></span></li><li><span><a href=\"#4.-Hệ-thống-gợi-ý-(Recommendation-system)\" data-toc-modified-id=\"4.-Hệ-thống-gợi-ý-(Recommendation-system)-8.4\">4. Hệ thống gợi ý (Recommendation system)</a></span></li></ul></li><li><span><a href=\"#Khó-khăn-và-tự-đánh-giá:\" data-toc-modified-id=\"Khó-khăn-và-tự-đánh-giá:-9\">Khó khăn và tự đánh giá:</a></span><ul class=\"toc-item\"><li><span><a href=\"#Khó-khăn\" data-toc-modified-id=\"Khó-khăn-9.1\">Khó khăn</a></span></li><li><span><a href=\"#Những-thứ-học-được\" data-toc-modified-id=\"Những-thứ-học-được-9.2\">Những thứ học được</a></span></li><li><span><a href=\"#Nếu-có-thêm-thời-gian\" data-toc-modified-id=\"Nếu-có-thêm-thời-gian-9.3\">Nếu có thêm thời gian</a></span></li></ul></li><li><span><a href=\"#Nguồn-tham-khảo\" data-toc-modified-id=\"Nguồn-tham-khảo-10\">Nguồn tham khảo</a></span></li></ul></div>"
   ]
  },
  {
   "cell_type": "markdown",
   "id": "5e79806d",
   "metadata": {},
   "source": [
    "# Môi trường code"
   ]
  },
  {
   "cell_type": "code",
   "execution_count": 1,
   "id": "4ce0039b",
   "metadata": {
    "scrolled": true
   },
   "outputs": [
    {
     "data": {
      "text/plain": [
       "'/home/stazjac/anaconda3/envs/min_ds-env/bin/python'"
      ]
     },
     "execution_count": 1,
     "metadata": {},
     "output_type": "execute_result"
    }
   ],
   "source": [
    "import sys\n",
    "sys.executable"
   ]
  },
  {
   "cell_type": "markdown",
   "id": "d97a9cde",
   "metadata": {},
   "source": [
    "# Import các thư viện cần thiết"
   ]
  },
  {
   "cell_type": "code",
   "execution_count": 2,
   "id": "f0cb61f2",
   "metadata": {},
   "outputs": [],
   "source": [
    "# Import thư viện cần dùng\n",
    "import os\n",
    "import ast\n",
    "import zipfile\n",
    "import numpy as np\n",
    "import pandas as pd\n",
    "import seaborn as sns\n",
    "import matplotlib.pyplot as plt"
   ]
  },
  {
   "cell_type": "markdown",
   "id": "cb98b004",
   "metadata": {},
   "source": [
    "# Thu thập dữ liệu\n",
    "\n",
    "Trong đồ án này, ta sẽ sử dụng tập dữ liệu có sẵn đến từ 2 file mà người ta đã thu thập trên kaggle là `animes.csv` và `reviews.csv`. Theo như mô tả của người thu thập dữ liệu thì chúng ta có khoảng 16000 anime và 130000 bài review về các anime này, với mục đích phục vụ cho việc học tập khoa học dữ liệu. Nếu như bạn chưa biết **Anime** là gì thì nó là hoạt hình vẽ tay và máy tính, bắt nguồn từ Nhật Bản và là văn hóa đặc trưng gắn liền với đất nước mặt trời mọc này.\n",
    "\n",
    "Về vấn đề bản quyền thì tập dữ liệu này không có bản quyền theo chuẩn **CC0: Public Domain**. Theo creativecommons.org thì khi sản phẩm nào mang chuẩn này thì ta có thể thoải mái copy, chỉnh sửa, chia sẻ và dùng nó để làm việc thoải mái, thậm chí cho mục đích thương mại mà không cần hỏi bất cứ quyền gì từ tác giả.\n",
    "\n",
    "Cách thức thu thập dữ liệu của tác giả là dùng API do trang myanimelist.net cung cấp, cụ thể chi tiết về chương trình crawler mà anh ta viết có thể được xem ở link này: [https://github.com/marlesson/scrapy_myanimelist](https://github.com/marlesson/scrapy_myanimelist)  \n",
    "\n",
    "Link của tập dữ liệu: [Anime Dataset with Reviews - MyAnimeList](https://www.kaggle.com/marlesson/myanimelist-dataset-animes-profiles-reviews) ([https://www.kaggle.com/marlesson/myanimelist-dataset-animes-profiles-reviews](https://www.kaggle.com/marlesson/myanimelist-dataset-animes-profiles-reviews))"
   ]
  },
  {
   "cell_type": "markdown",
   "id": "84f0e610",
   "metadata": {},
   "source": [
    "---\n",
    "\n",
    "# Khám phá dữ liệu"
   ]
  },
  {
   "cell_type": "markdown",
   "id": "f981487a",
   "metadata": {},
   "source": [
    "## Giải nén dữ liệu\n",
    "Sau khi tải tập dữ liệu về, chúng ta cần giải nén và đưa các file dữ liệu vào thư mục data. Như đã đề cập ở trên, ta chỉ quan 2 file dữ liệu là `anime.csv` và `reviews.csv`."
   ]
  },
  {
   "cell_type": "code",
   "execution_count": 3,
   "id": "ac4408cd",
   "metadata": {},
   "outputs": [
    {
     "data": {
      "text/html": [
       "<div>\n",
       "<style scoped>\n",
       "    .dataframe tbody tr th:only-of-type {\n",
       "        vertical-align: middle;\n",
       "    }\n",
       "\n",
       "    .dataframe tbody tr th {\n",
       "        vertical-align: top;\n",
       "    }\n",
       "\n",
       "    .dataframe thead th {\n",
       "        text-align: right;\n",
       "    }\n",
       "</style>\n",
       "<table border=\"1\" class=\"dataframe\">\n",
       "  <thead>\n",
       "    <tr style=\"text-align: right;\">\n",
       "      <th></th>\n",
       "      <th>File Name</th>\n",
       "      <th>Size (MB)</th>\n",
       "    </tr>\n",
       "  </thead>\n",
       "  <tbody>\n",
       "    <tr>\n",
       "      <th>0</th>\n",
       "      <td>reviews.csv</td>\n",
       "      <td>654.141182</td>\n",
       "    </tr>\n",
       "    <tr>\n",
       "      <th>1</th>\n",
       "      <td>animes.csv</td>\n",
       "      <td>11.514027</td>\n",
       "    </tr>\n",
       "    <tr>\n",
       "      <th>2</th>\n",
       "      <td>profiles.csv</td>\n",
       "      <td>8.262743</td>\n",
       "    </tr>\n",
       "  </tbody>\n",
       "</table>\n",
       "</div>"
      ],
      "text/plain": [
       "      File Name   Size (MB)\n",
       "0   reviews.csv  654.141182\n",
       "1    animes.csv   11.514027\n",
       "2  profiles.csv    8.262743"
      ]
     },
     "execution_count": 3,
     "metadata": {},
     "output_type": "execute_result"
    }
   ],
   "source": [
    "ZIP_FILE = 'archive.zip'\n",
    "DATA_DIR = os.path.join(os.getcwd(), 'data')\n",
    "ANIME_CSV = os.path.join(DATA_DIR, 'animes.csv')\n",
    "REVIEW_CSV = os.path.join(DATA_DIR, 'reviews.csv')\n",
    "\n",
    "OVERWRITE = False\n",
    "\n",
    "def extractall():\n",
    "    with zipfile.ZipFile(ZIP_FILE, 'r') as zip_ref:\n",
    "        zip_ref.extractall(DATA_DIR)\n",
    "\n",
    "def file_sizes(pathdir):\n",
    "    join = os.path.join\n",
    "    getsize = os.path.getsize\n",
    "    isfile = lambda f: os.path.isfile(join(pathdir, f))\n",
    "    files = filter(isfile, os.listdir(pathdir))\n",
    "    fsizes = [(f, getsize(join(pathdir, f)) / 1024 ** 2) for f in files]\n",
    "    return pd.DataFrame(fsizes, columns=['File Name', 'Size (MB)'])\n",
    "\n",
    "if OVERWRITE or not os.path.isdir(DATA_DIR) or not os.listdir(DATA_DIR):\n",
    "    extractall()\n",
    "\n",
    "file_sizes(DATA_DIR)"
   ]
  },
  {
   "cell_type": "markdown",
   "id": "da27e8ab",
   "metadata": {},
   "source": [
    "## Đọc dữ liệu từ file csv vào dataframe"
   ]
  },
  {
   "cell_type": "markdown",
   "id": "4ff51c37",
   "metadata": {},
   "source": [
    "### Tập dữ liệu anime"
   ]
  },
  {
   "cell_type": "code",
   "execution_count": 4,
   "id": "13b70f33",
   "metadata": {},
   "outputs": [
    {
     "data": {
      "text/html": [
       "<div>\n",
       "<style scoped>\n",
       "    .dataframe tbody tr th:only-of-type {\n",
       "        vertical-align: middle;\n",
       "    }\n",
       "\n",
       "    .dataframe tbody tr th {\n",
       "        vertical-align: top;\n",
       "    }\n",
       "\n",
       "    .dataframe thead th {\n",
       "        text-align: right;\n",
       "    }\n",
       "</style>\n",
       "<table border=\"1\" class=\"dataframe\">\n",
       "  <thead>\n",
       "    <tr style=\"text-align: right;\">\n",
       "      <th></th>\n",
       "      <th>uid</th>\n",
       "      <th>title</th>\n",
       "      <th>synopsis</th>\n",
       "      <th>genre</th>\n",
       "      <th>aired</th>\n",
       "      <th>episodes</th>\n",
       "      <th>members</th>\n",
       "      <th>popularity</th>\n",
       "      <th>ranked</th>\n",
       "      <th>score</th>\n",
       "      <th>img_url</th>\n",
       "      <th>link</th>\n",
       "    </tr>\n",
       "  </thead>\n",
       "  <tbody>\n",
       "    <tr>\n",
       "      <th>0</th>\n",
       "      <td>28891</td>\n",
       "      <td>Haikyuu!! Second Season</td>\n",
       "      <td>Following their participation at the Inter-Hig...</td>\n",
       "      <td>['Comedy', 'Sports', 'Drama', 'School', 'Shoun...</td>\n",
       "      <td>Oct 4, 2015 to Mar 27, 2016</td>\n",
       "      <td>25.0</td>\n",
       "      <td>489888</td>\n",
       "      <td>141</td>\n",
       "      <td>25.0</td>\n",
       "      <td>8.82</td>\n",
       "      <td>https://cdn.myanimelist.net/images/anime/9/766...</td>\n",
       "      <td>https://myanimelist.net/anime/28891/Haikyuu_Se...</td>\n",
       "    </tr>\n",
       "    <tr>\n",
       "      <th>1</th>\n",
       "      <td>23273</td>\n",
       "      <td>Shigatsu wa Kimi no Uso</td>\n",
       "      <td>Music accompanies the path of the human metron...</td>\n",
       "      <td>['Drama', 'Music', 'Romance', 'School', 'Shoun...</td>\n",
       "      <td>Oct 10, 2014 to Mar 20, 2015</td>\n",
       "      <td>22.0</td>\n",
       "      <td>995473</td>\n",
       "      <td>28</td>\n",
       "      <td>24.0</td>\n",
       "      <td>8.83</td>\n",
       "      <td>https://cdn.myanimelist.net/images/anime/3/671...</td>\n",
       "      <td>https://myanimelist.net/anime/23273/Shigatsu_w...</td>\n",
       "    </tr>\n",
       "    <tr>\n",
       "      <th>2</th>\n",
       "      <td>34599</td>\n",
       "      <td>Made in Abyss</td>\n",
       "      <td>The Abyss—a gaping chasm stretching down into ...</td>\n",
       "      <td>['Sci-Fi', 'Adventure', 'Mystery', 'Drama', 'F...</td>\n",
       "      <td>Jul 7, 2017 to Sep 29, 2017</td>\n",
       "      <td>13.0</td>\n",
       "      <td>581663</td>\n",
       "      <td>98</td>\n",
       "      <td>23.0</td>\n",
       "      <td>8.83</td>\n",
       "      <td>https://cdn.myanimelist.net/images/anime/6/867...</td>\n",
       "      <td>https://myanimelist.net/anime/34599/Made_in_Abyss</td>\n",
       "    </tr>\n",
       "    <tr>\n",
       "      <th>3</th>\n",
       "      <td>5114</td>\n",
       "      <td>Fullmetal Alchemist: Brotherhood</td>\n",
       "      <td>\"In order for something to be obtained, someth...</td>\n",
       "      <td>['Action', 'Military', 'Adventure', 'Comedy', ...</td>\n",
       "      <td>Apr 5, 2009 to Jul 4, 2010</td>\n",
       "      <td>64.0</td>\n",
       "      <td>1615084</td>\n",
       "      <td>4</td>\n",
       "      <td>1.0</td>\n",
       "      <td>9.23</td>\n",
       "      <td>https://cdn.myanimelist.net/images/anime/1223/...</td>\n",
       "      <td>https://myanimelist.net/anime/5114/Fullmetal_A...</td>\n",
       "    </tr>\n",
       "    <tr>\n",
       "      <th>4</th>\n",
       "      <td>31758</td>\n",
       "      <td>Kizumonogatari III: Reiketsu-hen</td>\n",
       "      <td>After helping revive the legendary vampire Kis...</td>\n",
       "      <td>['Action', 'Mystery', 'Supernatural', 'Vampire']</td>\n",
       "      <td>Jan 6, 2017</td>\n",
       "      <td>1.0</td>\n",
       "      <td>214621</td>\n",
       "      <td>502</td>\n",
       "      <td>22.0</td>\n",
       "      <td>8.83</td>\n",
       "      <td>https://cdn.myanimelist.net/images/anime/3/815...</td>\n",
       "      <td>https://myanimelist.net/anime/31758/Kizumonoga...</td>\n",
       "    </tr>\n",
       "  </tbody>\n",
       "</table>\n",
       "</div>"
      ],
      "text/plain": [
       "     uid                             title  \\\n",
       "0  28891           Haikyuu!! Second Season   \n",
       "1  23273           Shigatsu wa Kimi no Uso   \n",
       "2  34599                     Made in Abyss   \n",
       "3   5114  Fullmetal Alchemist: Brotherhood   \n",
       "4  31758  Kizumonogatari III: Reiketsu-hen   \n",
       "\n",
       "                                            synopsis  \\\n",
       "0  Following their participation at the Inter-Hig...   \n",
       "1  Music accompanies the path of the human metron...   \n",
       "2  The Abyss—a gaping chasm stretching down into ...   \n",
       "3  \"In order for something to be obtained, someth...   \n",
       "4  After helping revive the legendary vampire Kis...   \n",
       "\n",
       "                                               genre  \\\n",
       "0  ['Comedy', 'Sports', 'Drama', 'School', 'Shoun...   \n",
       "1  ['Drama', 'Music', 'Romance', 'School', 'Shoun...   \n",
       "2  ['Sci-Fi', 'Adventure', 'Mystery', 'Drama', 'F...   \n",
       "3  ['Action', 'Military', 'Adventure', 'Comedy', ...   \n",
       "4   ['Action', 'Mystery', 'Supernatural', 'Vampire']   \n",
       "\n",
       "                          aired  episodes  members  popularity  ranked  score  \\\n",
       "0   Oct 4, 2015 to Mar 27, 2016      25.0   489888         141    25.0   8.82   \n",
       "1  Oct 10, 2014 to Mar 20, 2015      22.0   995473          28    24.0   8.83   \n",
       "2   Jul 7, 2017 to Sep 29, 2017      13.0   581663          98    23.0   8.83   \n",
       "3    Apr 5, 2009 to Jul 4, 2010      64.0  1615084           4     1.0   9.23   \n",
       "4                   Jan 6, 2017       1.0   214621         502    22.0   8.83   \n",
       "\n",
       "                                             img_url  \\\n",
       "0  https://cdn.myanimelist.net/images/anime/9/766...   \n",
       "1  https://cdn.myanimelist.net/images/anime/3/671...   \n",
       "2  https://cdn.myanimelist.net/images/anime/6/867...   \n",
       "3  https://cdn.myanimelist.net/images/anime/1223/...   \n",
       "4  https://cdn.myanimelist.net/images/anime/3/815...   \n",
       "\n",
       "                                                link  \n",
       "0  https://myanimelist.net/anime/28891/Haikyuu_Se...  \n",
       "1  https://myanimelist.net/anime/23273/Shigatsu_w...  \n",
       "2  https://myanimelist.net/anime/34599/Made_in_Abyss  \n",
       "3  https://myanimelist.net/anime/5114/Fullmetal_A...  \n",
       "4  https://myanimelist.net/anime/31758/Kizumonoga...  "
      ]
     },
     "execution_count": 4,
     "metadata": {},
     "output_type": "execute_result"
    }
   ],
   "source": [
    "anime_df = pd.read_csv(ANIME_CSV)\n",
    "anime_df.head()"
   ]
  },
  {
   "cell_type": "markdown",
   "id": "90bf78f3",
   "metadata": {},
   "source": [
    "### Tập dữ liệu review\n",
    "\n",
    "Giải nén xong thì mình thấy file `reviews.csv` tới gần 700MB, nên mình sẽ không load trực tiếp mà sẽ xem trước có cái nào có thể lược bỏ để giảm bớt dung lượng"
   ]
  },
  {
   "cell_type": "code",
   "execution_count": 5,
   "id": "ae9d9bc7",
   "metadata": {},
   "outputs": [
    {
     "data": {
      "text/html": [
       "<div>\n",
       "<style scoped>\n",
       "    .dataframe tbody tr th:only-of-type {\n",
       "        vertical-align: middle;\n",
       "    }\n",
       "\n",
       "    .dataframe tbody tr th {\n",
       "        vertical-align: top;\n",
       "    }\n",
       "\n",
       "    .dataframe thead th {\n",
       "        text-align: right;\n",
       "    }\n",
       "</style>\n",
       "<table border=\"1\" class=\"dataframe\">\n",
       "  <thead>\n",
       "    <tr style=\"text-align: right;\">\n",
       "      <th></th>\n",
       "      <th>uid</th>\n",
       "      <th>profile</th>\n",
       "      <th>anime_uid</th>\n",
       "      <th>text</th>\n",
       "      <th>score</th>\n",
       "      <th>scores</th>\n",
       "      <th>link</th>\n",
       "    </tr>\n",
       "  </thead>\n",
       "  <tbody>\n",
       "    <tr>\n",
       "      <th>0</th>\n",
       "      <td>255938</td>\n",
       "      <td>DesolatePsyche</td>\n",
       "      <td>34096</td>\n",
       "      <td>\\n           \\n         \\n           \\n       ...</td>\n",
       "      <td>8</td>\n",
       "      <td>{'Overall': '8', 'Story': '8', 'Animation': '8...</td>\n",
       "      <td>https://myanimelist.net/reviews.php?id=255938</td>\n",
       "    </tr>\n",
       "    <tr>\n",
       "      <th>1</th>\n",
       "      <td>259117</td>\n",
       "      <td>baekbeans</td>\n",
       "      <td>34599</td>\n",
       "      <td>\\n           \\n         \\n           \\n       ...</td>\n",
       "      <td>10</td>\n",
       "      <td>{'Overall': '10', 'Story': '10', 'Animation': ...</td>\n",
       "      <td>https://myanimelist.net/reviews.php?id=259117</td>\n",
       "    </tr>\n",
       "    <tr>\n",
       "      <th>2</th>\n",
       "      <td>253664</td>\n",
       "      <td>skrn</td>\n",
       "      <td>28891</td>\n",
       "      <td>\\n           \\n         \\n           \\n       ...</td>\n",
       "      <td>7</td>\n",
       "      <td>{'Overall': '7', 'Story': '7', 'Animation': '9...</td>\n",
       "      <td>https://myanimelist.net/reviews.php?id=253664</td>\n",
       "    </tr>\n",
       "    <tr>\n",
       "      <th>3</th>\n",
       "      <td>8254</td>\n",
       "      <td>edgewalker00</td>\n",
       "      <td>2904</td>\n",
       "      <td>\\n           \\n         \\n           \\n       ...</td>\n",
       "      <td>9</td>\n",
       "      <td>{'Overall': '9', 'Story': '9', 'Animation': '9...</td>\n",
       "      <td>https://myanimelist.net/reviews.php?id=8254</td>\n",
       "    </tr>\n",
       "    <tr>\n",
       "      <th>4</th>\n",
       "      <td>291149</td>\n",
       "      <td>aManOfCulture99</td>\n",
       "      <td>4181</td>\n",
       "      <td>\\n           \\n         \\n           \\n       ...</td>\n",
       "      <td>10</td>\n",
       "      <td>{'Overall': '10', 'Story': '10', 'Animation': ...</td>\n",
       "      <td>https://myanimelist.net/reviews.php?id=291149</td>\n",
       "    </tr>\n",
       "  </tbody>\n",
       "</table>\n",
       "</div>"
      ],
      "text/plain": [
       "      uid          profile  anime_uid  \\\n",
       "0  255938   DesolatePsyche      34096   \n",
       "1  259117        baekbeans      34599   \n",
       "2  253664             skrn      28891   \n",
       "3    8254     edgewalker00       2904   \n",
       "4  291149  aManOfCulture99       4181   \n",
       "\n",
       "                                                text  score  \\\n",
       "0  \\n           \\n         \\n           \\n       ...      8   \n",
       "1  \\n           \\n         \\n           \\n       ...     10   \n",
       "2  \\n           \\n         \\n           \\n       ...      7   \n",
       "3  \\n           \\n         \\n           \\n       ...      9   \n",
       "4  \\n           \\n         \\n           \\n       ...     10   \n",
       "\n",
       "                                              scores  \\\n",
       "0  {'Overall': '8', 'Story': '8', 'Animation': '8...   \n",
       "1  {'Overall': '10', 'Story': '10', 'Animation': ...   \n",
       "2  {'Overall': '7', 'Story': '7', 'Animation': '9...   \n",
       "3  {'Overall': '9', 'Story': '9', 'Animation': '9...   \n",
       "4  {'Overall': '10', 'Story': '10', 'Animation': ...   \n",
       "\n",
       "                                            link  \n",
       "0  https://myanimelist.net/reviews.php?id=255938  \n",
       "1  https://myanimelist.net/reviews.php?id=259117  \n",
       "2  https://myanimelist.net/reviews.php?id=253664  \n",
       "3    https://myanimelist.net/reviews.php?id=8254  \n",
       "4  https://myanimelist.net/reviews.php?id=291149  "
      ]
     },
     "execution_count": 5,
     "metadata": {},
     "output_type": "execute_result"
    }
   ],
   "source": [
    "pd.read_csv(REVIEW_CSV, nrows=5)"
   ]
  },
  {
   "cell_type": "markdown",
   "id": "8d50a925",
   "metadata": {},
   "source": [
    "## Mỗi cột có ý nghĩa gì?"
   ]
  },
  {
   "cell_type": "markdown",
   "id": "28f21e6b",
   "metadata": {},
   "source": [
    "Mô tả trên kaggle về các cột trong file `animes.csv`:\n",
    "- **uid**: ID của anime\n",
    "- **title**: tiêu đề của anime\n",
    "- **synopsis**: giới thiệu nội dung của anime\n",
    "- **genre**: thể loại của anime\n",
    "- **aired**: ngày phát hành anime và ngày kết thúc của nó (nếu có)\n",
    "- **episodes**: tổng số tập của anime\n",
    "- **members**: tổng số thành viên trong cộng đồng quan tâm anime này\n",
    "- **popularity**: độ \"nổi tiếng\" của anime, số càng thấp thì càng nổi tiếng\n",
    "- **ranked**: xếp hạng của anime, số càng thấp hạng càng cao và anime đó càng hay\n",
    "- **score**: điểm đánh giá anime trên thang điểm 10 từ trang myanimelist\n",
    "- **img_url**: link ảnh bìa của anime\n",
    "- **link**: link đến anime trên myanimelist"
   ]
  },
  {
   "cell_type": "markdown",
   "id": "0bd7c0de",
   "metadata": {},
   "source": [
    "Mô tả trên kaggle về các cột trong file `reviews.csv`:\n",
    "- **uid**: ID của bài review\n",
    "- **profile**: tên của user thực hiện review\n",
    "- **anime_uid**: ID của anime được review\n",
    "- **text**: đoạn văn nội dung mà user đó review\n",
    "- **score**: điểm tổng quát user này đã đánh giá cho anime\n",
    "- **scores**: điểm chi tiết từng phần mà user này đã đánh giá cho anime bao gồm\n",
    "    - Overall: điểm tổng\n",
    "    - Story: cốt truyện\n",
    "    - Animation: đồ họa, nét vẽ\n",
    "    - Sound: âm thanh\n",
    "    - Character: xây dựng nhân vật\n",
    "    - Enjoyment: độ giải trí\n",
    "- **link**: đường dẫn URL đến bài review này"
   ]
  },
  {
   "cell_type": "markdown",
   "id": "932a870d",
   "metadata": {},
   "source": [
    "## Loại bỏ các cột không dùng đến\n",
    "\n",
    "Trong phạm vi môn học, mình sẽ bỏ qua các cột cần dùng đến kỹ thuật xử lý ngôn ngữ tự nhiên cũng như các cột liên quan đến URL. Ngoài ra ở file `reviews.csv` ta cũng bỏ đi cột điểm chi tiết **scores** vì ta chỉ làm các phân tích đơn giản, không đi sâu vào chi tiết. Việc bỏ các cột này giúp ta chạy code nhanh hơn vì các cột này rất nặng. Như vậy đối với mỗi tập dữ liệu sẽ bỏ các cột sau:\n",
    "\n",
    "- **anime**: synopsis, img_url, link\n",
    "- **review**: text, link, scores\n",
    "\n",
    "Đối với **review** thì do file khá lớn nên mình sẽ load theo từng chunk, loại bỏ các cột không cần thiết và lưu nó vào file `ratings.csv`"
   ]
  },
  {
   "cell_type": "code",
   "execution_count": 6,
   "id": "d6c990dd",
   "metadata": {},
   "outputs": [
    {
     "name": "stdout",
     "output_type": "stream",
     "text": [
      "File name: ratings.csv\n",
      "Size (MB): 4.582756996154785\n"
     ]
    }
   ],
   "source": [
    "# Loại bỏ cột text và link trong review\n",
    "RATING_CSV = os.path.join(DATA_DIR, 'ratings.csv')\n",
    "\n",
    "def review_to_rating():\n",
    "    is_first = True\n",
    "    for chunk in pd.read_csv(REVIEW_CSV, chunksize=1000):\n",
    "        chunk.drop(columns=['text', 'link', 'scores'], inplace=True)\n",
    "        chunk.to_csv(RATING_CSV, mode='a', index=False, header=is_first)\n",
    "        is_first = False\n",
    "\n",
    "if not os.path.isfile(RATING_CSV):\n",
    "    review_to_rating()\n",
    "\n",
    "print(\"File name: ratings.csv\")\n",
    "print(\"Size (MB):\", os.path.getsize(RATING_CSV) / 1024 ** 2)"
   ]
  },
  {
   "cell_type": "markdown",
   "id": "f191697e",
   "metadata": {},
   "source": [
    "### Tập dữ liệu rating"
   ]
  },
  {
   "cell_type": "code",
   "execution_count": 7,
   "id": "46df77ee",
   "metadata": {},
   "outputs": [
    {
     "data": {
      "text/html": [
       "<div>\n",
       "<style scoped>\n",
       "    .dataframe tbody tr th:only-of-type {\n",
       "        vertical-align: middle;\n",
       "    }\n",
       "\n",
       "    .dataframe tbody tr th {\n",
       "        vertical-align: top;\n",
       "    }\n",
       "\n",
       "    .dataframe thead th {\n",
       "        text-align: right;\n",
       "    }\n",
       "</style>\n",
       "<table border=\"1\" class=\"dataframe\">\n",
       "  <thead>\n",
       "    <tr style=\"text-align: right;\">\n",
       "      <th></th>\n",
       "      <th>uid</th>\n",
       "      <th>profile</th>\n",
       "      <th>anime_uid</th>\n",
       "      <th>score</th>\n",
       "    </tr>\n",
       "  </thead>\n",
       "  <tbody>\n",
       "    <tr>\n",
       "      <th>0</th>\n",
       "      <td>255938</td>\n",
       "      <td>DesolatePsyche</td>\n",
       "      <td>34096</td>\n",
       "      <td>8</td>\n",
       "    </tr>\n",
       "    <tr>\n",
       "      <th>1</th>\n",
       "      <td>259117</td>\n",
       "      <td>baekbeans</td>\n",
       "      <td>34599</td>\n",
       "      <td>10</td>\n",
       "    </tr>\n",
       "    <tr>\n",
       "      <th>2</th>\n",
       "      <td>253664</td>\n",
       "      <td>skrn</td>\n",
       "      <td>28891</td>\n",
       "      <td>7</td>\n",
       "    </tr>\n",
       "    <tr>\n",
       "      <th>3</th>\n",
       "      <td>8254</td>\n",
       "      <td>edgewalker00</td>\n",
       "      <td>2904</td>\n",
       "      <td>9</td>\n",
       "    </tr>\n",
       "    <tr>\n",
       "      <th>4</th>\n",
       "      <td>291149</td>\n",
       "      <td>aManOfCulture99</td>\n",
       "      <td>4181</td>\n",
       "      <td>10</td>\n",
       "    </tr>\n",
       "  </tbody>\n",
       "</table>\n",
       "</div>"
      ],
      "text/plain": [
       "      uid          profile  anime_uid  score\n",
       "0  255938   DesolatePsyche      34096      8\n",
       "1  259117        baekbeans      34599     10\n",
       "2  253664             skrn      28891      7\n",
       "3    8254     edgewalker00       2904      9\n",
       "4  291149  aManOfCulture99       4181     10"
      ]
     },
     "execution_count": 7,
     "metadata": {},
     "output_type": "execute_result"
    }
   ],
   "source": [
    "rating_df = pd.read_csv(RATING_CSV)\n",
    "rating_df.head()"
   ]
  },
  {
   "cell_type": "markdown",
   "id": "5bef9716",
   "metadata": {},
   "source": [
    "So với file `reviews.csv` thì file `ratings.csv` nhỏ hơn rất nhiều, có thể load vào DataFrame mà không cần chia chunk nữa"
   ]
  },
  {
   "cell_type": "code",
   "execution_count": 8,
   "id": "30fa3330",
   "metadata": {},
   "outputs": [
    {
     "data": {
      "text/html": [
       "<div>\n",
       "<style scoped>\n",
       "    .dataframe tbody tr th:only-of-type {\n",
       "        vertical-align: middle;\n",
       "    }\n",
       "\n",
       "    .dataframe tbody tr th {\n",
       "        vertical-align: top;\n",
       "    }\n",
       "\n",
       "    .dataframe thead th {\n",
       "        text-align: right;\n",
       "    }\n",
       "</style>\n",
       "<table border=\"1\" class=\"dataframe\">\n",
       "  <thead>\n",
       "    <tr style=\"text-align: right;\">\n",
       "      <th></th>\n",
       "      <th>uid</th>\n",
       "      <th>title</th>\n",
       "      <th>genre</th>\n",
       "      <th>aired</th>\n",
       "      <th>episodes</th>\n",
       "      <th>members</th>\n",
       "      <th>popularity</th>\n",
       "      <th>ranked</th>\n",
       "      <th>score</th>\n",
       "    </tr>\n",
       "  </thead>\n",
       "  <tbody>\n",
       "    <tr>\n",
       "      <th>0</th>\n",
       "      <td>28891</td>\n",
       "      <td>Haikyuu!! Second Season</td>\n",
       "      <td>['Comedy', 'Sports', 'Drama', 'School', 'Shoun...</td>\n",
       "      <td>Oct 4, 2015 to Mar 27, 2016</td>\n",
       "      <td>25.0</td>\n",
       "      <td>489888</td>\n",
       "      <td>141</td>\n",
       "      <td>25.0</td>\n",
       "      <td>8.82</td>\n",
       "    </tr>\n",
       "    <tr>\n",
       "      <th>1</th>\n",
       "      <td>23273</td>\n",
       "      <td>Shigatsu wa Kimi no Uso</td>\n",
       "      <td>['Drama', 'Music', 'Romance', 'School', 'Shoun...</td>\n",
       "      <td>Oct 10, 2014 to Mar 20, 2015</td>\n",
       "      <td>22.0</td>\n",
       "      <td>995473</td>\n",
       "      <td>28</td>\n",
       "      <td>24.0</td>\n",
       "      <td>8.83</td>\n",
       "    </tr>\n",
       "    <tr>\n",
       "      <th>2</th>\n",
       "      <td>34599</td>\n",
       "      <td>Made in Abyss</td>\n",
       "      <td>['Sci-Fi', 'Adventure', 'Mystery', 'Drama', 'F...</td>\n",
       "      <td>Jul 7, 2017 to Sep 29, 2017</td>\n",
       "      <td>13.0</td>\n",
       "      <td>581663</td>\n",
       "      <td>98</td>\n",
       "      <td>23.0</td>\n",
       "      <td>8.83</td>\n",
       "    </tr>\n",
       "    <tr>\n",
       "      <th>3</th>\n",
       "      <td>5114</td>\n",
       "      <td>Fullmetal Alchemist: Brotherhood</td>\n",
       "      <td>['Action', 'Military', 'Adventure', 'Comedy', ...</td>\n",
       "      <td>Apr 5, 2009 to Jul 4, 2010</td>\n",
       "      <td>64.0</td>\n",
       "      <td>1615084</td>\n",
       "      <td>4</td>\n",
       "      <td>1.0</td>\n",
       "      <td>9.23</td>\n",
       "    </tr>\n",
       "    <tr>\n",
       "      <th>4</th>\n",
       "      <td>31758</td>\n",
       "      <td>Kizumonogatari III: Reiketsu-hen</td>\n",
       "      <td>['Action', 'Mystery', 'Supernatural', 'Vampire']</td>\n",
       "      <td>Jan 6, 2017</td>\n",
       "      <td>1.0</td>\n",
       "      <td>214621</td>\n",
       "      <td>502</td>\n",
       "      <td>22.0</td>\n",
       "      <td>8.83</td>\n",
       "    </tr>\n",
       "  </tbody>\n",
       "</table>\n",
       "</div>"
      ],
      "text/plain": [
       "     uid                             title  \\\n",
       "0  28891           Haikyuu!! Second Season   \n",
       "1  23273           Shigatsu wa Kimi no Uso   \n",
       "2  34599                     Made in Abyss   \n",
       "3   5114  Fullmetal Alchemist: Brotherhood   \n",
       "4  31758  Kizumonogatari III: Reiketsu-hen   \n",
       "\n",
       "                                               genre  \\\n",
       "0  ['Comedy', 'Sports', 'Drama', 'School', 'Shoun...   \n",
       "1  ['Drama', 'Music', 'Romance', 'School', 'Shoun...   \n",
       "2  ['Sci-Fi', 'Adventure', 'Mystery', 'Drama', 'F...   \n",
       "3  ['Action', 'Military', 'Adventure', 'Comedy', ...   \n",
       "4   ['Action', 'Mystery', 'Supernatural', 'Vampire']   \n",
       "\n",
       "                          aired  episodes  members  popularity  ranked  score  \n",
       "0   Oct 4, 2015 to Mar 27, 2016      25.0   489888         141    25.0   8.82  \n",
       "1  Oct 10, 2014 to Mar 20, 2015      22.0   995473          28    24.0   8.83  \n",
       "2   Jul 7, 2017 to Sep 29, 2017      13.0   581663          98    23.0   8.83  \n",
       "3    Apr 5, 2009 to Jul 4, 2010      64.0  1615084           4     1.0   9.23  \n",
       "4                   Jan 6, 2017       1.0   214621         502    22.0   8.83  "
      ]
     },
     "execution_count": 8,
     "metadata": {},
     "output_type": "execute_result"
    }
   ],
   "source": [
    "# Loại bỏ cột synopsis, img_url, link trong anime\n",
    "anime_df.drop(columns=['synopsis', 'img_url', 'link'], inplace=True)\n",
    "anime_df.head()"
   ]
  },
  {
   "cell_type": "markdown",
   "id": "b94ea348",
   "metadata": {},
   "source": [
    "## Số dòng, số cột của tập dữ liệu"
   ]
  },
  {
   "cell_type": "markdown",
   "id": "8476bb04",
   "metadata": {},
   "source": [
    "### Tập dữ liệu anime"
   ]
  },
  {
   "cell_type": "code",
   "execution_count": 9,
   "id": "212b0edc",
   "metadata": {},
   "outputs": [
    {
     "name": "stdout",
     "output_type": "stream",
     "text": [
      "Số dòng: 19311\n",
      "Số cột: 9\n"
     ]
    }
   ],
   "source": [
    "anime_num_rows, anime_num_cols = anime_df.shape\n",
    "print('Số dòng:', anime_num_rows)\n",
    "print('Số cột:', anime_num_cols)"
   ]
  },
  {
   "cell_type": "markdown",
   "id": "d8690053",
   "metadata": {},
   "source": [
    "### Tập dữ liệu rating"
   ]
  },
  {
   "cell_type": "code",
   "execution_count": 10,
   "id": "aa62a6ce",
   "metadata": {},
   "outputs": [
    {
     "name": "stdout",
     "output_type": "stream",
     "text": [
      "Số dòng: 192112\n",
      "Số cột: 4\n"
     ]
    }
   ],
   "source": [
    "rating_num_rows, rating_num_cols = rating_df.shape\n",
    "print('Số dòng:', rating_num_rows)\n",
    "print('Số cột:', rating_num_cols)"
   ]
  },
  {
   "cell_type": "markdown",
   "id": "bc92fed1",
   "metadata": {},
   "source": [
    "### Nhận xét\n",
    "\n",
    "Có vẻ số dòng từ cả 2 tập dữ liệu `anime_df` và `rating_df` trả về khá khác so với mô tả:\n",
    "- `anime_df`: 19000 so với 16000\n",
    "- `rating_df`: 190000 so với 130000.  \n",
    "\n",
    "**Lưu ý**: tập dữ liệu `ratings.csv` không khác nhau về số dòng so với tập dữ liệu `reviews.csv`"
   ]
  },
  {
   "cell_type": "code",
   "execution_count": 11,
   "id": "0144f9ba",
   "metadata": {},
   "outputs": [],
   "source": [
    "# Chứng minh số dòng của rating.csv không khác so với review.csv\n",
    "import csv\n",
    "with open(REVIEW_CSV, 'r') as f:\n",
    "    csvreader = csv.reader(f)\n",
    "    next(csvreader) # Bỏ qua header\n",
    "    assert rating_num_rows == sum(1 for row in csvreader)"
   ]
  },
  {
   "cell_type": "markdown",
   "id": "f9c5dc35",
   "metadata": {},
   "source": [
    "## Mỗi dòng có ý nghĩa gì? Có vấn đề các dòng có ý nghĩa khác nhau không?\n",
    "\n",
    "- Tập dữ liệu anime: mỗi dòng trong tập này là thông tin của một anime viết bởi trang myanimelist.net\n",
    "- Tập dữ liệu review: mỗi dòng trong tập này là thông tin về review của một user dành cho một anime trên trang myanimelist.net\n",
    "\n",
    "Có vẻ như mỗi dòng trong các tập không có gì bất ổn."
   ]
  },
  {
   "cell_type": "markdown",
   "id": "cf5426a2",
   "metadata": {},
   "source": [
    "## Dữ liệu có các dòng bị lặp không?"
   ]
  },
  {
   "cell_type": "code",
   "execution_count": 12,
   "id": "485ebcd3",
   "metadata": {},
   "outputs": [
    {
     "data": {
      "text/html": [
       "<div>\n",
       "<style scoped>\n",
       "    .dataframe tbody tr th:only-of-type {\n",
       "        vertical-align: middle;\n",
       "    }\n",
       "\n",
       "    .dataframe tbody tr th {\n",
       "        vertical-align: top;\n",
       "    }\n",
       "\n",
       "    .dataframe thead th {\n",
       "        text-align: right;\n",
       "    }\n",
       "</style>\n",
       "<table border=\"1\" class=\"dataframe\">\n",
       "  <thead>\n",
       "    <tr style=\"text-align: right;\">\n",
       "      <th></th>\n",
       "      <th>Dataset</th>\n",
       "      <th>Duplicate count</th>\n",
       "    </tr>\n",
       "  </thead>\n",
       "  <tbody>\n",
       "    <tr>\n",
       "      <th>0</th>\n",
       "      <td>Anime</td>\n",
       "      <td>2943</td>\n",
       "    </tr>\n",
       "    <tr>\n",
       "      <th>1</th>\n",
       "      <td>Rating</td>\n",
       "      <td>61593</td>\n",
       "    </tr>\n",
       "  </tbody>\n",
       "</table>\n",
       "</div>"
      ],
      "text/plain": [
       "  Dataset  Duplicate count\n",
       "0   Anime             2943\n",
       "1  Rating            61593"
      ]
     },
     "execution_count": 12,
     "metadata": {},
     "output_type": "execute_result"
    }
   ],
   "source": [
    "anime_has_dup_rows = np.sum(anime_df.duplicated())\n",
    "rating_has_dup_rows = np.sum(rating_df.duplicated())\n",
    "\n",
    "pd.DataFrame({'Dataset': ['Anime', 'Rating'],\n",
    "             'Duplicate count': [anime_has_dup_rows,\n",
    "                                 rating_has_dup_rows]})\n"
   ]
  },
  {
   "cell_type": "markdown",
   "id": "f059cdc9",
   "metadata": {},
   "source": [
    "### Kiểu dữ liệu của từng cột"
   ]
  },
  {
   "cell_type": "markdown",
   "id": "a014ca5e",
   "metadata": {},
   "source": [
    "#### Tập dữ liệu anime"
   ]
  },
  {
   "cell_type": "code",
   "execution_count": 13,
   "id": "7a0fd0ce",
   "metadata": {
    "scrolled": true
   },
   "outputs": [
    {
     "data": {
      "text/plain": [
       "uid             int64\n",
       "title          object\n",
       "genre          object\n",
       "aired          object\n",
       "episodes      float64\n",
       "members         int64\n",
       "popularity      int64\n",
       "ranked        float64\n",
       "score         float64\n",
       "dtype: object"
      ]
     },
     "execution_count": 13,
     "metadata": {},
     "output_type": "execute_result"
    }
   ],
   "source": [
    "# Xem kiểu dữ liệu của từng cột tập anime\n",
    "anime_df.dtypes"
   ]
  },
  {
   "cell_type": "markdown",
   "id": "fb5a5e8f",
   "metadata": {},
   "source": [
    "#### Tập dữ liệu review"
   ]
  },
  {
   "cell_type": "code",
   "execution_count": 14,
   "id": "6d8cd5aa",
   "metadata": {},
   "outputs": [
    {
     "data": {
      "text/plain": [
       "uid           int64\n",
       "profile      object\n",
       "anime_uid     int64\n",
       "score         int64\n",
       "dtype: object"
      ]
     },
     "execution_count": 14,
     "metadata": {},
     "output_type": "execute_result"
    }
   ],
   "source": [
    "# Xem kiểu dữ liệu của từng cột tập review\n",
    "rating_df.dtypes"
   ]
  },
  {
   "cell_type": "markdown",
   "id": "51917a47",
   "metadata": {},
   "source": [
    "### Phân tích rõ hơn các cột có kiểu dữ liệu object"
   ]
  },
  {
   "cell_type": "markdown",
   "id": "1cf41dd6",
   "metadata": {},
   "source": [
    "#### Tập dữ liệu anime"
   ]
  },
  {
   "cell_type": "code",
   "execution_count": 15,
   "id": "e929856d",
   "metadata": {
    "scrolled": true
   },
   "outputs": [
    {
     "name": "stdout",
     "output_type": "stream",
     "text": [
      "title: {<class 'str'>}\n",
      "genre: {<class 'str'>}\n",
      "aired: {<class 'str'>}\n"
     ]
    }
   ],
   "source": [
    "def open_object_dtype(s):\n",
    "    return set(s.apply(type))\n",
    "    \n",
    "print('title:', open_object_dtype(anime_df['title']))\n",
    "print('genre:', open_object_dtype(anime_df['genre']))\n",
    "print('aired:', open_object_dtype(anime_df['aired']))"
   ]
  },
  {
   "cell_type": "markdown",
   "id": "576d5851",
   "metadata": {},
   "source": [
    "#### Tập dữ liệu rating"
   ]
  },
  {
   "cell_type": "code",
   "execution_count": 16,
   "id": "1e9ff741",
   "metadata": {},
   "outputs": [
    {
     "name": "stdout",
     "output_type": "stream",
     "text": [
      "profile: {<class 'str'>}\n"
     ]
    }
   ],
   "source": [
    "print('profile:', open_object_dtype(rating_df['profile']))"
   ]
  },
  {
   "cell_type": "markdown",
   "id": "b203449e",
   "metadata": {},
   "source": [
    "**Các vấn đề cần tiền xử lý:**\n",
    "- Loại bỏ các dòng bị lặp\n",
    "- Chuyển dtype cột `genre` sang list of string\n",
    "- Chuyển dtype cột `aired` sang loại dữ liệu thích hợp"
   ]
  },
  {
   "cell_type": "markdown",
   "id": "1f2e7f51",
   "metadata": {},
   "source": [
    "---\n",
    "\n",
    "# Tiền xử lý"
   ]
  },
  {
   "cell_type": "markdown",
   "id": "58cac884",
   "metadata": {},
   "source": [
    "## Loại bỏ các dòng bị lặp"
   ]
  },
  {
   "cell_type": "code",
   "execution_count": 17,
   "id": "17929945",
   "metadata": {},
   "outputs": [],
   "source": [
    "# Loại bỏ các dòng bị duplicate\n",
    "anime_df = anime_df.drop_duplicates(subset=['uid'])\n",
    "rating_df = rating_df.drop_duplicates()"
   ]
  },
  {
   "cell_type": "code",
   "execution_count": 18,
   "id": "b85cbed3",
   "metadata": {},
   "outputs": [
    {
     "data": {
      "text/html": [
       "<div>\n",
       "<style scoped>\n",
       "    .dataframe tbody tr th:only-of-type {\n",
       "        vertical-align: middle;\n",
       "    }\n",
       "\n",
       "    .dataframe tbody tr th {\n",
       "        vertical-align: top;\n",
       "    }\n",
       "\n",
       "    .dataframe thead th {\n",
       "        text-align: right;\n",
       "    }\n",
       "</style>\n",
       "<table border=\"1\" class=\"dataframe\">\n",
       "  <thead>\n",
       "    <tr style=\"text-align: right;\">\n",
       "      <th></th>\n",
       "      <th>Dataset</th>\n",
       "      <th>Duplicate count</th>\n",
       "    </tr>\n",
       "  </thead>\n",
       "  <tbody>\n",
       "    <tr>\n",
       "      <th>0</th>\n",
       "      <td>Anime</td>\n",
       "      <td>0</td>\n",
       "    </tr>\n",
       "    <tr>\n",
       "      <th>1</th>\n",
       "      <td>Rating</td>\n",
       "      <td>0</td>\n",
       "    </tr>\n",
       "  </tbody>\n",
       "</table>\n",
       "</div>"
      ],
      "text/plain": [
       "  Dataset  Duplicate count\n",
       "0   Anime                0\n",
       "1  Rating                0"
      ]
     },
     "execution_count": 18,
     "metadata": {},
     "output_type": "execute_result"
    }
   ],
   "source": [
    "# In lại số dòng bị lặp sau khi loại bỏ duplicate để check\n",
    "anime_has_dup_rows = np.sum(anime_df.duplicated())\n",
    "rating_has_dup_rows = np.sum(rating_df.duplicated())\n",
    "\n",
    "pd.DataFrame({'Dataset': ['Anime', 'Rating'],\n",
    "             'Duplicate count': [anime_has_dup_rows,\n",
    "                                 rating_has_dup_rows]})\n"
   ]
  },
  {
   "cell_type": "markdown",
   "id": "c65dd7f7",
   "metadata": {},
   "source": [
    "## Chuyển đổi dtype của các cột"
   ]
  },
  {
   "cell_type": "markdown",
   "id": "bbb80a85",
   "metadata": {},
   "source": [
    "### Chuyển dtype cột genre sang list of string"
   ]
  },
  {
   "cell_type": "code",
   "execution_count": 19,
   "id": "f015019b",
   "metadata": {},
   "outputs": [
    {
     "data": {
      "text/html": [
       "<div>\n",
       "<style scoped>\n",
       "    .dataframe tbody tr th:only-of-type {\n",
       "        vertical-align: middle;\n",
       "    }\n",
       "\n",
       "    .dataframe tbody tr th {\n",
       "        vertical-align: top;\n",
       "    }\n",
       "\n",
       "    .dataframe thead th {\n",
       "        text-align: right;\n",
       "    }\n",
       "</style>\n",
       "<table border=\"1\" class=\"dataframe\">\n",
       "  <thead>\n",
       "    <tr style=\"text-align: right;\">\n",
       "      <th></th>\n",
       "      <th>uid</th>\n",
       "      <th>title</th>\n",
       "      <th>genre</th>\n",
       "      <th>aired</th>\n",
       "      <th>episodes</th>\n",
       "      <th>members</th>\n",
       "      <th>popularity</th>\n",
       "      <th>ranked</th>\n",
       "      <th>score</th>\n",
       "    </tr>\n",
       "  </thead>\n",
       "  <tbody>\n",
       "    <tr>\n",
       "      <th>0</th>\n",
       "      <td>28891</td>\n",
       "      <td>Haikyuu!! Second Season</td>\n",
       "      <td>[Comedy, Sports, Drama, School, Shounen]</td>\n",
       "      <td>Oct 4, 2015 to Mar 27, 2016</td>\n",
       "      <td>25.0</td>\n",
       "      <td>489888</td>\n",
       "      <td>141</td>\n",
       "      <td>25.0</td>\n",
       "      <td>8.82</td>\n",
       "    </tr>\n",
       "    <tr>\n",
       "      <th>1</th>\n",
       "      <td>23273</td>\n",
       "      <td>Shigatsu wa Kimi no Uso</td>\n",
       "      <td>[Drama, Music, Romance, School, Shounen]</td>\n",
       "      <td>Oct 10, 2014 to Mar 20, 2015</td>\n",
       "      <td>22.0</td>\n",
       "      <td>995473</td>\n",
       "      <td>28</td>\n",
       "      <td>24.0</td>\n",
       "      <td>8.83</td>\n",
       "    </tr>\n",
       "    <tr>\n",
       "      <th>2</th>\n",
       "      <td>34599</td>\n",
       "      <td>Made in Abyss</td>\n",
       "      <td>[Sci-Fi, Adventure, Mystery, Drama, Fantasy]</td>\n",
       "      <td>Jul 7, 2017 to Sep 29, 2017</td>\n",
       "      <td>13.0</td>\n",
       "      <td>581663</td>\n",
       "      <td>98</td>\n",
       "      <td>23.0</td>\n",
       "      <td>8.83</td>\n",
       "    </tr>\n",
       "    <tr>\n",
       "      <th>3</th>\n",
       "      <td>5114</td>\n",
       "      <td>Fullmetal Alchemist: Brotherhood</td>\n",
       "      <td>[Action, Military, Adventure, Comedy, Drama, M...</td>\n",
       "      <td>Apr 5, 2009 to Jul 4, 2010</td>\n",
       "      <td>64.0</td>\n",
       "      <td>1615084</td>\n",
       "      <td>4</td>\n",
       "      <td>1.0</td>\n",
       "      <td>9.23</td>\n",
       "    </tr>\n",
       "    <tr>\n",
       "      <th>4</th>\n",
       "      <td>31758</td>\n",
       "      <td>Kizumonogatari III: Reiketsu-hen</td>\n",
       "      <td>[Action, Mystery, Supernatural, Vampire]</td>\n",
       "      <td>Jan 6, 2017</td>\n",
       "      <td>1.0</td>\n",
       "      <td>214621</td>\n",
       "      <td>502</td>\n",
       "      <td>22.0</td>\n",
       "      <td>8.83</td>\n",
       "    </tr>\n",
       "  </tbody>\n",
       "</table>\n",
       "</div>"
      ],
      "text/plain": [
       "     uid                             title  \\\n",
       "0  28891           Haikyuu!! Second Season   \n",
       "1  23273           Shigatsu wa Kimi no Uso   \n",
       "2  34599                     Made in Abyss   \n",
       "3   5114  Fullmetal Alchemist: Brotherhood   \n",
       "4  31758  Kizumonogatari III: Reiketsu-hen   \n",
       "\n",
       "                                               genre  \\\n",
       "0           [Comedy, Sports, Drama, School, Shounen]   \n",
       "1           [Drama, Music, Romance, School, Shounen]   \n",
       "2       [Sci-Fi, Adventure, Mystery, Drama, Fantasy]   \n",
       "3  [Action, Military, Adventure, Comedy, Drama, M...   \n",
       "4           [Action, Mystery, Supernatural, Vampire]   \n",
       "\n",
       "                          aired  episodes  members  popularity  ranked  score  \n",
       "0   Oct 4, 2015 to Mar 27, 2016      25.0   489888         141    25.0   8.82  \n",
       "1  Oct 10, 2014 to Mar 20, 2015      22.0   995473          28    24.0   8.83  \n",
       "2   Jul 7, 2017 to Sep 29, 2017      13.0   581663          98    23.0   8.83  \n",
       "3    Apr 5, 2009 to Jul 4, 2010      64.0  1615084           4     1.0   9.23  \n",
       "4                   Jan 6, 2017       1.0   214621         502    22.0   8.83  "
      ]
     },
     "execution_count": 19,
     "metadata": {},
     "output_type": "execute_result"
    }
   ],
   "source": [
    "anime_df['genre'] = anime_df.apply({'genre': ast.literal_eval})\n",
    "anime_df.head()\n"
   ]
  },
  {
   "cell_type": "markdown",
   "id": "2814ccb9",
   "metadata": {},
   "source": [
    "### Chuyển dtype cột aired sang dữ liệu thích hợp"
   ]
  },
  {
   "cell_type": "markdown",
   "id": "87e6a758",
   "metadata": {},
   "source": [
    "**Xem format của cột này trong tập dữ liệu**"
   ]
  },
  {
   "cell_type": "code",
   "execution_count": 20,
   "id": "70eab375",
   "metadata": {},
   "outputs": [
    {
     "data": {
      "text/plain": [
       "5488      Apr 6, 2014 to Mar 26, 2017\n",
       "7826                      Aug 3, 1987\n",
       "13919                            1999\n",
       "14955                   Not available\n",
       "5807       Nov 9, 1991 to Sep 5, 1992\n",
       "12280     Oct 2, 2016 to Sep 17, 2016\n",
       "17676                    Jan 27, 2017\n",
       "18168                     Aug 4, 2018\n",
       "5901                     Jun 27, 2018\n",
       "4453     Mar 16, 1991 to Aug 22, 1991\n",
       "Name: aired, dtype: object"
      ]
     },
     "execution_count": 20,
     "metadata": {},
     "output_type": "execute_result"
    }
   ],
   "source": [
    "anime_df['aired'].sample(10)"
   ]
  },
  {
   "cell_type": "markdown",
   "id": "01b73ce3",
   "metadata": {},
   "source": [
    "Sau khi lấy 10 mẫu ngẫu nhiên của cột này khoảng 10 lần thì có thể rút ra như sau:\n",
    "- Định dạng trong pandas cột sử dụng là `%b %d, %Y`\n",
    "- Có mẫu có cả ngày bắt đầu và kết thúc, có mẫu chỉ có ngày bắt đầu\n",
    "- Đa phần các mẫu đều đầy đủ ngày tháng năm, tuy nhiên có vài mẫu chỉ có tháng và năm, thậm chỉ chỉ có năm.\n",
    "\n",
    "Trong phạm vi đồ án, ta chỉ quan tâm đến thời điểm anime đó bắt đầu. Như vậy,đầu tiên ta sẽ trích xuất thời điểm bắt đầu trước rồi sau đó chuyển sang `datetime` theo định dạng `%b %d, %Y` thử, các giá trị thiếu ngày hoặc thiếu tháng ta sẽ tạm để NaN và đếm xem có bao nhiêu mẫu có giá trị như vậy."
   ]
  },
  {
   "cell_type": "code",
   "execution_count": 21,
   "id": "15f20c32",
   "metadata": {},
   "outputs": [
    {
     "data": {
      "text/plain": [
       "0       2015-10-04\n",
       "1       2014-10-10\n",
       "2       2017-07-07\n",
       "3       2009-04-05\n",
       "4       2017-01-06\n",
       "           ...    \n",
       "19002   2011-01-01\n",
       "19003   2018-01-12\n",
       "19004   2011-09-27\n",
       "19005   2016-07-09\n",
       "19006   2013-06-19\n",
       "Name: aired, Length: 16216, dtype: datetime64[ns]"
      ]
     },
     "execution_count": 21,
     "metadata": {},
     "output_type": "execute_result"
    }
   ],
   "source": [
    "# Dùng regular expresion trích xuất ngày bắt đầu\n",
    "start_date = anime_df['aired'].str.extract(r\"^([a-zA-Z]{3}\\s\\d{1,2},\\s\\d{4})\",\n",
    "                                           expand=False  # Trả về Series\n",
    "                                           )\n",
    "\n",
    "start_date = pd.to_datetime(start_date,\n",
    "                            format='%b %d, %Y',\n",
    "                            errors='ignore'  # Bỏ qua NaN\n",
    "                            )\n",
    "\n",
    "start_date\n"
   ]
  },
  {
   "cell_type": "code",
   "execution_count": 22,
   "id": "06deeec0",
   "metadata": {
    "scrolled": true
   },
   "outputs": [
    {
     "data": {
      "text/plain": [
       "1946"
      ]
     },
     "execution_count": 22,
     "metadata": {},
     "output_type": "execute_result"
    }
   ],
   "source": [
    "# Đếm số dòng không đầy đủ ngày hoặc tháng\n",
    "start_date.isnull().sum()"
   ]
  },
  {
   "cell_type": "markdown",
   "id": "5ff5dc84",
   "metadata": {},
   "source": [
    "Để đảm bảo nhận định việc cột `aired` có các mẫu thiếu ngày hoặc tháng, ta thử xem lại các dòng NaN trong **start_date** thì trong tập dữ liệu `anime_df`, các dòng này sẽ có dữ liệu như thế nào."
   ]
  },
  {
   "cell_type": "code",
   "execution_count": 23,
   "id": "d7328bc2",
   "metadata": {
    "scrolled": false
   },
   "outputs": [
    {
     "data": {
      "text/html": [
       "<div>\n",
       "<style scoped>\n",
       "    .dataframe tbody tr th:only-of-type {\n",
       "        vertical-align: middle;\n",
       "    }\n",
       "\n",
       "    .dataframe tbody tr th {\n",
       "        vertical-align: top;\n",
       "    }\n",
       "\n",
       "    .dataframe thead th {\n",
       "        text-align: right;\n",
       "    }\n",
       "</style>\n",
       "<table border=\"1\" class=\"dataframe\">\n",
       "  <thead>\n",
       "    <tr style=\"text-align: right;\">\n",
       "      <th></th>\n",
       "      <th>uid</th>\n",
       "      <th>title</th>\n",
       "      <th>genre</th>\n",
       "      <th>aired</th>\n",
       "      <th>episodes</th>\n",
       "      <th>members</th>\n",
       "      <th>popularity</th>\n",
       "      <th>ranked</th>\n",
       "      <th>score</th>\n",
       "    </tr>\n",
       "  </thead>\n",
       "  <tbody>\n",
       "    <tr>\n",
       "      <th>327</th>\n",
       "      <td>8740</td>\n",
       "      <td>One Piece Film: Strong World Episode 0</td>\n",
       "      <td>[Action, Adventure, Comedy, Fantasy, Shounen, ...</td>\n",
       "      <td>Apr, 2010</td>\n",
       "      <td>1.0</td>\n",
       "      <td>54305</td>\n",
       "      <td>1793</td>\n",
       "      <td>475.0</td>\n",
       "      <td>8.08</td>\n",
       "    </tr>\n",
       "    <tr>\n",
       "      <th>406</th>\n",
       "      <td>26117</td>\n",
       "      <td>Kokoroya</td>\n",
       "      <td>[Kids, Psychological, Sci-Fi]</td>\n",
       "      <td>2014</td>\n",
       "      <td>1.0</td>\n",
       "      <td>366</td>\n",
       "      <td>11749</td>\n",
       "      <td>394.0</td>\n",
       "      <td>8.15</td>\n",
       "    </tr>\n",
       "    <tr>\n",
       "      <th>518</th>\n",
       "      <td>30298</td>\n",
       "      <td>Mahou no Princess Minky Momo: Yume wo Dakishim...</td>\n",
       "      <td>[Magic, Shoujo]</td>\n",
       "      <td>Not available</td>\n",
       "      <td>3.0</td>\n",
       "      <td>398</td>\n",
       "      <td>11591</td>\n",
       "      <td>281.0</td>\n",
       "      <td>8.26</td>\n",
       "    </tr>\n",
       "    <tr>\n",
       "      <th>524</th>\n",
       "      <td>35628</td>\n",
       "      <td>Honoo no Alpenrose: Ai no Symphony Ongaku-hen</td>\n",
       "      <td>[Drama, Historical, Music, Romance, Shoujo]</td>\n",
       "      <td>Not available</td>\n",
       "      <td>1.0</td>\n",
       "      <td>314</td>\n",
       "      <td>12128</td>\n",
       "      <td>274.0</td>\n",
       "      <td>8.26</td>\n",
       "    </tr>\n",
       "    <tr>\n",
       "      <th>795</th>\n",
       "      <td>6154</td>\n",
       "      <td>Saint Seiya: Meiou Hades Juuni Kyuu-hen - Yomi...</td>\n",
       "      <td>[Sci-Fi, Adventure, Shounen]</td>\n",
       "      <td>2003</td>\n",
       "      <td>2.0</td>\n",
       "      <td>7675</td>\n",
       "      <td>4829</td>\n",
       "      <td>848.0</td>\n",
       "      <td>7.84</td>\n",
       "    </tr>\n",
       "    <tr>\n",
       "      <th>...</th>\n",
       "      <td>...</td>\n",
       "      <td>...</td>\n",
       "      <td>...</td>\n",
       "      <td>...</td>\n",
       "      <td>...</td>\n",
       "      <td>...</td>\n",
       "      <td>...</td>\n",
       "      <td>...</td>\n",
       "      <td>...</td>\n",
       "    </tr>\n",
       "    <tr>\n",
       "      <th>18090</th>\n",
       "      <td>10334</td>\n",
       "      <td>Rurouni Kenshin Recap</td>\n",
       "      <td>[Action, Adventure, Comedy, Historical, Romanc...</td>\n",
       "      <td>Jul, 1997</td>\n",
       "      <td>1.0</td>\n",
       "      <td>6600</td>\n",
       "      <td>5135</td>\n",
       "      <td>2381.0</td>\n",
       "      <td>7.34</td>\n",
       "    </tr>\n",
       "    <tr>\n",
       "      <th>18160</th>\n",
       "      <td>5947</td>\n",
       "      <td>Tengen Toppa Gurren Lagann Movie Zenyasai: Vir...</td>\n",
       "      <td>[Comedy]</td>\n",
       "      <td>Jan, 2009</td>\n",
       "      <td>1.0</td>\n",
       "      <td>24078</td>\n",
       "      <td>2909</td>\n",
       "      <td>2307.0</td>\n",
       "      <td>7.36</td>\n",
       "    </tr>\n",
       "    <tr>\n",
       "      <th>18635</th>\n",
       "      <td>2512</td>\n",
       "      <td>Detective Conan OVA 02: 16 Suspects</td>\n",
       "      <td>[Adventure, Mystery, Comedy, Police, Shounen]</td>\n",
       "      <td>2002</td>\n",
       "      <td>1.0</td>\n",
       "      <td>12089</td>\n",
       "      <td>4002</td>\n",
       "      <td>2182.0</td>\n",
       "      <td>7.38</td>\n",
       "    </tr>\n",
       "    <tr>\n",
       "      <th>18663</th>\n",
       "      <td>2513</td>\n",
       "      <td>Detective Conan OVA 03: Conan and Heiji and th...</td>\n",
       "      <td>[Adventure, Mystery, Comedy, Police, Shounen]</td>\n",
       "      <td>2003</td>\n",
       "      <td>1.0</td>\n",
       "      <td>11463</td>\n",
       "      <td>4101</td>\n",
       "      <td>2695.0</td>\n",
       "      <td>7.26</td>\n",
       "    </tr>\n",
       "    <tr>\n",
       "      <th>18946</th>\n",
       "      <td>33335</td>\n",
       "      <td>Hajimete no Eigo: Nippon Mukashibanashi</td>\n",
       "      <td>[Kids, Fantasy]</td>\n",
       "      <td>Not available</td>\n",
       "      <td>18.0</td>\n",
       "      <td>389</td>\n",
       "      <td>11599</td>\n",
       "      <td>2960.0</td>\n",
       "      <td>7.20</td>\n",
       "    </tr>\n",
       "  </tbody>\n",
       "</table>\n",
       "<p>1946 rows × 9 columns</p>\n",
       "</div>"
      ],
      "text/plain": [
       "         uid                                              title  \\\n",
       "327     8740             One Piece Film: Strong World Episode 0   \n",
       "406    26117                                           Kokoroya   \n",
       "518    30298  Mahou no Princess Minky Momo: Yume wo Dakishim...   \n",
       "524    35628      Honoo no Alpenrose: Ai no Symphony Ongaku-hen   \n",
       "795     6154  Saint Seiya: Meiou Hades Juuni Kyuu-hen - Yomi...   \n",
       "...      ...                                                ...   \n",
       "18090  10334                              Rurouni Kenshin Recap   \n",
       "18160   5947  Tengen Toppa Gurren Lagann Movie Zenyasai: Vir...   \n",
       "18635   2512                Detective Conan OVA 02: 16 Suspects   \n",
       "18663   2513  Detective Conan OVA 03: Conan and Heiji and th...   \n",
       "18946  33335            Hajimete no Eigo: Nippon Mukashibanashi   \n",
       "\n",
       "                                                   genre          aired  \\\n",
       "327    [Action, Adventure, Comedy, Fantasy, Shounen, ...      Apr, 2010   \n",
       "406                        [Kids, Psychological, Sci-Fi]           2014   \n",
       "518                                      [Magic, Shoujo]  Not available   \n",
       "524          [Drama, Historical, Music, Romance, Shoujo]  Not available   \n",
       "795                         [Sci-Fi, Adventure, Shounen]           2003   \n",
       "...                                                  ...            ...   \n",
       "18090  [Action, Adventure, Comedy, Historical, Romanc...      Jul, 1997   \n",
       "18160                                           [Comedy]      Jan, 2009   \n",
       "18635      [Adventure, Mystery, Comedy, Police, Shounen]           2002   \n",
       "18663      [Adventure, Mystery, Comedy, Police, Shounen]           2003   \n",
       "18946                                    [Kids, Fantasy]  Not available   \n",
       "\n",
       "       episodes  members  popularity  ranked  score  \n",
       "327         1.0    54305        1793   475.0   8.08  \n",
       "406         1.0      366       11749   394.0   8.15  \n",
       "518         3.0      398       11591   281.0   8.26  \n",
       "524         1.0      314       12128   274.0   8.26  \n",
       "795         2.0     7675        4829   848.0   7.84  \n",
       "...         ...      ...         ...     ...    ...  \n",
       "18090       1.0     6600        5135  2381.0   7.34  \n",
       "18160       1.0    24078        2909  2307.0   7.36  \n",
       "18635       1.0    12089        4002  2182.0   7.38  \n",
       "18663       1.0    11463        4101  2695.0   7.26  \n",
       "18946      18.0      389       11599  2960.0   7.20  \n",
       "\n",
       "[1946 rows x 9 columns]"
      ]
     },
     "execution_count": 23,
     "metadata": {},
     "output_type": "execute_result"
    }
   ],
   "source": [
    "anime_df[start_date.isnull()]"
   ]
  },
  {
   "cell_type": "markdown",
   "id": "7b72f53b",
   "metadata": {},
   "source": [
    "Qua kết quả trên ta còn thấy có các mẫu không xác định được ngày phát hành \"Not available\". Con số 1990 mẫu thiếu trên khoảng 16000 mẫu cũng là đáng kể. Vì vậy để giảm thiểu con số này, nhóm mình quyết định chỉ lấy năm phát hành của anime. Điều này có vẻ là chấp nhận được vì dữ liệu của ta trải dài hơn 20 năm và mỗi lần có các phân tích đến \"trending\" thì ta có thể làm trên năm thay vì theo tháng ngày. Năm phát hành của các anime sẽ thành cột mới **year_aired** trong tập dữ liệu `anime_df` phòng trường hợp sau này ta có các phân tích cần chính xác đến ngày và tháng."
   ]
  },
  {
   "cell_type": "code",
   "execution_count": 24,
   "id": "06b14b57",
   "metadata": {
    "scrolled": true
   },
   "outputs": [
    {
     "data": {
      "text/plain": [
       "0        2015.0\n",
       "1        2014.0\n",
       "2        2017.0\n",
       "3        2009.0\n",
       "4        2017.0\n",
       "          ...  \n",
       "19002    2011.0\n",
       "19003    2018.0\n",
       "19004    2011.0\n",
       "19005    2016.0\n",
       "19006    2013.0\n",
       "Name: aired, Length: 16216, dtype: float64"
      ]
     },
     "execution_count": 24,
     "metadata": {},
     "output_type": "execute_result"
    }
   ],
   "source": [
    "# Dùng regular expresion trích xuất năm bắt đầu\n",
    "year_aired = anime_df['aired'].str.extract(r\"(\\d{4})\",\n",
    "                                           expand=False  # Trả về Series\n",
    "                                           )\n",
    "year_aired = pd.to_numeric(year_aired)\n",
    "year_aired\n"
   ]
  },
  {
   "cell_type": "code",
   "execution_count": 25,
   "id": "0c8dd04d",
   "metadata": {},
   "outputs": [
    {
     "data": {
      "text/plain": [
       "273"
      ]
     },
     "execution_count": 25,
     "metadata": {},
     "output_type": "execute_result"
    }
   ],
   "source": [
    "# Đếm số dòng không có ngày phát hành\n",
    "year_aired.isnull().sum()"
   ]
  },
  {
   "cell_type": "markdown",
   "id": "b241a06d",
   "metadata": {},
   "source": [
    "Số dòng NaN giờ đây chỉ còn 295, giảm đi đáng kể! Tiếp theo ta thêm cột năm này vào `anime_df`."
   ]
  },
  {
   "cell_type": "code",
   "execution_count": 26,
   "id": "09b90765",
   "metadata": {},
   "outputs": [
    {
     "data": {
      "text/html": [
       "<div>\n",
       "<style scoped>\n",
       "    .dataframe tbody tr th:only-of-type {\n",
       "        vertical-align: middle;\n",
       "    }\n",
       "\n",
       "    .dataframe tbody tr th {\n",
       "        vertical-align: top;\n",
       "    }\n",
       "\n",
       "    .dataframe thead th {\n",
       "        text-align: right;\n",
       "    }\n",
       "</style>\n",
       "<table border=\"1\" class=\"dataframe\">\n",
       "  <thead>\n",
       "    <tr style=\"text-align: right;\">\n",
       "      <th></th>\n",
       "      <th>uid</th>\n",
       "      <th>title</th>\n",
       "      <th>genre</th>\n",
       "      <th>aired</th>\n",
       "      <th>episodes</th>\n",
       "      <th>members</th>\n",
       "      <th>popularity</th>\n",
       "      <th>ranked</th>\n",
       "      <th>score</th>\n",
       "      <th>year_aired</th>\n",
       "    </tr>\n",
       "  </thead>\n",
       "  <tbody>\n",
       "    <tr>\n",
       "      <th>0</th>\n",
       "      <td>28891</td>\n",
       "      <td>Haikyuu!! Second Season</td>\n",
       "      <td>[Comedy, Sports, Drama, School, Shounen]</td>\n",
       "      <td>Oct 4, 2015 to Mar 27, 2016</td>\n",
       "      <td>25.0</td>\n",
       "      <td>489888</td>\n",
       "      <td>141</td>\n",
       "      <td>25.0</td>\n",
       "      <td>8.82</td>\n",
       "      <td>2015.0</td>\n",
       "    </tr>\n",
       "    <tr>\n",
       "      <th>1</th>\n",
       "      <td>23273</td>\n",
       "      <td>Shigatsu wa Kimi no Uso</td>\n",
       "      <td>[Drama, Music, Romance, School, Shounen]</td>\n",
       "      <td>Oct 10, 2014 to Mar 20, 2015</td>\n",
       "      <td>22.0</td>\n",
       "      <td>995473</td>\n",
       "      <td>28</td>\n",
       "      <td>24.0</td>\n",
       "      <td>8.83</td>\n",
       "      <td>2014.0</td>\n",
       "    </tr>\n",
       "    <tr>\n",
       "      <th>2</th>\n",
       "      <td>34599</td>\n",
       "      <td>Made in Abyss</td>\n",
       "      <td>[Sci-Fi, Adventure, Mystery, Drama, Fantasy]</td>\n",
       "      <td>Jul 7, 2017 to Sep 29, 2017</td>\n",
       "      <td>13.0</td>\n",
       "      <td>581663</td>\n",
       "      <td>98</td>\n",
       "      <td>23.0</td>\n",
       "      <td>8.83</td>\n",
       "      <td>2017.0</td>\n",
       "    </tr>\n",
       "    <tr>\n",
       "      <th>3</th>\n",
       "      <td>5114</td>\n",
       "      <td>Fullmetal Alchemist: Brotherhood</td>\n",
       "      <td>[Action, Military, Adventure, Comedy, Drama, M...</td>\n",
       "      <td>Apr 5, 2009 to Jul 4, 2010</td>\n",
       "      <td>64.0</td>\n",
       "      <td>1615084</td>\n",
       "      <td>4</td>\n",
       "      <td>1.0</td>\n",
       "      <td>9.23</td>\n",
       "      <td>2009.0</td>\n",
       "    </tr>\n",
       "    <tr>\n",
       "      <th>4</th>\n",
       "      <td>31758</td>\n",
       "      <td>Kizumonogatari III: Reiketsu-hen</td>\n",
       "      <td>[Action, Mystery, Supernatural, Vampire]</td>\n",
       "      <td>Jan 6, 2017</td>\n",
       "      <td>1.0</td>\n",
       "      <td>214621</td>\n",
       "      <td>502</td>\n",
       "      <td>22.0</td>\n",
       "      <td>8.83</td>\n",
       "      <td>2017.0</td>\n",
       "    </tr>\n",
       "    <tr>\n",
       "      <th>...</th>\n",
       "      <td>...</td>\n",
       "      <td>...</td>\n",
       "      <td>...</td>\n",
       "      <td>...</td>\n",
       "      <td>...</td>\n",
       "      <td>...</td>\n",
       "      <td>...</td>\n",
       "      <td>...</td>\n",
       "      <td>...</td>\n",
       "      <td>...</td>\n",
       "    </tr>\n",
       "    <tr>\n",
       "      <th>19002</th>\n",
       "      <td>10075</td>\n",
       "      <td>Naruto x UT</td>\n",
       "      <td>[Action, Comedy, Super Power, Martial Arts, Sh...</td>\n",
       "      <td>Jan 1, 2011</td>\n",
       "      <td>1.0</td>\n",
       "      <td>34155</td>\n",
       "      <td>2382</td>\n",
       "      <td>1728.0</td>\n",
       "      <td>7.50</td>\n",
       "      <td>2011.0</td>\n",
       "    </tr>\n",
       "    <tr>\n",
       "      <th>19003</th>\n",
       "      <td>35828</td>\n",
       "      <td>Miira no Kaikata</td>\n",
       "      <td>[Slice of Life, Comedy, Supernatural]</td>\n",
       "      <td>Jan 12, 2018 to Mar 30, 2018</td>\n",
       "      <td>12.0</td>\n",
       "      <td>61459</td>\n",
       "      <td>1648</td>\n",
       "      <td>1727.0</td>\n",
       "      <td>7.50</td>\n",
       "      <td>2018.0</td>\n",
       "    </tr>\n",
       "    <tr>\n",
       "      <th>19004</th>\n",
       "      <td>10378</td>\n",
       "      <td>Shinryaku!? Ika Musume</td>\n",
       "      <td>[Slice of Life, Comedy, Shounen]</td>\n",
       "      <td>Sep 27, 2011 to Dec 25, 2011</td>\n",
       "      <td>12.0</td>\n",
       "      <td>67422</td>\n",
       "      <td>1547</td>\n",
       "      <td>1548.0</td>\n",
       "      <td>7.56</td>\n",
       "      <td>2011.0</td>\n",
       "    </tr>\n",
       "    <tr>\n",
       "      <th>19005</th>\n",
       "      <td>33082</td>\n",
       "      <td>Kingsglaive: Final Fantasy XV</td>\n",
       "      <td>[Action]</td>\n",
       "      <td>Jul 9, 2016</td>\n",
       "      <td>1.0</td>\n",
       "      <td>41077</td>\n",
       "      <td>2154</td>\n",
       "      <td>1544.0</td>\n",
       "      <td>7.56</td>\n",
       "      <td>2016.0</td>\n",
       "    </tr>\n",
       "    <tr>\n",
       "      <th>19006</th>\n",
       "      <td>16934</td>\n",
       "      <td>Chuunibyou demo Koi ga Shitai!: Kirameki no......</td>\n",
       "      <td>[Comedy, Drama, Romance, School, Slice of Life]</td>\n",
       "      <td>Jun 19, 2013</td>\n",
       "      <td>1.0</td>\n",
       "      <td>128400</td>\n",
       "      <td>883</td>\n",
       "      <td>1533.0</td>\n",
       "      <td>7.56</td>\n",
       "      <td>2013.0</td>\n",
       "    </tr>\n",
       "  </tbody>\n",
       "</table>\n",
       "<p>16216 rows × 10 columns</p>\n",
       "</div>"
      ],
      "text/plain": [
       "         uid                                              title  \\\n",
       "0      28891                            Haikyuu!! Second Season   \n",
       "1      23273                            Shigatsu wa Kimi no Uso   \n",
       "2      34599                                      Made in Abyss   \n",
       "3       5114                   Fullmetal Alchemist: Brotherhood   \n",
       "4      31758                   Kizumonogatari III: Reiketsu-hen   \n",
       "...      ...                                                ...   \n",
       "19002  10075                                        Naruto x UT   \n",
       "19003  35828                                   Miira no Kaikata   \n",
       "19004  10378                             Shinryaku!? Ika Musume   \n",
       "19005  33082                      Kingsglaive: Final Fantasy XV   \n",
       "19006  16934  Chuunibyou demo Koi ga Shitai!: Kirameki no......   \n",
       "\n",
       "                                                   genre  \\\n",
       "0               [Comedy, Sports, Drama, School, Shounen]   \n",
       "1               [Drama, Music, Romance, School, Shounen]   \n",
       "2           [Sci-Fi, Adventure, Mystery, Drama, Fantasy]   \n",
       "3      [Action, Military, Adventure, Comedy, Drama, M...   \n",
       "4               [Action, Mystery, Supernatural, Vampire]   \n",
       "...                                                  ...   \n",
       "19002  [Action, Comedy, Super Power, Martial Arts, Sh...   \n",
       "19003              [Slice of Life, Comedy, Supernatural]   \n",
       "19004                   [Slice of Life, Comedy, Shounen]   \n",
       "19005                                           [Action]   \n",
       "19006    [Comedy, Drama, Romance, School, Slice of Life]   \n",
       "\n",
       "                              aired  episodes  members  popularity  ranked  \\\n",
       "0       Oct 4, 2015 to Mar 27, 2016      25.0   489888         141    25.0   \n",
       "1      Oct 10, 2014 to Mar 20, 2015      22.0   995473          28    24.0   \n",
       "2       Jul 7, 2017 to Sep 29, 2017      13.0   581663          98    23.0   \n",
       "3        Apr 5, 2009 to Jul 4, 2010      64.0  1615084           4     1.0   \n",
       "4                       Jan 6, 2017       1.0   214621         502    22.0   \n",
       "...                             ...       ...      ...         ...     ...   \n",
       "19002                   Jan 1, 2011       1.0    34155        2382  1728.0   \n",
       "19003  Jan 12, 2018 to Mar 30, 2018      12.0    61459        1648  1727.0   \n",
       "19004  Sep 27, 2011 to Dec 25, 2011      12.0    67422        1547  1548.0   \n",
       "19005                   Jul 9, 2016       1.0    41077        2154  1544.0   \n",
       "19006                  Jun 19, 2013       1.0   128400         883  1533.0   \n",
       "\n",
       "       score  year_aired  \n",
       "0       8.82      2015.0  \n",
       "1       8.83      2014.0  \n",
       "2       8.83      2017.0  \n",
       "3       9.23      2009.0  \n",
       "4       8.83      2017.0  \n",
       "...      ...         ...  \n",
       "19002   7.50      2011.0  \n",
       "19003   7.50      2018.0  \n",
       "19004   7.56      2011.0  \n",
       "19005   7.56      2016.0  \n",
       "19006   7.56      2013.0  \n",
       "\n",
       "[16216 rows x 10 columns]"
      ]
     },
     "execution_count": 26,
     "metadata": {},
     "output_type": "execute_result"
    }
   ],
   "source": [
    "anime_df['year_aired'] = year_aired\n",
    "anime_df"
   ]
  },
  {
   "cell_type": "markdown",
   "id": "93af1cc9",
   "metadata": {},
   "source": [
    "---\n",
    "\n",
    "# Khám phá dữ liệu (tiếp tục)"
   ]
  },
  {
   "cell_type": "markdown",
   "id": "922e780b",
   "metadata": {},
   "source": [
    "## Phân bố các cột dữ liệu dạng numeric\n",
    "\n",
    "Ở mỗi cột ta sẽ xem xét % tỉ lệ thiếu dữ liệu (0 đến 100), giá trị nhỏ nhất và lớn nhất."
   ]
  },
  {
   "cell_type": "markdown",
   "id": "140717b5",
   "metadata": {},
   "source": [
    "### Tập dữ liệu anime\n",
    "\n",
    "Các cột numeric: episodes, members, popularity, ranked, score"
   ]
  },
  {
   "cell_type": "code",
   "execution_count": 27,
   "id": "8d3a0ea0",
   "metadata": {},
   "outputs": [
    {
     "data": {
      "text/html": [
       "<div>\n",
       "<style scoped>\n",
       "    .dataframe tbody tr th:only-of-type {\n",
       "        vertical-align: middle;\n",
       "    }\n",
       "\n",
       "    .dataframe tbody tr th {\n",
       "        vertical-align: top;\n",
       "    }\n",
       "\n",
       "    .dataframe thead th {\n",
       "        text-align: right;\n",
       "    }\n",
       "</style>\n",
       "<table border=\"1\" class=\"dataframe\">\n",
       "  <thead>\n",
       "    <tr style=\"text-align: right;\">\n",
       "      <th></th>\n",
       "      <th>episodes</th>\n",
       "      <th>members</th>\n",
       "      <th>popularity</th>\n",
       "      <th>ranked</th>\n",
       "      <th>score</th>\n",
       "      <th>year_aired</th>\n",
       "    </tr>\n",
       "  </thead>\n",
       "  <tbody>\n",
       "    <tr>\n",
       "      <th>missing_ratio</th>\n",
       "      <td>3</td>\n",
       "      <td>0</td>\n",
       "      <td>0</td>\n",
       "      <td>10</td>\n",
       "      <td>2</td>\n",
       "      <td>2</td>\n",
       "    </tr>\n",
       "    <tr>\n",
       "      <th>min_value</th>\n",
       "      <td>1</td>\n",
       "      <td>25</td>\n",
       "      <td>1</td>\n",
       "      <td>1</td>\n",
       "      <td>1</td>\n",
       "      <td>1917</td>\n",
       "    </tr>\n",
       "    <tr>\n",
       "      <th>max_value</th>\n",
       "      <td>3057</td>\n",
       "      <td>1871043</td>\n",
       "      <td>16338</td>\n",
       "      <td>14675</td>\n",
       "      <td>9</td>\n",
       "      <td>2021</td>\n",
       "    </tr>\n",
       "  </tbody>\n",
       "</table>\n",
       "</div>"
      ],
      "text/plain": [
       "               episodes  members  popularity  ranked  score  year_aired\n",
       "missing_ratio         3        0           0      10      2           2\n",
       "min_value             1       25           1       1      1        1917\n",
       "max_value          3057  1871043       16338   14675      9        2021"
      ]
     },
     "execution_count": 27,
     "metadata": {},
     "output_type": "execute_result"
    }
   ],
   "source": [
    "pd.options.display.float_format = '{:.0f}'.format\n",
    "\n",
    "\n",
    "def missing_ratio(s):\n",
    "    return s.isna().mean() * 100\n",
    "\n",
    "\n",
    "def min_value(s):\n",
    "    return s.dropna().min()\n",
    "\n",
    "\n",
    "def max_value(s):\n",
    "    return s.dropna().max()\n",
    "\n",
    "\n",
    "anime_numeric_cols = ['episodes', 'members',\n",
    "                      'popularity', 'ranked', 'score', 'year_aired']\n",
    "anime_nume_col_profiles_df = anime_df[anime_numeric_cols]\n",
    "\n",
    "anime_nume_col_profiles_df = anime_nume_col_profiles_df.agg([missing_ratio,\n",
    "                                                             min_value,\n",
    "                                                             max_value])\n",
    "\n",
    "anime_nume_col_profiles_df\n"
   ]
  },
  {
   "cell_type": "markdown",
   "id": "2cb21e2e",
   "metadata": {},
   "source": [
    "### Tập dữ liệu rating\n",
    "\n",
    "Các cột numeric: score"
   ]
  },
  {
   "cell_type": "code",
   "execution_count": 28,
   "id": "16e87b5d",
   "metadata": {},
   "outputs": [
    {
     "data": {
      "text/plain": [
       "missing_ratio    0\n",
       "min_value        0\n",
       "max_value       11\n",
       "Name: score, dtype: float64"
      ]
     },
     "execution_count": 28,
     "metadata": {},
     "output_type": "execute_result"
    }
   ],
   "source": [
    "rating_nume_col_profiles_df = rating_df['score']\n",
    "\n",
    "rating_nume_col_profiles_df = rating_nume_col_profiles_df.agg([missing_ratio,\n",
    "                                                               min_value,\n",
    "                                                               max_value])\n",
    "\n",
    "rating_nume_col_profiles_df\n"
   ]
  },
  {
   "cell_type": "markdown",
   "id": "40423c09",
   "metadata": {},
   "source": [
    "**Nhận xét:**\n",
    "\n",
    "Điểm `score` của tập `rating_df` có vẻ hơi khác so với `anime_df` khi mà giá trị lớn nhất của tập `anime_df` chỉ có 9 mà ở `rating_df` lên đến tận 11? Thật ra việc giá trị lớn nhất giữa 2 tập này là hợp lệ vì bên `rating_df` là điểm cá nhân của một người dùng dành cho anime trong khi bên `anime_df` là điểm tổng hợp dựa trên các đánh giá của nhiều user. Chỉ có điều dị thường ở đây là tại sao lại có giá trị 11 trên thang điểm 10. Hãy xem thử dòng dữ liệu có điểm số 11 và tiện thể xem luôn có mẫu đánh giá nào hơn 10 điểm không."
   ]
  },
  {
   "cell_type": "code",
   "execution_count": 29,
   "id": "d7c12ea1",
   "metadata": {
    "scrolled": true
   },
   "outputs": [
    {
     "data": {
      "text/html": [
       "<div>\n",
       "<style scoped>\n",
       "    .dataframe tbody tr th:only-of-type {\n",
       "        vertical-align: middle;\n",
       "    }\n",
       "\n",
       "    .dataframe tbody tr th {\n",
       "        vertical-align: top;\n",
       "    }\n",
       "\n",
       "    .dataframe thead th {\n",
       "        text-align: right;\n",
       "    }\n",
       "</style>\n",
       "<table border=\"1\" class=\"dataframe\">\n",
       "  <thead>\n",
       "    <tr style=\"text-align: right;\">\n",
       "      <th></th>\n",
       "      <th>uid</th>\n",
       "      <th>profile</th>\n",
       "      <th>anime_uid</th>\n",
       "      <th>score</th>\n",
       "    </tr>\n",
       "  </thead>\n",
       "  <tbody>\n",
       "    <tr>\n",
       "      <th>119190</th>\n",
       "      <td>252847</td>\n",
       "      <td>LeBrains</td>\n",
       "      <td>413</td>\n",
       "      <td>11</td>\n",
       "    </tr>\n",
       "  </tbody>\n",
       "</table>\n",
       "</div>"
      ],
      "text/plain": [
       "           uid   profile  anime_uid  score\n",
       "119190  252847  LeBrains        413     11"
      ]
     },
     "execution_count": 29,
     "metadata": {},
     "output_type": "execute_result"
    }
   ],
   "source": [
    "rating_df[rating_df['score'] > 10]"
   ]
  },
  {
   "cell_type": "markdown",
   "id": "8d397f3a",
   "metadata": {},
   "source": [
    "Chỉ có 1 dòng duy nhất có số điểm kỳ lạ này. Ta có thể xóa hoặc để đó vì 1/130000 là không ảnh hưởng mấy."
   ]
  },
  {
   "cell_type": "markdown",
   "id": "286636a9",
   "metadata": {},
   "source": [
    "## Phân bố các cột dữ liệu dạng categorical\n",
    "\n",
    "Ở mỗi cột ta sẽ xem xét % tỉ lệ thiếu dữ liệu (0 đến 100), số giá trị khác nhau (không xét giá trị thiếu) và xem một vài giá trị khác nhau đó."
   ]
  },
  {
   "cell_type": "markdown",
   "id": "f457c5d8",
   "metadata": {},
   "source": [
    "### Tập dữ liệu anime\n",
    "\n",
    "Các cột categorical: uid, title, genre. Ta không xét cột **aired** vì nó là cột dữ liệu thô. Hai cột đầu thì ta có thể xử lý nhanh bằng method agg với các hàm tự định nghĩa, riêng cột `genre` ta cần phải đi đếm số thể loại khác nhau vì cột này lưu dưới dạng list of string. Để đếm số thể loại khác nhau, ta có thể hợp các list này lại rồi đếm số giá trị.\n",
    "\n"
   ]
  },
  {
   "cell_type": "code",
   "execution_count": 30,
   "id": "22d79f80",
   "metadata": {
    "scrolled": true
   },
   "outputs": [
    {
     "data": {
      "text/html": [
       "<div>\n",
       "<style scoped>\n",
       "    .dataframe tbody tr th:only-of-type {\n",
       "        vertical-align: middle;\n",
       "    }\n",
       "\n",
       "    .dataframe tbody tr th {\n",
       "        vertical-align: top;\n",
       "    }\n",
       "\n",
       "    .dataframe thead th {\n",
       "        text-align: right;\n",
       "    }\n",
       "</style>\n",
       "<table border=\"1\" class=\"dataframe\">\n",
       "  <thead>\n",
       "    <tr style=\"text-align: right;\">\n",
       "      <th></th>\n",
       "      <th>uid</th>\n",
       "      <th>title</th>\n",
       "      <th>genre</th>\n",
       "    </tr>\n",
       "  </thead>\n",
       "  <tbody>\n",
       "    <tr>\n",
       "      <th>missing_ratio</th>\n",
       "      <td>0</td>\n",
       "      <td>0</td>\n",
       "      <td>0</td>\n",
       "    </tr>\n",
       "    <tr>\n",
       "      <th>num_diff_vals</th>\n",
       "      <td>16216</td>\n",
       "      <td>16214</td>\n",
       "      <td>43</td>\n",
       "    </tr>\n",
       "    <tr>\n",
       "      <th>diff_vals</th>\n",
       "      <td>[28891, 23273, 34599, 5114, 31758, 37510, 199,...</td>\n",
       "      <td>[Haikyuu!! Second Season, Shigatsu wa Kimi no ...</td>\n",
       "      <td>[Comedy, Sports, Drama, School, Shounen, Music...</td>\n",
       "    </tr>\n",
       "  </tbody>\n",
       "</table>\n",
       "</div>"
      ],
      "text/plain": [
       "                                                             uid  \\\n",
       "missing_ratio                                                  0   \n",
       "num_diff_vals                                              16216   \n",
       "diff_vals      [28891, 23273, 34599, 5114, 31758, 37510, 199,...   \n",
       "\n",
       "                                                           title  \\\n",
       "missing_ratio                                                  0   \n",
       "num_diff_vals                                              16214   \n",
       "diff_vals      [Haikyuu!! Second Season, Shigatsu wa Kimi no ...   \n",
       "\n",
       "                                                           genre  \n",
       "missing_ratio                                                  0  \n",
       "num_diff_vals                                                 43  \n",
       "diff_vals      [Comedy, Sports, Drama, School, Shounen, Music...  "
      ]
     },
     "execution_count": 30,
     "metadata": {},
     "output_type": "execute_result"
    }
   ],
   "source": [
    "anime_cate_cols = ['uid', 'title']\n",
    "anime_cate_col_profiles_df = anime_df[anime_cate_cols]\n",
    "\n",
    "\n",
    "def num_diff_vals(s):\n",
    "    return s.dropna().nunique()\n",
    "\n",
    "def diff_vals(s):\n",
    "    return s.dropna().unique()\n",
    "\n",
    "\n",
    "anime_cate_col_profiles_df = anime_cate_col_profiles_df.agg([missing_ratio,\n",
    "                                                             num_diff_vals,\n",
    "                                                             diff_vals])\n",
    "\n",
    "# Cột genre là cột list of string nên phải flat nó trước khi xử lý\n",
    "genre_profile = [missing_ratio(anime_df['genre']),\n",
    "                 anime_df['genre'].apply(pd.Series).stack().nunique(),\n",
    "                 anime_df['genre'].apply(pd.Series).stack().unique()]\n",
    "\n",
    "genre_profile = pd.DataFrame(genre_profile,\n",
    "                             index=['missing_ratio', 'num_diff_vals', 'diff_vals'],\n",
    "                             columns=['genre'])\n",
    "\n",
    "anime_cate_col_profiles_df = pd.concat([anime_cate_col_profiles_df, genre_profile],\n",
    "                                       axis=1)\n",
    "\n",
    "anime_cate_col_profiles_df\n"
   ]
  },
  {
   "cell_type": "markdown",
   "id": "b7733040",
   "metadata": {},
   "source": [
    "#### Phân bố cột thể loại (genre)"
   ]
  },
  {
   "cell_type": "code",
   "execution_count": 31,
   "id": "ab7a09c1",
   "metadata": {},
   "outputs": [
    {
     "data": {
      "image/png": "[encoded data removed]",
      "text/plain": [
       "<Figure size 1440x360 with 1 Axes>"
      ]
     },
     "metadata": {
      "needs_background": "light"
     },
     "output_type": "display_data"
    }
   ],
   "source": [
    "\n",
    "def count_genre():\n",
    "    genre_s = anime_df['genre'].explode()\n",
    "    return genre_s.groupby(genre_s).size()\n",
    "\n",
    "genre_s = count_genre().sort_values()\n",
    "genre_s.plot.bar(figsize=(20, 5))\n",
    "plt.show()\n"
   ]
  },
  {
   "cell_type": "code",
   "execution_count": 32,
   "id": "db4acb6f",
   "metadata": {},
   "outputs": [
    {
     "data": {
      "image/png": "[encoded data removed]",
      "text/plain": [
       "<Figure size 576x576 with 1 Axes>"
      ]
     },
     "metadata": {},
     "output_type": "display_data"
    }
   ],
   "source": [
    "def top_genre(top: int):\n",
    "    not_top_genre = genre_s.sort_values(ascending=False).index[top:]\n",
    "    other = genre_s.rename({key: 'Other' for key in not_top_genre})\n",
    "    return other.groupby(level=0).sum()\n",
    "\n",
    "fig = top_genre(5).plot.pie(figsize=(8, 8), autopct = \"%0.2f%%\")\n",
    "plt.show()\n"
   ]
  },
  {
   "cell_type": "markdown",
   "id": "95ef1d61",
   "metadata": {},
   "source": [
    "Có thể thấy là thể loại \"Comedy\" là phổ biến nhất"
   ]
  },
  {
   "cell_type": "markdown",
   "id": "a40993f4",
   "metadata": {},
   "source": [
    "### Tập dữ liệu review\n",
    "\n",
    "Các cột categorical: uid, profile, anime_uid"
   ]
  },
  {
   "cell_type": "code",
   "execution_count": 33,
   "id": "2cdee65f",
   "metadata": {},
   "outputs": [
    {
     "data": {
      "text/html": [
       "<div>\n",
       "<style scoped>\n",
       "    .dataframe tbody tr th:only-of-type {\n",
       "        vertical-align: middle;\n",
       "    }\n",
       "\n",
       "    .dataframe tbody tr th {\n",
       "        vertical-align: top;\n",
       "    }\n",
       "\n",
       "    .dataframe thead th {\n",
       "        text-align: right;\n",
       "    }\n",
       "</style>\n",
       "<table border=\"1\" class=\"dataframe\">\n",
       "  <thead>\n",
       "    <tr style=\"text-align: right;\">\n",
       "      <th></th>\n",
       "      <th>uid</th>\n",
       "      <th>profile</th>\n",
       "      <th>anime_uid</th>\n",
       "    </tr>\n",
       "  </thead>\n",
       "  <tbody>\n",
       "    <tr>\n",
       "      <th>missing_ratio</th>\n",
       "      <td>0</td>\n",
       "      <td>0</td>\n",
       "      <td>0</td>\n",
       "    </tr>\n",
       "    <tr>\n",
       "      <th>num_diff_vals</th>\n",
       "      <td>130519</td>\n",
       "      <td>47885</td>\n",
       "      <td>8113</td>\n",
       "    </tr>\n",
       "    <tr>\n",
       "      <th>diff_vals</th>\n",
       "      <td>[255938, 259117, 253664, 8254, 291149, 10046, ...</td>\n",
       "      <td>[DesolatePsyche, baekbeans, skrn, edgewalker00...</td>\n",
       "      <td>[34096, 34599, 28891, 2904, 4181, 16664, 4672,...</td>\n",
       "    </tr>\n",
       "  </tbody>\n",
       "</table>\n",
       "</div>"
      ],
      "text/plain": [
       "                                                             uid  \\\n",
       "missing_ratio                                                  0   \n",
       "num_diff_vals                                             130519   \n",
       "diff_vals      [255938, 259117, 253664, 8254, 291149, 10046, ...   \n",
       "\n",
       "                                                         profile  \\\n",
       "missing_ratio                                                  0   \n",
       "num_diff_vals                                              47885   \n",
       "diff_vals      [DesolatePsyche, baekbeans, skrn, edgewalker00...   \n",
       "\n",
       "                                                       anime_uid  \n",
       "missing_ratio                                                  0  \n",
       "num_diff_vals                                               8113  \n",
       "diff_vals      [34096, 34599, 28891, 2904, 4181, 16664, 4672,...  "
      ]
     },
     "execution_count": 33,
     "metadata": {},
     "output_type": "execute_result"
    }
   ],
   "source": [
    "rating_cate_cols = ['uid', 'profile', 'anime_uid']\n",
    "rating_cate_col_profiles_df = rating_df[rating_cate_cols]\n",
    "\n",
    "\n",
    "def num_diff_vals(s):\n",
    "    return s.dropna().nunique()\n",
    "\n",
    "def diff_vals(s):\n",
    "    return s.dropna().unique()\n",
    "\n",
    "\n",
    "rating_cate_col_profiles_df = rating_cate_col_profiles_df.agg([missing_ratio,\n",
    "                                                               num_diff_vals,\n",
    "                                                               diff_vals])\n",
    "rating_cate_col_profiles_df\n"
   ]
  },
  {
   "cell_type": "markdown",
   "id": "899bb215",
   "metadata": {},
   "source": [
    "---\n",
    "\n",
    "# Đưa ra các câu hỏi cần trả lời\n",
    "\n",
    "1. Các thể loại anime thịnh hành qua từng năm thay đổi ra sao?\n",
    "2. Các cột numeric có ảnh hưởng đến rating không?\n",
    "3. Người xem anime và đánh giá của họ qua các năm ra sao?\n",
    "4. Đề xuất các anime nào nếu người dùng đã xem một anime nào đó (Recommendation system)?"
   ]
  },
  {
   "cell_type": "markdown",
   "id": "8c961356",
   "metadata": {},
   "source": [
    "## 1. Các thể loại anime thịnh hành qua từng năm thay đổi ra sao?\n",
    "\n",
    "Với mỗi năm, ta sẽ tìm ra 3 thể loại anime thịnh hành nhất của từng năm. Việc trả lời được câu hỏi có các lợi ích sau:\n",
    "- **Người xem:** người mới xem hoặc người không biết xem gì có thể chọn các anime có thể loại thịnh hành để xem.\n",
    "- **Nhà sản xuất anime:** biết được thị hiếu thể loại người xem thích, từ đó họ có thể sản xuất các genre thịnh hành ở các năm gần đây để thu hút người xem.\n",
    "\n",
    "Để rút ra được 3 thể loại anime thịnh hành ở mỗi năm, ta có thể dùng cột `popularity` do myanimelist cung cấp. Nhưng nhóm mình sẽ không dùng đến nó vì không rõ cơ chế tính độ nổi tiếng này ra sao (có thể  từ vote?) mà thay vào đó sẽ dùng số lượng member của cộng đồng quan tâm anime đó qua cột `members`.\n",
    "\n",
    "- Bước 1: chuyển đổi danh sách thể loại trong cột `genre` thành các dòng (row)\n",
    "- Bước 2: Group by theo `year_aired` và `genre` và sắp xếp theo số lượng `members`"
   ]
  },
  {
   "cell_type": "markdown",
   "id": "e23e0a3a",
   "metadata": {},
   "source": [
    "Trước khi thực hiện việc đi tìm ra top 3 thể loại anime thịnh hành của từng năm, để dễ dẫn nhập ta sẽ đi tìm cho năm 2021 trước."
   ]
  },
  {
   "cell_type": "code",
   "execution_count": 34,
   "id": "ca7dd1f1",
   "metadata": {
    "scrolled": true
   },
   "outputs": [
    {
     "data": {
      "text/html": [
       "<div>\n",
       "<style scoped>\n",
       "    .dataframe tbody tr th:only-of-type {\n",
       "        vertical-align: middle;\n",
       "    }\n",
       "\n",
       "    .dataframe tbody tr th {\n",
       "        vertical-align: top;\n",
       "    }\n",
       "\n",
       "    .dataframe thead th {\n",
       "        text-align: right;\n",
       "    }\n",
       "</style>\n",
       "<table border=\"1\" class=\"dataframe\">\n",
       "  <thead>\n",
       "    <tr style=\"text-align: right;\">\n",
       "      <th></th>\n",
       "      <th>uid</th>\n",
       "      <th>title</th>\n",
       "      <th>genre</th>\n",
       "      <th>aired</th>\n",
       "      <th>episodes</th>\n",
       "      <th>members</th>\n",
       "      <th>popularity</th>\n",
       "      <th>ranked</th>\n",
       "      <th>score</th>\n",
       "      <th>year_aired</th>\n",
       "    </tr>\n",
       "  </thead>\n",
       "  <tbody>\n",
       "    <tr>\n",
       "      <th>1606</th>\n",
       "      <td>38440</td>\n",
       "      <td>Shikizakura</td>\n",
       "      <td>[Action, Sci-Fi, Drama]</td>\n",
       "      <td>2021 to ?</td>\n",
       "      <td>12</td>\n",
       "      <td>1419</td>\n",
       "      <td>8859</td>\n",
       "      <td>NaN</td>\n",
       "      <td>NaN</td>\n",
       "      <td>2021</td>\n",
       "    </tr>\n",
       "    <tr>\n",
       "      <th>1611</th>\n",
       "      <td>38882</td>\n",
       "      <td>Ryouma! Shinsei Tennis no Ouji-sama</td>\n",
       "      <td>[Action, Comedy, Sports, Shounen]</td>\n",
       "      <td>2021</td>\n",
       "      <td>1</td>\n",
       "      <td>1850</td>\n",
       "      <td>8160</td>\n",
       "      <td>NaN</td>\n",
       "      <td>NaN</td>\n",
       "      <td>2021</td>\n",
       "    </tr>\n",
       "    <tr>\n",
       "      <th>1647</th>\n",
       "      <td>35136</td>\n",
       "      <td>Koukyoushihen Eureka Seven Hi-Evolution 3</td>\n",
       "      <td>[Adventure, Drama, Mecha, Sci-Fi]</td>\n",
       "      <td>2021</td>\n",
       "      <td>1</td>\n",
       "      <td>6693</td>\n",
       "      <td>5120</td>\n",
       "      <td>NaN</td>\n",
       "      <td>NaN</td>\n",
       "      <td>2021</td>\n",
       "    </tr>\n",
       "    <tr>\n",
       "      <th>1679</th>\n",
       "      <td>39938</td>\n",
       "      <td>Inu-Ou</td>\n",
       "      <td>[Music, Historical, Fantasy]</td>\n",
       "      <td>2021</td>\n",
       "      <td>1</td>\n",
       "      <td>739</td>\n",
       "      <td>10232</td>\n",
       "      <td>NaN</td>\n",
       "      <td>NaN</td>\n",
       "      <td>2021</td>\n",
       "    </tr>\n",
       "    <tr>\n",
       "      <th>1713</th>\n",
       "      <td>34348</td>\n",
       "      <td>Rescue Academia</td>\n",
       "      <td>[Sci-Fi, Adventure]</td>\n",
       "      <td>2021 to ?</td>\n",
       "      <td>NaN</td>\n",
       "      <td>932</td>\n",
       "      <td>9709</td>\n",
       "      <td>NaN</td>\n",
       "      <td>NaN</td>\n",
       "      <td>2021</td>\n",
       "    </tr>\n",
       "    <tr>\n",
       "      <th>14799</th>\n",
       "      <td>39486</td>\n",
       "      <td>Gintama (Shinsaku)</td>\n",
       "      <td>[Action, Sci-Fi, Comedy, Historical, Parody, D...</td>\n",
       "      <td>2021</td>\n",
       "      <td>NaN</td>\n",
       "      <td>1848</td>\n",
       "      <td>8394</td>\n",
       "      <td>NaN</td>\n",
       "      <td>NaN</td>\n",
       "      <td>2021</td>\n",
       "    </tr>\n",
       "  </tbody>\n",
       "</table>\n",
       "</div>"
      ],
      "text/plain": [
       "         uid                                      title  \\\n",
       "1606   38440                                Shikizakura   \n",
       "1611   38882        Ryouma! Shinsei Tennis no Ouji-sama   \n",
       "1647   35136  Koukyoushihen Eureka Seven Hi-Evolution 3   \n",
       "1679   39938                                     Inu-Ou   \n",
       "1713   34348                            Rescue Academia   \n",
       "14799  39486                         Gintama (Shinsaku)   \n",
       "\n",
       "                                                   genre      aired  episodes  \\\n",
       "1606                             [Action, Sci-Fi, Drama]  2021 to ?        12   \n",
       "1611                   [Action, Comedy, Sports, Shounen]       2021         1   \n",
       "1647                   [Adventure, Drama, Mecha, Sci-Fi]       2021         1   \n",
       "1679                        [Music, Historical, Fantasy]       2021         1   \n",
       "1713                                 [Sci-Fi, Adventure]  2021 to ?       NaN   \n",
       "14799  [Action, Sci-Fi, Comedy, Historical, Parody, D...       2021       NaN   \n",
       "\n",
       "       members  popularity  ranked  score  year_aired  \n",
       "1606      1419        8859     NaN    NaN        2021  \n",
       "1611      1850        8160     NaN    NaN        2021  \n",
       "1647      6693        5120     NaN    NaN        2021  \n",
       "1679       739       10232     NaN    NaN        2021  \n",
       "1713       932        9709     NaN    NaN        2021  \n",
       "14799     1848        8394     NaN    NaN        2021  "
      ]
     },
     "execution_count": 34,
     "metadata": {},
     "output_type": "execute_result"
    }
   ],
   "source": [
    "anime_2021_df = anime_df[anime_df['year_aired'] == 2021]\n",
    "anime_2021_df"
   ]
  },
  {
   "cell_type": "code",
   "execution_count": 35,
   "id": "2e324e3e",
   "metadata": {},
   "outputs": [
    {
     "data": {
      "text/html": [
       "<div>\n",
       "<style scoped>\n",
       "    .dataframe tbody tr th:only-of-type {\n",
       "        vertical-align: middle;\n",
       "    }\n",
       "\n",
       "    .dataframe tbody tr th {\n",
       "        vertical-align: top;\n",
       "    }\n",
       "\n",
       "    .dataframe thead th {\n",
       "        text-align: right;\n",
       "    }\n",
       "</style>\n",
       "<table border=\"1\" class=\"dataframe\">\n",
       "  <thead>\n",
       "    <tr style=\"text-align: right;\">\n",
       "      <th></th>\n",
       "      <th></th>\n",
       "      <th>members</th>\n",
       "    </tr>\n",
       "    <tr>\n",
       "      <th>year_aired</th>\n",
       "      <th>genre</th>\n",
       "      <th></th>\n",
       "    </tr>\n",
       "  </thead>\n",
       "  <tbody>\n",
       "    <tr>\n",
       "      <th rowspan=\"13\" valign=\"top\">2021</th>\n",
       "      <th>Sci-Fi</th>\n",
       "      <td>10892</td>\n",
       "    </tr>\n",
       "    <tr>\n",
       "      <th>Drama</th>\n",
       "      <td>9960</td>\n",
       "    </tr>\n",
       "    <tr>\n",
       "      <th>Adventure</th>\n",
       "      <td>7625</td>\n",
       "    </tr>\n",
       "    <tr>\n",
       "      <th>Mecha</th>\n",
       "      <td>6693</td>\n",
       "    </tr>\n",
       "    <tr>\n",
       "      <th>Action</th>\n",
       "      <td>5117</td>\n",
       "    </tr>\n",
       "    <tr>\n",
       "      <th>Comedy</th>\n",
       "      <td>3698</td>\n",
       "    </tr>\n",
       "    <tr>\n",
       "      <th>Shounen</th>\n",
       "      <td>3698</td>\n",
       "    </tr>\n",
       "    <tr>\n",
       "      <th>Historical</th>\n",
       "      <td>2587</td>\n",
       "    </tr>\n",
       "    <tr>\n",
       "      <th>Sports</th>\n",
       "      <td>1850</td>\n",
       "    </tr>\n",
       "    <tr>\n",
       "      <th>Parody</th>\n",
       "      <td>1848</td>\n",
       "    </tr>\n",
       "    <tr>\n",
       "      <th>Samurai</th>\n",
       "      <td>1848</td>\n",
       "    </tr>\n",
       "    <tr>\n",
       "      <th>Fantasy</th>\n",
       "      <td>739</td>\n",
       "    </tr>\n",
       "    <tr>\n",
       "      <th>Music</th>\n",
       "      <td>739</td>\n",
       "    </tr>\n",
       "  </tbody>\n",
       "</table>\n",
       "</div>"
      ],
      "text/plain": [
       "                       members\n",
       "year_aired genre              \n",
       "2021       Sci-Fi        10892\n",
       "           Drama          9960\n",
       "           Adventure      7625\n",
       "           Mecha          6693\n",
       "           Action         5117\n",
       "           Comedy         3698\n",
       "           Shounen        3698\n",
       "           Historical     2587\n",
       "           Sports         1850\n",
       "           Parody         1848\n",
       "           Samurai        1848\n",
       "           Fantasy         739\n",
       "           Music           739"
      ]
     },
     "execution_count": 35,
     "metadata": {},
     "output_type": "execute_result"
    }
   ],
   "source": [
    "# Chỉ lấy ra các cột cần dùng\n",
    "anime_2021_df = anime_2021_df[['genre', 'members', 'year_aired']]\n",
    "\n",
    "# Flat cột genre\n",
    "flatted_2021_genre = anime_2021_df.explode('genre')\n",
    "\n",
    "# Đếm ở mỗi thể loại, có bao nhiêu members, rồi sort lại theo chiều giảm dần\n",
    "result_2021_df = flatted_2021_genre.groupby(['year_aired', 'genre']).sum()  \\\n",
    "                            .sort_values('members', ascending=False)\n",
    "\n",
    "result_2021_df"
   ]
  },
  {
   "cell_type": "markdown",
   "id": "ec5bff7d",
   "metadata": {},
   "source": [
    "Cuối cùng ta sẽ lấy ra top 3 genre có nhiều member nhất. Ta có thể dùng method **.head(3)** từ tập `result_2021_df` nhưng khi làm trên toàn bộ tập dữ liệu, cột year_aired sẽ có nhiều năm chứ không chỉ 2021. Vì vậy nếu muốn dùng **.head(3)** trên mỗi năm, trước hết ta phải **groupby** cột index *year_aired* tương ứng với level 0 (chi tiết level có thể coi ở docs của pandas về phương thức groupby)."
   ]
  },
  {
   "cell_type": "code",
   "execution_count": 36,
   "id": "ee6b4d14",
   "metadata": {},
   "outputs": [
    {
     "data": {
      "text/html": [
       "<div>\n",
       "<style scoped>\n",
       "    .dataframe tbody tr th:only-of-type {\n",
       "        vertical-align: middle;\n",
       "    }\n",
       "\n",
       "    .dataframe tbody tr th {\n",
       "        vertical-align: top;\n",
       "    }\n",
       "\n",
       "    .dataframe thead th {\n",
       "        text-align: right;\n",
       "    }\n",
       "</style>\n",
       "<table border=\"1\" class=\"dataframe\">\n",
       "  <thead>\n",
       "    <tr style=\"text-align: right;\">\n",
       "      <th></th>\n",
       "      <th></th>\n",
       "      <th>members</th>\n",
       "    </tr>\n",
       "    <tr>\n",
       "      <th>year_aired</th>\n",
       "      <th>genre</th>\n",
       "      <th></th>\n",
       "    </tr>\n",
       "  </thead>\n",
       "  <tbody>\n",
       "    <tr>\n",
       "      <th rowspan=\"3\" valign=\"top\">2021</th>\n",
       "      <th>Sci-Fi</th>\n",
       "      <td>10892</td>\n",
       "    </tr>\n",
       "    <tr>\n",
       "      <th>Drama</th>\n",
       "      <td>9960</td>\n",
       "    </tr>\n",
       "    <tr>\n",
       "      <th>Adventure</th>\n",
       "      <td>7625</td>\n",
       "    </tr>\n",
       "  </tbody>\n",
       "</table>\n",
       "</div>"
      ],
      "text/plain": [
       "                      members\n",
       "year_aired genre             \n",
       "2021       Sci-Fi       10892\n",
       "           Drama         9960\n",
       "           Adventure     7625"
      ]
     },
     "execution_count": 36,
     "metadata": {},
     "output_type": "execute_result"
    }
   ],
   "source": [
    "# Bước tiếp theo là lấy ra top genre có nhiều member\n",
    "# Ta sẽ lấy ra top 3 theo từng năm\n",
    "result_2021_df.groupby(level=0).head(3)"
   ]
  },
  {
   "cell_type": "markdown",
   "id": "7daae741",
   "metadata": {},
   "source": [
    "Bây giờ ta sẽ làm trên toàn bộ tập dữ liệu. Giá trị năm phát hành trải dài rất nhiều năm từ 1917 đến 2021, vì vậy ta sẽ chỉ xem xét từ năm 2000 trở lại đi. Điều này là phù hợp cho việc tìm các genre thịnh hành các năm gần đây."
   ]
  },
  {
   "cell_type": "code",
   "execution_count": 37,
   "id": "a002b191",
   "metadata": {},
   "outputs": [
    {
     "data": {
      "text/html": [
       "<div>\n",
       "<style scoped>\n",
       "    .dataframe tbody tr th:only-of-type {\n",
       "        vertical-align: middle;\n",
       "    }\n",
       "\n",
       "    .dataframe tbody tr th {\n",
       "        vertical-align: top;\n",
       "    }\n",
       "\n",
       "    .dataframe thead th {\n",
       "        text-align: right;\n",
       "    }\n",
       "</style>\n",
       "<table border=\"1\" class=\"dataframe\">\n",
       "  <thead>\n",
       "    <tr style=\"text-align: right;\">\n",
       "      <th></th>\n",
       "      <th></th>\n",
       "      <th>members</th>\n",
       "    </tr>\n",
       "    <tr>\n",
       "      <th>year_aired</th>\n",
       "      <th>genre</th>\n",
       "      <th></th>\n",
       "    </tr>\n",
       "  </thead>\n",
       "  <tbody>\n",
       "    <tr>\n",
       "      <th rowspan=\"3\" valign=\"top\">2021</th>\n",
       "      <th>Sci-Fi</th>\n",
       "      <td>10892</td>\n",
       "    </tr>\n",
       "    <tr>\n",
       "      <th>Drama</th>\n",
       "      <td>9960</td>\n",
       "    </tr>\n",
       "    <tr>\n",
       "      <th>Adventure</th>\n",
       "      <td>7625</td>\n",
       "    </tr>\n",
       "    <tr>\n",
       "      <th rowspan=\"2\" valign=\"top\">2020</th>\n",
       "      <th>Fantasy</th>\n",
       "      <td>1005535</td>\n",
       "    </tr>\n",
       "    <tr>\n",
       "      <th>Comedy</th>\n",
       "      <td>997076</td>\n",
       "    </tr>\n",
       "    <tr>\n",
       "      <th>...</th>\n",
       "      <th>...</th>\n",
       "      <td>...</td>\n",
       "    </tr>\n",
       "    <tr>\n",
       "      <th rowspan=\"2\" valign=\"top\">2001</th>\n",
       "      <th>Adventure</th>\n",
       "      <td>2340066</td>\n",
       "    </tr>\n",
       "    <tr>\n",
       "      <th>Comedy</th>\n",
       "      <td>2286788</td>\n",
       "    </tr>\n",
       "    <tr>\n",
       "      <th rowspan=\"3\" valign=\"top\">2000</th>\n",
       "      <th>Comedy</th>\n",
       "      <td>2788983</td>\n",
       "    </tr>\n",
       "    <tr>\n",
       "      <th>Action</th>\n",
       "      <td>1834758</td>\n",
       "    </tr>\n",
       "    <tr>\n",
       "      <th>Adventure</th>\n",
       "      <td>1689401</td>\n",
       "    </tr>\n",
       "  </tbody>\n",
       "</table>\n",
       "<p>66 rows × 1 columns</p>\n",
       "</div>"
      ],
      "text/plain": [
       "                      members\n",
       "year_aired genre             \n",
       "2021       Sci-Fi       10892\n",
       "           Drama         9960\n",
       "           Adventure     7625\n",
       "2020       Fantasy    1005535\n",
       "           Comedy      997076\n",
       "...                       ...\n",
       "2001       Adventure  2340066\n",
       "           Comedy     2286788\n",
       "2000       Comedy     2788983\n",
       "           Action     1834758\n",
       "           Adventure  1689401\n",
       "\n",
       "[66 rows x 1 columns]"
      ]
     },
     "execution_count": 37,
     "metadata": {},
     "output_type": "execute_result"
    }
   ],
   "source": [
    "# Các anime phát hành từ năm 2000 trở đi\n",
    "anime_2k_df = anime_df[anime_df['year_aired'].isin(np.arange(2000,2022))]\n",
    "\n",
    "# Chỉ lấy ra các cột cần dùng\n",
    "anime_2k_df = anime_2k_df[['genre', 'members', 'year_aired']]\n",
    "\n",
    "# Flat cột genre\n",
    "flatted_2k_genre = anime_2k_df.explode('genre')\n",
    "\n",
    "# Đếm ở mỗi thể loại, có bao nhiêu members, rồi sort lại theo chiều giảm dần\n",
    "result_2k_df = flatted_2k_genre.groupby(['year_aired', 'genre']).sum()  \\\n",
    "                            .sort_values(['year_aired', 'members'], ascending=[False, False])\n",
    "\n",
    "# Bước tiếp theo là lấy ra top genre có nhiều member\n",
    "# Ta sẽ lấy ra top 3 theo từng năm\n",
    "anime_2k_top3_genre = result_2k_df.groupby(level=0).head(3)\n",
    "anime_2k_top3_genre"
   ]
  },
  {
   "cell_type": "code",
   "execution_count": 38,
   "id": "46f31a48",
   "metadata": {
    "scrolled": true
   },
   "outputs": [
    {
     "data": {
      "text/plain": [
       "genre\n",
       "Comedy          21\n",
       "Action          19\n",
       "Drama            5\n",
       "Fantasy          5\n",
       "Adventure        4\n",
       "Romance          4\n",
       "School           3\n",
       "Supernatural     3\n",
       "Sci-Fi           1\n",
       "Shounen          1\n",
       "dtype: int64"
      ]
     },
     "execution_count": 38,
     "metadata": {},
     "output_type": "execute_result"
    }
   ],
   "source": [
    "# Đếm các genre xuất hiện trong top 3 genre mỗi năm\n",
    "anime_2k_top3_genre.value_counts('genre')"
   ]
  },
  {
   "cell_type": "markdown",
   "id": "5be465f0",
   "metadata": {},
   "source": [
    "**Nhận xét:**\n",
    "\n",
    "Qua kết quả trên ta có thể rút ra các genre thu hút người xem mọi người nhất là *Comedy* và *Action*. Hai thể loại này vượt trội hẳn so với các thể loại khác. *Comedy* đứng đầu cũng rất hợp lý vì nó dễ xem, hài hước và giải trí, thu hút được mọi lứa tuổi, giới tính. Còn ở thể loại *Action*, đây là nơi các nhà sản xuất anime thể hiện kỹ xảo đồ họa của họ với trọng tâm vào các nét vẽ hiệu ứng hành động tinh xảo, hoa mỹ. Thể loại này thường đánh vào phái nam là chủ yếu nhưng không mà vậy thiếu vắng đi phái nữ trong cộng đồng anime thể loại *Action*."
   ]
  },
  {
   "cell_type": "markdown",
   "id": "bcbd5f1f",
   "metadata": {},
   "source": [
    "## 2. Các cột numeric có ảnh hưởng đến rating không?\n",
    "\n",
    "Việc trả lời được câu hỏi này sẽ mang lại lợi ích đến các nhà sản xuất anime là chính. Nếu tìm ra được mối tương quan giữa các cột **numeric** với cột **score**, nhà sản xuất anime từ đó có thể bám theo mối tương quan tìm được mà làm ra một anime với hi vọng được đánh giá tích cực, chẳng hạn nếu `episodes` tỉ lệ thuận với `score` thì ta có thể làm ra một bộ anime nhiều tập nhất có thể.\n",
    "\n",
    "Để rút ra mối tương quan giữa các cột **numeric** trong tập `anime_df` với cột **score**, một cách dễ nhất là dùng *scatter plot*. Ta có 4 cột **numeric** khác cột **score**, như vậy sẽ vẽ ra 4 biểu đồ scatter và xếp thành ma trận đồ thị 2x2.\n",
    "\n",
    "- Bước 1: Vẽ biểu đồ thể hiện sự ảnh hưởng của `episodes`, `members`, `popularity`, `ranked` đối với `score`\n",
    "- Bước 2: Loại trừ outliner và vẽ lại biểu đồ trên"
   ]
  },
  {
   "cell_type": "code",
   "execution_count": 39,
   "id": "1c49259d",
   "metadata": {},
   "outputs": [
    {
     "data": {
      "image/png": "[encoded data removed]",
      "text/plain": [
       "<Figure size 864x576 with 4 Axes>"
      ]
     },
     "metadata": {
      "needs_background": "light"
     },
     "output_type": "display_data"
    }
   ],
   "source": [
    "# Hàm vẽ scatter trên 1 subplot\n",
    "def subplot_scatter(ax, x, y, data):\n",
    "    ax.scatter(x, y, data=data)\n",
    "    ax.set_xlabel(x)\n",
    "    ax.set_ylabel(y)\n",
    "\n",
    "# Tạo ra ma trận subplot 2x2\n",
    "fig, ax = plt.subplots(nrows=2, ncols=2, figsize=(12,8))\n",
    "\n",
    "# Plot từng scatter plot với mỗi cột numeric tương ứng\n",
    "subplot_scatter(ax[0,0], x='episodes', y='score', data=anime_df)\n",
    "subplot_scatter(ax[0,1], x='members', y='score', data=anime_df)\n",
    "subplot_scatter(ax[1,0], x='popularity', y='score', data=anime_df)\n",
    "subplot_scatter(ax[1,1], x='ranked', y='score', data=anime_df)\n",
    "\n",
    "plt.show()"
   ]
  },
  {
   "cell_type": "markdown",
   "id": "fd451cf1",
   "metadata": {},
   "source": [
    "**Nhận xét:**\n",
    "\n",
    "- `episodes`: giữa cột này với cột điểm, ta chưa thấy được mối quan hệ gì vì các điểm bị chụm lại theo chiều dọc.\n",
    "- `members`: có thể thấy một bộ phận anime tỉ lệ thuận với điểm số, nghĩa là lượng member càng cao thì càng nhiều điểm nhưng cũng có một bộ phận anime lượng member thấp nhưng điểm số vẫn cao -> không thể dùng cột này để quyết định cột `score` và nếu cột members này có tỉ lệ thuận với điểm số đi chăng nữa thì làm ra một anime có cộng đồng nhiều thành viên cũng là một việc không hề dễ.\n",
    "- `popularity`: không có mối tương quan gì giữa cột này với cột điểm. Đây cũng là một điều thú vị vì giá trị cột này càng thấp thì anime đó càng nổi tiếng nhưng qua scatter plot ta có thể thấy, anime điểm số cao thấp trải khắp độ nổi tiếng nghĩa là có anime nổi tiếng hay và anime nổi tiếng 'dở'.\n",
    "- `ranked`: đây là cột có mối tương quan rõ nhất giữa các scatter plot. Qua biểu đồ ta thấy, xét về giá trị số thì cột ranked **tỉ lệ nghịch** với cột điểm, xét về ý nghĩa thì anime có hạng càng cao thì điểm càng cao. Như vậy ta có thể đoán tiêu chí xếp hạng của myanimelist có xét điểm số trong đó. Nhưng mối tương quan này chỉ đúng từ rank 1 đến rank thứ khoảng 11000, sau đó ta có thể thấy điểm số cao thấp xuất hiện không theo trật tự nào ở các anime rank thấp. Nhưng dù ta thấy được mối quan hệ rõ ràng, làm ra anime với hi vọng được đánh giá cao dựa vào cột này là không khả thi vì để có được xếp hạng thì phải có được sự đánh giá mà sự đánh giá này lại đến từ điểm số - thứ ta đang tìm."
   ]
  },
  {
   "cell_type": "markdown",
   "id": "57edc508",
   "metadata": {},
   "source": [
    "Qua 4 biểu đồ trên, chỉ còn mối tương quan giữa `episodes` và `score` là chưa rõ. Một cách để thấy rõ được sự tương quan giữa 2 cột này là loại bỏ outlier. Ta sẽ dùng phương pháp 3 lần độ lệch chuẩn để loại bỏ outlier, nghĩa là chỉ lấy các giá trị từ trong khoảng từ giá trị mean +- 3 lần độ lệch chuẩn [mean-3\\*std;mean+3\\*std]. Sau khi loại outlier thì ta sẽ vẽ lại scatter plot để xem xét mối tương quan. Ta cũng thử áp dụng việc loại outlier lên 3 cột số còn lại rồi vẽ để xem mối tương quan đã phân tích ở trên có thay đổi hay không."
   ]
  },
  {
   "cell_type": "code",
   "execution_count": 40,
   "id": "a119c766",
   "metadata": {
    "scrolled": false
   },
   "outputs": [
    {
     "data": {
      "image/png": "[encoded data removed]",
      "text/plain": [
       "<Figure size 864x576 with 4 Axes>"
      ]
     },
     "metadata": {
      "needs_background": "light"
     },
     "output_type": "display_data"
    }
   ],
   "source": [
    "# Loại bỏ outlier theo phương pháp +- 3 độ lệch chuẩn (99.7%)\n",
    "def remove_outlier(df, col):\n",
    "    return df[np.abs(df[col]-df[col].mean()) <= (3*df[col].std())]\n",
    "\n",
    "# Tạo ra tập dữ liệu loại bỏ outlier\n",
    "ep_df = remove_outlier(anime_df, 'episodes')\n",
    "mem_df = remove_outlier(anime_df, 'members')\n",
    "pop_df = remove_outlier(anime_df, 'popularity')\n",
    "rank_df = remove_outlier(anime_df, 'ranked')\n",
    "\n",
    "# Tạo ra ma trận subplot 2x2\n",
    "ro_fig, ro_ax = plt.subplots(nrows=2, ncols=2, figsize=(12,8))\n",
    "\n",
    "# Plot từng scatter plot với mỗi cột numeric tương ứng\n",
    "subplot_scatter(ro_ax[0,0], x='episodes', y='score', data=ep_df)\n",
    "subplot_scatter(ro_ax[0,1], x='members', y='score', data=mem_df)\n",
    "subplot_scatter(ro_ax[1,0], x='popularity', y='score', data=pop_df)\n",
    "subplot_scatter(ro_ax[1,1], x='ranked', y='score', data=rank_df)\n",
    "\n",
    "plt.show()"
   ]
  },
  {
   "cell_type": "markdown",
   "id": "adbe5d2a",
   "metadata": {},
   "source": [
    "**Nhận xét:**\n",
    "\n",
    "Sau khi loại bỏ outlier, mối tương quan giữa cột `episodes` và `score` đã rõ hơn ban đầu. Qua đó ta thấy, `episode` không có tương quan gì với cột điểm cả. Trong 3 đồ thị còn lại thì hình dạng đồ thị ở cột `members` có thay đổi đôi chút, thấy rõ được từ 6 đến 8.5 điểm đều thấy lượng member nhiều ít trải đều.\n",
    "\n",
    "Qua các phân tích trên ta có thể rút ra kết luận, để làm ra một anime được mọi người đánh giá tích cực, ta không thể dựa vào giá trị của các cột số trong tập dữ liệu này mà thay vào đó có lẽ là yếu tố bên ngoài có thể như là: nội dung cốt truyện, xây dựng nhân vật và phong cách nét vẽ."
   ]
  },
  {
   "cell_type": "markdown",
   "id": "b4a99316",
   "metadata": {},
   "source": [
    "## 3. Người xem anime và đánh giá của họ qua các năm ra sao?\n",
    "\n",
    "Câu hỏi này dùng để chứng minh ngành công nghiệp anime là một ngành đang phát triển rất mạnh mẽ, ngoài ra nó cũng có thể giúp các nhà sản xuất/phát hành phim biết phản hồi của người dùng theo genre ra sao. Ta sẽ làm điều qua biểu đường cho cột `members` và `score`. Riêng cột `score` ta sẽ vẽ thêm biểu đồ boxplot để xem phân bố điểm của người xem qua các năm.\n",
    "\n",
    "- Bước 1: Lọc ra những năm có dữ liệu quá ít (2021, 2020)\n",
    "- Bước 2: Vẽ biểu đồ của ngành anime nói chung\n",
    "- Bước 3: Vẽ biểu đồ theo cụm tuổi (1-5 năm, 5-10 năm, 10-20 năm, ...)\n",
    "- Bước 4: Vẽ biểu đồ cho 2 thể loại tốt nhất và 2 thể loại tệ nhất"
   ]
  },
  {
   "cell_type": "code",
   "execution_count": 41,
   "id": "2d3417ef",
   "metadata": {
    "execution": {
     "iopub.execute_input": "2022-01-13T10:58:39.031964Z",
     "iopub.status.busy": "2022-01-13T10:58:39.031348Z",
     "iopub.status.idle": "2022-01-13T10:58:39.055814Z",
     "shell.execute_reply": "2022-01-13T10:58:39.054792Z",
     "shell.execute_reply.started": "2022-01-13T10:58:39.031917Z"
    }
   },
   "outputs": [
    {
     "data": {
      "text/html": [
       "<div>\n",
       "<style scoped>\n",
       "    .dataframe tbody tr th:only-of-type {\n",
       "        vertical-align: middle;\n",
       "    }\n",
       "\n",
       "    .dataframe tbody tr th {\n",
       "        vertical-align: top;\n",
       "    }\n",
       "\n",
       "    .dataframe thead th {\n",
       "        text-align: right;\n",
       "    }\n",
       "</style>\n",
       "<table border=\"1\" class=\"dataframe\">\n",
       "  <thead>\n",
       "    <tr style=\"text-align: right;\">\n",
       "      <th></th>\n",
       "      <th>uid</th>\n",
       "      <th>genre</th>\n",
       "      <th>members</th>\n",
       "      <th>score</th>\n",
       "      <th>year_aired</th>\n",
       "    </tr>\n",
       "  </thead>\n",
       "  <tbody>\n",
       "    <tr>\n",
       "      <th>1497</th>\n",
       "      <td>30532</td>\n",
       "      <td>[Action, Mecha, Sci-Fi]</td>\n",
       "      <td>2663</td>\n",
       "      <td>NaN</td>\n",
       "      <td>NaN</td>\n",
       "    </tr>\n",
       "    <tr>\n",
       "      <th>1498</th>\n",
       "      <td>40242</td>\n",
       "      <td>[Adventure, Fantasy]</td>\n",
       "      <td>170</td>\n",
       "      <td>NaN</td>\n",
       "      <td>2020</td>\n",
       "    </tr>\n",
       "    <tr>\n",
       "      <th>1499</th>\n",
       "      <td>37962</td>\n",
       "      <td>[Music]</td>\n",
       "      <td>4709</td>\n",
       "      <td>NaN</td>\n",
       "      <td>2020</td>\n",
       "    </tr>\n",
       "    <tr>\n",
       "      <th>1500</th>\n",
       "      <td>40046</td>\n",
       "      <td>[Sci-Fi, Mystery]</td>\n",
       "      <td>17205</td>\n",
       "      <td>NaN</td>\n",
       "      <td>2020</td>\n",
       "    </tr>\n",
       "    <tr>\n",
       "      <th>1501</th>\n",
       "      <td>39725</td>\n",
       "      <td>[Comedy, Music, School, Slice of Life]</td>\n",
       "      <td>626</td>\n",
       "      <td>NaN</td>\n",
       "      <td>NaN</td>\n",
       "    </tr>\n",
       "    <tr>\n",
       "      <th>...</th>\n",
       "      <td>...</td>\n",
       "      <td>...</td>\n",
       "      <td>...</td>\n",
       "      <td>...</td>\n",
       "      <td>...</td>\n",
       "    </tr>\n",
       "    <tr>\n",
       "      <th>14982</th>\n",
       "      <td>40358</td>\n",
       "      <td>[Comedy, Seinen, Slice of Life]</td>\n",
       "      <td>1479</td>\n",
       "      <td>NaN</td>\n",
       "      <td>2020</td>\n",
       "    </tr>\n",
       "    <tr>\n",
       "      <th>14983</th>\n",
       "      <td>32455</td>\n",
       "      <td>[Music]</td>\n",
       "      <td>837</td>\n",
       "      <td>NaN</td>\n",
       "      <td>NaN</td>\n",
       "    </tr>\n",
       "    <tr>\n",
       "      <th>14984</th>\n",
       "      <td>35380</td>\n",
       "      <td>[Comedy, Parody]</td>\n",
       "      <td>4734</td>\n",
       "      <td>NaN</td>\n",
       "      <td>NaN</td>\n",
       "    </tr>\n",
       "    <tr>\n",
       "      <th>15072</th>\n",
       "      <td>39166</td>\n",
       "      <td>[Military, School]</td>\n",
       "      <td>3355</td>\n",
       "      <td>NaN</td>\n",
       "      <td>NaN</td>\n",
       "    </tr>\n",
       "    <tr>\n",
       "      <th>15075</th>\n",
       "      <td>38086</td>\n",
       "      <td>[Action, Supernatural, Magic, Fantasy]</td>\n",
       "      <td>14309</td>\n",
       "      <td>NaN</td>\n",
       "      <td>2020</td>\n",
       "    </tr>\n",
       "  </tbody>\n",
       "</table>\n",
       "<p>341 rows × 5 columns</p>\n",
       "</div>"
      ],
      "text/plain": [
       "         uid                                   genre  members  score  \\\n",
       "1497   30532                 [Action, Mecha, Sci-Fi]     2663    NaN   \n",
       "1498   40242                    [Adventure, Fantasy]      170    NaN   \n",
       "1499   37962                                 [Music]     4709    NaN   \n",
       "1500   40046                       [Sci-Fi, Mystery]    17205    NaN   \n",
       "1501   39725  [Comedy, Music, School, Slice of Life]      626    NaN   \n",
       "...      ...                                     ...      ...    ...   \n",
       "14982  40358         [Comedy, Seinen, Slice of Life]     1479    NaN   \n",
       "14983  32455                                 [Music]      837    NaN   \n",
       "14984  35380                        [Comedy, Parody]     4734    NaN   \n",
       "15072  39166                      [Military, School]     3355    NaN   \n",
       "15075  38086  [Action, Supernatural, Magic, Fantasy]    14309    NaN   \n",
       "\n",
       "       year_aired  \n",
       "1497          NaN  \n",
       "1498         2020  \n",
       "1499         2020  \n",
       "1500         2020  \n",
       "1501          NaN  \n",
       "...           ...  \n",
       "14982        2020  \n",
       "14983         NaN  \n",
       "14984         NaN  \n",
       "15072         NaN  \n",
       "15075        2020  \n",
       "\n",
       "[341 rows x 5 columns]"
      ]
     },
     "execution_count": 41,
     "metadata": {},
     "output_type": "execute_result"
    }
   ],
   "source": [
    "year_df = anime_df[['uid', 'genre', 'members', 'score', 'year_aired']]\n",
    "# Kiểm tra có dòng nào không hợp lệ\n",
    "year_df[year_df['score'].isna()]"
   ]
  },
  {
   "cell_type": "markdown",
   "id": "1c0cc706",
   "metadata": {},
   "source": [
    "Dataset này được thu thập từ năm 2020, nên các anime dự kiến sẽ chiếu 2021 (thậm chí trong 2020) đương nhiên là chưa có đánh giá. Vì thế chúng ta sẽ bỏ qua hai năm đó"
   ]
  },
  {
   "cell_type": "code",
   "execution_count": 42,
   "id": "3664ec2e",
   "metadata": {
    "execution": {
     "iopub.execute_input": "2022-01-13T10:58:39.057376Z",
     "iopub.status.busy": "2022-01-13T10:58:39.057145Z",
     "iopub.status.idle": "2022-01-13T10:58:39.072010Z",
     "shell.execute_reply": "2022-01-13T10:58:39.070993Z",
     "shell.execute_reply.started": "2022-01-13T10:58:39.057349Z"
    }
   },
   "outputs": [],
   "source": [
    "year_df = year_df[year_df['year_aired'] < 2020]"
   ]
  },
  {
   "cell_type": "code",
   "execution_count": 43,
   "id": "bf246043",
   "metadata": {
    "execution": {
     "iopub.execute_input": "2022-01-13T10:58:39.073938Z",
     "iopub.status.busy": "2022-01-13T10:58:39.073647Z",
     "iopub.status.idle": "2022-01-13T10:58:39.093866Z",
     "shell.execute_reply": "2022-01-13T10:58:39.092823Z",
     "shell.execute_reply.started": "2022-01-13T10:58:39.073908Z"
    }
   },
   "outputs": [
    {
     "data": {
      "text/html": [
       "<div>\n",
       "<style scoped>\n",
       "    .dataframe tbody tr th:only-of-type {\n",
       "        vertical-align: middle;\n",
       "    }\n",
       "\n",
       "    .dataframe tbody tr th {\n",
       "        vertical-align: top;\n",
       "    }\n",
       "\n",
       "    .dataframe thead th {\n",
       "        text-align: right;\n",
       "    }\n",
       "</style>\n",
       "<table border=\"1\" class=\"dataframe\">\n",
       "  <thead>\n",
       "    <tr style=\"text-align: right;\">\n",
       "      <th></th>\n",
       "      <th>uid</th>\n",
       "      <th>members</th>\n",
       "      <th>score</th>\n",
       "    </tr>\n",
       "    <tr>\n",
       "      <th>year_aired</th>\n",
       "      <th></th>\n",
       "      <th></th>\n",
       "      <th></th>\n",
       "    </tr>\n",
       "  </thead>\n",
       "  <tbody>\n",
       "    <tr>\n",
       "      <th>1917</th>\n",
       "      <td>16</td>\n",
       "      <td>567</td>\n",
       "      <td>6</td>\n",
       "    </tr>\n",
       "    <tr>\n",
       "      <th>1918</th>\n",
       "      <td>7</td>\n",
       "      <td>463</td>\n",
       "      <td>6</td>\n",
       "    </tr>\n",
       "    <tr>\n",
       "      <th>1924</th>\n",
       "      <td>3</td>\n",
       "      <td>359</td>\n",
       "      <td>6</td>\n",
       "    </tr>\n",
       "    <tr>\n",
       "      <th>1925</th>\n",
       "      <td>6</td>\n",
       "      <td>278</td>\n",
       "      <td>6</td>\n",
       "    </tr>\n",
       "    <tr>\n",
       "      <th>1926</th>\n",
       "      <td>6</td>\n",
       "      <td>437</td>\n",
       "      <td>6</td>\n",
       "    </tr>\n",
       "    <tr>\n",
       "      <th>...</th>\n",
       "      <td>...</td>\n",
       "      <td>...</td>\n",
       "      <td>...</td>\n",
       "    </tr>\n",
       "    <tr>\n",
       "      <th>2015</th>\n",
       "      <td>766</td>\n",
       "      <td>48454</td>\n",
       "      <td>6</td>\n",
       "    </tr>\n",
       "    <tr>\n",
       "      <th>2016</th>\n",
       "      <td>870</td>\n",
       "      <td>40142</td>\n",
       "      <td>6</td>\n",
       "    </tr>\n",
       "    <tr>\n",
       "      <th>2017</th>\n",
       "      <td>892</td>\n",
       "      <td>31732</td>\n",
       "      <td>6</td>\n",
       "    </tr>\n",
       "    <tr>\n",
       "      <th>2018</th>\n",
       "      <td>838</td>\n",
       "      <td>29793</td>\n",
       "      <td>6</td>\n",
       "    </tr>\n",
       "    <tr>\n",
       "      <th>2019</th>\n",
       "      <td>610</td>\n",
       "      <td>28169</td>\n",
       "      <td>6</td>\n",
       "    </tr>\n",
       "  </tbody>\n",
       "</table>\n",
       "<p>98 rows × 3 columns</p>\n",
       "</div>"
      ],
      "text/plain": [
       "            uid  members  score\n",
       "year_aired                     \n",
       "1917         16      567      6\n",
       "1918          7      463      6\n",
       "1924          3      359      6\n",
       "1925          6      278      6\n",
       "1926          6      437      6\n",
       "...         ...      ...    ...\n",
       "2015        766    48454      6\n",
       "2016        870    40142      6\n",
       "2017        892    31732      6\n",
       "2018        838    29793      6\n",
       "2019        610    28169      6\n",
       "\n",
       "[98 rows x 3 columns]"
      ]
     },
     "execution_count": 43,
     "metadata": {},
     "output_type": "execute_result"
    }
   ],
   "source": [
    "# Đếm số anime mỗi năm và trung bình rating mỗi năm\n",
    "year_rating_df = year_df.groupby('year_aired').agg({'uid': 'count', 'members': 'mean', 'score': 'mean'})\n",
    "year_rating_df"
   ]
  },
  {
   "cell_type": "markdown",
   "id": "8baf688c",
   "metadata": {},
   "source": [
    "**Biểu đồ đường**"
   ]
  },
  {
   "cell_type": "code",
   "execution_count": 44,
   "id": "4c1146b4",
   "metadata": {
    "execution": {
     "iopub.execute_input": "2022-01-13T10:58:39.095695Z",
     "iopub.status.busy": "2022-01-13T10:58:39.095282Z",
     "iopub.status.idle": "2022-01-13T10:58:39.463505Z",
     "shell.execute_reply": "2022-01-13T10:58:39.462782Z",
     "shell.execute_reply.started": "2022-01-13T10:58:39.095638Z"
    },
    "scrolled": false
   },
   "outputs": [
    {
     "data": {
      "image/png": "[encoded data removed]",
      "text/plain": [
       "<Figure size 1080x576 with 2 Axes>"
      ]
     },
     "metadata": {
      "needs_background": "light"
     },
     "output_type": "display_data"
    }
   ],
   "source": [
    "# Tạo khung plot\n",
    "fig, axes = plt.subplots(nrows=2, ncols=1, figsize=(15,8))\n",
    "min_year = round(np.min(year_rating_df.index), -1)\n",
    "max_year = round(np.max(year_rating_df.index), -1) + 1\n",
    "\n",
    "# Score\n",
    "ax = year_rating_df['score'].plot(ax=axes[0])\n",
    "ax.set_xticks(np.arange(min_year, max_year, 10))\n",
    "ax.set_ylabel('score')\n",
    "\n",
    "# Members\n",
    "ax = year_rating_df['members'].plot(ax=axes[1])\n",
    "ax.set_xticks(np.arange(min_year, max_year, 10))\n",
    "ax.set_ylabel('members')\n",
    "plt.show()"
   ]
  },
  {
   "cell_type": "markdown",
   "id": "c9775ac6",
   "metadata": {},
   "source": [
    "**Boxplot**"
   ]
  },
  {
   "cell_type": "code",
   "execution_count": 45,
   "id": "ccdc4613",
   "metadata": {},
   "outputs": [
    {
     "data": {
      "text/html": [
       "<div>\n",
       "<style scoped>\n",
       "    .dataframe tbody tr th:only-of-type {\n",
       "        vertical-align: middle;\n",
       "    }\n",
       "\n",
       "    .dataframe tbody tr th {\n",
       "        vertical-align: top;\n",
       "    }\n",
       "\n",
       "    .dataframe thead th {\n",
       "        text-align: right;\n",
       "    }\n",
       "</style>\n",
       "<table border=\"1\" class=\"dataframe\">\n",
       "  <thead>\n",
       "    <tr style=\"text-align: right;\">\n",
       "      <th></th>\n",
       "      <th>uid</th>\n",
       "      <th>genre</th>\n",
       "      <th>members</th>\n",
       "      <th>score</th>\n",
       "      <th>year_aired</th>\n",
       "      <th>bin_year</th>\n",
       "    </tr>\n",
       "  </thead>\n",
       "  <tbody>\n",
       "    <tr>\n",
       "      <th>0</th>\n",
       "      <td>28891</td>\n",
       "      <td>[Comedy, Sports, Drama, School, Shounen]</td>\n",
       "      <td>489888</td>\n",
       "      <td>9</td>\n",
       "      <td>2015</td>\n",
       "      <td>2010-2015</td>\n",
       "    </tr>\n",
       "    <tr>\n",
       "      <th>1</th>\n",
       "      <td>23273</td>\n",
       "      <td>[Drama, Music, Romance, School, Shounen]</td>\n",
       "      <td>995473</td>\n",
       "      <td>9</td>\n",
       "      <td>2014</td>\n",
       "      <td>2010-2015</td>\n",
       "    </tr>\n",
       "    <tr>\n",
       "      <th>2</th>\n",
       "      <td>34599</td>\n",
       "      <td>[Sci-Fi, Adventure, Mystery, Drama, Fantasy]</td>\n",
       "      <td>581663</td>\n",
       "      <td>9</td>\n",
       "      <td>2017</td>\n",
       "      <td>2015-2019</td>\n",
       "    </tr>\n",
       "    <tr>\n",
       "      <th>3</th>\n",
       "      <td>5114</td>\n",
       "      <td>[Action, Military, Adventure, Comedy, Drama, M...</td>\n",
       "      <td>1615084</td>\n",
       "      <td>9</td>\n",
       "      <td>2009</td>\n",
       "      <td>2000-2010</td>\n",
       "    </tr>\n",
       "    <tr>\n",
       "      <th>4</th>\n",
       "      <td>31758</td>\n",
       "      <td>[Action, Mystery, Supernatural, Vampire]</td>\n",
       "      <td>214621</td>\n",
       "      <td>9</td>\n",
       "      <td>2017</td>\n",
       "      <td>2015-2019</td>\n",
       "    </tr>\n",
       "  </tbody>\n",
       "</table>\n",
       "</div>"
      ],
      "text/plain": [
       "     uid                                              genre  members  score  \\\n",
       "0  28891           [Comedy, Sports, Drama, School, Shounen]   489888      9   \n",
       "1  23273           [Drama, Music, Romance, School, Shounen]   995473      9   \n",
       "2  34599       [Sci-Fi, Adventure, Mystery, Drama, Fantasy]   581663      9   \n",
       "3   5114  [Action, Military, Adventure, Comedy, Drama, M...  1615084      9   \n",
       "4  31758           [Action, Mystery, Supernatural, Vampire]   214621      9   \n",
       "\n",
       "   year_aired   bin_year  \n",
       "0        2015  2010-2015  \n",
       "1        2014  2010-2015  \n",
       "2        2017  2015-2019  \n",
       "3        2009  2000-2010  \n",
       "4        2017  2015-2019  "
      ]
     },
     "execution_count": 45,
     "metadata": {},
     "output_type": "execute_result"
    }
   ],
   "source": [
    "year_df['bin_year'] = pd.cut(year_df['year_aired'],\n",
    "                  bins=[1900, 1990, 2000, 2010, 2015, 2019],\n",
    "                  labels=['1900-1990', '1990-2000', '2000-2010',\n",
    "                  '2010-2015', '2015-2019'])\n",
    "\n",
    "year_df.head()\n"
   ]
  },
  {
   "cell_type": "code",
   "execution_count": 46,
   "id": "2ce3bfba",
   "metadata": {
    "execution": {
     "iopub.execute_input": "2022-01-13T10:58:39.465035Z",
     "iopub.status.busy": "2022-01-13T10:58:39.464778Z",
     "iopub.status.idle": "2022-01-13T10:58:39.995272Z",
     "shell.execute_reply": "2022-01-13T10:58:39.993848Z",
     "shell.execute_reply.started": "2022-01-13T10:58:39.465003Z"
    }
   },
   "outputs": [
    {
     "data": {
      "image/png": "[encoded data removed]",
      "text/plain": [
       "<Figure size 432x288 with 1 Axes>"
      ]
     },
     "metadata": {
      "needs_background": "light"
     },
     "output_type": "display_data"
    }
   ],
   "source": [
    "sns.boxplot(x='bin_year', y='score', data=year_df)\n",
    "plt.show()"
   ]
  },
  {
   "cell_type": "markdown",
   "id": "f1bef550",
   "metadata": {},
   "source": [
    "**Nhận xét:**\n",
    "\n",
    "Nhìn sơ lược thì có thể thấy chất lượng của anime đã được nâng cao và đón nhận rất nhiều. Bằng chứng là số thành viên tăng nhanh trong suốt 20 năm, điểm số cũng có cải thiện. Tuy nhiên trên mặt bằng chung thì không có nhiều anime trên 8.0 và điều này cũng đúng với nhiều khía cạnh khác ngoài anime đó là có thể có nhiều anime được sản xuất nhưng làm ra một anime hay, được mọi người đánh giá tích cực là một điều không hề dễ."
   ]
  },
  {
   "cell_type": "markdown",
   "id": "01c582e4",
   "metadata": {},
   "source": [
    "Bây giờ ta sẽ xem điểm người xem dành cho 2 thể loại thịnh hành nhất (dựa vào kết quả câu 1) và 2 thể loại ít thịnh hành nhất như thế nào qua biểu đồ đường."
   ]
  },
  {
   "cell_type": "code",
   "execution_count": 47,
   "id": "c4bcdca0",
   "metadata": {
    "execution": {
     "iopub.execute_input": "2022-01-13T11:03:36.660864Z",
     "iopub.status.busy": "2022-01-13T11:03:36.660555Z",
     "iopub.status.idle": "2022-01-13T11:03:36.694806Z",
     "shell.execute_reply": "2022-01-13T11:03:36.694058Z",
     "shell.execute_reply.started": "2022-01-13T11:03:36.660832Z"
    }
   },
   "outputs": [
    {
     "data": {
      "text/plain": [
       "array(['Comedy', 'Action', 'Cars', 'Yuri'], dtype=object)"
      ]
     },
     "execution_count": 47,
     "metadata": {},
     "output_type": "execute_result"
    }
   ],
   "source": [
    "selected_year_df = year_df[year_df['year_aired'] >= 2000]\n",
    "\n",
    "# Lấy ra genre có ít member nhất mỗi năm\n",
    "anime_2k_worst_genre = result_2k_df.groupby(level=0).tail(3)\n",
    "anime_2k_worst_genre = anime_2k_worst_genre.value_counts('genre')\n",
    "\n",
    "# Genre có nhiều member nhất mỗi năm\n",
    "anime_2k_best_genre = anime_2k_top3_genre.value_counts('genre')\n",
    "\n",
    "# Lấy ra 2 best genre và 2 worst genre\n",
    "genre_plot = np.concatenate([anime_2k_best_genre.index[:2], \n",
    "                             anime_2k_worst_genre.index[:2]], axis=0)\n",
    "genre_plot\n"
   ]
  },
  {
   "cell_type": "code",
   "execution_count": 48,
   "id": "66803e72",
   "metadata": {
    "execution": {
     "iopub.execute_input": "2022-01-13T11:10:41.558424Z",
     "iopub.status.busy": "2022-01-13T11:10:41.558154Z",
     "iopub.status.idle": "2022-01-13T11:10:42.215059Z",
     "shell.execute_reply": "2022-01-13T11:10:42.213879Z",
     "shell.execute_reply.started": "2022-01-13T11:10:41.558396Z"
    }
   },
   "outputs": [
    {
     "data": {
      "image/png": "[encoded data removed]",
      "text/plain": [
       "<Figure size 1080x360 with 1 Axes>"
      ]
     },
     "metadata": {
      "needs_background": "light"
     },
     "output_type": "display_data"
    }
   ],
   "source": [
    "flatten_genre = selected_year_df.explode('genre')\n",
    "flatten_genre = flatten_genre[['year_aired', 'genre', 'score']]\n",
    "\n",
    "min_year = round(np.min(selected_year_df['year_aired']), -1)\n",
    "max_year = round(np.max(selected_year_df['year_aired']), -1) + 1\n",
    "\n",
    "selected_year_df\n",
    "\n",
    "def plot_genre_trend(names, ax = None):\n",
    "    for name in names:\n",
    "        genre_df = flatten_genre[flatten_genre['genre'] == name]\n",
    "        year_rating = genre_df.groupby('year_aired').mean()\n",
    "        if ax:\n",
    "            year_rating.plot(figsize=(15,5), ax=ax)\n",
    "        else:\n",
    "            ax = year_rating.plot(figsize=(15,5))\n",
    "    ax.legend(names)\n",
    "    ax.set_xticks(np.arange(min_year, max_year, 1))\n",
    "\n",
    "plot_genre_trend(genre_plot)"
   ]
  },
  {
   "cell_type": "markdown",
   "id": "06ae217f",
   "metadata": {},
   "source": [
    "**Nhận xét:**\n",
    "\n",
    "Hai genre nổi tiếng gần tương đồng với mặt bằng chung của xu hướng, còn hai genre kém nổi tiếng thì lại dao động rất mạnh, có thể là do cộng đồng ít cộng thêm việc không có nhiều nhà sản xuất ra mắt các thể loại này đến không đủ lượng đánh giá từ đó việc dao động điểm đánh giá xảy ra là bình thường. \n",
    "Điều này cũng nói lên nhà sản xuất anime nên chọn các genre theo trending khi sản xuất là một lối đi an toàn cho họ, nếu họ muốn mạo hiểm, tạo đột phá thì họ có thể chọn các genre ít người quan tâm."
   ]
  },
  {
   "cell_type": "markdown",
   "id": "9a2d3aa3",
   "metadata": {},
   "source": [
    "## 4. Hệ thống gợi ý (Recommendation system)\n",
    "\n"
   ]
  },
  {
   "cell_type": "markdown",
   "id": "94ff7c9f",
   "metadata": {},
   "source": [
    "Hệ thống gợi ý dự đoán sở thích của chúng ta và tìm kiếm các đối tượng tiềm năng phù hợp với sở thích đó để gợi ý cho chúng ta. Ví dụ Netflix - dịch vụ xem phim nổi tiếng của thế giới đã làm như sau:\n",
    "\n",
    "- Theo dõi khách hàng yêu thích những bộ phim nào vào dữ liệu trên quá khứ của họ như điểm đánh giá trên từng bộ phim, thời gian mà họ dành để xem bộ phim nào đó, ngày và giờ xem phim, ...\n",
    "- Từ đó có thể dự đoán được người dùng có thể sẽ thích những bộ phim nào khác và đưa ra gợi ý phù hợp cho họ\n",
    "\n",
    "Việc xây dựng một hệ thống như vậy đều có lợi cho cả người dùng và nhà sản xuất. Cụ thể là người dùng sẽ kiếm được thứ mình muốn nhanh hơn còn nhà sản xuất thì được tăng doanh thu. Trong đồ án này thì chúng ta sẽ tập trung vào **memory based collaborative filtering**.\n",
    "\n",
    "Collaborative filtering là thuật toán lọc tương tác tức là tìm ra anime mà người dùng có khả năng ưa thích nhất dựa vào những anime mà những người dùng khác có hành vi tương tự đã đánh giá. Đầu vào của thuật toán là một ma trận tiện ích (**ultility matrix**) chứa giá trị rating của các cặp (user, item).\n",
    "\n",
    "- Bước 1: Xây dựng một pivot table, với item-based thì lấy ID của người dùng làm cột và ID của anime cho dòng, còn với user-based thì sẽ ngược lại (có thể dùng transpose)\n",
    "- Bước 2: Áp dụng công thức cosine similarity, kết quả thu được sẽ là một ma trận vuông có độ dài là số lượng anime nếu là item-based, còn với user-based thì sẽ là số lượng user."
   ]
  },
  {
   "cell_type": "markdown",
   "id": "609393b3",
   "metadata": {},
   "source": [
    "Trước tiên là cần kiểm tra xem số lượng anime trong `rating_df` có giống với trong `anime_df`"
   ]
  },
  {
   "cell_type": "code",
   "execution_count": 49,
   "id": "22f15bd5",
   "metadata": {},
   "outputs": [
    {
     "name": "stdout",
     "output_type": "stream",
     "text": [
      "Anime count: 16216\n",
      "Anime in rating count: 8113\n"
     ]
    }
   ],
   "source": [
    "print('Anime count:', len(anime_df['uid'].unique()))\n",
    "print('Anime in rating count:', len(rating_df['anime_uid'].unique()))"
   ]
  },
  {
   "cell_type": "markdown",
   "id": "e7cb502b",
   "metadata": {},
   "source": [
    "Số lượng anime được đánh giá chỉ bằng một nửa số lượng anime. Vì vậy, chúng ta cần dùng INNER JOIN để ghép 2 DataFrame lại."
   ]
  },
  {
   "cell_type": "code",
   "execution_count": 50,
   "id": "53736911",
   "metadata": {},
   "outputs": [
    {
     "name": "stdout",
     "output_type": "stream",
     "text": [
      "Rating count: 130519\n"
     ]
    }
   ],
   "source": [
    "# Drop các cột không liên quan \n",
    "# (uid: mã ID của từng rating, scores: điểm số chi tiết)\n",
    "merge_rating = rating_df.drop(columns=['uid'])\n",
    "merge_rating = merge_rating.rename(columns={'score': 'user_score'})\n",
    "# Join 2 DataFrame lại bằng ID của anime\n",
    "merge_rating = anime_df.join(merge_rating.set_index('anime_uid'), on='uid', how='inner')\n",
    "# Chỉ cần lấy 3 cột quan trọng cho Collaborative filtering\n",
    "merge_rating = merge_rating[['profile', 'uid', 'user_score']]\n",
    "merge_rating = merge_rating.reset_index(drop=True)\n",
    "\n",
    "print('Rating count:', len(merge_rating))"
   ]
  },
  {
   "cell_type": "markdown",
   "id": "e1cd4324",
   "metadata": {},
   "source": [
    "Một anime có thể có nhiều đánh giá, vì thế số rating lên tới 130000 là điều bình thường. Nhưng với lượng dữ liệu lớn như vậy thì khó có thể xử lý trên những máy tính phổ thông, nếu được thì cũng rất tốn nhiều thời gian, nên chúng ta sẽ xây dựng model dựa vào một subset, chỉ recommend tầm 1000 anime."
   ]
  },
  {
   "cell_type": "code",
   "execution_count": 51,
   "id": "a9bd6258",
   "metadata": {
    "execution": {
     "iopub.execute_input": "2022-01-12T18:01:59.152573Z",
     "iopub.status.busy": "2022-01-12T18:01:59.152323Z",
     "iopub.status.idle": "2022-01-12T18:01:59.176219Z",
     "shell.execute_reply": "2022-01-12T18:01:59.175532Z",
     "shell.execute_reply.started": "2022-01-12T18:01:59.152543Z"
    }
   },
   "outputs": [
    {
     "name": "stdout",
     "output_type": "stream",
     "text": [
      "Shape: (55655, 3)\n",
      "User count: 27006\n",
      "Anime count: 1000\n"
     ]
    },
    {
     "data": {
      "text/html": [
       "<div>\n",
       "<style scoped>\n",
       "    .dataframe tbody tr th:only-of-type {\n",
       "        vertical-align: middle;\n",
       "    }\n",
       "\n",
       "    .dataframe tbody tr th {\n",
       "        vertical-align: top;\n",
       "    }\n",
       "\n",
       "    .dataframe thead th {\n",
       "        text-align: right;\n",
       "    }\n",
       "</style>\n",
       "<table border=\"1\" class=\"dataframe\">\n",
       "  <thead>\n",
       "    <tr style=\"text-align: right;\">\n",
       "      <th></th>\n",
       "      <th>profile</th>\n",
       "      <th>uid</th>\n",
       "      <th>user_score</th>\n",
       "    </tr>\n",
       "  </thead>\n",
       "  <tbody>\n",
       "    <tr>\n",
       "      <th>29554</th>\n",
       "      <td>KreatorX</td>\n",
       "      <td>31240</td>\n",
       "      <td>9</td>\n",
       "    </tr>\n",
       "    <tr>\n",
       "      <th>34922</th>\n",
       "      <td>YohanTheLiebert</td>\n",
       "      <td>37450</td>\n",
       "      <td>7</td>\n",
       "    </tr>\n",
       "    <tr>\n",
       "      <th>19928</th>\n",
       "      <td>Waffle_Empress</td>\n",
       "      <td>18679</td>\n",
       "      <td>10</td>\n",
       "    </tr>\n",
       "    <tr>\n",
       "      <th>43850</th>\n",
       "      <td>ZEPHYRUS1324</td>\n",
       "      <td>2001</td>\n",
       "      <td>10</td>\n",
       "    </tr>\n",
       "    <tr>\n",
       "      <th>42992</th>\n",
       "      <td>sakshi3631</td>\n",
       "      <td>1535</td>\n",
       "      <td>6</td>\n",
       "    </tr>\n",
       "  </tbody>\n",
       "</table>\n",
       "</div>"
      ],
      "text/plain": [
       "               profile    uid  user_score\n",
       "29554         KreatorX  31240           9\n",
       "34922  YohanTheLiebert  37450           7\n",
       "19928   Waffle_Empress  18679          10\n",
       "43850     ZEPHYRUS1324   2001          10\n",
       "42992       sakshi3631   1535           6"
      ]
     },
     "execution_count": 51,
     "metadata": {},
     "output_type": "execute_result"
    }
   ],
   "source": [
    "def subset_anime(size, shuffle=False):\n",
    "    selected = merge_rating['uid'].unique()\n",
    "    if isinstance(size, int):\n",
    "        size = [0, size]\n",
    "    if shuffle:\n",
    "        selected = np.random.shuffle(selected)\n",
    "        return selected[size[0]:size[1]]\n",
    "    return selected[size[0]:size[1]]\n",
    "\n",
    "\n",
    "selected_rating = merge_rating[merge_rating['uid'].isin(subset_anime(1000))]\n",
    "print('Shape:', selected_rating.shape)\n",
    "print('User count:', selected_rating['profile'].nunique())\n",
    "print('Anime count:', selected_rating['uid'].nunique())\n",
    "selected_rating.sample(5)\n"
   ]
  },
  {
   "cell_type": "code",
   "execution_count": 52,
   "id": "a10b5f9d",
   "metadata": {},
   "outputs": [
    {
     "data": {
      "text/html": [
       "<div>\n",
       "<style scoped>\n",
       "    .dataframe tbody tr th:only-of-type {\n",
       "        vertical-align: middle;\n",
       "    }\n",
       "\n",
       "    .dataframe tbody tr th {\n",
       "        vertical-align: top;\n",
       "    }\n",
       "\n",
       "    .dataframe thead th {\n",
       "        text-align: right;\n",
       "    }\n",
       "</style>\n",
       "<table border=\"1\" class=\"dataframe\">\n",
       "  <thead>\n",
       "    <tr style=\"text-align: right;\">\n",
       "      <th></th>\n",
       "      <th>profile</th>\n",
       "      <th>uid</th>\n",
       "      <th>user_score</th>\n",
       "    </tr>\n",
       "  </thead>\n",
       "  <tbody>\n",
       "    <tr>\n",
       "      <th>0</th>\n",
       "      <td>25094</td>\n",
       "      <td>28891</td>\n",
       "      <td>7</td>\n",
       "    </tr>\n",
       "    <tr>\n",
       "      <th>1</th>\n",
       "      <td>14795</td>\n",
       "      <td>28891</td>\n",
       "      <td>10</td>\n",
       "    </tr>\n",
       "    <tr>\n",
       "      <th>2</th>\n",
       "      <td>2585</td>\n",
       "      <td>28891</td>\n",
       "      <td>10</td>\n",
       "    </tr>\n",
       "    <tr>\n",
       "      <th>3</th>\n",
       "      <td>21224</td>\n",
       "      <td>28891</td>\n",
       "      <td>7</td>\n",
       "    </tr>\n",
       "    <tr>\n",
       "      <th>4</th>\n",
       "      <td>19061</td>\n",
       "      <td>28891</td>\n",
       "      <td>8</td>\n",
       "    </tr>\n",
       "  </tbody>\n",
       "</table>\n",
       "</div>"
      ],
      "text/plain": [
       "   profile    uid  user_score\n",
       "0    25094  28891           7\n",
       "1    14795  28891          10\n",
       "2     2585  28891          10\n",
       "3    21224  28891           7\n",
       "4    19061  28891           8"
      ]
     },
     "execution_count": 52,
     "metadata": {},
     "output_type": "execute_result"
    }
   ],
   "source": [
    "selected_rating = selected_rating.copy()\n",
    "# Chuyển tên user thành mã ID\n",
    "selected_rating['profile'] = pd.Categorical(selected_rating['profile'])\n",
    "selected_rating['profile'] = selected_rating['profile'].cat.codes\n",
    "selected_rating.head()"
   ]
  },
  {
   "cell_type": "code",
   "execution_count": 53,
   "id": "9177ea4e",
   "metadata": {},
   "outputs": [],
   "source": [
    "matrix = selected_rating.pivot_table(index='uid', columns='profile', values='user_score')\n",
    "\n",
    "user_ids = matrix.columns.to_numpy()\n",
    "anime_ids = matrix.index.to_numpy()"
   ]
  },
  {
   "cell_type": "markdown",
   "id": "0d23bc38",
   "metadata": {},
   "source": [
    "Công thức của cosine similarity\n",
    "\n",
    "\\begin{equation}\n",
    "\\cos ({\\bf A},{\\bf B})= {{\\bf A} {\\bf B} \\over \\|{\\bf A}\\| \\|{\\bf B}\\|} = \\frac{ \\sum_{i=1}^{n}{{\\bf A}_i{\\bf B}_i} }{ \\sqrt{\\sum_{i=1}^{n}{({\\bf A}_i)^2}} \\sqrt{\\sum_{i=1}^{n}{({\\bf B}_i)^2}} }\n",
    "\\end{equation}"
   ]
  },
  {
   "cell_type": "code",
   "execution_count": 54,
   "id": "ca6dc535",
   "metadata": {},
   "outputs": [],
   "source": [
    "matrix_norm = matrix.apply(lambda x: (\n",
    "    x - np.mean(x)) / (np.max(x) - np.min(x)), axis=1)\n",
    "# Thay thế NaN bằng 0.001, để tránh chia cho 0\n",
    "matrix_norm.fillna(0.001, inplace=True)\n",
    "\n",
    "\n",
    "def cosine_similarity(X, Y=None):\n",
    "    if not Y:\n",
    "        Y = X\n",
    "    num = np.dot(X, Y.T)\n",
    "    p1 = np.sqrt(np.sum(X**2, axis=1))[:, np.newaxis]\n",
    "    p2 = np.sqrt(np.sum(Y**2, axis=1))[np.newaxis, :]\n",
    "    return num / (p1 * p2)\n",
    "\n",
    "\n",
    "anime_similarity = cosine_similarity(matrix_norm.to_numpy())\n"
   ]
  },
  {
   "cell_type": "code",
   "execution_count": 55,
   "id": "a911a260",
   "metadata": {},
   "outputs": [],
   "source": [
    "anime_similarity = pd.DataFrame(anime_similarity,\n",
    "                                index=anime_ids,\n",
    "                                columns=anime_ids)\n"
   ]
  },
  {
   "cell_type": "code",
   "execution_count": 56,
   "id": "f97c7045",
   "metadata": {},
   "outputs": [
    {
     "name": "stdout",
     "output_type": "stream",
     "text": [
      "Top 10 anime giống với Naruto:\n",
      "1: Bleach\n",
      "2: Ranma ½\n",
      "3: Darker than Black: Kuro no Keiyakusha Gaiden\n",
      "4: Densetsu Kyojin Ideon: Hatsudou-hen\n",
      "5: Free!: FrFr - Short Movie\n",
      "6: Free!: Take Your Marks\n",
      "7: Texhnolyze\n",
      "8: Naruto: Shippuuden\n",
      "9: Samurai Champloo\n",
      "10: Higurashi no Naku Koro ni Kai\n"
     ]
    }
   ],
   "source": [
    "def top_animes(anime_id, top):\n",
    "    if anime_id not in anime_ids:\n",
    "        print('Anime not found in anime_similarity')\n",
    "        return\n",
    "    anime_name = anime_df.loc[anime_df['uid'] == anime_id, 'title'].item()\n",
    "    count = 1\n",
    "    print(f'Top {top} anime giống với {anime_name}:')\n",
    "    sorted_anime = anime_similarity.sort_values(by=anime_id, ascending=False)\n",
    "    for a in sorted_anime.index[1:top+1]:\n",
    "        anime_name = anime_df.loc[anime_df['uid'] == a, 'title'].item()\n",
    "        print(f'{count}: {anime_name}')\n",
    "        count += 1\n",
    "\n",
    "# Anime gần giống với anime ID = 20 (Naruto)\n",
    "top_animes(20, 10)\n"
   ]
  },
  {
   "cell_type": "markdown",
   "id": "aa431f5c",
   "metadata": {},
   "source": [
    "---\n",
    "\n",
    "# Khó khăn và tự đánh giá:"
   ]
  },
  {
   "cell_type": "markdown",
   "id": "473b4fe2",
   "metadata": {},
   "source": [
    "## Khó khăn\n",
    "\n",
    "+ Trở ngại đầu tiên nhóm mình gặp phải khi làm đồ án này chính là thời gian. Thời gian diễn ra đồ án này là trong tuần thi nên mình dành thời gian ôn thi là chủ yếu sau đó dự định khi thi xong sẽ hoàn thiện nó. Nhưng sau đó giáo vụ lại báo lịch học ngay lập tức sau lịch thi nên mình phải tăng tốc chạy deadline cho đồ án này. \n",
    "+ Khó khăn thứ hai mà nhóm mình gặp phải có lẽ là bước đặt câu hỏi có ý nghĩa, thật sự nó không dễ như mình nghĩ ban đầu thậm chỉ mình còn không rõ câu hỏi của mình đặt ra như vậy là hợp lý chưa.\n",
    "+ Khó khăn thứ ba là đến từ dataset, sự thiếu sót dữ liệu chẳng hạn như thời lượng chiếu mỗi mùa hay thời gian đánh giá trong review.csv cũng giới hạn lại những câu hỏi hữu ích có thể đặt ra.\n",
    "    \n",
    "## Những thứ học được\n",
    "\n",
    "+ Đồ án đã giúp nhóm mình hiểu rõ quy trình làm Khoa học dữ liệu là như thế nào dù đây mới chỉ là cơ bản nhưng cũng đủ làm nền tảng để bắt đầu cho sau này. Nhóm mình cũng đã biết được những hướng đi khai thác dữ liệu để trả lời câu hỏi một cách chi tiết và rõ ràng.\n",
    "+ Đồ án còn giúp nhóm mình nâng cao kỹ năng làm việc nhóm đặc biệt là trong quy trình Khoa học dữ liệu. Để làm được điều này đòi hỏi ta phải biết dùng các công cụ hỗ trợ việc nhóm nhuần nhuyễn như Github, Trello.\n",
    "\n",
    "## Nếu có thêm thời gian\n",
    "\n",
    "+ Nhóm mình có thể tìm hiểu về học máy và đặt các câu hỏi có ý nghĩa trong đó sẽ sử dụng các mô hình học máy để trả lời.\n",
    "+ Collaborative filtering bằng cosine similarity tuy dễ áp dụng nhưng độ lỗi tương đối cao so với các thuật toán khác. Nếu có thêm thời gian thì nhóm mình muốn thử KNN.\n",
    "+ Một số dữ liệu chẳng hạn như sypnosis và review của anime rất hữu ích cho sentiment analysis, giúp tăng độ chính xác cho recommendation system thay vì chỉ phụ thuộc vào điểm số rating của người dùng."
   ]
  },
  {
   "cell_type": "markdown",
   "id": "1ec28c4d",
   "metadata": {},
   "source": [
    "---\n",
    "\n",
    "# Nguồn tham khảo\n",
    "\n",
    "[1] Various Implementations of Collaborative Filtering ([https://towardsdatascience.com/various-implementations-of-collaborative-filtering-100385c6dfe0](https://towardsdatascience.com/various-implementations-of-collaborative-filtering-100385c6dfe0))  \n",
    "\n",
    "[2] Netflix Shows and Movies - Exploratory Analysis ([https://www.kaggle.com/shivamb/netflix-shows-and-movies-exploratory-analysis](https://www.kaggle.com/shivamb/netflix-shows-and-movies-exploratory-analysis))  \n",
    "\n",
    "[3] Story of Anime ([https://www.kaggle.com/fatihbilgin/story-of-anime](https://www.kaggle.com/fatihbilgin/story-of-anime))\n",
    "\n",
    "[4] CC0: Public Domain https://creativecommons.org/publicdomain/zero/1.0/"
   ]
  }
 ],
 "metadata": {
  "kernelspec": {
   "display_name": "Python 3 (ipykernel)",
   "language": "python",
   "name": "python3"
  },
  "language_info": {
   "codemirror_mode": {
    "name": "ipython",
    "version": 3
   },
   "file_extension": ".py",
   "mimetype": "text/x-python",
   "name": "python",
   "nbconvert_exporter": "python",
   "pygments_lexer": "ipython3",
   "version": "3.8.8"
  },
  "toc": {
   "base_numbering": 1,
   "nav_menu": {},
   "number_sections": false,
   "sideBar": true,
   "skip_h1_title": false,
   "title_cell": "Table of Contents",
   "title_sidebar": "Contents",
   "toc_cell": true,
   "toc_position": {},
   "toc_section_display": true,
   "toc_window_display": true
  }
 },
 "nbformat": 4,
 "nbformat_minor": 5
}
