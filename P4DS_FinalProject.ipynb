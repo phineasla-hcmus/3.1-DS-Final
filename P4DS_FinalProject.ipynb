{
 "cells": [
  {
   "cell_type": "markdown",
   "id": "7e96dd60",
   "metadata": {},
   "source": [
    "# Lập trình cho khoa học dữ liệu: Đồ án cuối kỳ"
   ]
  },
  {
   "cell_type": "markdown",
   "id": "c1f0b476",
   "metadata": {},
   "source": [
    "## Danh sách thành viên:\n",
    "\n",
    "---\n",
    "Họ và tên: La Ngọc Hồng Phúc\n",
    "\n",
    "MSSV: 19127511\n",
    "\n",
    "---\n",
    "Họ và tên: Chung Thế Thọ\n",
    "\n",
    "MSSV: 19127562"
   ]
  },
  {
   "cell_type": "markdown",
   "id": "6832b23e",
   "metadata": {
    "toc": true
   },
   "source": [
    "<h1>Table of Contents<span class=\"tocSkip\"></span></h1>\n",
    "<div class=\"toc\"><ul class=\"toc-item\"><li><span><a href=\"#Lập-trình-cho-khoa-học-dữ-liệu:-Đồ-án-cuối-kỳ\" data-toc-modified-id=\"Lập-trình-cho-khoa-học-dữ-liệu:-Đồ-án-cuối-kỳ-1\">Lập trình cho khoa học dữ liệu: Đồ án cuối kỳ</a></span><ul class=\"toc-item\"><li><span><a href=\"#Danh-sách-thành-viên:\" data-toc-modified-id=\"Danh-sách-thành-viên:-1.1\">Danh sách thành viên:</a></span></li></ul></li><li><span><a href=\"#Môi-trường-code\" data-toc-modified-id=\"Môi-trường-code-2\">Môi trường code</a></span></li><li><span><a href=\"#Import-các-thư-viện-cần-thiết\" data-toc-modified-id=\"Import-các-thư-viện-cần-thiết-3\">Import các thư viện cần thiết</a></span></li><li><span><a href=\"#Thu-thập-dữ-liệu\" data-toc-modified-id=\"Thu-thập-dữ-liệu-4\">Thu thập dữ liệu</a></span></li><li><span><a href=\"#Khám-phá-dữ-liệu\" data-toc-modified-id=\"Khám-phá-dữ-liệu-5\">Khám phá dữ liệu</a></span><ul class=\"toc-item\"><li><span><a href=\"#Giải-nén-dữ-liệu\" data-toc-modified-id=\"Giải-nén-dữ-liệu-5.1\">Giải nén dữ liệu</a></span></li><li><span><a href=\"#Đọc-dữ-liệu-từ-file-csv-vào-dataframe\" data-toc-modified-id=\"Đọc-dữ-liệu-từ-file-csv-vào-dataframe-5.2\">Đọc dữ liệu từ file csv vào dataframe</a></span><ul class=\"toc-item\"><li><span><a href=\"#Tập-dữ-liệu-anime\" data-toc-modified-id=\"Tập-dữ-liệu-anime-5.2.1\">Tập dữ liệu anime</a></span></li><li><span><a href=\"#Tập-dữ-liệu-review\" data-toc-modified-id=\"Tập-dữ-liệu-review-5.2.2\">Tập dữ liệu review</a></span></li></ul></li><li><span><a href=\"#Mỗi-cột-có-ý-nghĩa-gì?\" data-toc-modified-id=\"Mỗi-cột-có-ý-nghĩa-gì?-5.3\">Mỗi cột có ý nghĩa gì?</a></span></li><li><span><a href=\"#Loại-bỏ-các-cột-không-dùng-đến\" data-toc-modified-id=\"Loại-bỏ-các-cột-không-dùng-đến-5.4\">Loại bỏ các cột không dùng đến</a></span><ul class=\"toc-item\"><li><span><a href=\"#Tập-dữ-liệu-rating\" data-toc-modified-id=\"Tập-dữ-liệu-rating-5.4.1\">Tập dữ liệu rating</a></span></li></ul></li><li><span><a href=\"#Số-dòng,-số-cột-của-tập-dữ-liệu\" data-toc-modified-id=\"Số-dòng,-số-cột-của-tập-dữ-liệu-5.5\">Số dòng, số cột của tập dữ liệu</a></span><ul class=\"toc-item\"><li><span><a href=\"#Tập-dữ-liệu-anime\" data-toc-modified-id=\"Tập-dữ-liệu-anime-5.5.1\">Tập dữ liệu anime</a></span></li><li><span><a href=\"#Tập-dữ-liệu-rating\" data-toc-modified-id=\"Tập-dữ-liệu-rating-5.5.2\">Tập dữ liệu rating</a></span></li><li><span><a href=\"#Nhận-xét\" data-toc-modified-id=\"Nhận-xét-5.5.3\">Nhận xét</a></span></li></ul></li><li><span><a href=\"#Mỗi-dòng-có-ý-nghĩa-gì?-Có-vấn-đề-các-dòng-có-ý-nghĩa-khác-nhau-không?\" data-toc-modified-id=\"Mỗi-dòng-có-ý-nghĩa-gì?-Có-vấn-đề-các-dòng-có-ý-nghĩa-khác-nhau-không?-5.6\">Mỗi dòng có ý nghĩa gì? Có vấn đề các dòng có ý nghĩa khác nhau không?</a></span></li><li><span><a href=\"#Dữ-liệu-có-các-dòng-bị-lặp-không?\" data-toc-modified-id=\"Dữ-liệu-có-các-dòng-bị-lặp-không?-5.7\">Dữ liệu có các dòng bị lặp không?</a></span><ul class=\"toc-item\"><li><span><a href=\"#Kiểu-dữ-liệu-của-từng-cột\" data-toc-modified-id=\"Kiểu-dữ-liệu-của-từng-cột-5.7.1\">Kiểu dữ liệu của từng cột</a></span><ul class=\"toc-item\"><li><span><a href=\"#Tập-dữ-liệu-anime\" data-toc-modified-id=\"Tập-dữ-liệu-anime-5.7.1.1\">Tập dữ liệu anime</a></span></li><li><span><a href=\"#Tập-dữ-liệu-review\" data-toc-modified-id=\"Tập-dữ-liệu-review-5.7.1.2\">Tập dữ liệu review</a></span></li></ul></li><li><span><a href=\"#Phân-tích-rõ-hơn-các-cột-có-kiểu-dữ-liệu-object\" data-toc-modified-id=\"Phân-tích-rõ-hơn-các-cột-có-kiểu-dữ-liệu-object-5.7.2\">Phân tích rõ hơn các cột có kiểu dữ liệu object</a></span><ul class=\"toc-item\"><li><span><a href=\"#Tập-dữ-liệu-anime\" data-toc-modified-id=\"Tập-dữ-liệu-anime-5.7.2.1\">Tập dữ liệu anime</a></span></li><li><span><a href=\"#Tập-dữ-liệu-rating\" data-toc-modified-id=\"Tập-dữ-liệu-rating-5.7.2.2\">Tập dữ liệu rating</a></span></li></ul></li></ul></li></ul></li><li><span><a href=\"#Tiền-xử-lý\" data-toc-modified-id=\"Tiền-xử-lý-6\">Tiền xử lý</a></span><ul class=\"toc-item\"><li><span><a href=\"#Loại-bỏ-các-dòng-bị-lặp\" data-toc-modified-id=\"Loại-bỏ-các-dòng-bị-lặp-6.1\">Loại bỏ các dòng bị lặp</a></span></li><li><span><a href=\"#Chuyển-đổi-dtype-của-các-cột\" data-toc-modified-id=\"Chuyển-đổi-dtype-của-các-cột-6.2\">Chuyển đổi dtype của các cột</a></span><ul class=\"toc-item\"><li><span><a href=\"#Chuyển-dtype-cột-genre-sang-list-of-string\" data-toc-modified-id=\"Chuyển-dtype-cột-genre-sang-list-of-string-6.2.1\">Chuyển dtype cột genre sang list of string</a></span></li><li><span><a href=\"#Chuyển-dtype-cột-aired-sang-dữ-liệu-thích-hợp\" data-toc-modified-id=\"Chuyển-dtype-cột-aired-sang-dữ-liệu-thích-hợp-6.2.2\">Chuyển dtype cột <code>aired</code> sang dữ liệu thích hợp</a></span></li></ul></li></ul></li><li><span><a href=\"#Khám-phá-dữ-liệu-(tiếp-tục)\" data-toc-modified-id=\"Khám-phá-dữ-liệu-(tiếp-tục)-7\">Khám phá dữ liệu (tiếp tục)</a></span><ul class=\"toc-item\"><li><span><a href=\"#Phân-bố-các-cột-dữ-liệu-dạng-numeric\" data-toc-modified-id=\"Phân-bố-các-cột-dữ-liệu-dạng-numeric-7.1\">Phân bố các cột dữ liệu dạng numeric</a></span><ul class=\"toc-item\"><li><span><a href=\"#Tập-dữ-liệu-anime\" data-toc-modified-id=\"Tập-dữ-liệu-anime-7.1.1\">Tập dữ liệu anime</a></span></li><li><span><a href=\"#Tập-dữ-liệu-rating\" data-toc-modified-id=\"Tập-dữ-liệu-rating-7.1.2\">Tập dữ liệu rating</a></span></li></ul></li><li><span><a href=\"#Phân-bố-các-cột-dữ-liệu-dạng-categorical\" data-toc-modified-id=\"Phân-bố-các-cột-dữ-liệu-dạng-categorical-7.2\">Phân bố các cột dữ liệu dạng categorical</a></span><ul class=\"toc-item\"><li><span><a href=\"#Tập-dữ-liệu-anime\" data-toc-modified-id=\"Tập-dữ-liệu-anime-7.2.1\">Tập dữ liệu anime</a></span><ul class=\"toc-item\"><li><span><a href=\"#Phân-bố-cột-thể-loại-(genre)\" data-toc-modified-id=\"Phân-bố-cột-thể-loại-(genre)-7.2.1.1\">Phân bố cột thể loại (genre)</a></span></li></ul></li><li><span><a href=\"#Tập-dữ-liệu-review\" data-toc-modified-id=\"Tập-dữ-liệu-review-7.2.2\">Tập dữ liệu review</a></span></li></ul></li></ul></li><li><span><a href=\"#Đưa-ra-các-câu-hỏi-cần-trả-lời\" data-toc-modified-id=\"Đưa-ra-các-câu-hỏi-cần-trả-lời-8\">Đưa ra các câu hỏi cần trả lời</a></span><ul class=\"toc-item\"><li><span><a href=\"#1.-Các-thể-loại-anime-thịnh-hành-qua-từng-năm-thay-đổi-ra-sao?\" data-toc-modified-id=\"1.-Các-thể-loại-anime-thịnh-hành-qua-từng-năm-thay-đổi-ra-sao?-8.1\">1. Các thể loại anime thịnh hành qua từng năm thay đổi ra sao?</a></span></li></ul></li></ul></div>"
   ]
  },
  {
   "cell_type": "markdown",
   "id": "5e79806d",
   "metadata": {},
   "source": [
    "# Môi trường code"
   ]
  },
  {
   "cell_type": "code",
   "execution_count": 1,
   "id": "4ce0039b",
   "metadata": {
    "scrolled": true
   },
   "outputs": [
    {
     "data": {
      "text/plain": [
       "'/home/stazjac/anaconda3/envs/min_ds-env/bin/python'"
      ]
     },
     "execution_count": 1,
     "metadata": {},
     "output_type": "execute_result"
    }
   ],
   "source": [
    "import sys\n",
    "sys.executable"
   ]
  },
  {
   "cell_type": "markdown",
   "id": "d97a9cde",
   "metadata": {},
   "source": [
    "# Import các thư viện cần thiết"
   ]
  },
  {
   "cell_type": "code",
   "execution_count": 2,
   "id": "f0cb61f2",
   "metadata": {},
   "outputs": [],
   "source": [
    "# Import thư viện cần dùng\n",
    "import os\n",
    "import ast\n",
    "import zipfile\n",
    "import numpy as np\n",
    "import pandas as pd\n",
    "import seaborn as sns\n",
    "import matplotlib.pyplot as plt"
   ]
  },
  {
   "cell_type": "markdown",
   "id": "cb98b004",
   "metadata": {},
   "source": [
    "# Thu thập dữ liệu\n",
    "\n",
    "Trong đồ án này, ta sẽ sử dụng tập dữ liệu có sẵn đến từ 2 file mà người ta đã thu thập trên kaggle là `animes.csv` và `reviews.csv`. Theo như mô tả của người thu thập dữ liệu thì ta có khoảng 16000 anime và 130000 bài review về các anime này. Cách thức thu thập dữ liệu của người này là dùng API do trang myanimelist.net cung cấp, cụ thể chi tiết về chương trình crawler mà anh ta viết có thể được xem ở link này:  https://github.com/marlesson/scrapy_myanimelist\n",
    "\n",
    "Link của tập dữ liệu: [Anime Dataset with Reviews - MyAnimeList](https://www.kaggle.com/marlesson/myanimelist-dataset-animes-profiles-reviews) ([https://www.kaggle.com/marlesson/myanimelist-dataset-animes-profiles-reviews](https://www.kaggle.com/marlesson/myanimelist-dataset-animes-profiles-reviews))"
   ]
  },
  {
   "cell_type": "markdown",
   "id": "84f0e610",
   "metadata": {},
   "source": [
    "---\n",
    "\n",
    "# Khám phá dữ liệu"
   ]
  },
  {
   "cell_type": "markdown",
   "id": "f981487a",
   "metadata": {},
   "source": [
    "## Giải nén dữ liệu\n",
    "Sau khi tải tập dữ liệu về, chúng ta cần giải nén và tiền xử lý chúng"
   ]
  },
  {
   "cell_type": "code",
   "execution_count": 3,
   "id": "ac4408cd",
   "metadata": {},
   "outputs": [
    {
     "data": {
      "text/html": [
       "<div>\n",
       "<style scoped>\n",
       "    .dataframe tbody tr th:only-of-type {\n",
       "        vertical-align: middle;\n",
       "    }\n",
       "\n",
       "    .dataframe tbody tr th {\n",
       "        vertical-align: top;\n",
       "    }\n",
       "\n",
       "    .dataframe thead th {\n",
       "        text-align: right;\n",
       "    }\n",
       "</style>\n",
       "<table border=\"1\" class=\"dataframe\">\n",
       "  <thead>\n",
       "    <tr style=\"text-align: right;\">\n",
       "      <th></th>\n",
       "      <th>File Name</th>\n",
       "      <th>Size (MB)</th>\n",
       "    </tr>\n",
       "  </thead>\n",
       "  <tbody>\n",
       "    <tr>\n",
       "      <th>0</th>\n",
       "      <td>reviews.csv</td>\n",
       "      <td>654.141182</td>\n",
       "    </tr>\n",
       "    <tr>\n",
       "      <th>1</th>\n",
       "      <td>animes.csv</td>\n",
       "      <td>11.514027</td>\n",
       "    </tr>\n",
       "    <tr>\n",
       "      <th>2</th>\n",
       "      <td>profiles.csv</td>\n",
       "      <td>8.262743</td>\n",
       "    </tr>\n",
       "    <tr>\n",
       "      <th>3</th>\n",
       "      <td>ratings.csv</td>\n",
       "      <td>23.345978</td>\n",
       "    </tr>\n",
       "  </tbody>\n",
       "</table>\n",
       "</div>"
      ],
      "text/plain": [
       "      File Name   Size (MB)\n",
       "0   reviews.csv  654.141182\n",
       "1    animes.csv   11.514027\n",
       "2  profiles.csv    8.262743\n",
       "3   ratings.csv   23.345978"
      ]
     },
     "execution_count": 3,
     "metadata": {},
     "output_type": "execute_result"
    }
   ],
   "source": [
    "ZIP_FILE = 'archive.zip'\n",
    "DATA_DIR = os.path.join(os.getcwd(), 'data')\n",
    "ANIME_CSV = os.path.join(DATA_DIR, 'animes.csv')\n",
    "REVIEW_CSV = os.path.join(DATA_DIR, 'reviews.csv')\n",
    "\n",
    "OVERWRITE = False\n",
    "\n",
    "def extractall():\n",
    "    with zipfile.ZipFile(ZIP_FILE, 'r') as zip_ref:\n",
    "        zip_ref.extractall(DATA_DIR)\n",
    "\n",
    "def file_sizes(pathdir):\n",
    "    join = os.path.join\n",
    "    getsize = os.path.getsize\n",
    "    isfile = lambda f: os.path.isfile(join(pathdir, f))\n",
    "    files = filter(isfile, os.listdir(pathdir))\n",
    "    fsizes = [(f, getsize(join(pathdir, f)) / 1024 ** 2) for f in files]\n",
    "    return pd.DataFrame(fsizes, columns=['File Name', 'Size (MB)'])\n",
    "\n",
    "if OVERWRITE or not os.path.isdir(DATA_DIR) or not os.listdir(DATA_DIR):\n",
    "    extractall()\n",
    "\n",
    "file_sizes(DATA_DIR)"
   ]
  },
  {
   "cell_type": "markdown",
   "id": "da27e8ab",
   "metadata": {},
   "source": [
    "## Đọc dữ liệu từ file csv vào dataframe"
   ]
  },
  {
   "cell_type": "markdown",
   "id": "4ff51c37",
   "metadata": {},
   "source": [
    "### Tập dữ liệu anime"
   ]
  },
  {
   "cell_type": "code",
   "execution_count": 4,
   "id": "13b70f33",
   "metadata": {},
   "outputs": [
    {
     "data": {
      "text/html": [
       "<div>\n",
       "<style scoped>\n",
       "    .dataframe tbody tr th:only-of-type {\n",
       "        vertical-align: middle;\n",
       "    }\n",
       "\n",
       "    .dataframe tbody tr th {\n",
       "        vertical-align: top;\n",
       "    }\n",
       "\n",
       "    .dataframe thead th {\n",
       "        text-align: right;\n",
       "    }\n",
       "</style>\n",
       "<table border=\"1\" class=\"dataframe\">\n",
       "  <thead>\n",
       "    <tr style=\"text-align: right;\">\n",
       "      <th></th>\n",
       "      <th>uid</th>\n",
       "      <th>title</th>\n",
       "      <th>synopsis</th>\n",
       "      <th>genre</th>\n",
       "      <th>aired</th>\n",
       "      <th>episodes</th>\n",
       "      <th>members</th>\n",
       "      <th>popularity</th>\n",
       "      <th>ranked</th>\n",
       "      <th>score</th>\n",
       "      <th>img_url</th>\n",
       "      <th>link</th>\n",
       "    </tr>\n",
       "  </thead>\n",
       "  <tbody>\n",
       "    <tr>\n",
       "      <th>0</th>\n",
       "      <td>28891</td>\n",
       "      <td>Haikyuu!! Second Season</td>\n",
       "      <td>Following their participation at the Inter-Hig...</td>\n",
       "      <td>['Comedy', 'Sports', 'Drama', 'School', 'Shoun...</td>\n",
       "      <td>Oct 4, 2015 to Mar 27, 2016</td>\n",
       "      <td>25.0</td>\n",
       "      <td>489888</td>\n",
       "      <td>141</td>\n",
       "      <td>25.0</td>\n",
       "      <td>8.82</td>\n",
       "      <td>https://cdn.myanimelist.net/images/anime/9/766...</td>\n",
       "      <td>https://myanimelist.net/anime/28891/Haikyuu_Se...</td>\n",
       "    </tr>\n",
       "    <tr>\n",
       "      <th>1</th>\n",
       "      <td>23273</td>\n",
       "      <td>Shigatsu wa Kimi no Uso</td>\n",
       "      <td>Music accompanies the path of the human metron...</td>\n",
       "      <td>['Drama', 'Music', 'Romance', 'School', 'Shoun...</td>\n",
       "      <td>Oct 10, 2014 to Mar 20, 2015</td>\n",
       "      <td>22.0</td>\n",
       "      <td>995473</td>\n",
       "      <td>28</td>\n",
       "      <td>24.0</td>\n",
       "      <td>8.83</td>\n",
       "      <td>https://cdn.myanimelist.net/images/anime/3/671...</td>\n",
       "      <td>https://myanimelist.net/anime/23273/Shigatsu_w...</td>\n",
       "    </tr>\n",
       "    <tr>\n",
       "      <th>2</th>\n",
       "      <td>34599</td>\n",
       "      <td>Made in Abyss</td>\n",
       "      <td>The Abyss—a gaping chasm stretching down into ...</td>\n",
       "      <td>['Sci-Fi', 'Adventure', 'Mystery', 'Drama', 'F...</td>\n",
       "      <td>Jul 7, 2017 to Sep 29, 2017</td>\n",
       "      <td>13.0</td>\n",
       "      <td>581663</td>\n",
       "      <td>98</td>\n",
       "      <td>23.0</td>\n",
       "      <td>8.83</td>\n",
       "      <td>https://cdn.myanimelist.net/images/anime/6/867...</td>\n",
       "      <td>https://myanimelist.net/anime/34599/Made_in_Abyss</td>\n",
       "    </tr>\n",
       "    <tr>\n",
       "      <th>3</th>\n",
       "      <td>5114</td>\n",
       "      <td>Fullmetal Alchemist: Brotherhood</td>\n",
       "      <td>\"In order for something to be obtained, someth...</td>\n",
       "      <td>['Action', 'Military', 'Adventure', 'Comedy', ...</td>\n",
       "      <td>Apr 5, 2009 to Jul 4, 2010</td>\n",
       "      <td>64.0</td>\n",
       "      <td>1615084</td>\n",
       "      <td>4</td>\n",
       "      <td>1.0</td>\n",
       "      <td>9.23</td>\n",
       "      <td>https://cdn.myanimelist.net/images/anime/1223/...</td>\n",
       "      <td>https://myanimelist.net/anime/5114/Fullmetal_A...</td>\n",
       "    </tr>\n",
       "    <tr>\n",
       "      <th>4</th>\n",
       "      <td>31758</td>\n",
       "      <td>Kizumonogatari III: Reiketsu-hen</td>\n",
       "      <td>After helping revive the legendary vampire Kis...</td>\n",
       "      <td>['Action', 'Mystery', 'Supernatural', 'Vampire']</td>\n",
       "      <td>Jan 6, 2017</td>\n",
       "      <td>1.0</td>\n",
       "      <td>214621</td>\n",
       "      <td>502</td>\n",
       "      <td>22.0</td>\n",
       "      <td>8.83</td>\n",
       "      <td>https://cdn.myanimelist.net/images/anime/3/815...</td>\n",
       "      <td>https://myanimelist.net/anime/31758/Kizumonoga...</td>\n",
       "    </tr>\n",
       "  </tbody>\n",
       "</table>\n",
       "</div>"
      ],
      "text/plain": [
       "     uid                             title  \\\n",
       "0  28891           Haikyuu!! Second Season   \n",
       "1  23273           Shigatsu wa Kimi no Uso   \n",
       "2  34599                     Made in Abyss   \n",
       "3   5114  Fullmetal Alchemist: Brotherhood   \n",
       "4  31758  Kizumonogatari III: Reiketsu-hen   \n",
       "\n",
       "                                            synopsis  \\\n",
       "0  Following their participation at the Inter-Hig...   \n",
       "1  Music accompanies the path of the human metron...   \n",
       "2  The Abyss—a gaping chasm stretching down into ...   \n",
       "3  \"In order for something to be obtained, someth...   \n",
       "4  After helping revive the legendary vampire Kis...   \n",
       "\n",
       "                                               genre  \\\n",
       "0  ['Comedy', 'Sports', 'Drama', 'School', 'Shoun...   \n",
       "1  ['Drama', 'Music', 'Romance', 'School', 'Shoun...   \n",
       "2  ['Sci-Fi', 'Adventure', 'Mystery', 'Drama', 'F...   \n",
       "3  ['Action', 'Military', 'Adventure', 'Comedy', ...   \n",
       "4   ['Action', 'Mystery', 'Supernatural', 'Vampire']   \n",
       "\n",
       "                          aired  episodes  members  popularity  ranked  score  \\\n",
       "0   Oct 4, 2015 to Mar 27, 2016      25.0   489888         141    25.0   8.82   \n",
       "1  Oct 10, 2014 to Mar 20, 2015      22.0   995473          28    24.0   8.83   \n",
       "2   Jul 7, 2017 to Sep 29, 2017      13.0   581663          98    23.0   8.83   \n",
       "3    Apr 5, 2009 to Jul 4, 2010      64.0  1615084           4     1.0   9.23   \n",
       "4                   Jan 6, 2017       1.0   214621         502    22.0   8.83   \n",
       "\n",
       "                                             img_url  \\\n",
       "0  https://cdn.myanimelist.net/images/anime/9/766...   \n",
       "1  https://cdn.myanimelist.net/images/anime/3/671...   \n",
       "2  https://cdn.myanimelist.net/images/anime/6/867...   \n",
       "3  https://cdn.myanimelist.net/images/anime/1223/...   \n",
       "4  https://cdn.myanimelist.net/images/anime/3/815...   \n",
       "\n",
       "                                                link  \n",
       "0  https://myanimelist.net/anime/28891/Haikyuu_Se...  \n",
       "1  https://myanimelist.net/anime/23273/Shigatsu_w...  \n",
       "2  https://myanimelist.net/anime/34599/Made_in_Abyss  \n",
       "3  https://myanimelist.net/anime/5114/Fullmetal_A...  \n",
       "4  https://myanimelist.net/anime/31758/Kizumonoga...  "
      ]
     },
     "execution_count": 4,
     "metadata": {},
     "output_type": "execute_result"
    }
   ],
   "source": [
    "anime_df = pd.read_csv(ANIME_CSV)\n",
    "anime_df.head()"
   ]
  },
  {
   "cell_type": "markdown",
   "id": "90bf78f3",
   "metadata": {},
   "source": [
    "### Tập dữ liệu review\n",
    "\n",
    "Giải nén xong thì mình thấy file `reviews.csv` tới gần 700MB, nên mình sẽ không load trực tiếp mà sẽ xem trước có cái nào có thể lược bỏ để giảm bớt dung lượng"
   ]
  },
  {
   "cell_type": "code",
   "execution_count": 5,
   "id": "ae9d9bc7",
   "metadata": {},
   "outputs": [
    {
     "data": {
      "text/html": [
       "<div>\n",
       "<style scoped>\n",
       "    .dataframe tbody tr th:only-of-type {\n",
       "        vertical-align: middle;\n",
       "    }\n",
       "\n",
       "    .dataframe tbody tr th {\n",
       "        vertical-align: top;\n",
       "    }\n",
       "\n",
       "    .dataframe thead th {\n",
       "        text-align: right;\n",
       "    }\n",
       "</style>\n",
       "<table border=\"1\" class=\"dataframe\">\n",
       "  <thead>\n",
       "    <tr style=\"text-align: right;\">\n",
       "      <th></th>\n",
       "      <th>uid</th>\n",
       "      <th>profile</th>\n",
       "      <th>anime_uid</th>\n",
       "      <th>text</th>\n",
       "      <th>score</th>\n",
       "      <th>scores</th>\n",
       "      <th>link</th>\n",
       "    </tr>\n",
       "  </thead>\n",
       "  <tbody>\n",
       "    <tr>\n",
       "      <th>0</th>\n",
       "      <td>255938</td>\n",
       "      <td>DesolatePsyche</td>\n",
       "      <td>34096</td>\n",
       "      <td>\\n           \\n         \\n           \\n       ...</td>\n",
       "      <td>8</td>\n",
       "      <td>{'Overall': '8', 'Story': '8', 'Animation': '8...</td>\n",
       "      <td>https://myanimelist.net/reviews.php?id=255938</td>\n",
       "    </tr>\n",
       "    <tr>\n",
       "      <th>1</th>\n",
       "      <td>259117</td>\n",
       "      <td>baekbeans</td>\n",
       "      <td>34599</td>\n",
       "      <td>\\n           \\n         \\n           \\n       ...</td>\n",
       "      <td>10</td>\n",
       "      <td>{'Overall': '10', 'Story': '10', 'Animation': ...</td>\n",
       "      <td>https://myanimelist.net/reviews.php?id=259117</td>\n",
       "    </tr>\n",
       "    <tr>\n",
       "      <th>2</th>\n",
       "      <td>253664</td>\n",
       "      <td>skrn</td>\n",
       "      <td>28891</td>\n",
       "      <td>\\n           \\n         \\n           \\n       ...</td>\n",
       "      <td>7</td>\n",
       "      <td>{'Overall': '7', 'Story': '7', 'Animation': '9...</td>\n",
       "      <td>https://myanimelist.net/reviews.php?id=253664</td>\n",
       "    </tr>\n",
       "    <tr>\n",
       "      <th>3</th>\n",
       "      <td>8254</td>\n",
       "      <td>edgewalker00</td>\n",
       "      <td>2904</td>\n",
       "      <td>\\n           \\n         \\n           \\n       ...</td>\n",
       "      <td>9</td>\n",
       "      <td>{'Overall': '9', 'Story': '9', 'Animation': '9...</td>\n",
       "      <td>https://myanimelist.net/reviews.php?id=8254</td>\n",
       "    </tr>\n",
       "    <tr>\n",
       "      <th>4</th>\n",
       "      <td>291149</td>\n",
       "      <td>aManOfCulture99</td>\n",
       "      <td>4181</td>\n",
       "      <td>\\n           \\n         \\n           \\n       ...</td>\n",
       "      <td>10</td>\n",
       "      <td>{'Overall': '10', 'Story': '10', 'Animation': ...</td>\n",
       "      <td>https://myanimelist.net/reviews.php?id=291149</td>\n",
       "    </tr>\n",
       "  </tbody>\n",
       "</table>\n",
       "</div>"
      ],
      "text/plain": [
       "      uid          profile  anime_uid  \\\n",
       "0  255938   DesolatePsyche      34096   \n",
       "1  259117        baekbeans      34599   \n",
       "2  253664             skrn      28891   \n",
       "3    8254     edgewalker00       2904   \n",
       "4  291149  aManOfCulture99       4181   \n",
       "\n",
       "                                                text  score  \\\n",
       "0  \\n           \\n         \\n           \\n       ...      8   \n",
       "1  \\n           \\n         \\n           \\n       ...     10   \n",
       "2  \\n           \\n         \\n           \\n       ...      7   \n",
       "3  \\n           \\n         \\n           \\n       ...      9   \n",
       "4  \\n           \\n         \\n           \\n       ...     10   \n",
       "\n",
       "                                              scores  \\\n",
       "0  {'Overall': '8', 'Story': '8', 'Animation': '8...   \n",
       "1  {'Overall': '10', 'Story': '10', 'Animation': ...   \n",
       "2  {'Overall': '7', 'Story': '7', 'Animation': '9...   \n",
       "3  {'Overall': '9', 'Story': '9', 'Animation': '9...   \n",
       "4  {'Overall': '10', 'Story': '10', 'Animation': ...   \n",
       "\n",
       "                                            link  \n",
       "0  https://myanimelist.net/reviews.php?id=255938  \n",
       "1  https://myanimelist.net/reviews.php?id=259117  \n",
       "2  https://myanimelist.net/reviews.php?id=253664  \n",
       "3    https://myanimelist.net/reviews.php?id=8254  \n",
       "4  https://myanimelist.net/reviews.php?id=291149  "
      ]
     },
     "execution_count": 5,
     "metadata": {},
     "output_type": "execute_result"
    }
   ],
   "source": [
    "pd.read_csv(REVIEW_CSV, nrows=5)"
   ]
  },
  {
   "cell_type": "markdown",
   "id": "8d50a925",
   "metadata": {},
   "source": [
    "## Mỗi cột có ý nghĩa gì?"
   ]
  },
  {
   "cell_type": "markdown",
   "id": "28f21e6b",
   "metadata": {},
   "source": [
    "Mô tả trên kaggle về các cột trong file `animes.csv`:\n",
    "- **uid**: ID của anime\n",
    "- **title**: tiêu đề của anime\n",
    "- **synopsis**: giới thiệu nội dung của anime\n",
    "- **genre**: thể loại của anime\n",
    "- **aired**: ngày phát hành anime và ngày kết thúc của nó (nếu có)\n",
    "- **episodes**: tổng số tập của anime\n",
    "- **members**: tổng số thành viên trong cộng đồng quan tâm anime này\n",
    "- **popularity**: độ \"nổi tiếng\" của anime, số càng thấp thì càng nổi tiếng\n",
    "- **ranked**: xếp hạng của anime, số càng thấp hạng càng cao và anime đó càng hay\n",
    "- **score**: điểm đánh giá anime trên thang điểm 10 từ trang myanimelist\n",
    "- **img_url**: link ảnh bìa của anime\n",
    "- **link**: link đến anime trên myanimelist"
   ]
  },
  {
   "cell_type": "markdown",
   "id": "0bd7c0de",
   "metadata": {},
   "source": [
    "Mô tả trên kaggle về các cột trong file `reviews.csv`:\n",
    "- **uid**: ID của bài review\n",
    "- **profile**: tên của user thực hiện review\n",
    "- **anime_uid**: ID của anime được review\n",
    "- **text**: đoạn văn nội dung mà user đó review\n",
    "- **score**: điểm tổng quát user này đã đánh giá cho anime\n",
    "- **scores**: điểm chi tiết từng phần mà user này đã đánh giá cho anime bao gồm\n",
    "    - Overall: điểm tổng\n",
    "    - Story: cốt truyện\n",
    "    - Animation: đồ họa, nét vẽ\n",
    "    - Sound: âm thanh\n",
    "    - Character: xây dựng nhân vật\n",
    "    - Enjoyment: độ giải trí\n",
    "- **link**: đường dẫn URL đến bài review này"
   ]
  },
  {
   "cell_type": "markdown",
   "id": "932a870d",
   "metadata": {},
   "source": [
    "## Loại bỏ các cột không dùng đến\n",
    "\n",
    "Trong phạm vi môn học, mình sẽ bỏ qua các cột cần dùng đến kỹ thuật xử lý ngôn ngữ tự nhiên cũng như các cột liên quan đến URL. Việc bỏ các cột này giúp ta chạy code nhanh hơn vì các cột này rất nặng. Như vậy đối với mỗi tập dữ liệu sẽ bỏ các cột sau:\n",
    "\n",
    "- **anime**: synopsis, img_url, link\n",
    "- **review**: text, link  \n",
    "\n",
    "Đối với **review** thì do file khá lớn nên mình sẽ load theo từng chunk, loại bỏ các cột không cần thiết và lưu nó vào file `ratings.csv`"
   ]
  },
  {
   "cell_type": "code",
   "execution_count": 6,
   "id": "d6c990dd",
   "metadata": {},
   "outputs": [
    {
     "name": "stdout",
     "output_type": "stream",
     "text": [
      "File name: ratings.csv\n",
      "Size (MB): 23.345977783203125\n"
     ]
    }
   ],
   "source": [
    "# Loại bỏ cột text và link trong review\n",
    "RATING_CSV = os.path.join(DATA_DIR, 'ratings.csv')\n",
    "\n",
    "def review_to_rating():\n",
    "    is_first = True\n",
    "    for chunk in pd.read_csv(REVIEW_CSV, chunksize=1000):\n",
    "        chunk.drop(columns=['text', 'link'], inplace=True)\n",
    "        chunk.to_csv(RATING_CSV, mode='a', index=False, header=is_first)\n",
    "        is_first = False\n",
    "\n",
    "if not os.path.isfile(RATING_CSV):\n",
    "    review_to_rating()\n",
    "\n",
    "print(\"File name: ratings.csv\")\n",
    "print(\"Size (MB):\", os.path.getsize(RATING_CSV) / 1024 ** 2)"
   ]
  },
  {
   "cell_type": "markdown",
   "id": "f191697e",
   "metadata": {},
   "source": [
    "### Tập dữ liệu rating"
   ]
  },
  {
   "cell_type": "code",
   "execution_count": 7,
   "id": "46df77ee",
   "metadata": {},
   "outputs": [
    {
     "data": {
      "text/html": [
       "<div>\n",
       "<style scoped>\n",
       "    .dataframe tbody tr th:only-of-type {\n",
       "        vertical-align: middle;\n",
       "    }\n",
       "\n",
       "    .dataframe tbody tr th {\n",
       "        vertical-align: top;\n",
       "    }\n",
       "\n",
       "    .dataframe thead th {\n",
       "        text-align: right;\n",
       "    }\n",
       "</style>\n",
       "<table border=\"1\" class=\"dataframe\">\n",
       "  <thead>\n",
       "    <tr style=\"text-align: right;\">\n",
       "      <th></th>\n",
       "      <th>uid</th>\n",
       "      <th>profile</th>\n",
       "      <th>anime_uid</th>\n",
       "      <th>score</th>\n",
       "      <th>scores</th>\n",
       "    </tr>\n",
       "  </thead>\n",
       "  <tbody>\n",
       "    <tr>\n",
       "      <th>0</th>\n",
       "      <td>255938</td>\n",
       "      <td>DesolatePsyche</td>\n",
       "      <td>34096</td>\n",
       "      <td>8</td>\n",
       "      <td>{'Overall': '8', 'Story': '8', 'Animation': '8...</td>\n",
       "    </tr>\n",
       "    <tr>\n",
       "      <th>1</th>\n",
       "      <td>259117</td>\n",
       "      <td>baekbeans</td>\n",
       "      <td>34599</td>\n",
       "      <td>10</td>\n",
       "      <td>{'Overall': '10', 'Story': '10', 'Animation': ...</td>\n",
       "    </tr>\n",
       "    <tr>\n",
       "      <th>2</th>\n",
       "      <td>253664</td>\n",
       "      <td>skrn</td>\n",
       "      <td>28891</td>\n",
       "      <td>7</td>\n",
       "      <td>{'Overall': '7', 'Story': '7', 'Animation': '9...</td>\n",
       "    </tr>\n",
       "    <tr>\n",
       "      <th>3</th>\n",
       "      <td>8254</td>\n",
       "      <td>edgewalker00</td>\n",
       "      <td>2904</td>\n",
       "      <td>9</td>\n",
       "      <td>{'Overall': '9', 'Story': '9', 'Animation': '9...</td>\n",
       "    </tr>\n",
       "    <tr>\n",
       "      <th>4</th>\n",
       "      <td>291149</td>\n",
       "      <td>aManOfCulture99</td>\n",
       "      <td>4181</td>\n",
       "      <td>10</td>\n",
       "      <td>{'Overall': '10', 'Story': '10', 'Animation': ...</td>\n",
       "    </tr>\n",
       "  </tbody>\n",
       "</table>\n",
       "</div>"
      ],
      "text/plain": [
       "      uid          profile  anime_uid  score  \\\n",
       "0  255938   DesolatePsyche      34096      8   \n",
       "1  259117        baekbeans      34599     10   \n",
       "2  253664             skrn      28891      7   \n",
       "3    8254     edgewalker00       2904      9   \n",
       "4  291149  aManOfCulture99       4181     10   \n",
       "\n",
       "                                              scores  \n",
       "0  {'Overall': '8', 'Story': '8', 'Animation': '8...  \n",
       "1  {'Overall': '10', 'Story': '10', 'Animation': ...  \n",
       "2  {'Overall': '7', 'Story': '7', 'Animation': '9...  \n",
       "3  {'Overall': '9', 'Story': '9', 'Animation': '9...  \n",
       "4  {'Overall': '10', 'Story': '10', 'Animation': ...  "
      ]
     },
     "execution_count": 7,
     "metadata": {},
     "output_type": "execute_result"
    }
   ],
   "source": [
    "rating_df = pd.read_csv(RATING_CSV)\n",
    "rating_df.head()"
   ]
  },
  {
   "cell_type": "markdown",
   "id": "5bef9716",
   "metadata": {},
   "source": [
    "So với file `reviews.csv` thì file `ratings.csv` nhỏ hơn rất nhiều, có thể load vào DataFrame mà không cần chia chunk nữa"
   ]
  },
  {
   "cell_type": "code",
   "execution_count": 8,
   "id": "30fa3330",
   "metadata": {},
   "outputs": [
    {
     "data": {
      "text/html": [
       "<div>\n",
       "<style scoped>\n",
       "    .dataframe tbody tr th:only-of-type {\n",
       "        vertical-align: middle;\n",
       "    }\n",
       "\n",
       "    .dataframe tbody tr th {\n",
       "        vertical-align: top;\n",
       "    }\n",
       "\n",
       "    .dataframe thead th {\n",
       "        text-align: right;\n",
       "    }\n",
       "</style>\n",
       "<table border=\"1\" class=\"dataframe\">\n",
       "  <thead>\n",
       "    <tr style=\"text-align: right;\">\n",
       "      <th></th>\n",
       "      <th>uid</th>\n",
       "      <th>title</th>\n",
       "      <th>genre</th>\n",
       "      <th>aired</th>\n",
       "      <th>episodes</th>\n",
       "      <th>members</th>\n",
       "      <th>popularity</th>\n",
       "      <th>ranked</th>\n",
       "      <th>score</th>\n",
       "    </tr>\n",
       "  </thead>\n",
       "  <tbody>\n",
       "    <tr>\n",
       "      <th>0</th>\n",
       "      <td>28891</td>\n",
       "      <td>Haikyuu!! Second Season</td>\n",
       "      <td>['Comedy', 'Sports', 'Drama', 'School', 'Shoun...</td>\n",
       "      <td>Oct 4, 2015 to Mar 27, 2016</td>\n",
       "      <td>25.0</td>\n",
       "      <td>489888</td>\n",
       "      <td>141</td>\n",
       "      <td>25.0</td>\n",
       "      <td>8.82</td>\n",
       "    </tr>\n",
       "    <tr>\n",
       "      <th>1</th>\n",
       "      <td>23273</td>\n",
       "      <td>Shigatsu wa Kimi no Uso</td>\n",
       "      <td>['Drama', 'Music', 'Romance', 'School', 'Shoun...</td>\n",
       "      <td>Oct 10, 2014 to Mar 20, 2015</td>\n",
       "      <td>22.0</td>\n",
       "      <td>995473</td>\n",
       "      <td>28</td>\n",
       "      <td>24.0</td>\n",
       "      <td>8.83</td>\n",
       "    </tr>\n",
       "    <tr>\n",
       "      <th>2</th>\n",
       "      <td>34599</td>\n",
       "      <td>Made in Abyss</td>\n",
       "      <td>['Sci-Fi', 'Adventure', 'Mystery', 'Drama', 'F...</td>\n",
       "      <td>Jul 7, 2017 to Sep 29, 2017</td>\n",
       "      <td>13.0</td>\n",
       "      <td>581663</td>\n",
       "      <td>98</td>\n",
       "      <td>23.0</td>\n",
       "      <td>8.83</td>\n",
       "    </tr>\n",
       "    <tr>\n",
       "      <th>3</th>\n",
       "      <td>5114</td>\n",
       "      <td>Fullmetal Alchemist: Brotherhood</td>\n",
       "      <td>['Action', 'Military', 'Adventure', 'Comedy', ...</td>\n",
       "      <td>Apr 5, 2009 to Jul 4, 2010</td>\n",
       "      <td>64.0</td>\n",
       "      <td>1615084</td>\n",
       "      <td>4</td>\n",
       "      <td>1.0</td>\n",
       "      <td>9.23</td>\n",
       "    </tr>\n",
       "    <tr>\n",
       "      <th>4</th>\n",
       "      <td>31758</td>\n",
       "      <td>Kizumonogatari III: Reiketsu-hen</td>\n",
       "      <td>['Action', 'Mystery', 'Supernatural', 'Vampire']</td>\n",
       "      <td>Jan 6, 2017</td>\n",
       "      <td>1.0</td>\n",
       "      <td>214621</td>\n",
       "      <td>502</td>\n",
       "      <td>22.0</td>\n",
       "      <td>8.83</td>\n",
       "    </tr>\n",
       "  </tbody>\n",
       "</table>\n",
       "</div>"
      ],
      "text/plain": [
       "     uid                             title  \\\n",
       "0  28891           Haikyuu!! Second Season   \n",
       "1  23273           Shigatsu wa Kimi no Uso   \n",
       "2  34599                     Made in Abyss   \n",
       "3   5114  Fullmetal Alchemist: Brotherhood   \n",
       "4  31758  Kizumonogatari III: Reiketsu-hen   \n",
       "\n",
       "                                               genre  \\\n",
       "0  ['Comedy', 'Sports', 'Drama', 'School', 'Shoun...   \n",
       "1  ['Drama', 'Music', 'Romance', 'School', 'Shoun...   \n",
       "2  ['Sci-Fi', 'Adventure', 'Mystery', 'Drama', 'F...   \n",
       "3  ['Action', 'Military', 'Adventure', 'Comedy', ...   \n",
       "4   ['Action', 'Mystery', 'Supernatural', 'Vampire']   \n",
       "\n",
       "                          aired  episodes  members  popularity  ranked  score  \n",
       "0   Oct 4, 2015 to Mar 27, 2016      25.0   489888         141    25.0   8.82  \n",
       "1  Oct 10, 2014 to Mar 20, 2015      22.0   995473          28    24.0   8.83  \n",
       "2   Jul 7, 2017 to Sep 29, 2017      13.0   581663          98    23.0   8.83  \n",
       "3    Apr 5, 2009 to Jul 4, 2010      64.0  1615084           4     1.0   9.23  \n",
       "4                   Jan 6, 2017       1.0   214621         502    22.0   8.83  "
      ]
     },
     "execution_count": 8,
     "metadata": {},
     "output_type": "execute_result"
    }
   ],
   "source": [
    "# Loại bỏ cột synopsis, img_url, link trong anime\n",
    "anime_df.drop(columns=['synopsis', 'img_url', 'link'], inplace=True)\n",
    "anime_df.head()"
   ]
  },
  {
   "cell_type": "markdown",
   "id": "b94ea348",
   "metadata": {},
   "source": [
    "## Số dòng, số cột của tập dữ liệu"
   ]
  },
  {
   "cell_type": "markdown",
   "id": "8476bb04",
   "metadata": {},
   "source": [
    "### Tập dữ liệu anime"
   ]
  },
  {
   "cell_type": "code",
   "execution_count": 9,
   "id": "212b0edc",
   "metadata": {},
   "outputs": [
    {
     "name": "stdout",
     "output_type": "stream",
     "text": [
      "Số dòng: 19311\n",
      "Số cột: 9\n"
     ]
    }
   ],
   "source": [
    "anime_num_rows, anime_num_cols = anime_df.shape\n",
    "print('Số dòng:', anime_num_rows)\n",
    "print('Số cột:', anime_num_cols)"
   ]
  },
  {
   "cell_type": "markdown",
   "id": "d8690053",
   "metadata": {},
   "source": [
    "### Tập dữ liệu rating"
   ]
  },
  {
   "cell_type": "code",
   "execution_count": 10,
   "id": "aa62a6ce",
   "metadata": {},
   "outputs": [
    {
     "name": "stdout",
     "output_type": "stream",
     "text": [
      "Số dòng: 192112\n",
      "Số cột: 5\n"
     ]
    }
   ],
   "source": [
    "rating_num_rows, rating_num_cols = rating_df.shape\n",
    "print('Số dòng:', rating_num_rows)\n",
    "print('Số cột:', rating_num_cols)"
   ]
  },
  {
   "cell_type": "markdown",
   "id": "bc92fed1",
   "metadata": {},
   "source": [
    "### Nhận xét\n",
    "\n",
    "Có vẻ số dòng từ cả 2 tập dữ liệu `anime_df` và `rating_df` trả về khá khác so với mô tả:\n",
    "- `anime_df`: 19000 so với 16000\n",
    "- `rating_df`: 190000 so với 130000.  \n",
    "\n",
    "**Lưu ý**: tập dữ liệu `ratings.csv` không khác nhau về số dòng so với tập dữ liệu `reviews.csv`"
   ]
  },
  {
   "cell_type": "code",
   "execution_count": 11,
   "id": "0144f9ba",
   "metadata": {},
   "outputs": [],
   "source": [
    "# Chứng minh số dòng của rating.csv không khác so với review.csv\n",
    "import csv\n",
    "with open(REVIEW_CSV, 'r') as f:\n",
    "    csvreader = csv.reader(f)\n",
    "    next(csvreader) # Bỏ qua header\n",
    "    assert rating_num_rows == sum(1 for row in csvreader)"
   ]
  },
  {
   "cell_type": "markdown",
   "id": "f9c5dc35",
   "metadata": {},
   "source": [
    "## Mỗi dòng có ý nghĩa gì? Có vấn đề các dòng có ý nghĩa khác nhau không?\n",
    "\n",
    "- Tập dữ liệu anime: mỗi dòng trong tập này là thông tin của một anime viết bởi trang myanimelist.net\n",
    "- Tập dữ liệu review: mỗi dòng trong tập này là thông tin về review của một user dành cho một anime trên trang myanimelist.net\n",
    "\n",
    "Có vẻ như mỗi dòng trong các tập không có gì bất ổn."
   ]
  },
  {
   "cell_type": "markdown",
   "id": "cf5426a2",
   "metadata": {},
   "source": [
    "## Dữ liệu có các dòng bị lặp không?"
   ]
  },
  {
   "cell_type": "code",
   "execution_count": 12,
   "id": "485ebcd3",
   "metadata": {},
   "outputs": [
    {
     "data": {
      "text/html": [
       "<div>\n",
       "<style scoped>\n",
       "    .dataframe tbody tr th:only-of-type {\n",
       "        vertical-align: middle;\n",
       "    }\n",
       "\n",
       "    .dataframe tbody tr th {\n",
       "        vertical-align: top;\n",
       "    }\n",
       "\n",
       "    .dataframe thead th {\n",
       "        text-align: right;\n",
       "    }\n",
       "</style>\n",
       "<table border=\"1\" class=\"dataframe\">\n",
       "  <thead>\n",
       "    <tr style=\"text-align: right;\">\n",
       "      <th></th>\n",
       "      <th>Dataset</th>\n",
       "      <th>Duplicate count</th>\n",
       "    </tr>\n",
       "  </thead>\n",
       "  <tbody>\n",
       "    <tr>\n",
       "      <th>0</th>\n",
       "      <td>Anime</td>\n",
       "      <td>2943</td>\n",
       "    </tr>\n",
       "    <tr>\n",
       "      <th>1</th>\n",
       "      <td>Rating</td>\n",
       "      <td>61593</td>\n",
       "    </tr>\n",
       "  </tbody>\n",
       "</table>\n",
       "</div>"
      ],
      "text/plain": [
       "  Dataset  Duplicate count\n",
       "0   Anime             2943\n",
       "1  Rating            61593"
      ]
     },
     "execution_count": 12,
     "metadata": {},
     "output_type": "execute_result"
    }
   ],
   "source": [
    "anime_has_dup_rows = np.sum(anime_df.duplicated())\n",
    "rating_has_dup_rows = np.sum(rating_df.duplicated())\n",
    "\n",
    "pd.DataFrame({'Dataset': ['Anime', 'Rating'],\n",
    "             'Duplicate count': [anime_has_dup_rows,\n",
    "                                 rating_has_dup_rows]})\n"
   ]
  },
  {
   "cell_type": "markdown",
   "id": "f059cdc9",
   "metadata": {},
   "source": [
    "### Kiểu dữ liệu của từng cột"
   ]
  },
  {
   "cell_type": "markdown",
   "id": "a014ca5e",
   "metadata": {},
   "source": [
    "#### Tập dữ liệu anime"
   ]
  },
  {
   "cell_type": "code",
   "execution_count": 13,
   "id": "7a0fd0ce",
   "metadata": {
    "scrolled": true
   },
   "outputs": [
    {
     "data": {
      "text/plain": [
       "uid             int64\n",
       "title          object\n",
       "genre          object\n",
       "aired          object\n",
       "episodes      float64\n",
       "members         int64\n",
       "popularity      int64\n",
       "ranked        float64\n",
       "score         float64\n",
       "dtype: object"
      ]
     },
     "execution_count": 13,
     "metadata": {},
     "output_type": "execute_result"
    }
   ],
   "source": [
    "# Xem kiểu dữ liệu của từng cột tập anime\n",
    "anime_df.dtypes"
   ]
  },
  {
   "cell_type": "markdown",
   "id": "fb5a5e8f",
   "metadata": {},
   "source": [
    "#### Tập dữ liệu review"
   ]
  },
  {
   "cell_type": "code",
   "execution_count": 14,
   "id": "6d8cd5aa",
   "metadata": {},
   "outputs": [
    {
     "data": {
      "text/plain": [
       "uid           int64\n",
       "profile      object\n",
       "anime_uid     int64\n",
       "score         int64\n",
       "scores       object\n",
       "dtype: object"
      ]
     },
     "execution_count": 14,
     "metadata": {},
     "output_type": "execute_result"
    }
   ],
   "source": [
    "# Xem kiểu dữ liệu của từng cột tập review\n",
    "rating_df.dtypes"
   ]
  },
  {
   "cell_type": "markdown",
   "id": "51917a47",
   "metadata": {},
   "source": [
    "### Phân tích rõ hơn các cột có kiểu dữ liệu object"
   ]
  },
  {
   "cell_type": "markdown",
   "id": "1cf41dd6",
   "metadata": {},
   "source": [
    "#### Tập dữ liệu anime"
   ]
  },
  {
   "cell_type": "code",
   "execution_count": 15,
   "id": "e929856d",
   "metadata": {
    "scrolled": true
   },
   "outputs": [
    {
     "name": "stdout",
     "output_type": "stream",
     "text": [
      "title: {<class 'str'>}\n",
      "genre: {<class 'str'>}\n",
      "aired: {<class 'str'>}\n"
     ]
    }
   ],
   "source": [
    "def open_object_dtype(s):\n",
    "    return set(s.apply(type))\n",
    "    \n",
    "print('title:', open_object_dtype(anime_df['title']))\n",
    "print('genre:', open_object_dtype(anime_df['genre']))\n",
    "print('aired:', open_object_dtype(anime_df['aired']))"
   ]
  },
  {
   "cell_type": "markdown",
   "id": "576d5851",
   "metadata": {},
   "source": [
    "#### Tập dữ liệu rating"
   ]
  },
  {
   "cell_type": "code",
   "execution_count": 16,
   "id": "1e9ff741",
   "metadata": {},
   "outputs": [
    {
     "name": "stdout",
     "output_type": "stream",
     "text": [
      "profile: {<class 'str'>}\n",
      "scores: {<class 'str'>}\n"
     ]
    }
   ],
   "source": [
    "print('profile:', open_object_dtype(rating_df['profile']))\n",
    "print('scores:', open_object_dtype(rating_df['scores']))"
   ]
  },
  {
   "cell_type": "markdown",
   "id": "b203449e",
   "metadata": {},
   "source": [
    "**Các vấn đề cần tiền xử lý:**\n",
    "- Loại bỏ các dòng bị lặp\n",
    "- Chuyển dtype cột `genre` sang list of string\n",
    "- Chuyển dtype cột `aired` sang loại dữ liệu thích hợp"
   ]
  },
  {
   "cell_type": "markdown",
   "id": "1f2e7f51",
   "metadata": {},
   "source": [
    "---\n",
    "\n",
    "# Tiền xử lý"
   ]
  },
  {
   "cell_type": "markdown",
   "id": "58cac884",
   "metadata": {},
   "source": [
    "## Loại bỏ các dòng bị lặp"
   ]
  },
  {
   "cell_type": "code",
   "execution_count": 17,
   "id": "17929945",
   "metadata": {},
   "outputs": [],
   "source": [
    "# Loại bỏ các dòng bị duplicate\n",
    "anime_df = anime_df.drop_duplicates()\n",
    "rating_df = rating_df.drop_duplicates()"
   ]
  },
  {
   "cell_type": "code",
   "execution_count": 18,
   "id": "b85cbed3",
   "metadata": {},
   "outputs": [
    {
     "data": {
      "text/html": [
       "<div>\n",
       "<style scoped>\n",
       "    .dataframe tbody tr th:only-of-type {\n",
       "        vertical-align: middle;\n",
       "    }\n",
       "\n",
       "    .dataframe tbody tr th {\n",
       "        vertical-align: top;\n",
       "    }\n",
       "\n",
       "    .dataframe thead th {\n",
       "        text-align: right;\n",
       "    }\n",
       "</style>\n",
       "<table border=\"1\" class=\"dataframe\">\n",
       "  <thead>\n",
       "    <tr style=\"text-align: right;\">\n",
       "      <th></th>\n",
       "      <th>Dataset</th>\n",
       "      <th>Duplicate count</th>\n",
       "    </tr>\n",
       "  </thead>\n",
       "  <tbody>\n",
       "    <tr>\n",
       "      <th>0</th>\n",
       "      <td>Anime</td>\n",
       "      <td>0</td>\n",
       "    </tr>\n",
       "    <tr>\n",
       "      <th>1</th>\n",
       "      <td>Rating</td>\n",
       "      <td>0</td>\n",
       "    </tr>\n",
       "  </tbody>\n",
       "</table>\n",
       "</div>"
      ],
      "text/plain": [
       "  Dataset  Duplicate count\n",
       "0   Anime                0\n",
       "1  Rating                0"
      ]
     },
     "execution_count": 18,
     "metadata": {},
     "output_type": "execute_result"
    }
   ],
   "source": [
    "# In lại số dòng bị lặp sau khi loại bỏ duplicate để check\n",
    "anime_has_dup_rows = np.sum(anime_df.duplicated())\n",
    "rating_has_dup_rows = np.sum(rating_df.duplicated())\n",
    "\n",
    "pd.DataFrame({'Dataset': ['Anime', 'Rating'],\n",
    "             'Duplicate count': [anime_has_dup_rows,\n",
    "                                 rating_has_dup_rows]})\n"
   ]
  },
  {
   "cell_type": "markdown",
   "id": "c65dd7f7",
   "metadata": {},
   "source": [
    "## Chuyển đổi dtype của các cột"
   ]
  },
  {
   "cell_type": "markdown",
   "id": "bbb80a85",
   "metadata": {},
   "source": [
    "### Chuyển dtype cột genre sang list of string"
   ]
  },
  {
   "cell_type": "code",
   "execution_count": 19,
   "id": "f015019b",
   "metadata": {},
   "outputs": [
    {
     "data": {
      "text/html": [
       "<div>\n",
       "<style scoped>\n",
       "    .dataframe tbody tr th:only-of-type {\n",
       "        vertical-align: middle;\n",
       "    }\n",
       "\n",
       "    .dataframe tbody tr th {\n",
       "        vertical-align: top;\n",
       "    }\n",
       "\n",
       "    .dataframe thead th {\n",
       "        text-align: right;\n",
       "    }\n",
       "</style>\n",
       "<table border=\"1\" class=\"dataframe\">\n",
       "  <thead>\n",
       "    <tr style=\"text-align: right;\">\n",
       "      <th></th>\n",
       "      <th>uid</th>\n",
       "      <th>title</th>\n",
       "      <th>genre</th>\n",
       "      <th>aired</th>\n",
       "      <th>episodes</th>\n",
       "      <th>members</th>\n",
       "      <th>popularity</th>\n",
       "      <th>ranked</th>\n",
       "      <th>score</th>\n",
       "    </tr>\n",
       "  </thead>\n",
       "  <tbody>\n",
       "    <tr>\n",
       "      <th>0</th>\n",
       "      <td>28891</td>\n",
       "      <td>Haikyuu!! Second Season</td>\n",
       "      <td>[Comedy, Sports, Drama, School, Shounen]</td>\n",
       "      <td>Oct 4, 2015 to Mar 27, 2016</td>\n",
       "      <td>25.0</td>\n",
       "      <td>489888</td>\n",
       "      <td>141</td>\n",
       "      <td>25.0</td>\n",
       "      <td>8.82</td>\n",
       "    </tr>\n",
       "    <tr>\n",
       "      <th>1</th>\n",
       "      <td>23273</td>\n",
       "      <td>Shigatsu wa Kimi no Uso</td>\n",
       "      <td>[Drama, Music, Romance, School, Shounen]</td>\n",
       "      <td>Oct 10, 2014 to Mar 20, 2015</td>\n",
       "      <td>22.0</td>\n",
       "      <td>995473</td>\n",
       "      <td>28</td>\n",
       "      <td>24.0</td>\n",
       "      <td>8.83</td>\n",
       "    </tr>\n",
       "    <tr>\n",
       "      <th>2</th>\n",
       "      <td>34599</td>\n",
       "      <td>Made in Abyss</td>\n",
       "      <td>[Sci-Fi, Adventure, Mystery, Drama, Fantasy]</td>\n",
       "      <td>Jul 7, 2017 to Sep 29, 2017</td>\n",
       "      <td>13.0</td>\n",
       "      <td>581663</td>\n",
       "      <td>98</td>\n",
       "      <td>23.0</td>\n",
       "      <td>8.83</td>\n",
       "    </tr>\n",
       "    <tr>\n",
       "      <th>3</th>\n",
       "      <td>5114</td>\n",
       "      <td>Fullmetal Alchemist: Brotherhood</td>\n",
       "      <td>[Action, Military, Adventure, Comedy, Drama, M...</td>\n",
       "      <td>Apr 5, 2009 to Jul 4, 2010</td>\n",
       "      <td>64.0</td>\n",
       "      <td>1615084</td>\n",
       "      <td>4</td>\n",
       "      <td>1.0</td>\n",
       "      <td>9.23</td>\n",
       "    </tr>\n",
       "    <tr>\n",
       "      <th>4</th>\n",
       "      <td>31758</td>\n",
       "      <td>Kizumonogatari III: Reiketsu-hen</td>\n",
       "      <td>[Action, Mystery, Supernatural, Vampire]</td>\n",
       "      <td>Jan 6, 2017</td>\n",
       "      <td>1.0</td>\n",
       "      <td>214621</td>\n",
       "      <td>502</td>\n",
       "      <td>22.0</td>\n",
       "      <td>8.83</td>\n",
       "    </tr>\n",
       "  </tbody>\n",
       "</table>\n",
       "</div>"
      ],
      "text/plain": [
       "     uid                             title  \\\n",
       "0  28891           Haikyuu!! Second Season   \n",
       "1  23273           Shigatsu wa Kimi no Uso   \n",
       "2  34599                     Made in Abyss   \n",
       "3   5114  Fullmetal Alchemist: Brotherhood   \n",
       "4  31758  Kizumonogatari III: Reiketsu-hen   \n",
       "\n",
       "                                               genre  \\\n",
       "0           [Comedy, Sports, Drama, School, Shounen]   \n",
       "1           [Drama, Music, Romance, School, Shounen]   \n",
       "2       [Sci-Fi, Adventure, Mystery, Drama, Fantasy]   \n",
       "3  [Action, Military, Adventure, Comedy, Drama, M...   \n",
       "4           [Action, Mystery, Supernatural, Vampire]   \n",
       "\n",
       "                          aired  episodes  members  popularity  ranked  score  \n",
       "0   Oct 4, 2015 to Mar 27, 2016      25.0   489888         141    25.0   8.82  \n",
       "1  Oct 10, 2014 to Mar 20, 2015      22.0   995473          28    24.0   8.83  \n",
       "2   Jul 7, 2017 to Sep 29, 2017      13.0   581663          98    23.0   8.83  \n",
       "3    Apr 5, 2009 to Jul 4, 2010      64.0  1615084           4     1.0   9.23  \n",
       "4                   Jan 6, 2017       1.0   214621         502    22.0   8.83  "
      ]
     },
     "execution_count": 19,
     "metadata": {},
     "output_type": "execute_result"
    }
   ],
   "source": [
    "anime_df['genre'] = anime_df.apply({'genre': ast.literal_eval})\n",
    "anime_df.head()\n"
   ]
  },
  {
   "cell_type": "markdown",
   "id": "2814ccb9",
   "metadata": {},
   "source": [
    "### Chuyển dtype cột `aired` sang dữ liệu thích hợp"
   ]
  },
  {
   "cell_type": "markdown",
   "id": "87e6a758",
   "metadata": {},
   "source": [
    "**Xem format của cột này trong tập dữ liệu**"
   ]
  },
  {
   "cell_type": "code",
   "execution_count": 20,
   "id": "70eab375",
   "metadata": {},
   "outputs": [
    {
     "data": {
      "text/plain": [
       "6926                     Apr 16, 2010\n",
       "12144      Jul 3, 2016 to Jul 6, 2017\n",
       "7985                      Mar 5, 1986\n",
       "12593                    Dec 16, 1989\n",
       "5999      Apr 4, 2019 to Sep 26, 2019\n",
       "4569      Feb 5, 1983 to Jan 21, 1984\n",
       "8091                      Feb 9, 2012\n",
       "17622    Mar 18, 1984 to Mar 17, 1985\n",
       "188                      Mar 14, 2015\n",
       "1614                   Apr, 2020 to ?\n",
       "Name: aired, dtype: object"
      ]
     },
     "execution_count": 20,
     "metadata": {},
     "output_type": "execute_result"
    }
   ],
   "source": [
    "anime_df['aired'].sample(10)"
   ]
  },
  {
   "cell_type": "markdown",
   "id": "01b73ce3",
   "metadata": {},
   "source": [
    "Sau khi lấy 10 mẫu ngẫu nhiên của cột này khoảng 10 lần thì có thể rút ra như sau:\n",
    "- Định dạng trong pandas cột sử dụng là `%b %d, %Y`\n",
    "- Có mẫu có cả ngày bắt đầu và kết thúc, có mẫu chỉ có ngày bắt đầu\n",
    "- Đa phần các mẫu đều đầy đủ ngày tháng năm, tuy nhiên có vài mẫu chỉ có tháng và năm, thậm chỉ chỉ có năm.\n",
    "\n",
    "Trong phạm vi đồ án, ta chỉ quan tâm đến thời điểm anime đó bắt đầu. Như vậy,đầu tiên ta sẽ trích xuất thời điểm bắt đầu trước rồi sau đó chuyển sang `datetime` theo định dạng `%b %d, %Y` thử, các giá trị thiếu ngày hoặc thiếu tháng ta sẽ tạm để NaN và đếm xem có bao nhiêu mẫu có giá trị như vậy."
   ]
  },
  {
   "cell_type": "code",
   "execution_count": 21,
   "id": "15f20c32",
   "metadata": {},
   "outputs": [
    {
     "data": {
      "text/plain": [
       "0       2015-10-04\n",
       "1       2014-10-10\n",
       "2       2017-07-07\n",
       "3       2009-04-05\n",
       "4       2017-01-06\n",
       "           ...    \n",
       "19002   2011-01-01\n",
       "19003   2018-01-12\n",
       "19004   2011-09-27\n",
       "19005   2016-07-09\n",
       "19006   2013-06-19\n",
       "Name: aired, Length: 16368, dtype: datetime64[ns]"
      ]
     },
     "execution_count": 21,
     "metadata": {},
     "output_type": "execute_result"
    }
   ],
   "source": [
    "# Dùng regular expresion trích xuất ngày bắt đầu\n",
    "start_date = anime_df['aired'].str.extract(r\"^([a-zA-Z]{3}\\s\\d{1,2},\\s\\d{4})\",\n",
    "                                           expand=False  # Trả về Series\n",
    "                                           )\n",
    "\n",
    "start_date = pd.to_datetime(start_date,\n",
    "                            format='%b %d, %Y',\n",
    "                            errors='ignore'  # Bỏ qua NaN\n",
    "                            )\n",
    "\n",
    "start_date\n"
   ]
  },
  {
   "cell_type": "code",
   "execution_count": 22,
   "id": "06deeec0",
   "metadata": {
    "scrolled": true
   },
   "outputs": [
    {
     "data": {
      "text/plain": [
       "1990"
      ]
     },
     "execution_count": 22,
     "metadata": {},
     "output_type": "execute_result"
    }
   ],
   "source": [
    "# Đếm số dòng không đầy đủ ngày hoặc tháng\n",
    "start_date.isnull().sum()"
   ]
  },
  {
   "cell_type": "markdown",
   "id": "5ff5dc84",
   "metadata": {},
   "source": [
    "Để đảm bảo nhận định việc cột `aired` có các mẫu thiếu ngày hoặc tháng, ta thử xem lại các dòng NaN trong **start_date** thì trong tập dữ liệu `anime_df`, các dòng này sẽ có dữ liệu như thế nào."
   ]
  },
  {
   "cell_type": "code",
   "execution_count": 23,
   "id": "d7328bc2",
   "metadata": {
    "scrolled": false
   },
   "outputs": [
    {
     "data": {
      "text/html": [
       "<div>\n",
       "<style scoped>\n",
       "    .dataframe tbody tr th:only-of-type {\n",
       "        vertical-align: middle;\n",
       "    }\n",
       "\n",
       "    .dataframe tbody tr th {\n",
       "        vertical-align: top;\n",
       "    }\n",
       "\n",
       "    .dataframe thead th {\n",
       "        text-align: right;\n",
       "    }\n",
       "</style>\n",
       "<table border=\"1\" class=\"dataframe\">\n",
       "  <thead>\n",
       "    <tr style=\"text-align: right;\">\n",
       "      <th></th>\n",
       "      <th>uid</th>\n",
       "      <th>title</th>\n",
       "      <th>genre</th>\n",
       "      <th>aired</th>\n",
       "      <th>episodes</th>\n",
       "      <th>members</th>\n",
       "      <th>popularity</th>\n",
       "      <th>ranked</th>\n",
       "      <th>score</th>\n",
       "    </tr>\n",
       "  </thead>\n",
       "  <tbody>\n",
       "    <tr>\n",
       "      <th>327</th>\n",
       "      <td>8740</td>\n",
       "      <td>One Piece Film: Strong World Episode 0</td>\n",
       "      <td>[Action, Adventure, Comedy, Fantasy, Shounen, ...</td>\n",
       "      <td>Apr, 2010</td>\n",
       "      <td>1.0</td>\n",
       "      <td>54305</td>\n",
       "      <td>1793</td>\n",
       "      <td>475.0</td>\n",
       "      <td>8.08</td>\n",
       "    </tr>\n",
       "    <tr>\n",
       "      <th>406</th>\n",
       "      <td>26117</td>\n",
       "      <td>Kokoroya</td>\n",
       "      <td>[Kids, Psychological, Sci-Fi]</td>\n",
       "      <td>2014</td>\n",
       "      <td>1.0</td>\n",
       "      <td>366</td>\n",
       "      <td>11749</td>\n",
       "      <td>394.0</td>\n",
       "      <td>8.15</td>\n",
       "    </tr>\n",
       "    <tr>\n",
       "      <th>518</th>\n",
       "      <td>30298</td>\n",
       "      <td>Mahou no Princess Minky Momo: Yume wo Dakishim...</td>\n",
       "      <td>[Magic, Shoujo]</td>\n",
       "      <td>Not available</td>\n",
       "      <td>3.0</td>\n",
       "      <td>398</td>\n",
       "      <td>11591</td>\n",
       "      <td>281.0</td>\n",
       "      <td>8.26</td>\n",
       "    </tr>\n",
       "    <tr>\n",
       "      <th>524</th>\n",
       "      <td>35628</td>\n",
       "      <td>Honoo no Alpenrose: Ai no Symphony Ongaku-hen</td>\n",
       "      <td>[Drama, Historical, Music, Romance, Shoujo]</td>\n",
       "      <td>Not available</td>\n",
       "      <td>1.0</td>\n",
       "      <td>314</td>\n",
       "      <td>12128</td>\n",
       "      <td>274.0</td>\n",
       "      <td>8.26</td>\n",
       "    </tr>\n",
       "    <tr>\n",
       "      <th>795</th>\n",
       "      <td>6154</td>\n",
       "      <td>Saint Seiya: Meiou Hades Juuni Kyuu-hen - Yomi...</td>\n",
       "      <td>[Sci-Fi, Adventure, Shounen]</td>\n",
       "      <td>2003</td>\n",
       "      <td>2.0</td>\n",
       "      <td>7675</td>\n",
       "      <td>4829</td>\n",
       "      <td>848.0</td>\n",
       "      <td>7.84</td>\n",
       "    </tr>\n",
       "    <tr>\n",
       "      <th>...</th>\n",
       "      <td>...</td>\n",
       "      <td>...</td>\n",
       "      <td>...</td>\n",
       "      <td>...</td>\n",
       "      <td>...</td>\n",
       "      <td>...</td>\n",
       "      <td>...</td>\n",
       "      <td>...</td>\n",
       "      <td>...</td>\n",
       "    </tr>\n",
       "    <tr>\n",
       "      <th>18090</th>\n",
       "      <td>10334</td>\n",
       "      <td>Rurouni Kenshin Recap</td>\n",
       "      <td>[Action, Adventure, Comedy, Historical, Romanc...</td>\n",
       "      <td>Jul, 1997</td>\n",
       "      <td>1.0</td>\n",
       "      <td>6600</td>\n",
       "      <td>5135</td>\n",
       "      <td>2381.0</td>\n",
       "      <td>7.34</td>\n",
       "    </tr>\n",
       "    <tr>\n",
       "      <th>18160</th>\n",
       "      <td>5947</td>\n",
       "      <td>Tengen Toppa Gurren Lagann Movie Zenyasai: Vir...</td>\n",
       "      <td>[Comedy]</td>\n",
       "      <td>Jan, 2009</td>\n",
       "      <td>1.0</td>\n",
       "      <td>24078</td>\n",
       "      <td>2909</td>\n",
       "      <td>2307.0</td>\n",
       "      <td>7.36</td>\n",
       "    </tr>\n",
       "    <tr>\n",
       "      <th>18635</th>\n",
       "      <td>2512</td>\n",
       "      <td>Detective Conan OVA 02: 16 Suspects</td>\n",
       "      <td>[Adventure, Mystery, Comedy, Police, Shounen]</td>\n",
       "      <td>2002</td>\n",
       "      <td>1.0</td>\n",
       "      <td>12089</td>\n",
       "      <td>4002</td>\n",
       "      <td>2182.0</td>\n",
       "      <td>7.38</td>\n",
       "    </tr>\n",
       "    <tr>\n",
       "      <th>18663</th>\n",
       "      <td>2513</td>\n",
       "      <td>Detective Conan OVA 03: Conan and Heiji and th...</td>\n",
       "      <td>[Adventure, Mystery, Comedy, Police, Shounen]</td>\n",
       "      <td>2003</td>\n",
       "      <td>1.0</td>\n",
       "      <td>11463</td>\n",
       "      <td>4101</td>\n",
       "      <td>2695.0</td>\n",
       "      <td>7.26</td>\n",
       "    </tr>\n",
       "    <tr>\n",
       "      <th>18946</th>\n",
       "      <td>33335</td>\n",
       "      <td>Hajimete no Eigo: Nippon Mukashibanashi</td>\n",
       "      <td>[Kids, Fantasy]</td>\n",
       "      <td>Not available</td>\n",
       "      <td>18.0</td>\n",
       "      <td>389</td>\n",
       "      <td>11599</td>\n",
       "      <td>2960.0</td>\n",
       "      <td>7.20</td>\n",
       "    </tr>\n",
       "  </tbody>\n",
       "</table>\n",
       "<p>1990 rows × 9 columns</p>\n",
       "</div>"
      ],
      "text/plain": [
       "         uid                                              title  \\\n",
       "327     8740             One Piece Film: Strong World Episode 0   \n",
       "406    26117                                           Kokoroya   \n",
       "518    30298  Mahou no Princess Minky Momo: Yume wo Dakishim...   \n",
       "524    35628      Honoo no Alpenrose: Ai no Symphony Ongaku-hen   \n",
       "795     6154  Saint Seiya: Meiou Hades Juuni Kyuu-hen - Yomi...   \n",
       "...      ...                                                ...   \n",
       "18090  10334                              Rurouni Kenshin Recap   \n",
       "18160   5947  Tengen Toppa Gurren Lagann Movie Zenyasai: Vir...   \n",
       "18635   2512                Detective Conan OVA 02: 16 Suspects   \n",
       "18663   2513  Detective Conan OVA 03: Conan and Heiji and th...   \n",
       "18946  33335            Hajimete no Eigo: Nippon Mukashibanashi   \n",
       "\n",
       "                                                   genre          aired  \\\n",
       "327    [Action, Adventure, Comedy, Fantasy, Shounen, ...      Apr, 2010   \n",
       "406                        [Kids, Psychological, Sci-Fi]           2014   \n",
       "518                                      [Magic, Shoujo]  Not available   \n",
       "524          [Drama, Historical, Music, Romance, Shoujo]  Not available   \n",
       "795                         [Sci-Fi, Adventure, Shounen]           2003   \n",
       "...                                                  ...            ...   \n",
       "18090  [Action, Adventure, Comedy, Historical, Romanc...      Jul, 1997   \n",
       "18160                                           [Comedy]      Jan, 2009   \n",
       "18635      [Adventure, Mystery, Comedy, Police, Shounen]           2002   \n",
       "18663      [Adventure, Mystery, Comedy, Police, Shounen]           2003   \n",
       "18946                                    [Kids, Fantasy]  Not available   \n",
       "\n",
       "       episodes  members  popularity  ranked  score  \n",
       "327         1.0    54305        1793   475.0   8.08  \n",
       "406         1.0      366       11749   394.0   8.15  \n",
       "518         3.0      398       11591   281.0   8.26  \n",
       "524         1.0      314       12128   274.0   8.26  \n",
       "795         2.0     7675        4829   848.0   7.84  \n",
       "...         ...      ...         ...     ...    ...  \n",
       "18090       1.0     6600        5135  2381.0   7.34  \n",
       "18160       1.0    24078        2909  2307.0   7.36  \n",
       "18635       1.0    12089        4002  2182.0   7.38  \n",
       "18663       1.0    11463        4101  2695.0   7.26  \n",
       "18946      18.0      389       11599  2960.0   7.20  \n",
       "\n",
       "[1990 rows x 9 columns]"
      ]
     },
     "execution_count": 23,
     "metadata": {},
     "output_type": "execute_result"
    }
   ],
   "source": [
    "anime_df[start_date.isnull()]"
   ]
  },
  {
   "cell_type": "markdown",
   "id": "7b72f53b",
   "metadata": {},
   "source": [
    "Qua kết quả trên ta còn thấy có các mẫu không xác định được ngày phát hành \"Not available\". Con số 1990 mẫu thiếu trên khoảng 16000 mẫu cũng là đáng kể. Vì vậy để giảm thiểu con số này, nhóm mình quyết định chỉ lấy năm phát hành của anime. Điều này có vẻ là chấp nhận được vì dữ liệu của ta trải dài hơn 20 năm và mỗi lần có các phân tích đến \"trending\" thì ta có thể làm trên năm thay vì theo tháng ngày. Năm phát hành của các anime sẽ thành cột mới **year_aired** trong tập dữ liệu `anime_df` phòng trường hợp sau này ta có các phân tích cần chính xác đến ngày và tháng."
   ]
  },
  {
   "cell_type": "code",
   "execution_count": 24,
   "id": "06b14b57",
   "metadata": {
    "scrolled": true
   },
   "outputs": [
    {
     "data": {
      "text/plain": [
       "0        2015.0\n",
       "1        2014.0\n",
       "2        2017.0\n",
       "3        2009.0\n",
       "4        2017.0\n",
       "          ...  \n",
       "19002    2011.0\n",
       "19003    2018.0\n",
       "19004    2011.0\n",
       "19005    2016.0\n",
       "19006    2013.0\n",
       "Name: aired, Length: 16368, dtype: float64"
      ]
     },
     "execution_count": 24,
     "metadata": {},
     "output_type": "execute_result"
    }
   ],
   "source": [
    "# Dùng regular expresion trích xuất năm bắt đầu\n",
    "year_aired = anime_df['aired'].str.extract(r\"(\\d{4})\",\n",
    "                                           expand=False  # Trả về Series\n",
    "                                           )\n",
    "year_aired = pd.to_numeric(year_aired)\n",
    "year_aired\n"
   ]
  },
  {
   "cell_type": "code",
   "execution_count": 25,
   "id": "0c8dd04d",
   "metadata": {},
   "outputs": [
    {
     "data": {
      "text/plain": [
       "295"
      ]
     },
     "execution_count": 25,
     "metadata": {},
     "output_type": "execute_result"
    }
   ],
   "source": [
    "# Đếm số dòng không có ngày phát hành\n",
    "year_aired.isnull().sum()"
   ]
  },
  {
   "cell_type": "markdown",
   "id": "b241a06d",
   "metadata": {},
   "source": [
    "Số dòng NaN giờ đây chỉ còn 295, giảm đi đáng kể! Tiếp theo ta thêm cột năm này vào `anime_df`."
   ]
  },
  {
   "cell_type": "code",
   "execution_count": 26,
   "id": "09b90765",
   "metadata": {},
   "outputs": [
    {
     "data": {
      "text/html": [
       "<div>\n",
       "<style scoped>\n",
       "    .dataframe tbody tr th:only-of-type {\n",
       "        vertical-align: middle;\n",
       "    }\n",
       "\n",
       "    .dataframe tbody tr th {\n",
       "        vertical-align: top;\n",
       "    }\n",
       "\n",
       "    .dataframe thead th {\n",
       "        text-align: right;\n",
       "    }\n",
       "</style>\n",
       "<table border=\"1\" class=\"dataframe\">\n",
       "  <thead>\n",
       "    <tr style=\"text-align: right;\">\n",
       "      <th></th>\n",
       "      <th>uid</th>\n",
       "      <th>title</th>\n",
       "      <th>genre</th>\n",
       "      <th>aired</th>\n",
       "      <th>episodes</th>\n",
       "      <th>members</th>\n",
       "      <th>popularity</th>\n",
       "      <th>ranked</th>\n",
       "      <th>score</th>\n",
       "      <th>year_aired</th>\n",
       "    </tr>\n",
       "  </thead>\n",
       "  <tbody>\n",
       "    <tr>\n",
       "      <th>0</th>\n",
       "      <td>28891</td>\n",
       "      <td>Haikyuu!! Second Season</td>\n",
       "      <td>[Comedy, Sports, Drama, School, Shounen]</td>\n",
       "      <td>Oct 4, 2015 to Mar 27, 2016</td>\n",
       "      <td>25.0</td>\n",
       "      <td>489888</td>\n",
       "      <td>141</td>\n",
       "      <td>25.0</td>\n",
       "      <td>8.82</td>\n",
       "      <td>2015.0</td>\n",
       "    </tr>\n",
       "    <tr>\n",
       "      <th>1</th>\n",
       "      <td>23273</td>\n",
       "      <td>Shigatsu wa Kimi no Uso</td>\n",
       "      <td>[Drama, Music, Romance, School, Shounen]</td>\n",
       "      <td>Oct 10, 2014 to Mar 20, 2015</td>\n",
       "      <td>22.0</td>\n",
       "      <td>995473</td>\n",
       "      <td>28</td>\n",
       "      <td>24.0</td>\n",
       "      <td>8.83</td>\n",
       "      <td>2014.0</td>\n",
       "    </tr>\n",
       "    <tr>\n",
       "      <th>2</th>\n",
       "      <td>34599</td>\n",
       "      <td>Made in Abyss</td>\n",
       "      <td>[Sci-Fi, Adventure, Mystery, Drama, Fantasy]</td>\n",
       "      <td>Jul 7, 2017 to Sep 29, 2017</td>\n",
       "      <td>13.0</td>\n",
       "      <td>581663</td>\n",
       "      <td>98</td>\n",
       "      <td>23.0</td>\n",
       "      <td>8.83</td>\n",
       "      <td>2017.0</td>\n",
       "    </tr>\n",
       "    <tr>\n",
       "      <th>3</th>\n",
       "      <td>5114</td>\n",
       "      <td>Fullmetal Alchemist: Brotherhood</td>\n",
       "      <td>[Action, Military, Adventure, Comedy, Drama, M...</td>\n",
       "      <td>Apr 5, 2009 to Jul 4, 2010</td>\n",
       "      <td>64.0</td>\n",
       "      <td>1615084</td>\n",
       "      <td>4</td>\n",
       "      <td>1.0</td>\n",
       "      <td>9.23</td>\n",
       "      <td>2009.0</td>\n",
       "    </tr>\n",
       "    <tr>\n",
       "      <th>4</th>\n",
       "      <td>31758</td>\n",
       "      <td>Kizumonogatari III: Reiketsu-hen</td>\n",
       "      <td>[Action, Mystery, Supernatural, Vampire]</td>\n",
       "      <td>Jan 6, 2017</td>\n",
       "      <td>1.0</td>\n",
       "      <td>214621</td>\n",
       "      <td>502</td>\n",
       "      <td>22.0</td>\n",
       "      <td>8.83</td>\n",
       "      <td>2017.0</td>\n",
       "    </tr>\n",
       "    <tr>\n",
       "      <th>...</th>\n",
       "      <td>...</td>\n",
       "      <td>...</td>\n",
       "      <td>...</td>\n",
       "      <td>...</td>\n",
       "      <td>...</td>\n",
       "      <td>...</td>\n",
       "      <td>...</td>\n",
       "      <td>...</td>\n",
       "      <td>...</td>\n",
       "      <td>...</td>\n",
       "    </tr>\n",
       "    <tr>\n",
       "      <th>19002</th>\n",
       "      <td>10075</td>\n",
       "      <td>Naruto x UT</td>\n",
       "      <td>[Action, Comedy, Super Power, Martial Arts, Sh...</td>\n",
       "      <td>Jan 1, 2011</td>\n",
       "      <td>1.0</td>\n",
       "      <td>34155</td>\n",
       "      <td>2382</td>\n",
       "      <td>1728.0</td>\n",
       "      <td>7.50</td>\n",
       "      <td>2011.0</td>\n",
       "    </tr>\n",
       "    <tr>\n",
       "      <th>19003</th>\n",
       "      <td>35828</td>\n",
       "      <td>Miira no Kaikata</td>\n",
       "      <td>[Slice of Life, Comedy, Supernatural]</td>\n",
       "      <td>Jan 12, 2018 to Mar 30, 2018</td>\n",
       "      <td>12.0</td>\n",
       "      <td>61459</td>\n",
       "      <td>1648</td>\n",
       "      <td>1727.0</td>\n",
       "      <td>7.50</td>\n",
       "      <td>2018.0</td>\n",
       "    </tr>\n",
       "    <tr>\n",
       "      <th>19004</th>\n",
       "      <td>10378</td>\n",
       "      <td>Shinryaku!? Ika Musume</td>\n",
       "      <td>[Slice of Life, Comedy, Shounen]</td>\n",
       "      <td>Sep 27, 2011 to Dec 25, 2011</td>\n",
       "      <td>12.0</td>\n",
       "      <td>67422</td>\n",
       "      <td>1547</td>\n",
       "      <td>1548.0</td>\n",
       "      <td>7.56</td>\n",
       "      <td>2011.0</td>\n",
       "    </tr>\n",
       "    <tr>\n",
       "      <th>19005</th>\n",
       "      <td>33082</td>\n",
       "      <td>Kingsglaive: Final Fantasy XV</td>\n",
       "      <td>[Action]</td>\n",
       "      <td>Jul 9, 2016</td>\n",
       "      <td>1.0</td>\n",
       "      <td>41077</td>\n",
       "      <td>2154</td>\n",
       "      <td>1544.0</td>\n",
       "      <td>7.56</td>\n",
       "      <td>2016.0</td>\n",
       "    </tr>\n",
       "    <tr>\n",
       "      <th>19006</th>\n",
       "      <td>16934</td>\n",
       "      <td>Chuunibyou demo Koi ga Shitai!: Kirameki no......</td>\n",
       "      <td>[Comedy, Drama, Romance, School, Slice of Life]</td>\n",
       "      <td>Jun 19, 2013</td>\n",
       "      <td>1.0</td>\n",
       "      <td>128400</td>\n",
       "      <td>883</td>\n",
       "      <td>1533.0</td>\n",
       "      <td>7.56</td>\n",
       "      <td>2013.0</td>\n",
       "    </tr>\n",
       "  </tbody>\n",
       "</table>\n",
       "<p>16368 rows × 10 columns</p>\n",
       "</div>"
      ],
      "text/plain": [
       "         uid                                              title  \\\n",
       "0      28891                            Haikyuu!! Second Season   \n",
       "1      23273                            Shigatsu wa Kimi no Uso   \n",
       "2      34599                                      Made in Abyss   \n",
       "3       5114                   Fullmetal Alchemist: Brotherhood   \n",
       "4      31758                   Kizumonogatari III: Reiketsu-hen   \n",
       "...      ...                                                ...   \n",
       "19002  10075                                        Naruto x UT   \n",
       "19003  35828                                   Miira no Kaikata   \n",
       "19004  10378                             Shinryaku!? Ika Musume   \n",
       "19005  33082                      Kingsglaive: Final Fantasy XV   \n",
       "19006  16934  Chuunibyou demo Koi ga Shitai!: Kirameki no......   \n",
       "\n",
       "                                                   genre  \\\n",
       "0               [Comedy, Sports, Drama, School, Shounen]   \n",
       "1               [Drama, Music, Romance, School, Shounen]   \n",
       "2           [Sci-Fi, Adventure, Mystery, Drama, Fantasy]   \n",
       "3      [Action, Military, Adventure, Comedy, Drama, M...   \n",
       "4               [Action, Mystery, Supernatural, Vampire]   \n",
       "...                                                  ...   \n",
       "19002  [Action, Comedy, Super Power, Martial Arts, Sh...   \n",
       "19003              [Slice of Life, Comedy, Supernatural]   \n",
       "19004                   [Slice of Life, Comedy, Shounen]   \n",
       "19005                                           [Action]   \n",
       "19006    [Comedy, Drama, Romance, School, Slice of Life]   \n",
       "\n",
       "                              aired  episodes  members  popularity  ranked  \\\n",
       "0       Oct 4, 2015 to Mar 27, 2016      25.0   489888         141    25.0   \n",
       "1      Oct 10, 2014 to Mar 20, 2015      22.0   995473          28    24.0   \n",
       "2       Jul 7, 2017 to Sep 29, 2017      13.0   581663          98    23.0   \n",
       "3        Apr 5, 2009 to Jul 4, 2010      64.0  1615084           4     1.0   \n",
       "4                       Jan 6, 2017       1.0   214621         502    22.0   \n",
       "...                             ...       ...      ...         ...     ...   \n",
       "19002                   Jan 1, 2011       1.0    34155        2382  1728.0   \n",
       "19003  Jan 12, 2018 to Mar 30, 2018      12.0    61459        1648  1727.0   \n",
       "19004  Sep 27, 2011 to Dec 25, 2011      12.0    67422        1547  1548.0   \n",
       "19005                   Jul 9, 2016       1.0    41077        2154  1544.0   \n",
       "19006                  Jun 19, 2013       1.0   128400         883  1533.0   \n",
       "\n",
       "       score  year_aired  \n",
       "0       8.82      2015.0  \n",
       "1       8.83      2014.0  \n",
       "2       8.83      2017.0  \n",
       "3       9.23      2009.0  \n",
       "4       8.83      2017.0  \n",
       "...      ...         ...  \n",
       "19002   7.50      2011.0  \n",
       "19003   7.50      2018.0  \n",
       "19004   7.56      2011.0  \n",
       "19005   7.56      2016.0  \n",
       "19006   7.56      2013.0  \n",
       "\n",
       "[16368 rows x 10 columns]"
      ]
     },
     "execution_count": 26,
     "metadata": {},
     "output_type": "execute_result"
    }
   ],
   "source": [
    "anime_df['year_aired'] = year_aired\n",
    "anime_df"
   ]
  },
  {
   "cell_type": "markdown",
   "id": "93af1cc9",
   "metadata": {},
   "source": [
    "---\n",
    "\n",
    "# Khám phá dữ liệu (tiếp tục)"
   ]
  },
  {
   "cell_type": "markdown",
   "id": "922e780b",
   "metadata": {},
   "source": [
    "## Phân bố các cột dữ liệu dạng numeric\n",
    "\n",
    "Ở mỗi cột ta sẽ xem xét % tỉ lệ thiếu dữ liệu (0 đến 100), giá trị nhỏ nhất và lớn nhất."
   ]
  },
  {
   "cell_type": "markdown",
   "id": "140717b5",
   "metadata": {},
   "source": [
    "### Tập dữ liệu anime\n",
    "\n",
    "Các cột numeric: episodes, members, popularity, ranked, score"
   ]
  },
  {
   "cell_type": "code",
   "execution_count": 27,
   "id": "8d3a0ea0",
   "metadata": {},
   "outputs": [
    {
     "data": {
      "text/html": [
       "<div>\n",
       "<style scoped>\n",
       "    .dataframe tbody tr th:only-of-type {\n",
       "        vertical-align: middle;\n",
       "    }\n",
       "\n",
       "    .dataframe tbody tr th {\n",
       "        vertical-align: top;\n",
       "    }\n",
       "\n",
       "    .dataframe thead th {\n",
       "        text-align: right;\n",
       "    }\n",
       "</style>\n",
       "<table border=\"1\" class=\"dataframe\">\n",
       "  <thead>\n",
       "    <tr style=\"text-align: right;\">\n",
       "      <th></th>\n",
       "      <th>episodes</th>\n",
       "      <th>members</th>\n",
       "      <th>popularity</th>\n",
       "      <th>ranked</th>\n",
       "      <th>score</th>\n",
       "      <th>year_aired</th>\n",
       "    </tr>\n",
       "  </thead>\n",
       "  <tbody>\n",
       "    <tr>\n",
       "      <th>missing_ratio</th>\n",
       "      <td>3</td>\n",
       "      <td>0</td>\n",
       "      <td>0</td>\n",
       "      <td>11</td>\n",
       "      <td>2</td>\n",
       "      <td>2</td>\n",
       "    </tr>\n",
       "    <tr>\n",
       "      <th>min_value</th>\n",
       "      <td>1</td>\n",
       "      <td>25</td>\n",
       "      <td>1</td>\n",
       "      <td>1</td>\n",
       "      <td>1</td>\n",
       "      <td>1917</td>\n",
       "    </tr>\n",
       "    <tr>\n",
       "      <th>max_value</th>\n",
       "      <td>3057</td>\n",
       "      <td>1871043</td>\n",
       "      <td>16338</td>\n",
       "      <td>14675</td>\n",
       "      <td>9</td>\n",
       "      <td>2021</td>\n",
       "    </tr>\n",
       "  </tbody>\n",
       "</table>\n",
       "</div>"
      ],
      "text/plain": [
       "               episodes  members  popularity  ranked  score  year_aired\n",
       "missing_ratio         3        0           0      11      2           2\n",
       "min_value             1       25           1       1      1        1917\n",
       "max_value          3057  1871043       16338   14675      9        2021"
      ]
     },
     "execution_count": 27,
     "metadata": {},
     "output_type": "execute_result"
    }
   ],
   "source": [
    "pd.options.display.float_format = '{:.0f}'.format\n",
    "\n",
    "\n",
    "def missing_ratio(s):\n",
    "    return s.isna().mean() * 100\n",
    "\n",
    "\n",
    "def min_value(s):\n",
    "    return s.dropna().min()\n",
    "\n",
    "\n",
    "def max_value(s):\n",
    "    return s.dropna().max()\n",
    "\n",
    "\n",
    "anime_numeric_cols = ['episodes', 'members',\n",
    "                      'popularity', 'ranked', 'score', 'year_aired']\n",
    "anime_nume_col_profiles_df = anime_df[anime_numeric_cols]\n",
    "\n",
    "anime_nume_col_profiles_df = anime_nume_col_profiles_df.agg([missing_ratio,\n",
    "                                                             min_value,\n",
    "                                                             max_value])\n",
    "\n",
    "anime_nume_col_profiles_df\n"
   ]
  },
  {
   "cell_type": "markdown",
   "id": "2cb21e2e",
   "metadata": {},
   "source": [
    "### Tập dữ liệu rating\n",
    "\n",
    "Các cột numeric: score"
   ]
  },
  {
   "cell_type": "code",
   "execution_count": 28,
   "id": "16e87b5d",
   "metadata": {},
   "outputs": [
    {
     "data": {
      "text/plain": [
       "missing_ratio    0\n",
       "min_value        0\n",
       "max_value       11\n",
       "Name: score, dtype: float64"
      ]
     },
     "execution_count": 28,
     "metadata": {},
     "output_type": "execute_result"
    }
   ],
   "source": [
    "rating_nume_col_profiles_df = rating_df['score']\n",
    "\n",
    "rating_nume_col_profiles_df = rating_nume_col_profiles_df.agg([missing_ratio,\n",
    "                                                               min_value,\n",
    "                                                               max_value])\n",
    "\n",
    "rating_nume_col_profiles_df\n"
   ]
  },
  {
   "cell_type": "markdown",
   "id": "286636a9",
   "metadata": {},
   "source": [
    "## Phân bố các cột dữ liệu dạng categorical\n",
    "\n",
    "Ở mỗi cột ta sẽ xem xét % tỉ lệ thiếu dữ liệu (0 đến 100), số giá trị khác nhau (không xét giá trị thiếu)"
   ]
  },
  {
   "cell_type": "markdown",
   "id": "f457c5d8",
   "metadata": {},
   "source": [
    "### Tập dữ liệu anime\n",
    "\n",
    "Các cột categorical: uid, title, genre. Ta không xét cột **aired** vì nó là cột dữ liệu thô. Hai cột đầu thì ta có thể xử lý nhanh bằng method agg với các hàm tự định nghĩa, riêng cột `genre` ta cần phải đi đếm số thể loại khác nhau vì cột này lưu dưới dạng list of string. Để đếm số thể loại khác nhau, ta có thể hợp các list này lại rồi đếm số giá trị.\n",
    "\n"
   ]
  },
  {
   "cell_type": "code",
   "execution_count": 29,
   "id": "22d79f80",
   "metadata": {
    "scrolled": true
   },
   "outputs": [
    {
     "data": {
      "text/html": [
       "<div>\n",
       "<style scoped>\n",
       "    .dataframe tbody tr th:only-of-type {\n",
       "        vertical-align: middle;\n",
       "    }\n",
       "\n",
       "    .dataframe tbody tr th {\n",
       "        vertical-align: top;\n",
       "    }\n",
       "\n",
       "    .dataframe thead th {\n",
       "        text-align: right;\n",
       "    }\n",
       "</style>\n",
       "<table border=\"1\" class=\"dataframe\">\n",
       "  <thead>\n",
       "    <tr style=\"text-align: right;\">\n",
       "      <th></th>\n",
       "      <th>uid</th>\n",
       "      <th>title</th>\n",
       "      <th>genre</th>\n",
       "    </tr>\n",
       "  </thead>\n",
       "  <tbody>\n",
       "    <tr>\n",
       "      <th>missing_ratio</th>\n",
       "      <td>0</td>\n",
       "      <td>0</td>\n",
       "      <td>0</td>\n",
       "    </tr>\n",
       "    <tr>\n",
       "      <th>num_diff_vals</th>\n",
       "      <td>16216</td>\n",
       "      <td>16214</td>\n",
       "      <td>43</td>\n",
       "    </tr>\n",
       "  </tbody>\n",
       "</table>\n",
       "</div>"
      ],
      "text/plain": [
       "                uid  title  genre\n",
       "missing_ratio     0      0      0\n",
       "num_diff_vals 16216  16214     43"
      ]
     },
     "execution_count": 29,
     "metadata": {},
     "output_type": "execute_result"
    }
   ],
   "source": [
    "anime_cate_cols = ['uid', 'title']\n",
    "anime_cate_col_profiles_df = anime_df[anime_cate_cols]\n",
    "\n",
    "\n",
    "def num_diff_vals(s):\n",
    "    return s.dropna().nunique()\n",
    "\n",
    "\n",
    "anime_cate_col_profiles_df = anime_cate_col_profiles_df.agg([missing_ratio,\n",
    "                                                             num_diff_vals])\n",
    "\n",
    "genre_profile = [missing_ratio(anime_df['genre']),\n",
    "                 anime_df['genre'].apply(pd.Series).stack().nunique()]\n",
    "\n",
    "genre_profile = pd.DataFrame(genre_profile,\n",
    "                             index=['missing_ratio', 'num_diff_vals'],\n",
    "                             columns=['genre'])\n",
    "\n",
    "anime_cate_col_profiles_df = pd.concat([anime_cate_col_profiles_df, genre_profile],\n",
    "                                       axis=1)\n",
    "\n",
    "anime_cate_col_profiles_df\n"
   ]
  },
  {
   "cell_type": "markdown",
   "id": "b7733040",
   "metadata": {},
   "source": [
    "#### Phân bố cột thể loại (genre)"
   ]
  },
  {
   "cell_type": "code",
   "execution_count": 30,
   "id": "ab7a09c1",
   "metadata": {},
   "outputs": [
    {
     "data": {
      "image/png": "[encoded data removed]",
      "text/plain": [
       "<Figure size 1440x360 with 1 Axes>"
      ]
     },
     "metadata": {
      "needs_background": "light"
     },
     "output_type": "display_data"
    }
   ],
   "source": [
    "\n",
    "def count_genre():\n",
    "    genre_s = anime_df['genre'].explode()\n",
    "    return genre_s.groupby(genre_s).size()\n",
    "\n",
    "genre_s = count_genre()\n",
    "genre_s.plot.bar(figsize=(20, 5))\n",
    "plt.show()\n"
   ]
  },
  {
   "cell_type": "code",
   "execution_count": 31,
   "id": "db4acb6f",
   "metadata": {},
   "outputs": [
    {
     "data": {
      "image/png": "[encoded data removed]",
      "text/plain": [
       "<Figure size 576x576 with 1 Axes>"
      ]
     },
     "metadata": {},
     "output_type": "display_data"
    }
   ],
   "source": [
    "# fig = genre_s.plot.pie(figsize=(10, 10), autopct = \"%0.2f%%\")\n",
    "\n",
    "def top_genre(top: int):\n",
    "    not_top_genre = genre_s.sort_values(ascending=False).index[top:]\n",
    "    other = genre_s.rename({key: 'Other' for key in not_top_genre})\n",
    "    return other.groupby(level=0).sum()\n",
    "\n",
    "fig = top_genre(5).plot.pie(figsize=(8, 8), autopct = \"%0.2f%%\")\n",
    "plt.show()\n"
   ]
  },
  {
   "cell_type": "markdown",
   "id": "95ef1d61",
   "metadata": {},
   "source": [
    "Có thể thấy là thể loại \"Comedy\" là phổ biến nhất"
   ]
  },
  {
   "cell_type": "markdown",
   "id": "a40993f4",
   "metadata": {},
   "source": [
    "### Tập dữ liệu review\n",
    "\n",
    "Các cột categorical: uid, profile, anime_uid"
   ]
  },
  {
   "cell_type": "code",
   "execution_count": 32,
   "id": "2cdee65f",
   "metadata": {},
   "outputs": [
    {
     "data": {
      "text/html": [
       "<div>\n",
       "<style scoped>\n",
       "    .dataframe tbody tr th:only-of-type {\n",
       "        vertical-align: middle;\n",
       "    }\n",
       "\n",
       "    .dataframe tbody tr th {\n",
       "        vertical-align: top;\n",
       "    }\n",
       "\n",
       "    .dataframe thead th {\n",
       "        text-align: right;\n",
       "    }\n",
       "</style>\n",
       "<table border=\"1\" class=\"dataframe\">\n",
       "  <thead>\n",
       "    <tr style=\"text-align: right;\">\n",
       "      <th></th>\n",
       "      <th>uid</th>\n",
       "      <th>profile</th>\n",
       "      <th>anime_uid</th>\n",
       "    </tr>\n",
       "  </thead>\n",
       "  <tbody>\n",
       "    <tr>\n",
       "      <th>missing_ratio</th>\n",
       "      <td>0</td>\n",
       "      <td>0</td>\n",
       "      <td>0</td>\n",
       "    </tr>\n",
       "    <tr>\n",
       "      <th>num_diff_vals</th>\n",
       "      <td>130519</td>\n",
       "      <td>47885</td>\n",
       "      <td>8113</td>\n",
       "    </tr>\n",
       "  </tbody>\n",
       "</table>\n",
       "</div>"
      ],
      "text/plain": [
       "                 uid  profile  anime_uid\n",
       "missing_ratio      0        0          0\n",
       "num_diff_vals 130519    47885       8113"
      ]
     },
     "execution_count": 32,
     "metadata": {},
     "output_type": "execute_result"
    }
   ],
   "source": [
    "rating_cate_cols = ['uid', 'profile', 'anime_uid']\n",
    "rating_cate_col_profiles_df = rating_df[rating_cate_cols]\n",
    "\n",
    "\n",
    "def num_diff_vals(s):\n",
    "    return s.dropna().nunique()\n",
    "\n",
    "\n",
    "rating_cate_col_profiles_df = rating_cate_col_profiles_df.agg([missing_ratio,\n",
    "                                                               num_diff_vals])\n",
    "rating_cate_col_profiles_df\n"
   ]
  },
  {
   "cell_type": "markdown",
   "id": "899bb215",
   "metadata": {},
   "source": [
    "---\n",
    "\n",
    "# Đưa ra các câu hỏi cần trả lời"
   ]
  },
  {
   "cell_type": "markdown",
   "id": "8c961356",
   "metadata": {},
   "source": [
    "## 1. Các thể loại anime thịnh hành qua từng năm thay đổi ra sao?\n",
    "\n",
    "Với mỗi năm, ta sẽ tìm ra 3 thể loại anime thịnh hành nhất của từng năm. Việc trả lời được câu hỏi có các lợi ích sau:\n",
    "- **Người xem:** người mới xem hoặc người không biết xem gì có thể chọn các anime có thể loại thịnh hành để xem.\n",
    "- **Nhà sản xuất anime:** biết được thị hiếu thể loại người xem thích, từ đó họ có thể sản xuất các genre thịnh hành ở các năm gần đây để thu hút người xem.\n",
    "\n",
    "Để rút ra được 3 thể loại anime thịnh hành ở mỗi năm, ta có thể dùng cột `popularity` do myanimelist cung cấp. Nhưng nhóm mình sẽ không dùng đến nó vì không rõ cơ chế tính độ nổi tiếng này ra sao (có thể  từ vote?) mà thay vào đó sẽ dùng số lượng member của cộng đồng quan tâm anime đó qua cột `members`."
   ]
  },
  {
   "cell_type": "markdown",
   "id": "e23e0a3a",
   "metadata": {},
   "source": [
    "Trước khi thực hiện việc đi tìm ra top 3 thể loại anime thịnh hành của từng năm, để dễ dẫn nhập ta sẽ đi tìm cho năm 2021 trước."
   ]
  },
  {
   "cell_type": "code",
   "execution_count": 33,
   "id": "ca7dd1f1",
   "metadata": {
    "scrolled": true
   },
   "outputs": [
    {
     "data": {
      "text/html": [
       "<div>\n",
       "<style scoped>\n",
       "    .dataframe tbody tr th:only-of-type {\n",
       "        vertical-align: middle;\n",
       "    }\n",
       "\n",
       "    .dataframe tbody tr th {\n",
       "        vertical-align: top;\n",
       "    }\n",
       "\n",
       "    .dataframe thead th {\n",
       "        text-align: right;\n",
       "    }\n",
       "</style>\n",
       "<table border=\"1\" class=\"dataframe\">\n",
       "  <thead>\n",
       "    <tr style=\"text-align: right;\">\n",
       "      <th></th>\n",
       "      <th>uid</th>\n",
       "      <th>title</th>\n",
       "      <th>genre</th>\n",
       "      <th>aired</th>\n",
       "      <th>episodes</th>\n",
       "      <th>members</th>\n",
       "      <th>popularity</th>\n",
       "      <th>ranked</th>\n",
       "      <th>score</th>\n",
       "      <th>year_aired</th>\n",
       "    </tr>\n",
       "  </thead>\n",
       "  <tbody>\n",
       "    <tr>\n",
       "      <th>1606</th>\n",
       "      <td>38440</td>\n",
       "      <td>Shikizakura</td>\n",
       "      <td>[Action, Sci-Fi, Drama]</td>\n",
       "      <td>2021 to ?</td>\n",
       "      <td>12</td>\n",
       "      <td>1419</td>\n",
       "      <td>8859</td>\n",
       "      <td>NaN</td>\n",
       "      <td>NaN</td>\n",
       "      <td>2021</td>\n",
       "    </tr>\n",
       "    <tr>\n",
       "      <th>1611</th>\n",
       "      <td>38882</td>\n",
       "      <td>Ryouma! Shinsei Tennis no Ouji-sama</td>\n",
       "      <td>[Action, Comedy, Sports, Shounen]</td>\n",
       "      <td>2021</td>\n",
       "      <td>1</td>\n",
       "      <td>1850</td>\n",
       "      <td>8160</td>\n",
       "      <td>NaN</td>\n",
       "      <td>NaN</td>\n",
       "      <td>2021</td>\n",
       "    </tr>\n",
       "    <tr>\n",
       "      <th>1647</th>\n",
       "      <td>35136</td>\n",
       "      <td>Koukyoushihen Eureka Seven Hi-Evolution 3</td>\n",
       "      <td>[Adventure, Drama, Mecha, Sci-Fi]</td>\n",
       "      <td>2021</td>\n",
       "      <td>1</td>\n",
       "      <td>6693</td>\n",
       "      <td>5120</td>\n",
       "      <td>NaN</td>\n",
       "      <td>NaN</td>\n",
       "      <td>2021</td>\n",
       "    </tr>\n",
       "    <tr>\n",
       "      <th>1679</th>\n",
       "      <td>39938</td>\n",
       "      <td>Inu-Ou</td>\n",
       "      <td>[Music, Historical, Fantasy]</td>\n",
       "      <td>2021</td>\n",
       "      <td>1</td>\n",
       "      <td>739</td>\n",
       "      <td>10232</td>\n",
       "      <td>NaN</td>\n",
       "      <td>NaN</td>\n",
       "      <td>2021</td>\n",
       "    </tr>\n",
       "    <tr>\n",
       "      <th>1713</th>\n",
       "      <td>34348</td>\n",
       "      <td>Rescue Academia</td>\n",
       "      <td>[Sci-Fi, Adventure]</td>\n",
       "      <td>2021 to ?</td>\n",
       "      <td>NaN</td>\n",
       "      <td>932</td>\n",
       "      <td>9709</td>\n",
       "      <td>NaN</td>\n",
       "      <td>NaN</td>\n",
       "      <td>2021</td>\n",
       "    </tr>\n",
       "    <tr>\n",
       "      <th>14712</th>\n",
       "      <td>38882</td>\n",
       "      <td>Ryouma! Shinsei Tennis no Ouji-sama</td>\n",
       "      <td>[Action, Comedy, Sports, Shounen]</td>\n",
       "      <td>2021</td>\n",
       "      <td>1</td>\n",
       "      <td>1848</td>\n",
       "      <td>8160</td>\n",
       "      <td>NaN</td>\n",
       "      <td>NaN</td>\n",
       "      <td>2021</td>\n",
       "    </tr>\n",
       "    <tr>\n",
       "      <th>14799</th>\n",
       "      <td>39486</td>\n",
       "      <td>Gintama (Shinsaku)</td>\n",
       "      <td>[Action, Sci-Fi, Comedy, Historical, Parody, D...</td>\n",
       "      <td>2021</td>\n",
       "      <td>NaN</td>\n",
       "      <td>1848</td>\n",
       "      <td>8394</td>\n",
       "      <td>NaN</td>\n",
       "      <td>NaN</td>\n",
       "      <td>2021</td>\n",
       "    </tr>\n",
       "  </tbody>\n",
       "</table>\n",
       "</div>"
      ],
      "text/plain": [
       "         uid                                      title  \\\n",
       "1606   38440                                Shikizakura   \n",
       "1611   38882        Ryouma! Shinsei Tennis no Ouji-sama   \n",
       "1647   35136  Koukyoushihen Eureka Seven Hi-Evolution 3   \n",
       "1679   39938                                     Inu-Ou   \n",
       "1713   34348                            Rescue Academia   \n",
       "14712  38882        Ryouma! Shinsei Tennis no Ouji-sama   \n",
       "14799  39486                         Gintama (Shinsaku)   \n",
       "\n",
       "                                                   genre      aired  episodes  \\\n",
       "1606                             [Action, Sci-Fi, Drama]  2021 to ?        12   \n",
       "1611                   [Action, Comedy, Sports, Shounen]       2021         1   \n",
       "1647                   [Adventure, Drama, Mecha, Sci-Fi]       2021         1   \n",
       "1679                        [Music, Historical, Fantasy]       2021         1   \n",
       "1713                                 [Sci-Fi, Adventure]  2021 to ?       NaN   \n",
       "14712                  [Action, Comedy, Sports, Shounen]       2021         1   \n",
       "14799  [Action, Sci-Fi, Comedy, Historical, Parody, D...       2021       NaN   \n",
       "\n",
       "       members  popularity  ranked  score  year_aired  \n",
       "1606      1419        8859     NaN    NaN        2021  \n",
       "1611      1850        8160     NaN    NaN        2021  \n",
       "1647      6693        5120     NaN    NaN        2021  \n",
       "1679       739       10232     NaN    NaN        2021  \n",
       "1713       932        9709     NaN    NaN        2021  \n",
       "14712     1848        8160     NaN    NaN        2021  \n",
       "14799     1848        8394     NaN    NaN        2021  "
      ]
     },
     "execution_count": 33,
     "metadata": {},
     "output_type": "execute_result"
    }
   ],
   "source": [
    "anime_2021_df = anime_df[anime_df['year_aired'] == 2021]\n",
    "anime_2021_df"
   ]
  },
  {
   "cell_type": "code",
   "execution_count": 34,
   "id": "364c7653",
   "metadata": {
    "scrolled": false
   },
   "outputs": [
    {
     "data": {
      "text/html": [
       "<div>\n",
       "<style scoped>\n",
       "    .dataframe tbody tr th:only-of-type {\n",
       "        vertical-align: middle;\n",
       "    }\n",
       "\n",
       "    .dataframe tbody tr th {\n",
       "        vertical-align: top;\n",
       "    }\n",
       "\n",
       "    .dataframe thead th {\n",
       "        text-align: right;\n",
       "    }\n",
       "</style>\n",
       "<table border=\"1\" class=\"dataframe\">\n",
       "  <thead>\n",
       "    <tr style=\"text-align: right;\">\n",
       "      <th></th>\n",
       "      <th></th>\n",
       "      <th>members</th>\n",
       "    </tr>\n",
       "    <tr>\n",
       "      <th>year_aired</th>\n",
       "      <th>f_genre</th>\n",
       "      <th></th>\n",
       "    </tr>\n",
       "  </thead>\n",
       "  <tbody>\n",
       "    <tr>\n",
       "      <th rowspan=\"13\" valign=\"top\">2021</th>\n",
       "      <th>Sci-Fi</th>\n",
       "      <td>10892</td>\n",
       "    </tr>\n",
       "    <tr>\n",
       "      <th>Drama</th>\n",
       "      <td>9960</td>\n",
       "    </tr>\n",
       "    <tr>\n",
       "      <th>Adventure</th>\n",
       "      <td>7625</td>\n",
       "    </tr>\n",
       "    <tr>\n",
       "      <th>Action</th>\n",
       "      <td>6965</td>\n",
       "    </tr>\n",
       "    <tr>\n",
       "      <th>Mecha</th>\n",
       "      <td>6693</td>\n",
       "    </tr>\n",
       "    <tr>\n",
       "      <th>Comedy</th>\n",
       "      <td>5546</td>\n",
       "    </tr>\n",
       "    <tr>\n",
       "      <th>Shounen</th>\n",
       "      <td>5546</td>\n",
       "    </tr>\n",
       "    <tr>\n",
       "      <th>Sports</th>\n",
       "      <td>3698</td>\n",
       "    </tr>\n",
       "    <tr>\n",
       "      <th>Historical</th>\n",
       "      <td>2587</td>\n",
       "    </tr>\n",
       "    <tr>\n",
       "      <th>Parody</th>\n",
       "      <td>1848</td>\n",
       "    </tr>\n",
       "    <tr>\n",
       "      <th>Samurai</th>\n",
       "      <td>1848</td>\n",
       "    </tr>\n",
       "    <tr>\n",
       "      <th>Fantasy</th>\n",
       "      <td>739</td>\n",
       "    </tr>\n",
       "    <tr>\n",
       "      <th>Music</th>\n",
       "      <td>739</td>\n",
       "    </tr>\n",
       "  </tbody>\n",
       "</table>\n",
       "</div>"
      ],
      "text/plain": [
       "                       members\n",
       "year_aired f_genre            \n",
       "2021       Sci-Fi        10892\n",
       "           Drama          9960\n",
       "           Adventure      7625\n",
       "           Action         6965\n",
       "           Mecha          6693\n",
       "           Comedy         5546\n",
       "           Shounen        5546\n",
       "           Sports         3698\n",
       "           Historical     2587\n",
       "           Parody         1848\n",
       "           Samurai        1848\n",
       "           Fantasy         739\n",
       "           Music           739"
      ]
     },
     "execution_count": 34,
     "metadata": {},
     "output_type": "execute_result"
    }
   ],
   "source": [
    "# Flat cột genre\n",
    "flatted_genre = pd.DataFrame([\n",
    "                            [i, x]\n",
    "                            for i, y in anime_2021_df['genre'].iteritems()\n",
    "                            for x in y\n",
    "                            ], columns = ['index', 'f_genre'])\n",
    "\n",
    "# Set lại cột index\n",
    "flatted_genre = flatted_genre.set_index('index')\n",
    "\n",
    "# Rút ra cột members và year_aired\n",
    "right_df = anime_2021_df[['members', 'year_aired']]\n",
    "\n",
    "# Merge flatted_genre với right_df\n",
    "genre_mem_2021_df = flatted_genre.merge(right_df,\n",
    "                                        left_index=True,\n",
    "                                        right_index=True)\n",
    "\n",
    "# Đếm ở mỗi thể loại, có bao nhiêu members, rồi sort lại theo chiều giảm dần\n",
    "result_2021_df = genre_mem_2021_df.groupby(['year_aired', 'f_genre']).sum()  \\\n",
    "                            .sort_values('members', ascending=False)\n",
    "\n",
    "result_2021_df"
   ]
  },
  {
   "cell_type": "markdown",
   "id": "ec5bff7d",
   "metadata": {},
   "source": [
    "Cuối cùng ta sẽ lấy ra top 3 genre có nhiều member nhất. Ta có thể dùng method **.head(3)** từ tập `result_df` nhưng khi làm trên toàn bộ tập dữ liệu, cột year_aired sẽ có nhiều năm chứ không chỉ 2021. Vì vậy nếu muốn dùng **.head(3)** trên mỗi năm, trước hết ta phải **groupby** cột index *year_aired* tương ứng với level 0 (chi tiết level có thể coi ở docs của pandas về phương thức groupby)."
   ]
  },
  {
   "cell_type": "code",
   "execution_count": 35,
   "id": "ee6b4d14",
   "metadata": {},
   "outputs": [
    {
     "data": {
      "text/html": [
       "<div>\n",
       "<style scoped>\n",
       "    .dataframe tbody tr th:only-of-type {\n",
       "        vertical-align: middle;\n",
       "    }\n",
       "\n",
       "    .dataframe tbody tr th {\n",
       "        vertical-align: top;\n",
       "    }\n",
       "\n",
       "    .dataframe thead th {\n",
       "        text-align: right;\n",
       "    }\n",
       "</style>\n",
       "<table border=\"1\" class=\"dataframe\">\n",
       "  <thead>\n",
       "    <tr style=\"text-align: right;\">\n",
       "      <th></th>\n",
       "      <th></th>\n",
       "      <th>members</th>\n",
       "    </tr>\n",
       "    <tr>\n",
       "      <th>year_aired</th>\n",
       "      <th>f_genre</th>\n",
       "      <th></th>\n",
       "    </tr>\n",
       "  </thead>\n",
       "  <tbody>\n",
       "    <tr>\n",
       "      <th rowspan=\"3\" valign=\"top\">2021</th>\n",
       "      <th>Sci-Fi</th>\n",
       "      <td>10892</td>\n",
       "    </tr>\n",
       "    <tr>\n",
       "      <th>Drama</th>\n",
       "      <td>9960</td>\n",
       "    </tr>\n",
       "    <tr>\n",
       "      <th>Adventure</th>\n",
       "      <td>7625</td>\n",
       "    </tr>\n",
       "  </tbody>\n",
       "</table>\n",
       "</div>"
      ],
      "text/plain": [
       "                      members\n",
       "year_aired f_genre           \n",
       "2021       Sci-Fi       10892\n",
       "           Drama         9960\n",
       "           Adventure     7625"
      ]
     },
     "execution_count": 35,
     "metadata": {},
     "output_type": "execute_result"
    }
   ],
   "source": [
    "# Bước tiếp theo là lấy ra top genre có nhiều member\n",
    "# Ta sẽ lấy ra top 3 theo từng năm\n",
    "result_2021_df.groupby(level=0).head(3)"
   ]
  },
  {
   "cell_type": "markdown",
   "id": "7daae741",
   "metadata": {},
   "source": [
    "Bây giờ ta sẽ làm trên toàn bộ tập dữ liệu. Giá trị năm phát hành trải dài rất nhiều năm từ 1917 đến 2021, vì vậy ta sẽ chỉ xem xét từ năm 2000 trở lại đi. Điều này là phù hợp cho việc tìm các genre thịnh hành các năm gần đây."
   ]
  },
  {
   "cell_type": "code",
   "execution_count": 38,
   "id": "d205f25a",
   "metadata": {
    "scrolled": false
   },
   "outputs": [
    {
     "data": {
      "text/html": [
       "<div>\n",
       "<style scoped>\n",
       "    .dataframe tbody tr th:only-of-type {\n",
       "        vertical-align: middle;\n",
       "    }\n",
       "\n",
       "    .dataframe tbody tr th {\n",
       "        vertical-align: top;\n",
       "    }\n",
       "\n",
       "    .dataframe thead th {\n",
       "        text-align: right;\n",
       "    }\n",
       "</style>\n",
       "<table border=\"1\" class=\"dataframe\">\n",
       "  <thead>\n",
       "    <tr style=\"text-align: right;\">\n",
       "      <th></th>\n",
       "      <th></th>\n",
       "      <th>members</th>\n",
       "    </tr>\n",
       "    <tr>\n",
       "      <th>year_aired</th>\n",
       "      <th>f_genre</th>\n",
       "      <th></th>\n",
       "    </tr>\n",
       "  </thead>\n",
       "  <tbody>\n",
       "    <tr>\n",
       "      <th rowspan=\"3\" valign=\"top\">2021</th>\n",
       "      <th>Sci-Fi</th>\n",
       "      <td>10892</td>\n",
       "    </tr>\n",
       "    <tr>\n",
       "      <th>Drama</th>\n",
       "      <td>9960</td>\n",
       "    </tr>\n",
       "    <tr>\n",
       "      <th>Adventure</th>\n",
       "      <td>7625</td>\n",
       "    </tr>\n",
       "    <tr>\n",
       "      <th rowspan=\"2\" valign=\"top\">2020</th>\n",
       "      <th>Fantasy</th>\n",
       "      <td>1402792</td>\n",
       "    </tr>\n",
       "    <tr>\n",
       "      <th>Comedy</th>\n",
       "      <td>1260623</td>\n",
       "    </tr>\n",
       "    <tr>\n",
       "      <th>...</th>\n",
       "      <th>...</th>\n",
       "      <td>...</td>\n",
       "    </tr>\n",
       "    <tr>\n",
       "      <th rowspan=\"2\" valign=\"top\">2001</th>\n",
       "      <th>Adventure</th>\n",
       "      <td>2340066</td>\n",
       "    </tr>\n",
       "    <tr>\n",
       "      <th>Comedy</th>\n",
       "      <td>2286788</td>\n",
       "    </tr>\n",
       "    <tr>\n",
       "      <th rowspan=\"3\" valign=\"top\">2000</th>\n",
       "      <th>Comedy</th>\n",
       "      <td>2788983</td>\n",
       "    </tr>\n",
       "    <tr>\n",
       "      <th>Action</th>\n",
       "      <td>1834758</td>\n",
       "    </tr>\n",
       "    <tr>\n",
       "      <th>Adventure</th>\n",
       "      <td>1689401</td>\n",
       "    </tr>\n",
       "  </tbody>\n",
       "</table>\n",
       "<p>66 rows × 1 columns</p>\n",
       "</div>"
      ],
      "text/plain": [
       "                      members\n",
       "year_aired f_genre           \n",
       "2021       Sci-Fi       10892\n",
       "           Drama         9960\n",
       "           Adventure     7625\n",
       "2020       Fantasy    1402792\n",
       "           Comedy     1260623\n",
       "...                       ...\n",
       "2001       Adventure  2340066\n",
       "           Comedy     2286788\n",
       "2000       Comedy     2788983\n",
       "           Action     1834758\n",
       "           Adventure  1689401\n",
       "\n",
       "[66 rows x 1 columns]"
      ]
     },
     "execution_count": 38,
     "metadata": {},
     "output_type": "execute_result"
    }
   ],
   "source": [
    "# Các anime phát hành từ năm 2000 trở đi\n",
    "anime_2k_df = anime_df[anime_df['year_aired'].isin(np.arange(2000,2022))]\n",
    "\n",
    "# Flat cột genre\n",
    "flatted_genre = pd.DataFrame([\n",
    "                            [i, x]\n",
    "                            for i, y in anime_2k_df['genre'].iteritems()\n",
    "                            for x in y\n",
    "                            ], columns = ['index', 'f_genre'])\n",
    "\n",
    "# Set lại cột index\n",
    "flatted_genre = flatted_genre.set_index('index')\n",
    "\n",
    "# Rút ra cột members và year_aired\n",
    "right_df = anime_2k_df[['members', 'year_aired']]\n",
    "\n",
    "# Merge flatted_genre với right_df\n",
    "genre_mem_2k_df = flatted_genre.merge(right_df,\n",
    "                                        left_index=True,\n",
    "                                        right_index=True)\n",
    "\n",
    "# Đếm ở mỗi thể loại, có bao nhiêu members, rồi sort lại theo chiều giảm dần\n",
    "result_df = genre_mem_2k_df.groupby(['year_aired', 'f_genre']).sum()  \\\n",
    "                            .sort_values(['year_aired', 'members'], ascending=[False, False])\n",
    "\n",
    "# Bước tiếp theo là lấy ra top genre có nhiều member\n",
    "# Ta sẽ lấy ra top 3 theo từng năm\n",
    "anime_2k_top3_genre = result_df.groupby(level=0).head(3)\n",
    "anime_2k_top3_genre"
   ]
  },
  {
   "cell_type": "code",
   "execution_count": 41,
   "id": "46f31a48",
   "metadata": {
    "scrolled": true
   },
   "outputs": [
    {
     "data": {
      "text/plain": [
       "f_genre\n",
       "Comedy          21\n",
       "Action          19\n",
       "Drama            5\n",
       "Fantasy          5\n",
       "Adventure        4\n",
       "Romance          4\n",
       "Supernatural     4\n",
       "School           2\n",
       "Sci-Fi           1\n",
       "Shounen          1\n",
       "dtype: int64"
      ]
     },
     "execution_count": 41,
     "metadata": {},
     "output_type": "execute_result"
    }
   ],
   "source": [
    "# Đếm các genre xuất hiện trong top 3 genre mỗi năm\n",
    "anime_2k_top3_genre.value_counts('f_genre')"
   ]
  },
  {
   "cell_type": "markdown",
   "id": "5be465f0",
   "metadata": {},
   "source": [
    "**Nhận xét:**\n",
    "\n",
    "Qua kết quả trên ta có thể rút ra các genre thu hút người xem mọi người nhất là *Comedy* và *Action*. Hai thể loại này vượt trội hẳn so với các thể loại khác. *Comedy* đứng đầu cũng rất hợp lý vì nó dễ xem, hài hước và giải trí, thu hút được mọi lứa tuổi, giới tính. Còn ở thể loại *Action*, đây là nơi các nhà sản xuất anime thể hiện kỹ xảo đồ họa của họ với trọng tâm vào các nét vẽ hiệu ứng hành động tinh xảo, hoa mỹ. Thể loại này thường đánh vào phái nam là chủ yếu nhưng không mà vậy thiếu vắng đi phái nữ trong cộng đồng anime thể loại *Action*."
   ]
  }
 ],
 "metadata": {
  "kernelspec": {
   "display_name": "Python 3 (ipykernel)",
   "language": "python",
   "name": "python3"
  },
  "language_info": {
   "codemirror_mode": {
    "name": "ipython",
    "version": 3
   },
   "file_extension": ".py",
   "mimetype": "text/x-python",
   "name": "python",
   "nbconvert_exporter": "python",
   "pygments_lexer": "ipython3",
   "version": "3.8.8"
  },
  "toc": {
   "base_numbering": 1,
   "nav_menu": {},
   "number_sections": false,
   "sideBar": true,
   "skip_h1_title": false,
   "title_cell": "Table of Contents",
   "title_sidebar": "Contents",
   "toc_cell": true,
   "toc_position": {},
   "toc_section_display": true,
   "toc_window_display": true
  }
 },
 "nbformat": 4,
 "nbformat_minor": 5
}
