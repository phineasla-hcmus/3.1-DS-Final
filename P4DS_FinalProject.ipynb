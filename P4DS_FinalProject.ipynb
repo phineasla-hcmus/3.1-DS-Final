{
 "cells": [
  {
   "cell_type": "markdown",
   "id": "7e96dd60",
   "metadata": {},
   "source": [
    "# Lập trình cho khoa học dữ liệu: Đồ án cuối kỳ"
   ]
  },
  {
   "cell_type": "markdown",
   "id": "c1f0b476",
   "metadata": {},
   "source": [
    "## Danh sách thành viên:\n",
    "\n",
    "---\n",
    "Họ và tên: La Ngọc Hồng Phúc\n",
    "\n",
    "MSSV: 19127511\n",
    "\n",
    "---\n",
    "Họ và tên: Chung Thế Thọ\n",
    "\n",
    "MSSV: 19127562"
   ]
  },
  {
   "cell_type": "markdown",
   "id": "6832b23e",
   "metadata": {
    "toc": true
   },
   "source": [
    "<h1>Table of Contents<span class=\"tocSkip\"></span></h1>\n",
    "<div class=\"toc\"><ul class=\"toc-item\"><li><span><a href=\"#Lập-trình-cho-khoa-học-dữ-liệu:-Đồ-án-cuối-kỳ\" data-toc-modified-id=\"Lập-trình-cho-khoa-học-dữ-liệu:-Đồ-án-cuối-kỳ-1\">Lập trình cho khoa học dữ liệu: Đồ án cuối kỳ</a></span><ul class=\"toc-item\"><li><span><a href=\"#Danh-sách-thành-viên:\" data-toc-modified-id=\"Danh-sách-thành-viên:-1.1\">Danh sách thành viên:</a></span></li></ul></li><li><span><a href=\"#Môi-trường-code\" data-toc-modified-id=\"Môi-trường-code-2\">Môi trường code</a></span></li><li><span><a href=\"#Import-các-thư-viện-cần-thiết\" data-toc-modified-id=\"Import-các-thư-viện-cần-thiết-3\">Import các thư viện cần thiết</a></span></li><li><span><a href=\"#Thu-thập-dữ-liệu\" data-toc-modified-id=\"Thu-thập-dữ-liệu-4\">Thu thập dữ liệu</a></span></li><li><span><a href=\"#Khám-phá-dữ-liệu\" data-toc-modified-id=\"Khám-phá-dữ-liệu-5\">Khám phá dữ liệu</a></span><ul class=\"toc-item\"><li><span><a href=\"#Giải-nén-dữ-liệu\" data-toc-modified-id=\"Giải-nén-dữ-liệu-5.1\">Giải nén dữ liệu</a></span></li><li><span><a href=\"#Đọc-dữ-liệu-từ-file-csv-vào-dataframe\" data-toc-modified-id=\"Đọc-dữ-liệu-từ-file-csv-vào-dataframe-5.2\">Đọc dữ liệu từ file csv vào dataframe</a></span><ul class=\"toc-item\"><li><span><a href=\"#Tập-dữ-liệu-anime\" data-toc-modified-id=\"Tập-dữ-liệu-anime-5.2.1\">Tập dữ liệu anime</a></span></li><li><span><a href=\"#Tập-dữ-liệu-review\" data-toc-modified-id=\"Tập-dữ-liệu-review-5.2.2\">Tập dữ liệu review</a></span></li></ul></li><li><span><a href=\"#Mỗi-cột-có-ý-nghĩa-gì?\" data-toc-modified-id=\"Mỗi-cột-có-ý-nghĩa-gì?-5.3\">Mỗi cột có ý nghĩa gì?</a></span></li><li><span><a href=\"#Loại-bỏ-các-cột-không-dùng-đến\" data-toc-modified-id=\"Loại-bỏ-các-cột-không-dùng-đến-5.4\">Loại bỏ các cột không dùng đến</a></span><ul class=\"toc-item\"><li><span><a href=\"#Tập-dữ-liệu-rating\" data-toc-modified-id=\"Tập-dữ-liệu-rating-5.4.1\">Tập dữ liệu rating</a></span></li></ul></li><li><span><a href=\"#Số-dòng,-số-cột-của-tập-dữ-liệu\" data-toc-modified-id=\"Số-dòng,-số-cột-của-tập-dữ-liệu-5.5\">Số dòng, số cột của tập dữ liệu</a></span><ul class=\"toc-item\"><li><span><a href=\"#Tập-dữ-liệu-anime\" data-toc-modified-id=\"Tập-dữ-liệu-anime-5.5.1\">Tập dữ liệu anime</a></span></li><li><span><a href=\"#Tập-dữ-liệu-rating\" data-toc-modified-id=\"Tập-dữ-liệu-rating-5.5.2\">Tập dữ liệu rating</a></span></li><li><span><a href=\"#Nhận-xét\" data-toc-modified-id=\"Nhận-xét-5.5.3\">Nhận xét</a></span></li></ul></li><li><span><a href=\"#Mỗi-dòng-có-ý-nghĩa-gì?-Có-vấn-đề-các-dòng-có-ý-nghĩa-khác-nhau-không?\" data-toc-modified-id=\"Mỗi-dòng-có-ý-nghĩa-gì?-Có-vấn-đề-các-dòng-có-ý-nghĩa-khác-nhau-không?-5.6\">Mỗi dòng có ý nghĩa gì? Có vấn đề các dòng có ý nghĩa khác nhau không?</a></span></li><li><span><a href=\"#Dữ-liệu-có-các-dòng-bị-lặp-không?\" data-toc-modified-id=\"Dữ-liệu-có-các-dòng-bị-lặp-không?-5.7\">Dữ liệu có các dòng bị lặp không?</a></span><ul class=\"toc-item\"><li><span><a href=\"#Kiểu-dữ-liệu-của-từng-cột\" data-toc-modified-id=\"Kiểu-dữ-liệu-của-từng-cột-5.7.1\">Kiểu dữ liệu của từng cột</a></span><ul class=\"toc-item\"><li><span><a href=\"#Tập-dữ-liệu-anime\" data-toc-modified-id=\"Tập-dữ-liệu-anime-5.7.1.1\">Tập dữ liệu anime</a></span></li><li><span><a href=\"#Tập-dữ-liệu-review\" data-toc-modified-id=\"Tập-dữ-liệu-review-5.7.1.2\">Tập dữ liệu review</a></span></li></ul></li><li><span><a href=\"#Phân-tích-rõ-hơn-các-cột-có-kiểu-dữ-liệu-object\" data-toc-modified-id=\"Phân-tích-rõ-hơn-các-cột-có-kiểu-dữ-liệu-object-5.7.2\">Phân tích rõ hơn các cột có kiểu dữ liệu object</a></span><ul class=\"toc-item\"><li><span><a href=\"#Tập-dữ-liệu-anime\" data-toc-modified-id=\"Tập-dữ-liệu-anime-5.7.2.1\">Tập dữ liệu anime</a></span></li><li><span><a href=\"#Tập-dữ-liệu-rating\" data-toc-modified-id=\"Tập-dữ-liệu-rating-5.7.2.2\">Tập dữ liệu rating</a></span></li></ul></li></ul></li></ul></li><li><span><a href=\"#Tiền-xử-lý\" data-toc-modified-id=\"Tiền-xử-lý-6\">Tiền xử lý</a></span><ul class=\"toc-item\"><li><span><a href=\"#Loại-bỏ-các-dòng-bị-lặp\" data-toc-modified-id=\"Loại-bỏ-các-dòng-bị-lặp-6.1\">Loại bỏ các dòng bị lặp</a></span></li><li><span><a href=\"#Chuyển-đổi-dtype-của-các-cột\" data-toc-modified-id=\"Chuyển-đổi-dtype-của-các-cột-6.2\">Chuyển đổi dtype của các cột</a></span><ul class=\"toc-item\"><li><span><a href=\"#Chuyển-dtype-cột-genre-sang-list-of-string\" data-toc-modified-id=\"Chuyển-dtype-cột-genre-sang-list-of-string-6.2.1\">Chuyển dtype cột genre sang list of string</a></span></li><li><span><a href=\"#Chuyển-dtype-cột-aired-sang-dữ-liệu-thích-hợp\" data-toc-modified-id=\"Chuyển-dtype-cột-aired-sang-dữ-liệu-thích-hợp-6.2.2\">Chuyển dtype cột aired sang dữ liệu thích hợp</a></span></li></ul></li></ul></li><li><span><a href=\"#Khám-phá-dữ-liệu-(tiếp-tục)\" data-toc-modified-id=\"Khám-phá-dữ-liệu-(tiếp-tục)-7\">Khám phá dữ liệu (tiếp tục)</a></span><ul class=\"toc-item\"><li><span><a href=\"#Phân-bố-các-cột-dữ-liệu-dạng-numeric\" data-toc-modified-id=\"Phân-bố-các-cột-dữ-liệu-dạng-numeric-7.1\">Phân bố các cột dữ liệu dạng numeric</a></span><ul class=\"toc-item\"><li><span><a href=\"#Tập-dữ-liệu-anime\" data-toc-modified-id=\"Tập-dữ-liệu-anime-7.1.1\">Tập dữ liệu anime</a></span></li><li><span><a href=\"#Tập-dữ-liệu-rating\" data-toc-modified-id=\"Tập-dữ-liệu-rating-7.1.2\">Tập dữ liệu rating</a></span></li></ul></li><li><span><a href=\"#Phân-bố-các-cột-dữ-liệu-dạng-categorical\" data-toc-modified-id=\"Phân-bố-các-cột-dữ-liệu-dạng-categorical-7.2\">Phân bố các cột dữ liệu dạng categorical</a></span><ul class=\"toc-item\"><li><span><a href=\"#Tập-dữ-liệu-anime\" data-toc-modified-id=\"Tập-dữ-liệu-anime-7.2.1\">Tập dữ liệu anime</a></span><ul class=\"toc-item\"><li><span><a href=\"#Phân-bố-cột-thể-loại-(genre)\" data-toc-modified-id=\"Phân-bố-cột-thể-loại-(genre)-7.2.1.1\">Phân bố cột thể loại (genre)</a></span></li></ul></li><li><span><a href=\"#Tập-dữ-liệu-review\" data-toc-modified-id=\"Tập-dữ-liệu-review-7.2.2\">Tập dữ liệu review</a></span></li></ul></li></ul></li><li><span><a href=\"#Đưa-ra-các-câu-hỏi-cần-trả-lời\" data-toc-modified-id=\"Đưa-ra-các-câu-hỏi-cần-trả-lời-8\">Đưa ra các câu hỏi cần trả lời</a></span><ul class=\"toc-item\"><li><span><a href=\"#1.-Các-thể-loại-anime-thịnh-hành-qua-từng-năm-thay-đổi-ra-sao?\" data-toc-modified-id=\"1.-Các-thể-loại-anime-thịnh-hành-qua-từng-năm-thay-đổi-ra-sao?-8.1\">1. Các thể loại anime thịnh hành qua từng năm thay đổi ra sao?</a></span></li><li><span><a href=\"#2.-Các-cột-numeric-có-ảnh-hưởng-đến-rating-không?\" data-toc-modified-id=\"2.-Các-cột-numeric-có-ảnh-hưởng-đến-rating-không?-8.2\">2. Các cột numeric có ảnh hưởng đến rating không?</a></span></li><li><span><a href=\"#3.-Người-xem-anime-và-đánh-giá-của-họ-qua-các-năm-ra-sao?\" data-toc-modified-id=\"3.-Người-xem-anime-và-đánh-giá-của-họ-qua-các-năm-ra-sao?-8.3\">3. Người xem anime và đánh giá của họ qua các năm ra sao?</a></span></li><li><span><a href=\"#4.-Hệ-thống-gợi-ý-(Recommendation-system)\" data-toc-modified-id=\"4.-Hệ-thống-gợi-ý-(Recommendation-system)-8.4\">4. Hệ thống gợi ý (Recommendation system)</a></span></li></ul></li></ul></div>"
   ]
  },
  {
   "cell_type": "markdown",
   "id": "5e79806d",
   "metadata": {},
   "source": [
    "# Môi trường code"
   ]
  },
  {
   "cell_type": "code",
   "execution_count": null,
   "id": "4ce0039b",
   "metadata": {
    "scrolled": true
   },
   "outputs": [],
   "source": [
    "import sys\n",
    "sys.executable"
   ]
  },
  {
   "cell_type": "markdown",
   "id": "d97a9cde",
   "metadata": {},
   "source": [
    "# Import các thư viện cần thiết"
   ]
  },
  {
   "cell_type": "code",
   "execution_count": null,
   "id": "f0cb61f2",
   "metadata": {},
   "outputs": [],
   "source": [
    "# Import thư viện cần dùng\n",
    "import os\n",
    "import ast\n",
    "import zipfile\n",
    "import numpy as np\n",
    "import pandas as pd\n",
    "import seaborn as sns\n",
    "import matplotlib.pyplot as plt"
   ]
  },
  {
   "cell_type": "markdown",
   "id": "cb98b004",
   "metadata": {},
   "source": [
    "# Thu thập dữ liệu\n",
    "\n",
    "Trong đồ án này, ta sẽ sử dụng tập dữ liệu có sẵn đến từ 2 file mà người ta đã thu thập trên kaggle là `animes.csv` và `reviews.csv`. Theo như mô tả của người thu thập dữ liệu thì ta có khoảng 16000 anime và 130000 bài review về các anime này. Cách thức thu thập dữ liệu của người này là dùng API do trang myanimelist.net cung cấp, cụ thể chi tiết về chương trình crawler mà anh ta viết có thể được xem ở link này:  https://github.com/marlesson/scrapy_myanimelist\n",
    "\n",
    "Link của tập dữ liệu: [Anime Dataset with Reviews - MyAnimeList](https://www.kaggle.com/marlesson/myanimelist-dataset-animes-profiles-reviews) ([https://www.kaggle.com/marlesson/myanimelist-dataset-animes-profiles-reviews](https://www.kaggle.com/marlesson/myanimelist-dataset-animes-profiles-reviews))"
   ]
  },
  {
   "cell_type": "markdown",
   "id": "84f0e610",
   "metadata": {},
   "source": [
    "---\n",
    "\n",
    "# Khám phá dữ liệu"
   ]
  },
  {
   "cell_type": "markdown",
   "id": "f981487a",
   "metadata": {},
   "source": [
    "## Giải nén dữ liệu\n",
    "Sau khi tải tập dữ liệu về, chúng ta cần giải nén và đưa các file dữ liệu vào thư mục data. Như đã đề cập ở trên, ta chỉ quan 2 file dữ liệu là `anime.csv` và `reviews.csv`."
   ]
  },
  {
   "cell_type": "code",
   "execution_count": null,
   "id": "ac4408cd",
   "metadata": {},
   "outputs": [],
   "source": [
    "ZIP_FILE = 'archive.zip'\n",
    "DATA_DIR = os.path.join(os.getcwd(), 'data')\n",
    "ANIME_CSV = os.path.join(DATA_DIR, 'animes.csv')\n",
    "REVIEW_CSV = os.path.join(DATA_DIR, 'reviews.csv')\n",
    "\n",
    "OVERWRITE = False\n",
    "\n",
    "def extractall():\n",
    "    with zipfile.ZipFile(ZIP_FILE, 'r') as zip_ref:\n",
    "        zip_ref.extractall(DATA_DIR)\n",
    "\n",
    "def file_sizes(pathdir):\n",
    "    join = os.path.join\n",
    "    getsize = os.path.getsize\n",
    "    isfile = lambda f: os.path.isfile(join(pathdir, f))\n",
    "    files = filter(isfile, os.listdir(pathdir))\n",
    "    fsizes = [(f, getsize(join(pathdir, f)) / 1024 ** 2) for f in files]\n",
    "    return pd.DataFrame(fsizes, columns=['File Name', 'Size (MB)'])\n",
    "\n",
    "if OVERWRITE or not os.path.isdir(DATA_DIR) or not os.listdir(DATA_DIR):\n",
    "    extractall()\n",
    "\n",
    "file_sizes(DATA_DIR)"
   ]
  },
  {
   "cell_type": "markdown",
   "id": "da27e8ab",
   "metadata": {},
   "source": [
    "## Đọc dữ liệu từ file csv vào dataframe"
   ]
  },
  {
   "cell_type": "markdown",
   "id": "4ff51c37",
   "metadata": {},
   "source": [
    "### Tập dữ liệu anime"
   ]
  },
  {
   "cell_type": "code",
   "execution_count": null,
   "id": "13b70f33",
   "metadata": {},
   "outputs": [],
   "source": [
    "anime_df = pd.read_csv(ANIME_CSV)\n",
    "anime_df.head()"
   ]
  },
  {
   "cell_type": "markdown",
   "id": "90bf78f3",
   "metadata": {},
   "source": [
    "### Tập dữ liệu review\n",
    "\n",
    "Giải nén xong thì mình thấy file `reviews.csv` tới gần 700MB, nên mình sẽ không load trực tiếp mà sẽ xem trước có cái nào có thể lược bỏ để giảm bớt dung lượng"
   ]
  },
  {
   "cell_type": "code",
   "execution_count": null,
   "id": "ae9d9bc7",
   "metadata": {},
   "outputs": [],
   "source": [
    "pd.read_csv(REVIEW_CSV, nrows=5)"
   ]
  },
  {
   "cell_type": "markdown",
   "id": "8d50a925",
   "metadata": {},
   "source": [
    "## Mỗi cột có ý nghĩa gì?"
   ]
  },
  {
   "cell_type": "markdown",
   "id": "28f21e6b",
   "metadata": {},
   "source": [
    "Mô tả trên kaggle về các cột trong file `animes.csv`:\n",
    "- **uid**: ID của anime\n",
    "- **title**: tiêu đề của anime\n",
    "- **synopsis**: giới thiệu nội dung của anime\n",
    "- **genre**: thể loại của anime\n",
    "- **aired**: ngày phát hành anime và ngày kết thúc của nó (nếu có)\n",
    "- **episodes**: tổng số tập của anime\n",
    "- **members**: tổng số thành viên trong cộng đồng quan tâm anime này\n",
    "- **popularity**: độ \"nổi tiếng\" của anime, số càng thấp thì càng nổi tiếng\n",
    "- **ranked**: xếp hạng của anime, số càng thấp hạng càng cao và anime đó càng hay\n",
    "- **score**: điểm đánh giá anime trên thang điểm 10 từ trang myanimelist\n",
    "- **img_url**: link ảnh bìa của anime\n",
    "- **link**: link đến anime trên myanimelist"
   ]
  },
  {
   "cell_type": "markdown",
   "id": "0bd7c0de",
   "metadata": {},
   "source": [
    "Mô tả trên kaggle về các cột trong file `reviews.csv`:\n",
    "- **uid**: ID của bài review\n",
    "- **profile**: tên của user thực hiện review\n",
    "- **anime_uid**: ID của anime được review\n",
    "- **text**: đoạn văn nội dung mà user đó review\n",
    "- **score**: điểm tổng quát user này đã đánh giá cho anime\n",
    "- **scores**: điểm chi tiết từng phần mà user này đã đánh giá cho anime bao gồm\n",
    "    - Overall: điểm tổng\n",
    "    - Story: cốt truyện\n",
    "    - Animation: đồ họa, nét vẽ\n",
    "    - Sound: âm thanh\n",
    "    - Character: xây dựng nhân vật\n",
    "    - Enjoyment: độ giải trí\n",
    "- **link**: đường dẫn URL đến bài review này"
   ]
  },
  {
   "cell_type": "markdown",
   "id": "932a870d",
   "metadata": {},
   "source": [
    "## Loại bỏ các cột không dùng đến\n",
    "\n",
    "Trong phạm vi môn học, mình sẽ bỏ qua các cột cần dùng đến kỹ thuật xử lý ngôn ngữ tự nhiên cũng như các cột liên quan đến URL. Việc bỏ các cột này giúp ta chạy code nhanh hơn vì các cột này rất nặng. Như vậy đối với mỗi tập dữ liệu sẽ bỏ các cột sau:\n",
    "\n",
    "- **anime**: synopsis, img_url, link\n",
    "- **review**: text, link  \n",
    "\n",
    "Đối với **review** thì do file khá lớn nên mình sẽ load theo từng chunk, loại bỏ các cột không cần thiết và lưu nó vào file `ratings.csv`"
   ]
  },
  {
   "cell_type": "code",
   "execution_count": null,
   "id": "d6c990dd",
   "metadata": {},
   "outputs": [],
   "source": [
    "# Loại bỏ cột text và link trong review\n",
    "RATING_CSV = os.path.join(DATA_DIR, 'ratings.csv')\n",
    "\n",
    "def review_to_rating():\n",
    "    is_first = True\n",
    "    for chunk in pd.read_csv(REVIEW_CSV, chunksize=1000):\n",
    "        chunk.drop(columns=['text', 'link'], inplace=True)\n",
    "        chunk.to_csv(RATING_CSV, mode='a', index=False, header=is_first)\n",
    "        is_first = False\n",
    "\n",
    "if not os.path.isfile(RATING_CSV):\n",
    "    review_to_rating()\n",
    "\n",
    "print(\"File name: ratings.csv\")\n",
    "print(\"Size (MB):\", os.path.getsize(RATING_CSV) / 1024 ** 2)"
   ]
  },
  {
   "cell_type": "markdown",
   "id": "f191697e",
   "metadata": {},
   "source": [
    "### Tập dữ liệu rating"
   ]
  },
  {
   "cell_type": "code",
   "execution_count": null,
   "id": "46df77ee",
   "metadata": {},
   "outputs": [],
   "source": [
    "rating_df = pd.read_csv(RATING_CSV)\n",
    "rating_df.head()"
   ]
  },
  {
   "cell_type": "markdown",
   "id": "5bef9716",
   "metadata": {},
   "source": [
    "So với file `reviews.csv` thì file `ratings.csv` nhỏ hơn rất nhiều, có thể load vào DataFrame mà không cần chia chunk nữa"
   ]
  },
  {
   "cell_type": "code",
   "execution_count": null,
   "id": "30fa3330",
   "metadata": {},
   "outputs": [],
   "source": [
    "# Loại bỏ cột synopsis, img_url, link trong anime\n",
    "anime_df.drop(columns=['synopsis', 'img_url', 'link'], inplace=True)\n",
    "anime_df.head()"
   ]
  },
  {
   "cell_type": "markdown",
   "id": "b94ea348",
   "metadata": {},
   "source": [
    "## Số dòng, số cột của tập dữ liệu"
   ]
  },
  {
   "cell_type": "markdown",
   "id": "8476bb04",
   "metadata": {},
   "source": [
    "### Tập dữ liệu anime"
   ]
  },
  {
   "cell_type": "code",
   "execution_count": null,
   "id": "212b0edc",
   "metadata": {},
   "outputs": [],
   "source": [
    "anime_num_rows, anime_num_cols = anime_df.shape\n",
    "print('Số dòng:', anime_num_rows)\n",
    "print('Số cột:', anime_num_cols)"
   ]
  },
  {
   "cell_type": "markdown",
   "id": "d8690053",
   "metadata": {},
   "source": [
    "### Tập dữ liệu rating"
   ]
  },
  {
   "cell_type": "code",
   "execution_count": null,
   "id": "aa62a6ce",
   "metadata": {},
   "outputs": [],
   "source": [
    "rating_num_rows, rating_num_cols = rating_df.shape\n",
    "print('Số dòng:', rating_num_rows)\n",
    "print('Số cột:', rating_num_cols)"
   ]
  },
  {
   "cell_type": "markdown",
   "id": "bc92fed1",
   "metadata": {},
   "source": [
    "### Nhận xét\n",
    "\n",
    "Có vẻ số dòng từ cả 2 tập dữ liệu `anime_df` và `rating_df` trả về khá khác so với mô tả:\n",
    "- `anime_df`: 19000 so với 16000\n",
    "- `rating_df`: 190000 so với 130000.  \n",
    "\n",
    "**Lưu ý**: tập dữ liệu `ratings.csv` không khác nhau về số dòng so với tập dữ liệu `reviews.csv`"
   ]
  },
  {
   "cell_type": "code",
   "execution_count": null,
   "id": "0144f9ba",
   "metadata": {},
   "outputs": [],
   "source": [
    "# Chứng minh số dòng của rating.csv không khác so với review.csv\n",
    "import csv\n",
    "with open(REVIEW_CSV, 'r') as f:\n",
    "    csvreader = csv.reader(f)\n",
    "    next(csvreader) # Bỏ qua header\n",
    "    assert rating_num_rows == sum(1 for row in csvreader)"
   ]
  },
  {
   "cell_type": "markdown",
   "id": "f9c5dc35",
   "metadata": {},
   "source": [
    "## Mỗi dòng có ý nghĩa gì? Có vấn đề các dòng có ý nghĩa khác nhau không?\n",
    "\n",
    "- Tập dữ liệu anime: mỗi dòng trong tập này là thông tin của một anime viết bởi trang myanimelist.net\n",
    "- Tập dữ liệu review: mỗi dòng trong tập này là thông tin về review của một user dành cho một anime trên trang myanimelist.net\n",
    "\n",
    "Có vẻ như mỗi dòng trong các tập không có gì bất ổn."
   ]
  },
  {
   "cell_type": "markdown",
   "id": "cf5426a2",
   "metadata": {},
   "source": [
    "## Dữ liệu có các dòng bị lặp không?"
   ]
  },
  {
   "cell_type": "code",
   "execution_count": null,
   "id": "485ebcd3",
   "metadata": {},
   "outputs": [],
   "source": [
    "anime_has_dup_rows = np.sum(anime_df.duplicated())\n",
    "rating_has_dup_rows = np.sum(rating_df.duplicated())\n",
    "\n",
    "pd.DataFrame({'Dataset': ['Anime', 'Rating'],\n",
    "             'Duplicate count': [anime_has_dup_rows,\n",
    "                                 rating_has_dup_rows]})\n"
   ]
  },
  {
   "cell_type": "markdown",
   "id": "f059cdc9",
   "metadata": {},
   "source": [
    "### Kiểu dữ liệu của từng cột"
   ]
  },
  {
   "cell_type": "markdown",
   "id": "a014ca5e",
   "metadata": {},
   "source": [
    "#### Tập dữ liệu anime"
   ]
  },
  {
   "cell_type": "code",
   "execution_count": null,
   "id": "7a0fd0ce",
   "metadata": {
    "scrolled": true
   },
   "outputs": [],
   "source": [
    "# Xem kiểu dữ liệu của từng cột tập anime\n",
    "anime_df.dtypes"
   ]
  },
  {
   "cell_type": "markdown",
   "id": "fb5a5e8f",
   "metadata": {},
   "source": [
    "#### Tập dữ liệu review"
   ]
  },
  {
   "cell_type": "code",
   "execution_count": null,
   "id": "6d8cd5aa",
   "metadata": {},
   "outputs": [],
   "source": [
    "# Xem kiểu dữ liệu của từng cột tập review\n",
    "rating_df.dtypes"
   ]
  },
  {
   "cell_type": "markdown",
   "id": "51917a47",
   "metadata": {},
   "source": [
    "### Phân tích rõ hơn các cột có kiểu dữ liệu object"
   ]
  },
  {
   "cell_type": "markdown",
   "id": "1cf41dd6",
   "metadata": {},
   "source": [
    "#### Tập dữ liệu anime"
   ]
  },
  {
   "cell_type": "code",
   "execution_count": null,
   "id": "e929856d",
   "metadata": {
    "scrolled": true
   },
   "outputs": [],
   "source": [
    "def open_object_dtype(s):\n",
    "    return set(s.apply(type))\n",
    "    \n",
    "print('title:', open_object_dtype(anime_df['title']))\n",
    "print('genre:', open_object_dtype(anime_df['genre']))\n",
    "print('aired:', open_object_dtype(anime_df['aired']))"
   ]
  },
  {
   "cell_type": "markdown",
   "id": "576d5851",
   "metadata": {},
   "source": [
    "#### Tập dữ liệu rating"
   ]
  },
  {
   "cell_type": "code",
   "execution_count": null,
   "id": "1e9ff741",
   "metadata": {},
   "outputs": [],
   "source": [
    "print('profile:', open_object_dtype(rating_df['profile']))\n",
    "print('scores:', open_object_dtype(rating_df['scores']))"
   ]
  },
  {
   "cell_type": "markdown",
   "id": "b203449e",
   "metadata": {},
   "source": [
    "**Các vấn đề cần tiền xử lý:**\n",
    "- Loại bỏ các dòng bị lặp\n",
    "- Chuyển dtype cột `genre` sang list of string\n",
    "- Chuyển dtype cột `aired` sang loại dữ liệu thích hợp"
   ]
  },
  {
   "cell_type": "markdown",
   "id": "1f2e7f51",
   "metadata": {},
   "source": [
    "---\n",
    "\n",
    "# Tiền xử lý"
   ]
  },
  {
   "cell_type": "markdown",
   "id": "58cac884",
   "metadata": {},
   "source": [
    "## Loại bỏ các dòng bị lặp"
   ]
  },
  {
   "cell_type": "code",
   "execution_count": null,
   "id": "17929945",
   "metadata": {},
   "outputs": [],
   "source": [
    "# Loại bỏ các dòng bị duplicate\n",
    "anime_df = anime_df.drop_duplicates()\n",
    "rating_df = rating_df.drop_duplicates()"
   ]
  },
  {
   "cell_type": "code",
   "execution_count": null,
   "id": "b85cbed3",
   "metadata": {},
   "outputs": [],
   "source": [
    "# In lại số dòng bị lặp sau khi loại bỏ duplicate để check\n",
    "anime_has_dup_rows = np.sum(anime_df.duplicated())\n",
    "rating_has_dup_rows = np.sum(rating_df.duplicated())\n",
    "\n",
    "pd.DataFrame({'Dataset': ['Anime', 'Rating'],\n",
    "             'Duplicate count': [anime_has_dup_rows,\n",
    "                                 rating_has_dup_rows]})\n"
   ]
  },
  {
   "cell_type": "markdown",
   "id": "c65dd7f7",
   "metadata": {},
   "source": [
    "## Chuyển đổi dtype của các cột"
   ]
  },
  {
   "cell_type": "markdown",
   "id": "bbb80a85",
   "metadata": {},
   "source": [
    "### Chuyển dtype cột genre sang list of string"
   ]
  },
  {
   "cell_type": "code",
   "execution_count": null,
   "id": "f015019b",
   "metadata": {},
   "outputs": [],
   "source": [
    "anime_df['genre'] = anime_df.apply({'genre': ast.literal_eval})\n",
    "anime_df.head()\n"
   ]
  },
  {
   "cell_type": "markdown",
   "id": "2814ccb9",
   "metadata": {},
   "source": [
    "### Chuyển dtype cột aired sang dữ liệu thích hợp"
   ]
  },
  {
   "cell_type": "markdown",
   "id": "87e6a758",
   "metadata": {},
   "source": [
    "**Xem format của cột này trong tập dữ liệu**"
   ]
  },
  {
   "cell_type": "code",
   "execution_count": null,
   "id": "70eab375",
   "metadata": {},
   "outputs": [],
   "source": [
    "anime_df['aired'].sample(10)"
   ]
  },
  {
   "cell_type": "markdown",
   "id": "01b73ce3",
   "metadata": {},
   "source": [
    "Sau khi lấy 10 mẫu ngẫu nhiên của cột này khoảng 10 lần thì có thể rút ra như sau:\n",
    "- Định dạng trong pandas cột sử dụng là `%b %d, %Y`\n",
    "- Có mẫu có cả ngày bắt đầu và kết thúc, có mẫu chỉ có ngày bắt đầu\n",
    "- Đa phần các mẫu đều đầy đủ ngày tháng năm, tuy nhiên có vài mẫu chỉ có tháng và năm, thậm chỉ chỉ có năm.\n",
    "\n",
    "Trong phạm vi đồ án, ta chỉ quan tâm đến thời điểm anime đó bắt đầu. Như vậy,đầu tiên ta sẽ trích xuất thời điểm bắt đầu trước rồi sau đó chuyển sang `datetime` theo định dạng `%b %d, %Y` thử, các giá trị thiếu ngày hoặc thiếu tháng ta sẽ tạm để NaN và đếm xem có bao nhiêu mẫu có giá trị như vậy."
   ]
  },
  {
   "cell_type": "code",
   "execution_count": null,
   "id": "15f20c32",
   "metadata": {},
   "outputs": [],
   "source": [
    "# Dùng regular expresion trích xuất ngày bắt đầu\n",
    "start_date = anime_df['aired'].str.extract(r\"^([a-zA-Z]{3}\\s\\d{1,2},\\s\\d{4})\",\n",
    "                                           expand=False  # Trả về Series\n",
    "                                           )\n",
    "\n",
    "start_date = pd.to_datetime(start_date,\n",
    "                            format='%b %d, %Y',\n",
    "                            errors='ignore'  # Bỏ qua NaN\n",
    "                            )\n",
    "\n",
    "start_date\n"
   ]
  },
  {
   "cell_type": "code",
   "execution_count": null,
   "id": "06deeec0",
   "metadata": {
    "scrolled": true
   },
   "outputs": [],
   "source": [
    "# Đếm số dòng không đầy đủ ngày hoặc tháng\n",
    "start_date.isnull().sum()"
   ]
  },
  {
   "cell_type": "markdown",
   "id": "5ff5dc84",
   "metadata": {},
   "source": [
    "Để đảm bảo nhận định việc cột `aired` có các mẫu thiếu ngày hoặc tháng, ta thử xem lại các dòng NaN trong **start_date** thì trong tập dữ liệu `anime_df`, các dòng này sẽ có dữ liệu như thế nào."
   ]
  },
  {
   "cell_type": "code",
   "execution_count": null,
   "id": "d7328bc2",
   "metadata": {
    "scrolled": false
   },
   "outputs": [],
   "source": [
    "anime_df[start_date.isnull()]"
   ]
  },
  {
   "cell_type": "markdown",
   "id": "7b72f53b",
   "metadata": {},
   "source": [
    "Qua kết quả trên ta còn thấy có các mẫu không xác định được ngày phát hành \"Not available\". Con số 1990 mẫu thiếu trên khoảng 16000 mẫu cũng là đáng kể. Vì vậy để giảm thiểu con số này, nhóm mình quyết định chỉ lấy năm phát hành của anime. Điều này có vẻ là chấp nhận được vì dữ liệu của ta trải dài hơn 20 năm và mỗi lần có các phân tích đến \"trending\" thì ta có thể làm trên năm thay vì theo tháng ngày. Năm phát hành của các anime sẽ thành cột mới **year_aired** trong tập dữ liệu `anime_df` phòng trường hợp sau này ta có các phân tích cần chính xác đến ngày và tháng."
   ]
  },
  {
   "cell_type": "code",
   "execution_count": null,
   "id": "06b14b57",
   "metadata": {
    "scrolled": true
   },
   "outputs": [],
   "source": [
    "# Dùng regular expresion trích xuất năm bắt đầu\n",
    "year_aired = anime_df['aired'].str.extract(r\"(\\d{4})\",\n",
    "                                           expand=False  # Trả về Series\n",
    "                                           )\n",
    "year_aired = pd.to_numeric(year_aired)\n",
    "year_aired\n"
   ]
  },
  {
   "cell_type": "code",
   "execution_count": null,
   "id": "0c8dd04d",
   "metadata": {},
   "outputs": [],
   "source": [
    "# Đếm số dòng không có ngày phát hành\n",
    "year_aired.isnull().sum()"
   ]
  },
  {
   "cell_type": "markdown",
   "id": "b241a06d",
   "metadata": {},
   "source": [
    "Số dòng NaN giờ đây chỉ còn 295, giảm đi đáng kể! Tiếp theo ta thêm cột năm này vào `anime_df`."
   ]
  },
  {
   "cell_type": "code",
   "execution_count": null,
   "id": "09b90765",
   "metadata": {},
   "outputs": [],
   "source": [
    "anime_df['year_aired'] = year_aired\n",
    "anime_df"
   ]
  },
  {
   "cell_type": "markdown",
   "id": "93af1cc9",
   "metadata": {},
   "source": [
    "---\n",
    "\n",
    "# Khám phá dữ liệu (tiếp tục)"
   ]
  },
  {
   "cell_type": "markdown",
   "id": "922e780b",
   "metadata": {},
   "source": [
    "## Phân bố các cột dữ liệu dạng numeric\n",
    "\n",
    "Ở mỗi cột ta sẽ xem xét % tỉ lệ thiếu dữ liệu (0 đến 100), giá trị nhỏ nhất và lớn nhất."
   ]
  },
  {
   "cell_type": "markdown",
   "id": "140717b5",
   "metadata": {},
   "source": [
    "### Tập dữ liệu anime\n",
    "\n",
    "Các cột numeric: episodes, members, popularity, ranked, score"
   ]
  },
  {
   "cell_type": "code",
   "execution_count": null,
   "id": "8d3a0ea0",
   "metadata": {},
   "outputs": [],
   "source": [
    "pd.options.display.float_format = '{:.0f}'.format\n",
    "\n",
    "\n",
    "def missing_ratio(s):\n",
    "    return s.isna().mean() * 100\n",
    "\n",
    "\n",
    "def min_value(s):\n",
    "    return s.dropna().min()\n",
    "\n",
    "\n",
    "def max_value(s):\n",
    "    return s.dropna().max()\n",
    "\n",
    "\n",
    "anime_numeric_cols = ['episodes', 'members',\n",
    "                      'popularity', 'ranked', 'score', 'year_aired']\n",
    "anime_nume_col_profiles_df = anime_df[anime_numeric_cols]\n",
    "\n",
    "anime_nume_col_profiles_df = anime_nume_col_profiles_df.agg([missing_ratio,\n",
    "                                                             min_value,\n",
    "                                                             max_value])\n",
    "\n",
    "anime_nume_col_profiles_df\n"
   ]
  },
  {
   "cell_type": "markdown",
   "id": "2cb21e2e",
   "metadata": {},
   "source": [
    "### Tập dữ liệu rating\n",
    "\n",
    "Các cột numeric: score"
   ]
  },
  {
   "cell_type": "code",
   "execution_count": null,
   "id": "16e87b5d",
   "metadata": {},
   "outputs": [],
   "source": [
    "rating_nume_col_profiles_df = rating_df['score']\n",
    "\n",
    "rating_nume_col_profiles_df = rating_nume_col_profiles_df.agg([missing_ratio,\n",
    "                                                               min_value,\n",
    "                                                               max_value])\n",
    "\n",
    "rating_nume_col_profiles_df\n"
   ]
  },
  {
   "cell_type": "markdown",
   "id": "40423c09",
   "metadata": {},
   "source": [
    "**Nhận xét:**\n",
    "\n",
    "Điểm `score` của tập `rating_df` có vẻ hơi khác so với `anime_df` khi mà giá trị lớn nhất của tập `anime_df` chỉ có 9 mà ở `rating_df` lên đến tận 11? Thật ra việc giá trị lớn nhất giữa 2 tập này là hợp lệ vì bên `rating_df` là điểm cá nhân của một người dùng dành cho anime trong khi bên `anime_df` là điểm tổng hợp dựa trên các đánh giá của nhiều user. Chỉ có điều dị thường ở đây là tại sao lại có giá trị 11 trên thang điểm 10. Hãy xem thử dòng dữ liệu có điểm số 11 và tiện thể xem luôn có mẫu đánh giá nào hơn 10 điểm không."
   ]
  },
  {
   "cell_type": "code",
   "execution_count": null,
   "id": "d7c12ea1",
   "metadata": {
    "scrolled": true
   },
   "outputs": [],
   "source": [
    "rating_df[rating_df['score'] > 10]"
   ]
  },
  {
   "cell_type": "markdown",
   "id": "8d397f3a",
   "metadata": {},
   "source": [
    "Chỉ có 1 dòng duy nhất có số điểm kỳ lạ này. Ta có thể xóa hoặc để đó vì 1/130000 là không ảnh hưởng mấy."
   ]
  },
  {
   "cell_type": "markdown",
   "id": "286636a9",
   "metadata": {},
   "source": [
    "## Phân bố các cột dữ liệu dạng categorical\n",
    "\n",
    "Ở mỗi cột ta sẽ xem xét % tỉ lệ thiếu dữ liệu (0 đến 100), số giá trị khác nhau (không xét giá trị thiếu) và xem một vài giá trị khác nhau đó."
   ]
  },
  {
   "cell_type": "markdown",
   "id": "f457c5d8",
   "metadata": {},
   "source": [
    "### Tập dữ liệu anime\n",
    "\n",
    "Các cột categorical: uid, title, genre. Ta không xét cột **aired** vì nó là cột dữ liệu thô. Hai cột đầu thì ta có thể xử lý nhanh bằng method agg với các hàm tự định nghĩa, riêng cột `genre` ta cần phải đi đếm số thể loại khác nhau vì cột này lưu dưới dạng list of string. Để đếm số thể loại khác nhau, ta có thể hợp các list này lại rồi đếm số giá trị.\n",
    "\n"
   ]
  },
  {
   "cell_type": "code",
   "execution_count": null,
   "id": "22d79f80",
   "metadata": {
    "scrolled": true
   },
   "outputs": [],
   "source": [
    "anime_cate_cols = ['uid', 'title']\n",
    "anime_cate_col_profiles_df = anime_df[anime_cate_cols]\n",
    "\n",
    "\n",
    "def num_diff_vals(s):\n",
    "    return s.dropna().nunique()\n",
    "\n",
    "def diff_vals(s):\n",
    "    return s.dropna().unique()\n",
    "\n",
    "\n",
    "anime_cate_col_profiles_df = anime_cate_col_profiles_df.agg([missing_ratio,\n",
    "                                                             num_diff_vals,\n",
    "                                                             diff_vals])\n",
    "\n",
    "# Cột genre là cột list of string nên phải flat nó trước khi xử lý\n",
    "genre_profile = [missing_ratio(anime_df['genre']),\n",
    "                 anime_df['genre'].apply(pd.Series).stack().nunique(),\n",
    "                 anime_df['genre'].apply(pd.Series).stack().unique()]\n",
    "\n",
    "genre_profile = pd.DataFrame(genre_profile,\n",
    "                             index=['missing_ratio', 'num_diff_vals', 'diff_vals'],\n",
    "                             columns=['genre'])\n",
    "\n",
    "anime_cate_col_profiles_df = pd.concat([anime_cate_col_profiles_df, genre_profile],\n",
    "                                       axis=1)\n",
    "\n",
    "anime_cate_col_profiles_df\n"
   ]
  },
  {
   "cell_type": "markdown",
   "id": "b7733040",
   "metadata": {},
   "source": [
    "#### Phân bố cột thể loại (genre)"
   ]
  },
  {
   "cell_type": "code",
   "execution_count": null,
   "id": "ab7a09c1",
   "metadata": {},
   "outputs": [],
   "source": [
    "\n",
    "def count_genre():\n",
    "    genre_s = anime_df['genre'].explode()\n",
    "    return genre_s.groupby(genre_s).size()\n",
    "\n",
    "genre_s = count_genre().sort_values()\n",
    "genre_s.plot.bar(figsize=(20, 5))\n",
    "plt.show()\n"
   ]
  },
  {
   "cell_type": "code",
   "execution_count": null,
   "id": "db4acb6f",
   "metadata": {},
   "outputs": [],
   "source": [
    "# fig = genre_s.plot.pie(figsize=(10, 10), autopct = \"%0.2f%%\")\n",
    "\n",
    "def top_genre(top: int):\n",
    "    not_top_genre = genre_s.sort_values(ascending=False).index[top:]\n",
    "    other = genre_s.rename({key: 'Other' for key in not_top_genre})\n",
    "    return other.groupby(level=0).sum()\n",
    "\n",
    "fig = top_genre(5).plot.pie(figsize=(8, 8), autopct = \"%0.2f%%\")\n",
    "plt.show()\n"
   ]
  },
  {
   "cell_type": "markdown",
   "id": "95ef1d61",
   "metadata": {},
   "source": [
    "Có thể thấy là thể loại \"Comedy\" là phổ biến nhất"
   ]
  },
  {
   "cell_type": "markdown",
   "id": "a40993f4",
   "metadata": {},
   "source": [
    "### Tập dữ liệu review\n",
    "\n",
    "Các cột categorical: uid, profile, anime_uid"
   ]
  },
  {
   "cell_type": "code",
   "execution_count": null,
   "id": "2cdee65f",
   "metadata": {},
   "outputs": [],
   "source": [
    "rating_cate_cols = ['uid', 'profile', 'anime_uid']\n",
    "rating_cate_col_profiles_df = rating_df[rating_cate_cols]\n",
    "\n",
    "\n",
    "def num_diff_vals(s):\n",
    "    return s.dropna().nunique()\n",
    "\n",
    "def diff_vals(s):\n",
    "    return s.dropna().unique()\n",
    "\n",
    "\n",
    "rating_cate_col_profiles_df = rating_cate_col_profiles_df.agg([missing_ratio,\n",
    "                                                               num_diff_vals,\n",
    "                                                               diff_vals])\n",
    "rating_cate_col_profiles_df\n"
   ]
  },
  {
   "cell_type": "markdown",
   "id": "899bb215",
   "metadata": {},
   "source": [
    "---\n",
    "\n",
    "# Đưa ra các câu hỏi cần trả lời"
   ]
  },
  {
   "cell_type": "markdown",
   "id": "8c961356",
   "metadata": {},
   "source": [
    "## 1. Các thể loại anime thịnh hành qua từng năm thay đổi ra sao?\n",
    "\n",
    "Với mỗi năm, ta sẽ tìm ra 3 thể loại anime thịnh hành nhất của từng năm. Việc trả lời được câu hỏi có các lợi ích sau:\n",
    "- **Người xem:** người mới xem hoặc người không biết xem gì có thể chọn các anime có thể loại thịnh hành để xem.\n",
    "- **Nhà sản xuất anime:** biết được thị hiếu thể loại người xem thích, từ đó họ có thể sản xuất các genre thịnh hành ở các năm gần đây để thu hút người xem.\n",
    "\n",
    "Để rút ra được 3 thể loại anime thịnh hành ở mỗi năm, ta có thể dùng cột `popularity` do myanimelist cung cấp. Nhưng nhóm mình sẽ không dùng đến nó vì không rõ cơ chế tính độ nổi tiếng này ra sao (có thể  từ vote?) mà thay vào đó sẽ dùng số lượng member của cộng đồng quan tâm anime đó qua cột `members`."
   ]
  },
  {
   "cell_type": "markdown",
   "id": "e23e0a3a",
   "metadata": {},
   "source": [
    "Trước khi thực hiện việc đi tìm ra top 3 thể loại anime thịnh hành của từng năm, để dễ dẫn nhập ta sẽ đi tìm cho năm 2021 trước."
   ]
  },
  {
   "cell_type": "code",
   "execution_count": null,
   "id": "ca7dd1f1",
   "metadata": {
    "scrolled": true
   },
   "outputs": [],
   "source": [
    "anime_2021_df = anime_df[anime_df['year_aired'] == 2021]\n",
    "anime_2021_df"
   ]
  },
  {
   "cell_type": "code",
   "execution_count": null,
   "id": "2e324e3e",
   "metadata": {},
   "outputs": [],
   "source": [
    "# Chỉ lấy ra các cột cần dùng\n",
    "anime_2021_df = anime_2021_df[['genre', 'members', 'year_aired']]\n",
    "\n",
    "# Flat cột genre\n",
    "flatted_2021_genre = anime_2021_df.explode('genre')\n",
    "\n",
    "# Đếm ở mỗi thể loại, có bao nhiêu members, rồi sort lại theo chiều giảm dần\n",
    "result_2021_df = flatted_2021_genre.groupby(['year_aired', 'genre']).sum()  \\\n",
    "                            .sort_values('members', ascending=False)\n",
    "\n",
    "result_2021_df"
   ]
  },
  {
   "cell_type": "markdown",
   "id": "ec5bff7d",
   "metadata": {},
   "source": [
    "Cuối cùng ta sẽ lấy ra top 3 genre có nhiều member nhất. Ta có thể dùng method **.head(3)** từ tập `result_df` nhưng khi làm trên toàn bộ tập dữ liệu, cột year_aired sẽ có nhiều năm chứ không chỉ 2021. Vì vậy nếu muốn dùng **.head(3)** trên mỗi năm, trước hết ta phải **groupby** cột index *year_aired* tương ứng với level 0 (chi tiết level có thể coi ở docs của pandas về phương thức groupby)."
   ]
  },
  {
   "cell_type": "code",
   "execution_count": null,
   "id": "ee6b4d14",
   "metadata": {},
   "outputs": [],
   "source": [
    "# Bước tiếp theo là lấy ra top genre có nhiều member\n",
    "# Ta sẽ lấy ra top 3 theo từng năm\n",
    "result_2021_df.groupby(level=0).head(3)"
   ]
  },
  {
   "cell_type": "markdown",
   "id": "7daae741",
   "metadata": {},
   "source": [
    "Bây giờ ta sẽ làm trên toàn bộ tập dữ liệu. Giá trị năm phát hành trải dài rất nhiều năm từ 1917 đến 2021, vì vậy ta sẽ chỉ xem xét từ năm 2000 trở lại đi. Điều này là phù hợp cho việc tìm các genre thịnh hành các năm gần đây."
   ]
  },
  {
   "cell_type": "code",
   "execution_count": null,
   "id": "a002b191",
   "metadata": {},
   "outputs": [],
   "source": [
    "# Các anime phát hành từ năm 2000 trở đi\n",
    "anime_2k_df = anime_df[anime_df['year_aired'].isin(np.arange(2000,2022))]\n",
    "\n",
    "# Chỉ lấy ra các cột cần dùng\n",
    "anime_2k_df = anime_2k_df[['genre', 'members', 'year_aired']]\n",
    "\n",
    "# Flat cột genre\n",
    "flatted_2k_genre = anime_2k_df.explode('genre')\n",
    "\n",
    "# Đếm ở mỗi thể loại, có bao nhiêu members, rồi sort lại theo chiều giảm dần\n",
    "result_2k_df = flatted_2k_genre.groupby(['year_aired', 'genre']).sum()  \\\n",
    "                            .sort_values(['year_aired', 'members'], ascending=[False, False])\n",
    "\n",
    "# Bước tiếp theo là lấy ra top genre có nhiều member\n",
    "# Ta sẽ lấy ra top 3 theo từng năm\n",
    "anime_2k_top3_genre = result_2k_df.groupby(level=0).head(3)\n",
    "anime_2k_top3_genre"
   ]
  },
  {
   "cell_type": "code",
   "execution_count": null,
   "id": "46f31a48",
   "metadata": {
    "scrolled": true
   },
   "outputs": [],
   "source": [
    "# Đếm các genre xuất hiện trong top 3 genre mỗi năm\n",
    "anime_2k_top3_genre.value_counts('genre')"
   ]
  },
  {
   "cell_type": "markdown",
   "id": "5be465f0",
   "metadata": {},
   "source": [
    "**Nhận xét:**\n",
    "\n",
    "Qua kết quả trên ta có thể rút ra các genre thu hút người xem mọi người nhất là *Comedy* và *Action*. Hai thể loại này vượt trội hẳn so với các thể loại khác. *Comedy* đứng đầu cũng rất hợp lý vì nó dễ xem, hài hước và giải trí, thu hút được mọi lứa tuổi, giới tính. Còn ở thể loại *Action*, đây là nơi các nhà sản xuất anime thể hiện kỹ xảo đồ họa của họ với trọng tâm vào các nét vẽ hiệu ứng hành động tinh xảo, hoa mỹ. Thể loại này thường đánh vào phái nam là chủ yếu nhưng không mà vậy thiếu vắng đi phái nữ trong cộng đồng anime thể loại *Action*."
   ]
  },
  {
   "cell_type": "markdown",
   "id": "bcbd5f1f",
   "metadata": {},
   "source": [
    "## 2. Các cột numeric có ảnh hưởng đến rating không?\n",
    "\n",
    "Việc trả lời được câu hỏi này sẽ mang lại lợi ích đến các nhà sản xuất anime là chính. Nếu tìm ra được mối tương quan giữa các cột **numeric** với cột **score**, nhà sản xuất anime từ đó có thể bám theo mối tương quan tìm được mà làm ra một anime với hi vọng được đánh giá tích cực, chẳng hạn nếu `episodes` tỉ lệ thuận với `score` thì ta có thể làm ra một bộ anime nhiều tập nhất có thể.\n",
    "\n",
    "Để rút ra mối tương quan giữa các cột **numeric** trong tập `anime_df` với cột **score**, một cách dễ nhất là dùng *scatter plot*. Ta có 4 cột **numeric** khác cột **score**, như vậy sẽ vẽ ra 4 biểu đồ scatter và xếp thành ma trận đồ thị 2x2."
   ]
  },
  {
   "cell_type": "code",
   "execution_count": null,
   "id": "1c49259d",
   "metadata": {},
   "outputs": [],
   "source": [
    "# Hàm vẽ scatter trên 1 subplot\n",
    "def subplot_scatter(ax, x, y, data):\n",
    "    ax.scatter(x, y, data=data)\n",
    "    ax.set_xlabel(x)\n",
    "    ax.set_ylabel(y)\n",
    "\n",
    "# Tạo ra ma trận subplot 2x2\n",
    "fig, ax = plt.subplots(nrows=2, ncols=2, figsize=(12,8))\n",
    "\n",
    "# Plot từng scatter plot với mỗi cột numeric tương ứng\n",
    "subplot_scatter(ax[0,0], x='episodes', y='score', data=anime_df)\n",
    "subplot_scatter(ax[0,1], x='members', y='score', data=anime_df)\n",
    "subplot_scatter(ax[1,0], x='popularity', y='score', data=anime_df)\n",
    "subplot_scatter(ax[1,1], x='ranked', y='score', data=anime_df)\n",
    "\n",
    "plt.show()"
   ]
  },
  {
   "cell_type": "markdown",
   "id": "fd451cf1",
   "metadata": {},
   "source": [
    "**Nhận xét:**\n",
    "\n",
    "- `episodes`: giữa cột này với cột điểm, ta chưa thấy được mối quan hệ gì vì các điểm bị chụm lại theo chiều dọc.\n",
    "- `members`: có thể thấy một bộ phận anime tỉ lệ thuận với điểm số, nghĩa là lượng member càng cao thì càng nhiều điểm nhưng cũng có một bộ phận anime lượng member thấp nhưng điểm số vẫn cao -> không thể dùng cột này để quyết định cột `score` và nếu cột members này có tỉ lệ thuận với điểm số đi chăng nữa thì làm ra một anime có cộng đồng nhiều thành viên cũng là một việc không hề dễ.\n",
    "- `popularity`: không có mối tương quan gì giữa cột này với cột điểm. Đây cũng là một điều thú vị vì giá trị cột này càng thấp thì anime đó càng nổi tiếng nhưng qua scatter plot ta có thể thấy, anime điểm số cao thấp trải khắp độ nổi tiếng nghĩa là có anime nổi tiếng hay và anime nổi tiếng 'dở'.\n",
    "- `ranked`: đây là cột có mối tương quan rõ nhất giữa các scatter plot. Qua biểu đồ ta thấy, xét về giá trị số thì cột ranked **tỉ lệ nghịch** với cột điểm, xét về ý nghĩa thì anime có hạng càng cao thì điểm càng cao. Như vậy ta có thể đoán tiêu chí xếp hạng của myanimelist có xét điểm số trong đó. Nhưng mối tương quan này chỉ đúng từ rank 1 đến rank thứ khoảng 11000, sau đó ta có thể thấy điểm số cao thấp xuất hiện không theo trật tự nào ở các anime rank thấp. Nhưng dù ta thấy được mối quan hệ rõ ràng, làm ra anime với hi vọng được đánh giá cao dựa vào cột này là không khả thi vì để có được xếp hạng thì phải có được sự đánh giá mà sự đánh giá này lại đến từ điểm số - thứ ta đang tìm."
   ]
  },
  {
   "cell_type": "markdown",
   "id": "57edc508",
   "metadata": {},
   "source": [
    "Qua 4 biểu đồ trên, chỉ còn mối tương quan giữa `episodes` và `score` là chưa rõ. Một cách để thấy rõ được sự tương quan giữa 2 cột này là loại bỏ outlier. Ta sẽ dùng phương pháp 3 lần độ lệch chuẩn để loại bỏ outlier, nghĩa là chỉ lấy các giá trị từ trong khoảng từ giá trị mean +- 3 lần độ lệch chuẩn [mean-3\\*std;mean+3\\*std]. Sau khi loại outlier thì ta sẽ vẽ lại scatter plot để xem xét mối tương quan. Ta cũng thử áp dụng việc loại outlier lên 3 cột số còn lại rồi vẽ để xem mối tương quan đã phân tích ở trên có thay đổi hay không."
   ]
  },
  {
   "cell_type": "code",
   "execution_count": null,
   "id": "a119c766",
   "metadata": {
    "scrolled": false
   },
   "outputs": [],
   "source": [
    "# Loại bỏ outlier theo phương pháp +- 3 độ lệch chuẩn (99.7%)\n",
    "def remove_outlier(df, col):\n",
    "    return df[np.abs(df[col]-df[col].mean()) <= (3*df[col].std())]\n",
    "\n",
    "# Tạo ra tập dữ liệu loại bỏ outlier\n",
    "ep_df = remove_outlier(anime_df, 'episodes')\n",
    "mem_df = remove_outlier(anime_df, 'members')\n",
    "pop_df = remove_outlier(anime_df, 'popularity')\n",
    "rank_df = remove_outlier(anime_df, 'ranked')\n",
    "\n",
    "# Tạo ra ma trận subplot 2x2\n",
    "ro_fig, ro_ax = plt.subplots(nrows=2, ncols=2, figsize=(12,8))\n",
    "\n",
    "# Plot từng scatter plot với mỗi cột numeric tương ứng\n",
    "subplot_scatter(ro_ax[0,0], x='episodes', y='score', data=ep_df)\n",
    "subplot_scatter(ro_ax[0,1], x='members', y='score', data=mem_df)\n",
    "subplot_scatter(ro_ax[1,0], x='popularity', y='score', data=pop_df)\n",
    "subplot_scatter(ro_ax[1,1], x='ranked', y='score', data=rank_df)\n",
    "\n",
    "plt.show()"
   ]
  },
  {
   "cell_type": "markdown",
   "id": "adbe5d2a",
   "metadata": {},
   "source": [
    "**Nhận xét:**\n",
    "\n",
    "Sau khi loại bỏ outlier, mối tương quan giữa cột `episodes` và `score` đã rõ hơn ban đầu. Qua đó ta thấy, `episode` không có tương quan gì với cột điểm cả. Trong 3 đồ thị còn lại thì hình dạng đồ thị ở cột `members` có thay đổi đôi chút, thấy rõ được từ 6 đến 8.5 điểm đều thấy lượng member nhiều ít trải đều.\n",
    "\n",
    "Qua các phân tích trên ta có thể rút ra kết luận, để làm ra một anime được mọi người đánh giá tích cực, ta không thể dựa vào giá trị của các cột số trong tập dữ liệu này mà thay vào đó có lẽ là yếu tố bên ngoài có thể như là: nội dung cốt truyện, xây dựng nhân vật và phong cách nét vẽ."
   ]
  },
  {
   "cell_type": "markdown",
   "id": "b4a99316",
   "metadata": {},
   "source": [
    "## 3. Người xem anime và đánh giá của họ qua các năm ra sao?\n",
    "\n",
    "Câu hỏi này dùng để chứng minh ngành công nghiệp anime là một ngành đang phát triển rất mạnh mẽ, ngoài ra nó cũng có thể giúp các nhà sản xuất/phát hành phim biết phản hồi của người dùng theo genre ra sao. Ta sẽ làm điều qua biểu đường cho cột `members` và `score`. Riêng cột `score` ta sẽ vẽ thêm biểu đồ boxplot để xem phân bố điểm của người xem qua các năm."
   ]
  },
  {
   "cell_type": "code",
   "execution_count": null,
   "id": "2d3417ef",
   "metadata": {
    "execution": {
     "iopub.execute_input": "2022-01-13T10:58:39.031964Z",
     "iopub.status.busy": "2022-01-13T10:58:39.031348Z",
     "iopub.status.idle": "2022-01-13T10:58:39.055814Z",
     "shell.execute_reply": "2022-01-13T10:58:39.054792Z",
     "shell.execute_reply.started": "2022-01-13T10:58:39.031917Z"
    }
   },
   "outputs": [],
   "source": [
    "year_df = anime_df[['uid', 'genre', 'members', 'score', 'year_aired']]\n",
    "# Kiểm tra có dòng nào không hợp lệ\n",
    "year_df[year_df['score'].isna()]"
   ]
  },
  {
   "cell_type": "markdown",
   "id": "1c0cc706",
   "metadata": {},
   "source": [
    "Dataset này được thu thập từ năm 2020, nên các anime dự kiến sẽ chiếu 2021 (thậm chí trong 2020) đương nhiên là chưa có đánh giá. Vì thế chúng ta sẽ bỏ qua hai năm đó"
   ]
  },
  {
   "cell_type": "code",
   "execution_count": null,
   "id": "3664ec2e",
   "metadata": {
    "execution": {
     "iopub.execute_input": "2022-01-13T10:58:39.057376Z",
     "iopub.status.busy": "2022-01-13T10:58:39.057145Z",
     "iopub.status.idle": "2022-01-13T10:58:39.072010Z",
     "shell.execute_reply": "2022-01-13T10:58:39.070993Z",
     "shell.execute_reply.started": "2022-01-13T10:58:39.057349Z"
    }
   },
   "outputs": [],
   "source": [
    "year_df = year_df[year_df['year_aired'] < 2020]"
   ]
  },
  {
   "cell_type": "code",
   "execution_count": null,
   "id": "bf246043",
   "metadata": {
    "execution": {
     "iopub.execute_input": "2022-01-13T10:58:39.073938Z",
     "iopub.status.busy": "2022-01-13T10:58:39.073647Z",
     "iopub.status.idle": "2022-01-13T10:58:39.093866Z",
     "shell.execute_reply": "2022-01-13T10:58:39.092823Z",
     "shell.execute_reply.started": "2022-01-13T10:58:39.073908Z"
    }
   },
   "outputs": [],
   "source": [
    "# Đếm số anime mỗi năm và trung bình rating mỗi năm\n",
    "year_rating_df = year_df.groupby('year_aired').agg({'uid': 'count', 'members': 'mean', 'score': 'mean'})\n",
    "year_rating_df"
   ]
  },
  {
   "cell_type": "markdown",
   "id": "8baf688c",
   "metadata": {},
   "source": [
    "**Biểu đồ đường**"
   ]
  },
  {
   "cell_type": "code",
   "execution_count": null,
   "id": "4c1146b4",
   "metadata": {
    "execution": {
     "iopub.execute_input": "2022-01-13T10:58:39.095695Z",
     "iopub.status.busy": "2022-01-13T10:58:39.095282Z",
     "iopub.status.idle": "2022-01-13T10:58:39.463505Z",
     "shell.execute_reply": "2022-01-13T10:58:39.462782Z",
     "shell.execute_reply.started": "2022-01-13T10:58:39.095638Z"
    },
    "scrolled": false
   },
   "outputs": [],
   "source": [
    "# Tạo khung plot\n",
    "fig, axes = plt.subplots(nrows=2, ncols=1, figsize=(15,8))\n",
    "min_year = round(np.min(year_rating_df.index), -1)\n",
    "max_year = round(np.max(year_rating_df.index), -1) + 1\n",
    "\n",
    "# Score\n",
    "ax = year_rating_df['score'].plot(ax=axes[0])\n",
    "ax.set_xticks(np.arange(min_year, max_year, 10))\n",
    "ax.set_ylabel('score')\n",
    "\n",
    "# Members\n",
    "ax = year_rating_df['members'].plot(ax=axes[1])\n",
    "ax.set_xticks(np.arange(min_year, max_year, 10))\n",
    "ax.set_ylabel('members')\n",
    "plt.show()"
   ]
  },
  {
   "cell_type": "markdown",
   "id": "c9775ac6",
   "metadata": {},
   "source": [
    "**Boxplot**"
   ]
  },
  {
   "cell_type": "code",
   "execution_count": null,
   "id": "2ce3bfba",
   "metadata": {
    "execution": {
     "iopub.execute_input": "2022-01-13T10:58:39.465035Z",
     "iopub.status.busy": "2022-01-13T10:58:39.464778Z",
     "iopub.status.idle": "2022-01-13T10:58:39.995272Z",
     "shell.execute_reply": "2022-01-13T10:58:39.993848Z",
     "shell.execute_reply.started": "2022-01-13T10:58:39.465003Z"
    }
   },
   "outputs": [],
   "source": [
    "plt.figure(figsize=(12,8))\n",
    "selected_year_df = year_df[year_df['year_aired'] >= 2000]\n",
    "sns.boxplot(x='year_aired', y='score', data=selected_year_df)\n",
    "plt.xticks(rotation=90)\n",
    "plt.show()"
   ]
  },
  {
   "cell_type": "markdown",
   "id": "f1bef550",
   "metadata": {},
   "source": [
    "**Nhận xét:**\n",
    "\n",
    "Nhìn sơ lược thì có thể thấy chất lượng của anime đã được nâng cao và đón nhận rất nhiều. Bằng chứng là số thành viên tăng nhanh trong suốt 20 năm, điểm số cũng có cải thiện. Tuy nhiên trên mặt bằng chung thì không có nhiều anime trên 8.0 và điều này cũng đúng với nhiều khía cạnh khác ngoài anime đó là có thể có nhiều anime được sản xuất nhưng làm ra một anime hay, được mọi người đánh giá tích cực là một điều không hề dễ."
   ]
  },
  {
   "cell_type": "markdown",
   "id": "01c582e4",
   "metadata": {},
   "source": [
    "Bây giờ ta sẽ xem điểm người xem dành cho 2 thể loại thịnh hành nhất (dựa vào kết quả câu 1) và 2 thể loại ít thịnh hành nhất như thế nào qua biểu đồ đường."
   ]
  },
  {
   "cell_type": "code",
   "execution_count": null,
   "id": "c4bcdca0",
   "metadata": {
    "execution": {
     "iopub.execute_input": "2022-01-13T11:03:36.660864Z",
     "iopub.status.busy": "2022-01-13T11:03:36.660555Z",
     "iopub.status.idle": "2022-01-13T11:03:36.694806Z",
     "shell.execute_reply": "2022-01-13T11:03:36.694058Z",
     "shell.execute_reply.started": "2022-01-13T11:03:36.660832Z"
    }
   },
   "outputs": [],
   "source": [
    "# Lấy ra genre có ít member nhất mỗi năm\n",
    "anime_2k_worst_genre = result_2k_df.groupby(level=0).tail(3)\n",
    "anime_2k_worst_genre = anime_2k_worst_genre.value_counts('genre')\n",
    "\n",
    "# Genre có nhiều member nhất mỗi năm\n",
    "anime_2k_best_genre = anime_2k_top3_genre.value_counts('genre')\n",
    "\n",
    "# Lấy ra 2 best genre và 2 worst genre\n",
    "genre_plot = np.concatenate([anime_2k_best_genre.index[:2], \n",
    "                             anime_2k_worst_genre.index[:2]], axis=0)\n",
    "genre_plot\n"
   ]
  },
  {
   "cell_type": "code",
   "execution_count": null,
   "id": "66803e72",
   "metadata": {
    "execution": {
     "iopub.execute_input": "2022-01-13T11:10:41.558424Z",
     "iopub.status.busy": "2022-01-13T11:10:41.558154Z",
     "iopub.status.idle": "2022-01-13T11:10:42.215059Z",
     "shell.execute_reply": "2022-01-13T11:10:42.213879Z",
     "shell.execute_reply.started": "2022-01-13T11:10:41.558396Z"
    }
   },
   "outputs": [],
   "source": [
    "flatten_genre = selected_year_df.explode('genre')\n",
    "flatten_genre = flatten_genre[['year_aired', 'genre', 'score']]\n",
    "\n",
    "min_year = round(np.min(selected_year_df['year_aired']), -1)\n",
    "max_year = round(np.max(selected_year_df['year_aired']), -1) + 1\n",
    "\n",
    "selected_year_df\n",
    "\n",
    "def plot_genre_trend(names, ax = None):\n",
    "    for name in names:\n",
    "        genre_df = flatten_genre[flatten_genre['genre'] == name]\n",
    "        year_rating = genre_df.groupby('year_aired').mean()\n",
    "        if ax:\n",
    "            year_rating.plot(figsize=(15,5), ax=ax)\n",
    "        else:\n",
    "            ax = year_rating.plot(figsize=(15,5))\n",
    "    ax.legend(names)\n",
    "    ax.set_xticks(np.arange(min_year, max_year, 1))\n",
    "\n",
    "plot_genre_trend(genre_plot)"
   ]
  },
  {
   "cell_type": "markdown",
   "id": "06ae217f",
   "metadata": {},
   "source": [
    "**Nhận xét:**\n",
    "\n",
    "Hai genre nổi tiếng gần tương đồng với mặt bằng chung của xu hướng, còn hai genre kém nổi tiếng thì lại dao động rất mạnh, có thể là do cộng đồng ít cộng th việc không có nhiều nhà sản xuất ra mắt các thể loại này đến không đủ lượng đánh giá từ đó việc dao động điểm đánh giá xảy ra là bình thường. Điều này cũng nói lên nhà sản xuất anime nên chọn các genre theo trending khi sản xuất là một lối êmđi an toàn cho họ, nếu họ muốn mạo hiểm, tạo đột phá thì họ có thể chọn các genre ít người quan tâm."
   ]
  },
  {
   "cell_type": "markdown",
   "id": "9a2d3aa3",
   "metadata": {},
   "source": [
    "## 4. Hệ thống gợi ý (Recommendation system)\n",
    "\n"
   ]
  },
  {
   "cell_type": "markdown",
   "id": "94ff7c9f",
   "metadata": {},
   "source": [
    "Hệ thống gợi ý dự đoán sở thích của chúng ta và tìm kiếm các đối tượng tiềm năng phù hợp với sở thích đó để gợi ý cho chúng ta. Ví dụ Amazon - trang thương mại điện tử nổi tiếng của thế giới đã làm như sau:\n",
    "- Quan tâm đến việc khách hàng yêu thích những sản phẩm nào dựa vào dữ liệu trên quá khứ của họ như điểm đánh giá trên từng sản phẩm, thời gian duyệt trên từng sản phẩm, số lần click vào sản phẩm, ...\n",
    "- Từ đó có thể dự đoán được người dùng có thể sẽ thích những sản phẩm nào khác và đưa ra gợi ý phù hợp cho họ\n",
    "\n",
    "Việc xây dựng một hệ thống như vậy đều có lợi cho cả người dùng và nhà sản xuất. Cụ thể là người dùng sẽ kiếm được thứ mình muốn nhanh hơn còn nhà sản xuất thì được tăng doanh thu. Trong đồ án này thì chúng ta sẽ tập trung vào **collaborative filtering**"
   ]
  },
  {
   "cell_type": "markdown",
   "id": "609393b3",
   "metadata": {},
   "source": [
    "Trước tiên là cần kiểm tra xem số lượng anime trong `rating_df` có giống với trong `anime_df`"
   ]
  },
  {
   "cell_type": "code",
   "execution_count": null,
   "id": "22f15bd5",
   "metadata": {},
   "outputs": [],
   "source": [
    "print('Anime count:', len(anime_df['uid'].unique()))\n",
    "print('Anime in rating count:', len(rating_df['anime_uid'].unique()))"
   ]
  },
  {
   "cell_type": "markdown",
   "id": "e7cb502b",
   "metadata": {},
   "source": [
    "Số lượng anime được đánh giá chỉ bằng một nửa số lượng anime. Vì vậy, chúng ta cần dùng INNER JOIN để ghép 2 DataFrame lại."
   ]
  },
  {
   "cell_type": "code",
   "execution_count": null,
   "id": "53736911",
   "metadata": {},
   "outputs": [],
   "source": [
    "# Drop các cột không liên quan \n",
    "# (uid: mã ID của từng rating, scores: điểm số chi tiết)\n",
    "merge_rating = rating_df.drop(columns=['uid', 'scores'])\n",
    "merge_rating = merge_rating.rename(columns={'score': 'user_score'})\n",
    "# Join 2 DataFrame lại bằng ID của anime\n",
    "merge_rating = anime_df.join(merge_rating.set_index('anime_uid'), on='uid', how='inner')\n",
    "# Chỉ cần lấy 3 cột quan trọng cho Collaborative filtering\n",
    "merge_rating = merge_rating[['profile', 'uid', 'user_score']]\n",
    "merge_rating = merge_rating.reset_index(drop=True)\n",
    "\n",
    "print('Rating count:', len(merge_rating))"
   ]
  },
  {
   "cell_type": "markdown",
   "id": "e1cd4324",
   "metadata": {},
   "source": [
    "Một anime có thể có nhiều đánh giá, vì thế số rating lên tới 130000 là điều bình thường. Nhưng với lượng dữ liệu lớn như vậy thì khó có thể xử lý trên những máy tính phổ thông, nếu được thì cũng rất tốn nhiều thời gian, nên chúng ta sẽ xây dựng model dựa vào một subset, chỉ recommend tầm 500 anime. Rồi từ cái subset đó sẽ chia ra thành từng batch nhỏ hơn nữa."
   ]
  },
  {
   "cell_type": "code",
   "execution_count": null,
   "id": "a9bd6258",
   "metadata": {
    "execution": {
     "iopub.execute_input": "2022-01-12T18:01:59.152573Z",
     "iopub.status.busy": "2022-01-12T18:01:59.152323Z",
     "iopub.status.idle": "2022-01-12T18:01:59.176219Z",
     "shell.execute_reply": "2022-01-12T18:01:59.175532Z",
     "shell.execute_reply.started": "2022-01-12T18:01:59.152543Z"
    }
   },
   "outputs": [],
   "source": [
    "def subset_anime(size, shuffle=False):\n",
    "    selected = merge_rating['uid'].unique()\n",
    "    if isinstance(size, int):\n",
    "        size = [0, size]\n",
    "    if shuffle:\n",
    "        selected = np.random.shuffle(selected)\n",
    "        return selected[size[0]:size[1]]\n",
    "    return selected[size[0]:size[1]]\n",
    "\n",
    "\n",
    "selected_rating = merge_rating[merge_rating['uid'].isin(subset_anime(200))]\n",
    "print('Shape:', selected_rating.shape)\n",
    "print('User count:', selected_rating['profile'].nunique())\n",
    "print('Anime count:', selected_rating['uid'].nunique())\n",
    "selected_rating.sample(5)\n"
   ]
  },
  {
   "cell_type": "markdown",
   "id": "c880f893",
   "metadata": {},
   "source": [
    "Collaborative filtering là thuật toán lọc tương tác tức là tìm ra anime mà người dùng có khả năng ưa thích nhất dựa vào những anime mà những người dùng khác có hành vi tương tự đã đánh giá. Đầu vào của thuật toán là một ma trận tiện ích (**ultility matrix**) chứa giá trị rating của các cặp (user, item). Mỗi cột là các rating mà một user đã rate và mỗi dòng là các rating của một item được rate."
   ]
  },
  {
   "cell_type": "code",
   "execution_count": null,
   "id": "9177ea4e",
   "metadata": {},
   "outputs": [],
   "source": [
    "matrix = selected_rating.pivot_table(index='profile', columns='uid', values='user_score')\n",
    "matrix = matrix.to_numpy()"
   ]
  },
  {
   "cell_type": "code",
   "execution_count": null,
   "id": "aac4e2db",
   "metadata": {},
   "outputs": [],
   "source": [
    "BATCH_SIZE = 20"
   ]
  },
  {
   "cell_type": "code",
   "execution_count": null,
   "id": "423d1ffc",
   "metadata": {},
   "outputs": [],
   "source": [
    "from IPython.display import clear_output\n",
    "\n",
    "\n",
    "def similarity(matrix, batch):\n",
    "    batch = batch[:, np.newaxis]\n",
    "    distance = np.abs(matrix - batch)\n",
    "    # RuntimeWarning: Mean of empty slice sẽ return là NaN, dùng nan_to_num để đổi sang 0\n",
    "    mean = np.nanmean(distance, axis=2)\n",
    "    # + 0.001 để tránh chia cho 0\n",
    "    return np.nan_to_num(1 / (mean + 0.001))\n",
    "\n",
    "\n",
    "def batch_rating(matrix, b):\n",
    "    similarities = similarity(matrix, b)\n",
    "    similarities_reshape = similarities.reshape(similarities.shape[0], -1, 1)\n",
    "    w = ~np.isnan(matrix) * similarities_reshape\n",
    "    weights = np.divide(w, np.sum(w, axis=1, keepdims=True))\n",
    "    return np.nansum(matrix * weights, axis=1)\n",
    "\n",
    "\n",
    "def batch(iterable, n=1):\n",
    "    l = len(iterable)\n",
    "    for ndx in range(0, l, n):\n",
    "        yield iterable[ndx:min(ndx + n, l)]\n",
    "\n",
    "\n",
    "i = 0\n",
    "filled_ratings = []\n",
    "for b in batch(matrix, BATCH_SIZE):\n",
    "    i += 1\n",
    "    br = batch_rating(matrix, b)\n",
    "    filled_ratings.extend(br)\n",
    "\n",
    "    clear_output(wait=True)\n",
    "    print(i, '/', len(matrix) / BATCH_SIZE)\n",
    "filled_ratings = np.array(filled_ratings)\n"
   ]
  },
  {
   "cell_type": "code",
   "execution_count": null,
   "id": "25641b00",
   "metadata": {},
   "outputs": [],
   "source": [
    "np.savetxt(os.path.join(DATA_DIR, 'recommend.txt'), filled_ratings)"
   ]
  }
 ],
 "metadata": {
  "kernelspec": {
   "display_name": "Python 3 (ipykernel)",
   "language": "python",
   "name": "python3"
  },
  "language_info": {
   "codemirror_mode": {
    "name": "ipython",
    "version": 3
   },
   "file_extension": ".py",
   "mimetype": "text/x-python",
   "name": "python",
   "nbconvert_exporter": "python",
   "pygments_lexer": "ipython3",
   "version": "3.8.8"
  },
  "toc": {
   "base_numbering": 1,
   "nav_menu": {},
   "number_sections": false,
   "sideBar": true,
   "skip_h1_title": false,
   "title_cell": "Table of Contents",
   "title_sidebar": "Contents",
   "toc_cell": true,
   "toc_position": {},
   "toc_section_display": true,
   "toc_window_display": true
  }
 },
 "nbformat": 4,
 "nbformat_minor": 5
}
